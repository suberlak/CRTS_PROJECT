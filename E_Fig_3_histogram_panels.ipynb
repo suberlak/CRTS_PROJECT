{
 "cells": [
  {
   "cell_type": "markdown",
   "metadata": {},
   "source": [
    "## Based on CRTS_sel_g_cut_vs_r_cut.ipynb,   taking only the code needed to make Fig. 3"
   ]
  },
  {
   "cell_type": "markdown",
   "metadata": {},
   "source": [
    "A testbed for making Fig.3 :  the 4 x 4 histogram plot. It shows that   0   < log(tau) < 1.7 (short timescales bin), does not exhibit any variability, because chi_ij for qso and stars is almost undistinguishable for uncorrected points. "
   ]
  },
  {
   "cell_type": "markdown",
   "metadata": {},
   "source": [
    "\n",
    "\n",
    "** What happens here : **\n",
    "\n",
    "We run the cells below for different magnitude  cuts (changing Min and  Max  parameters below) :  17-18 ,  18-18.5 ,  18.5-19.  \n",
    "\n",
    "Each run reads in xi, ei points for quasars  , blue stars.  We read in xi (mi  : magnitude  difference) , tau (time difference),   ei (magnitude difference error)  points separately for 4 timescale bins in log(delta t)  space . \n",
    "\n",
    "A list of xi, tau,  ei  per magnitude per timescale per object type (quasar or a star) is saved as a .txt file in the folder structure data_products/Fig_3_data/year-month-day/r_cut_Min-Max_object_mi_tau_ei_log_tau_min_max.txt \n",
    "\n",
    "\n",
    "Then we read in each xi,tau,ei file,  and  for every point in a given  magnitude-timescale-object bin we calculate  chi quantity.   Thus we make a histogram of chi values for magnitude-timescale-object grid, resulting in  a  4 x 3 x 2  histograms .  The robust width of the chi distribution for each bin is a signature of intrinsic variability. \n"
   ]
  },
  {
   "cell_type": "code",
   "execution_count": 3,
   "metadata": {
    "collapsed": false
   },
   "outputs": [],
   "source": [
    "import os\n",
    "import numpy as np \n",
    "import matplotlib.pyplot as plt\n",
    "from astroML.stats import median_sigmaG\n",
    "from scipy.stats import binned_statistic\n",
    "from scipy.optimize import curve_fit\n",
    "import CRTS_paper_modules as mod\n",
    "import datetime\n"
   ]
  },
  {
   "cell_type": "code",
   "execution_count": 3,
   "metadata": {
    "collapsed": false
   },
   "outputs": [
    {
     "name": "stdout",
     "output_type": "stream",
     "text": [
      "Zipping CRTS-SDSS quasars catalog from ../data_products/CRTS_SDSS_cross_matched_qso_DB_QSO_catalog.txt\n",
      "Read in 7601 quasars from CRTS\n",
      "zipping CRTS-SDSS stars catalog...\n",
      "Read in catalog for 48250 stars from CRTS \n"
     ]
    }
   ],
   "source": [
    "cols1, qso_cat = mod.get_qso_catalog() \n",
    "cols2 , star_cat= mod.get_stars_catalog()\n"
   ]
  },
  {
   "cell_type": "markdown",
   "metadata": {},
   "source": [
    "## Read in points  m_ij , e_ij , tau  from master files "
   ]
  },
  {
   "cell_type": "code",
   "execution_count": 4,
   "metadata": {
    "collapsed": false
   },
   "outputs": [
    {
     "data": {
      "text/plain": [
       "{'CRTS_M': array([ 20.04798,  15.95652,  17.47582, ...,  19.74864,  17.12618,  20.002  ]),\n",
       " 'CRTS_Merr': array([ 0.18944,  0.03524,  0.05099, ...,  0.13395,  0.04733,  0.2385 ]),\n",
       " 'N_rows': array([  23.,   90.,   99., ...,  114.,   94.,   72.]),\n",
       " 'crts_id': array([ 392106.,  315542.,  700105., ...,  964473.,  864141.,  744009.]),\n",
       " 'dec_CRTS': array([-0.79702,  0.4    , -0.50307, ..., -1.20402, -1.18179, -0.42934]),\n",
       " 'dec_SDSS': array([-0.79702,  0.4    , -0.50307, ..., -1.20402, -1.18179, -0.42934]),\n",
       " 'g_Nobs': array([  4.,  13.,   9., ...,  10.,   9.,  11.]),\n",
       " 'g_mMed': array([ 22.49 ,  16.886,  18.101, ...,  21.743,  17.757,  22.042]),\n",
       " 'i_mMed': array([ 19.927,  15.848,  17.205, ...,  19.194,  17.07 ,  19.419]),\n",
       " 'm_ang_deg': array([ 0.,  0.,  0., ...,  0.,  0.,  0.]),\n",
       " 'mjd_N': array([  23.,   90.,   99., ...,  114.,   94.,   72.]),\n",
       " 'mjd_span': array([ 3041.,  2920.,  3070., ...,  2997.,  3055.,  3042.]),\n",
       " 'r_mMed': array([ 21.068,  16.174,  17.473, ...,  20.351,  17.242,  20.634]),\n",
       " 'ra_CRTS': array([ 311.0213 ,   58.42855,  325.76031, ...,  352.70065,  339.4133 ,\n",
       "         328.74106]),\n",
       " 'ra_SDSS': array([ 311.0213 ,   58.42855,  325.76031, ...,  352.70065,  339.4133 ,\n",
       "         328.74106])}"
      ]
     },
     "execution_count": 4,
     "metadata": {},
     "output_type": "execute_result"
    }
   ],
   "source": [
    "star_cat"
   ]
  },
  {
   "cell_type": "code",
   "execution_count": 25,
   "metadata": {
    "collapsed": false,
    "scrolled": true
   },
   "outputs": [
    {
     "name": "stdout",
     "output_type": "stream",
     "text": [
      "Today we will save our Fig_3 files in /Users/chris/GradResearch/CRTS_PROJECT/data_products/Fig_3_data/2017-01-10/\n",
      "\n",
      "Using now only lightcurves with SDSS  18.000000< r < 18.500000\n",
      "\n",
      " These cuts reduced the number of stars  in the sample from 48250 to 1400\n",
      "Returning only QSO which had an SDSS counterpart within 0.000278 radians\n",
      "\n",
      " These cuts reduced the number of qso  in the sample from 7601 to 333\n"
     ]
    }
   ],
   "source": [
    "Min = 18\n",
    "Max = 18.5\n",
    "magnitudes = ['r']  # don't need g magnitude , decided to use only r magnitude \n",
    "\n",
    "# Where to save the samples of log(tau), as well as the table results  ... \n",
    "\n",
    "# Set a directory to save the results...\n",
    "outDir = os.path.join(os.getcwd()[:-4]+'data_products/'+'Fig_3_data/')\n",
    "if not os.path.exists(outDir): os.system('mkdir %s' % outDir)\n",
    "                      \n",
    "outDir = os.path.join(os.getcwd()[:-4],'data_products/'+'Fig_3_data', \n",
    "                      datetime.datetime.now().strftime('%Y-%m-%d')+ '/')\n",
    "if not os.path.exists(outDir): os.system('mkdir %s' % outDir)\n",
    "\n",
    "print('Today we will save our Fig_3 files in %s'%outDir)\n",
    "\n",
    "objects_in_cut = {}\n",
    "\n",
    "for mag in magnitudes : \n",
    "    cut_mag = mag\n",
    "   \n",
    "    \n",
    "    print('\\nUsing now only lightcurves with SDSS  %f< %s < %f' % (Min, cut_mag, Max))\n",
    "\n",
    "\n",
    "    good_ids_S_blue = mod.cut_stars(star_cat = star_cat, mMin = Min, mMax=Max, mErrMax = 0.3, gi_Min = -1,  gi_Max=1, cut_mag=cut_mag + '_mMed')\n",
    "    \n",
    "    #good_ids_S_red = mod.cut_stars(star_cat = star_cat, mMin = Min, mMax=Max, mErrMax = 0.3, gi_Min = 1, \n",
    "    #                                       gi_Max=3, cut_mag=cut_mag + '_mMed')\n",
    "    \n",
    "    good_ids_QSO = mod.cut_qso(qso_cat = qso_cat, mMin = Min, mMax=Max, mErrMax = 0.3, \n",
    "                                               cut_mag=cut_mag)\n",
    "    objects_in_cut[mag] = {'starsB':good_ids_S_blue, 'qso':good_ids_QSO}\n",
    "    "
   ]
  },
  {
   "cell_type": "markdown",
   "metadata": {},
   "source": [
    "## Since I'm only using r_cut,   I won't compare it with g_cut .  Thus making r_bin is the same as r_cut  "
   ]
  },
  {
   "cell_type": "code",
   "execution_count": 26,
   "metadata": {
    "collapsed": true
   },
   "outputs": [],
   "source": [
    "bins = {}\n",
    "bin_types = ['r_cut']  # removed 'g_cut'\n",
    "\n",
    "objects = objects_in_cut['r'].keys()\n",
    "\n",
    "# first need to explicitly initialize the dictionaries \n",
    "for b in bin_types:\n",
    "    bins[b] = {}\n",
    "    \n",
    "for obj in objects : \n",
    "    bins['r_cut'][obj] =  objects_in_cut['r'][obj]\n"
   ]
  },
  {
   "cell_type": "markdown",
   "metadata": {},
   "source": [
    "## Read the xi, ei for objects in the r_cut ... "
   ]
  },
  {
   "cell_type": "code",
   "execution_count": 27,
   "metadata": {
    "collapsed": false
   },
   "outputs": [
    {
     "name": "stdout",
     "output_type": "stream",
     "text": [
      "Reading in xi, ei for bin r_cut\n",
      "making new delflx, tau, xi arrays\n",
      "\n",
      "\n",
      "Reading in quasars...\n",
      "Returning delta_time in observed frame, t_obs\n",
      "[######### ] 99.10%\n",
      "\n",
      "Reading in blue stars ...\n",
      "[##########] 100.00%\n",
      "\n",
      "Reading in red stars ...\n"
     ]
    }
   ],
   "source": [
    "inDirStars   = '../data_products/sf_file_per_LC/stars/'\n",
    "inDirQSO = '../data_products/sf_file_per_LC/qso/'\n",
    "\n",
    "out_dic = {}\n",
    "\n",
    "#for b in bins.keys():\n",
    "# read in only r_cut \n",
    "\n",
    "b = 'r_cut'\n",
    "print('Reading in xi, ei for bin %s'%b )\n",
    "out_dic[b] = {}   # initialize the dic \n",
    "\n",
    "good_ids_S_blue = bins[b]['starsB']\n",
    "#good_ids_S_red = bins[b]['starsR']\n",
    "good_ids_QSO = bins[b]['qso']\n",
    "\n",
    "out_dic[b] = mod.fast_read_xi_ei(inDirStars, inDirQSO, good_ids_S_blue, good_ids_S_red , good_ids_QSO )\n",
    "\n",
    "# Straight after reading-in xi, ei,   one can proceed directly to part 9) (one bin) or 10 : all bins sigma comparison \n",
    "# or to Saving just the log(tau) samples of xi, tau, ei. \n"
   ]
  },
  {
   "cell_type": "markdown",
   "metadata": {
    "collapsed": true
   },
   "source": [
    "## Save to a file all points for samples of log(tau) for a given mag cut, only for qso and starsB "
   ]
  },
  {
   "cell_type": "code",
   "execution_count": 28,
   "metadata": {
    "collapsed": false
   },
   "outputs": [
    {
     "name": "stdout",
     "output_type": "stream",
     "text": [
      "Saving xi,tau,ei points for this magnitude bin to: \n",
      " /Users/chris/GradResearch/CRTS_PROJECT/data_products/Fig_3_data/2017-01-10/\n"
     ]
    }
   ],
   "source": [
    "print('Saving xi,tau,ei points for this magnitude bin to: \\n %s'%outDir)"
   ]
  },
  {
   "cell_type": "code",
   "execution_count": 29,
   "metadata": {
    "collapsed": false
   },
   "outputs": [
    {
     "name": "stdout",
     "output_type": "stream",
     "text": [
      "Saved r_cut_18-18.5_qso_mi_tau_ei-log_tau_0-1.7.txt\n",
      "Saved r_cut_18-18.5_qso_mi_tau_ei-log_tau_2.3-2.5.txt\n",
      "Saved r_cut_18-18.5_qso_mi_tau_ei-log_tau_2.8-3.0.txt\n",
      "Saved r_cut_18-18.5_qso_mi_tau_ei-log_tau_3.2-3.4.txt\n",
      "Saved r_cut_18-18.5_starsB_mi_tau_ei-log_tau_0-1.7.txt\n",
      "Saved r_cut_18-18.5_starsB_mi_tau_ei-log_tau_2.3-2.5.txt\n",
      "Saved r_cut_18-18.5_starsB_mi_tau_ei-log_tau_2.8-3.0.txt\n",
      "Saved r_cut_18-18.5_starsB_mi_tau_ei-log_tau_3.2-3.4.txt\n"
     ]
    }
   ],
   "source": [
    "## Save to a file points for log(tau) samples  for QSO, stars \n",
    "\n",
    "b = 'r_cut'   # or g_cut\n",
    "\n",
    "tau_min_arr = [0,   2.3, 2.8, 3.2]\n",
    "tau_max_arr = [1.7, 2.5, 3.0, 3.4]\n",
    "for obj in ['qso','starsB']:\n",
    "    #obj = 'qso'  # or starsB,  starsR \n",
    "    m_ij = out_dic[b][obj][0]\n",
    "    tau =  out_dic[b][obj][1]\n",
    "    e_ij =  out_dic[b][obj][2]\n",
    "    \n",
    "    for i in range(len(tau_min_arr)):\n",
    "        m1 = tau_min_arr[i] < np.log10(tau)\n",
    "        m2 = np.log10(tau) < tau_max_arr[i]\n",
    "        mask =  m1 * m2 \n",
    "\n",
    "        data = np.column_stack((m_ij[mask], tau[mask], e_ij[mask]))\n",
    "       \n",
    "        fname = b+'_'+str(Min)+'-'+str(Max)+'_'+obj+'_mi_tau_ei-log_tau_'+\\\n",
    "                str(tau_min_arr[i])+'-'+str(tau_max_arr[i])+'.txt'\n",
    "        print('Saved %s' % fname)\n",
    "        np.savetxt(outDir+fname, data, fmt='%s', delimiter= ' ')\n"
   ]
  },
  {
   "cell_type": "markdown",
   "metadata": {},
   "source": [
    "--> Now go up, and change Min, Max to the next magnitude bin, until all options have been exhausted "
   ]
  },
  {
   "cell_type": "markdown",
   "metadata": {},
   "source": [
    "## Plotting the histogram grid for qso and starsB "
   ]
  },
  {
   "cell_type": "code",
   "execution_count": 30,
   "metadata": {
    "collapsed": false
   },
   "outputs": [
    {
     "data": {
      "text/plain": [
       "'/Users/chris/GradResearch/CRTS_PROJECT/data_products/Fig_3_data/2017-01-10/'"
      ]
     },
     "execution_count": 30,
     "metadata": {},
     "output_type": "execute_result"
    }
   ],
   "source": [
    "outDir = os.path.join(os.getcwd()[:-4],'data_products/'+'Fig_3_data/2017-01-10/')\n",
    "outDir"
   ]
  },
  {
   "cell_type": "markdown",
   "metadata": {},
   "source": [
    "Note : if the files saved above already exist, can just rerun the cells below to remake the figure."
   ]
  },
  {
   "cell_type": "code",
   "execution_count": 43,
   "metadata": {
    "collapsed": false
   },
   "outputs": [],
   "source": [
    "#Define function used to plot each histogram in the grid ... \n",
    "\n",
    "b = 'r_cut'\n",
    "# Use today's data... \n",
    "# --> do not change the outDir \n",
    "\n",
    "# Use data from another day : \n",
    "#outDir = os.path.join(os.getcwd()[:-4],'data_products/'+'Fig_3_data/2016-06-07/')\n",
    "\n",
    "def plot2Chistograms(chiQSO, chiSTAR, Xmin, Xmax, Ymin, Ymax, ax, bins=20, \n",
    "                     title='', axes_text_size=25):\n",
    "    limits = [(Xmin, Xmax, Ymin, Ymax)]\n",
    "    ax.set_xlim(Xmin, Xmax)\n",
    "    ax.set_ylim(Ymin, Ymax)        \n",
    "        \n",
    "    #plt.tick_params(axis='both', which='major', labelsize=15)\n",
    "    xTitle = Xmin + 0.05*(Xmax-Xmin)\n",
    "    yTitle = Ymax - 0.2*(Ymax-Ymin)\n",
    "    ax.text(xTitle, yTitle, title, fontsize=axes_text_size) # , fontsize=12 \n",
    "\n",
    "    # plot a histogram\n",
    "    ax.hist(chiSTAR, bins=bins, normed=True, facecolor='blue', histtype='stepfilled', alpha=0.4)\n",
    "    ax.hist(chiQSO, bins=bins, normed=True, facecolor='red', histtype='stepfilled', alpha=0.2)\n",
    "\n",
    "    # plot the robust width of both distributions\n",
    "    stdev_rob_QSO = 0.7414 *(np.percentile(chiQSO,75) - np.percentile(chiQSO,25) )\n",
    "    stdev_rob_S = 0.7414 *(np.percentile(chiSTAR,75) - np.percentile(chiSTAR,25) )\n",
    "    \n",
    "    \n",
    "    xTitle = Xmin + 0.65*(Xmax-Xmin)\n",
    "    yTitle = Ymax - 0.2*(Ymax-Ymin)\n",
    "    StarSigmaG = r'$'+str(stdev_rob_S)[:4]+'$'\n",
    "    ax.text(xTitle, yTitle, StarSigmaG, fontsize=axes_text_size) #  fontsize=12\n",
    "    \n",
    "    \n",
    "    xTitle = Xmin + 0.65*(Xmax-Xmin)\n",
    "    yTitle = Ymax - 0.35*(Ymax-Ymin)\n",
    "    QSOSigmaG = r'$'+str(stdev_rob_QSO)[:4]+'$'\n",
    "    ax.text(xTitle, yTitle, QSOSigmaG, fontsize=axes_text_size) #  fontsize=12\n",
    "    \n",
    "    ax.tick_params(axis='x', pad=10)\n",
    "    \n",
    "    \n",
    "Min_arr = [17, 18, 18.5]\n",
    "Max_arr = [18, 18.5, 19]\n",
    "tau_min_arr = [0,   2.3, 2.8, 3.2]\n",
    "tau_max_arr = [1.7, 2.5, 3.0, 3.4]\n",
    "xlims_arr = [5,10,10,10]\n",
    "\n",
    "\n"
   ]
  },
  {
   "cell_type": "markdown",
   "metadata": {},
   "source": [
    "Plot the uncorrected histograms "
   ]
  },
  {
   "cell_type": "markdown",
   "metadata": {},
   "source": [
    "Note: because we are plotting histograms of hundreds of thousands of points, the plotting itself takes ~few minutes... If you need to tweak any details of the plot, set $\\verb|testing=True|$. "
   ]
  },
  {
   "cell_type": "code",
   "execution_count": 45,
   "metadata": {
    "collapsed": false
   },
   "outputs": [
    {
     "name": "stdout",
     "output_type": "stream",
     "text": [
      "saving plot to: /Users/chris/GradResearch/CRTS_PROJECT/data_products/Fig_3_data/2017-01-10/Fig_3_histogram_panels.png\n"
     ]
    },
    {
     "data": {
      "image/png": "[encoded data removed]",
      "text/plain": [
       "<matplotlib.figure.Figure at 0x1126658d0>"
      ]
     },
     "metadata": {},
     "output_type": "display_data"
    }
   ],
   "source": [
    "#import matplotlib \n",
    "#matplotlib.rc('xtick', labelsize=15) \n",
    "#matplotlib.rc('ytick', labelsize=15) \n",
    "\n",
    "from matplotlib import rcParams\n",
    "\n",
    "rcParams['ytick.labelsize'] = 25\n",
    "rcParams['xtick.labelsize'] = 25\n",
    "#rcParams['axes.labelsize'] = 35\n",
    "axes_label_font = 30 \n",
    "#rcParams['font.size'] = 25\n",
    "axes_text_size = 18\n",
    "rcParams['axes.linewidth'] = 2\n",
    "rcParams.update({'figure.autolayout': False})\n",
    "\n",
    "\n",
    "%matplotlib inline\n",
    "\n",
    "fig, axs = plt.subplots(4,3, figsize=(12,12))\n",
    "\n",
    "\n",
    "# plot the same timescale-magnitude range before we get too specific... \n",
    "# if with one bin range it looks good, set testing = False, and run for all ... \n",
    "\n",
    "testing = False\n",
    "\n",
    "if testing is True : \n",
    "    # just for testing  - load only 1/16 files (one for QSO one for Stars) and experiment with how it looks \n",
    "    j=0\n",
    "    i=0\n",
    "\n",
    "    datafileS = outDir+b+'_'+str(Min_arr[j])+'-'+str(Max_arr[j])+'_'+'starsB'+'_mi_tau_ei-log_tau_'+\\\n",
    "                            str(tau_min_arr[i])+'-'+str(tau_max_arr[i])+'.txt'\n",
    "    vS = np.loadtxt(datafileS, unpack=True)\n",
    "\n",
    "    datafileQ = outDir+b+'_'+str(Min_arr[j])+'-'+str(Max_arr[j])+'_'+'qso'+'_mi_tau_ei-log_tau_'+\\\n",
    "            str(tau_min_arr[i])+'-'+str(tau_max_arr[i])+'.txt'\n",
    "    vQ = np.loadtxt(datafileQ, unpack=True)\n",
    "    print('Read in the xi,tau,ei  data from \\n %s and \\n %s for testing...'%(datafileS, datafileQ))\n",
    "    \n",
    "    \n",
    "# initiate a storage array for the robust widths of chi distributions ... \n",
    "store_fc_starB = np.zeros((3,4))\n",
    "\n",
    "for i in range(len(tau_max_arr)):  # \n",
    "    for j in range(len(Min_arr) ):  # \n",
    "        \n",
    "        #a = coeffs['a'][coeffs['rMagMin'] == Min_arr[j]]\n",
    "        #b = coeffs['b'][coeffs['rMagMin'] == Min_arr[j]]\n",
    "        #tau = (tau_max_arr[i] + tau_min_arr[i])/2.0\n",
    "        #bin_fc = 1.0/ ( a* tau + b)\n",
    "    \n",
    "        if testing is not True: \n",
    "            datafileS = outDir+'r_cut_'+str(Min_arr[j])+'-'+str(Max_arr[j])+'_'+'starsB'+'_mi_tau_ei-log_tau_'+\\\n",
    "                        str(tau_min_arr[i])+'-'+str(tau_max_arr[i])+'.txt'\n",
    "            vS = np.loadtxt(datafileS, unpack=True)\n",
    "        \n",
    "            datafileQ = outDir+'r_cut_'+str(Min_arr[j])+'-'+str(Max_arr[j])+'_'+'qso'+'_mi_tau_ei-log_tau_'+\\\n",
    "                        str(tau_min_arr[i])+'-'+str(tau_max_arr[i])+'.txt'\n",
    "            vQ = np.loadtxt(datafileQ, unpack=True)\n",
    "        \n",
    "        # calculate the robust width of the chi distribution .... \n",
    "        #chiS = vS[0]/(bin_fc*vS[2]) # applying the error correction : ei_corr = fc * ei \n",
    "        chiS = vS[0] / vS[2]\n",
    "        chiSok = chiS[np.abs(chiS)<5]\n",
    "        stdev_rob_S = 0.7414 *(np.percentile(chiSok,75) - np.percentile(chiSok,25) )\n",
    "        \n",
    "        #chiQ = vQ[0]/(bin_fc*vQ[2]) # applying the correction  \n",
    "        chiQ = vQ[0]/vQ[2]\n",
    "        chiQok = chiQ[np.abs(chiQ)<xlims_arr[i]]\n",
    "\n",
    "        # plot histograms\n",
    "        \n",
    "        Xmin = -xlims_arr[i]\n",
    "        Xmax = xlims_arr[i]\n",
    "        bins = 40 \n",
    "        title= r'$ '+' '+ str(tau_min_arr[i])+'-'+str(tau_max_arr[i])+'$'\n",
    "        plot2Chistograms(chiQok, chiSok, Xmin=Xmin, Xmax=Xmax, Ymin=0.0, \n",
    "                             Ymax=0.55, ax=axs[i,j],bins=bins,  \n",
    "                         title=title, axes_text_size=axes_text_size)\n",
    "        # save the value of robust width of stellar chi distribution...\n",
    "        stdev_rob_S = 0.7414 *(np.percentile(chiSok,75) - np.percentile(chiSok,25) )\n",
    "        #store_fc_starB[row,column] = [magnitude_max, deltaTrange]\n",
    "        store_fc_starB[j,i] = stdev_rob_S\n",
    "        \n",
    "Xlabel = '$\\chi = \\Delta mag / error$'\n",
    "Ylabel = '$n / (N\\Delta_{bin})$'\n",
    "fig.text(0.5, 0.04, Xlabel, ha='center', va='center', fontsize=axes_label_font)\n",
    "fig.text(0.03, 0.5, Ylabel, ha='center', va='center', rotation='vertical', fontsize=axes_label_font)\n",
    "\n",
    "#name = 'poster_r_cut_qso_starsB_histogram_grid.png'\n",
    "#name = None\n",
    "name = outDir+'Fig_3_histogram_panels.png'\n",
    "if (name is None):\n",
    "    plt.show() \n",
    "else:\n",
    "    print('saving plot to: %s'%name)\n",
    "    fig.subplots_adjust(wspace=0.46, hspace=0.36, left=0.12, right=0.94, bottom=0.10, top=0.95)\n",
    "    plt.savefig(name, bbox_inches='tight')\n",
    "    "
   ]
  },
  {
   "cell_type": "code",
   "execution_count": 6,
   "metadata": {
    "collapsed": false
   },
   "outputs": [
    {
     "data": {
      "text/plain": [
       "array([array([0, 1, 2]), array([0, 1, 2, 3]), 0.0, 0.0], dtype=object)"
      ]
     },
     "execution_count": 6,
     "metadata": {},
     "output_type": "execute_result"
    }
   ],
   "source": [
    "import numpy as np \n",
    "\n",
    "A = list(np.zeros(4))\n",
    "A[0] = np.arange(3)\n",
    "A[1] = np.arange(4)\n",
    "\n",
    "B = np.ravel(A)\n",
    "B "
   ]
  },
  {
   "cell_type": "markdown",
   "metadata": {},
   "source": [
    "## Calculate corrrection factors,  show that they work... "
   ]
  },
  {
   "cell_type": "markdown",
   "metadata": {},
   "source": [
    "Save the robust width of chi distritbution for stars and quasars ... \n"
   ]
  },
  {
   "cell_type": "code",
   "execution_count": 49,
   "metadata": {
    "collapsed": false
   },
   "outputs": [
    {
     "name": "stdout",
     "output_type": "stream",
     "text": [
      "Saved r_cut_starsB_chi_robust_width.txt\n"
     ]
    }
   ],
   "source": [
    "data = np.column_stack((store_fc_starB[0], store_fc_starB[1], store_fc_starB[2]))\n",
    "\n",
    "fname = b+'_starsB_chi_robust_width.txt'\n",
    "print('Saved %s' % fname)\n",
    "np.savetxt(outDir+fname, data, fmt='%s', delimiter= ' ')"
   ]
  },
  {
   "cell_type": "markdown",
   "metadata": {},
   "source": [
    "Read-in the robust widths, calculate their mean to use as a correction factor... "
   ]
  },
  {
   "cell_type": "code",
   "execution_count": 53,
   "metadata": {
    "collapsed": true
   },
   "outputs": [],
   "source": [
    "file = outDir + fname\n",
    "sigmaG_chi_blue_stars = np.loadtxt(file, unpack=True)"
   ]
  },
  {
   "cell_type": "markdown",
   "metadata": {},
   "source": [
    "Calculate the mean, and save as a correction-factor file : "
   ]
  },
  {
   "cell_type": "code",
   "execution_count": 61,
   "metadata": {
    "collapsed": false
   },
   "outputs": [
    {
     "data": {
      "text/plain": [
       "array([ 0.88971443,  1.10721   ,  1.2876506 ])"
      ]
     },
     "execution_count": 61,
     "metadata": {},
     "output_type": "execute_result"
    }
   ],
   "source": [
    "fc = np.mean(sigmaG_chi_blue_stars, axis = 1)\n",
    "fc"
   ]
  },
  {
   "cell_type": "code",
   "execution_count": 62,
   "metadata": {
    "collapsed": false
   },
   "outputs": [
    {
     "name": "stdout",
     "output_type": "stream",
     "text": [
      "Saved r_cut_minMag_maxMag_mean_fc.txt\n"
     ]
    }
   ],
   "source": [
    "data  = np.column_stack((Min_arr, Max_arr, fc))\n",
    "fname = b+'_minMag_maxMag_mean_fc.txt'\n",
    "print('Saved %s' % fname)\n",
    "np.savetxt(outDir+fname, data, fmt='%s', delimiter= ' ')"
   ]
  },
  {
   "cell_type": "markdown",
   "metadata": {},
   "source": [
    "Plot the corrected histograms, to show that it works ... "
   ]
  },
  {
   "cell_type": "code",
   "execution_count": 71,
   "metadata": {
    "collapsed": false
   },
   "outputs": [],
   "source": [
    "# plot the same timescale-magnitude range before we get too specific... \n",
    "# if with one bin range it looks good, set testing = False, and run for all ... \n",
    "b = 'r_cut'\n",
    "testing = False\n",
    "\n",
    "if testing is True : \n",
    "    # just for testing  - load only 1/16 files (one for QSO one for Stars) and experiment with how it looks \n",
    "    # if you use that, make sure to comment out those lines below !  \n",
    "    j=0\n",
    "    i=0\n",
    "\n",
    "    datafileS = outDir+b+'_'+str(Min_arr[j])+'-'+str(Max_arr[j])+'_'+'starsB'+'_mi_tau_ei-log_tau_'+\\\n",
    "                            str(tau_min_arr[i])+'-'+str(tau_max_arr[i])+'.txt'\n",
    "    vS = np.loadtxt(datafileS, unpack=True)\n",
    "\n",
    "    datafileQ = outDir+b+'_'+str(Min_arr[j])+'-'+str(Max_arr[j])+'_'+'qso'+'_mi_tau_ei-log_tau_'+\\\n",
    "            str(tau_min_arr[i])+'-'+str(tau_max_arr[i])+'.txt'\n",
    "    vQ = np.loadtxt(datafileQ, unpack=True)\n",
    "    print('Read in the xi,tau,ei  data from \\n %s and \\n %s for testing...'%(datafileS, datafileQ))"
   ]
  },
  {
   "cell_type": "code",
   "execution_count": 2,
   "metadata": {
    "collapsed": false
   },
   "outputs": [
    {
     "ename": "NameError",
     "evalue": "name 'plt' is not defined",
     "output_type": "error",
     "traceback": [
      "\u001b[0;31m---------------------------------------------------------------------------\u001b[0m",
      "\u001b[0;31mNameError\u001b[0m                                 Traceback (most recent call last)",
      "\u001b[0;32m<ipython-input-2-20d2d9335b55>\u001b[0m in \u001b[0;36m<module>\u001b[0;34m()\u001b[0m\n\u001b[1;32m      5\u001b[0m \u001b[0mget_ipython\u001b[0m\u001b[0;34m(\u001b[0m\u001b[0;34m)\u001b[0m\u001b[0;34m.\u001b[0m\u001b[0mmagic\u001b[0m\u001b[0;34m(\u001b[0m\u001b[0;34m'matplotlib inline'\u001b[0m\u001b[0;34m)\u001b[0m\u001b[0;34m\u001b[0m\u001b[0m\n\u001b[1;32m      6\u001b[0m \u001b[0;34m\u001b[0m\u001b[0m\n\u001b[0;32m----> 7\u001b[0;31m \u001b[0mfig\u001b[0m\u001b[0;34m,\u001b[0m \u001b[0maxs\u001b[0m \u001b[0;34m=\u001b[0m \u001b[0mplt\u001b[0m\u001b[0;34m.\u001b[0m\u001b[0msubplots\u001b[0m\u001b[0;34m(\u001b[0m\u001b[0;36m4\u001b[0m\u001b[0;34m,\u001b[0m\u001b[0;36m3\u001b[0m\u001b[0;34m,\u001b[0m \u001b[0mfigsize\u001b[0m\u001b[0;34m=\u001b[0m\u001b[0;34m(\u001b[0m\u001b[0;36m8\u001b[0m\u001b[0;34m,\u001b[0m \u001b[0;36m8\u001b[0m\u001b[0;34m)\u001b[0m\u001b[0;34m)\u001b[0m\u001b[0;34m\u001b[0m\u001b[0m\n\u001b[0m\u001b[1;32m      8\u001b[0m \u001b[0mfig\u001b[0m\u001b[0;34m.\u001b[0m\u001b[0msubplots_adjust\u001b[0m\u001b[0;34m(\u001b[0m\u001b[0mwspace\u001b[0m\u001b[0;34m=\u001b[0m\u001b[0;36m0.46\u001b[0m\u001b[0;34m,\u001b[0m \u001b[0mhspace\u001b[0m\u001b[0;34m=\u001b[0m\u001b[0;36m0.36\u001b[0m\u001b[0;34m,\u001b[0m \u001b[0mleft\u001b[0m\u001b[0;34m=\u001b[0m\u001b[0;36m0.12\u001b[0m\u001b[0;34m,\u001b[0m \u001b[0mright\u001b[0m\u001b[0;34m=\u001b[0m\u001b[0;36m0.94\u001b[0m\u001b[0;34m,\u001b[0m \u001b[0mbottom\u001b[0m\u001b[0;34m=\u001b[0m\u001b[0;36m0.10\u001b[0m\u001b[0;34m,\u001b[0m \u001b[0mtop\u001b[0m\u001b[0;34m=\u001b[0m\u001b[0;36m0.95\u001b[0m\u001b[0;34m)\u001b[0m\u001b[0;34m\u001b[0m\u001b[0m\n\u001b[1;32m      9\u001b[0m \u001b[0;34m\u001b[0m\u001b[0m\n",
      "\u001b[0;31mNameError\u001b[0m: name 'plt' is not defined"
     ]
    }
   ],
   "source": [
    "import matplotlib \n",
    "matplotlib.rc('xtick', labelsize=15) \n",
    "matplotlib.rc('ytick', labelsize=15) \n",
    "\n",
    "%matplotlib inline\n",
    "\n",
    "fig, axs = plt.subplots(4,3, figsize=(8, 8))\n",
    "fig.subplots_adjust(wspace=0.46, hspace=0.36, left=0.12, right=0.94, bottom=0.10, top=0.95)\n",
    "\n",
    "# initiate a storage array for the robust widths of chi distributions ... \n",
    "store_fc_starB = np.zeros((3,4))\n",
    "\n",
    "for i in range(len(tau_max_arr)):  # \n",
    "    \n",
    "    for j in range(len(Min_arr) ):  # \n",
    "        \n",
    "        bin_fc = fc[j]\n",
    "       \n",
    "        if testing is not True: \n",
    "            datafileS = outDir+'r_cut_'+str(Min_arr[j])+'-'+str(Max_arr[j])+'_'+'starsB'+'_mi_tau_ei-log_tau_'+\\\n",
    "                        str(tau_min_arr[i])+'-'+str(tau_max_arr[i])+'.txt'\n",
    "            vS = np.loadtxt(datafileS, unpack=True)\n",
    "        \n",
    "            datafileQ = outDir+'r_cut_'+str(Min_arr[j])+'-'+str(Max_arr[j])+'_'+'qso'+'_mi_tau_ei-log_tau_'+\\\n",
    "                        str(tau_min_arr[i])+'-'+str(tau_max_arr[i])+'.txt'\n",
    "            vQ = np.loadtxt(datafileQ, unpack=True)\n",
    "        \n",
    "        # calculate the robust width of the chi distribution .... \n",
    "        chiS = vS[0]/(bin_fc*vS[2]) # applying the error correction : ei_corr = fc * ei \n",
    "        chiSok = chiS[np.abs(chiS)<5]\n",
    "        stdev_rob_S = 0.7414 *(np.percentile(chiSok,75) - np.percentile(chiSok,25) )\n",
    "        \n",
    "        chiQ = vQ[0]/(bin_fc*vQ[2]) # applying the correction  \n",
    "        chiQok = chiQ[np.abs(chiQ)<xlims_arr[i]]\n",
    "\n",
    "        # plot histograms\n",
    "        \n",
    "        Xmin = -xlims_arr[i]\n",
    "        Xmax = xlims_arr[i]\n",
    "        bins = 40 \n",
    "        title= r'$ '+' '+ str(tau_min_arr[i])+'-'+str(tau_max_arr[i])+'$'\n",
    "        plot2Chistograms(chiQok, chiSok, Xmin=Xmin, Xmax=Xmax, Ymin=0.0, \n",
    "                             Ymax=0.55, ax=axs[i,j],bins=bins,  \n",
    "                         title=title)\n",
    "        # save the value of robust width of stellar chi distribution...\n",
    "        stdev_rob_S = 0.7414 *(np.percentile(chiSok,75) - np.percentile(chiSok,25) )\n",
    "        #store_fc_starB[row,column] = [magnitude_max, deltaTrange]\n",
    "        store_fc_starB[j,i] = stdev_rob_S\n",
    "\n",
    "Xlabel = '$\\chi = \\Delta mag / error$'\n",
    "Ylabel = '$n / (N\\Delta_{bin})$'\n",
    "fig.text(0.5, 0.04, Xlabel, ha='center', va='center',fontsize=20)\n",
    "fig.text(0.03, 0.5, Ylabel, ha='center', va='center', rotation='vertical',fontsize=20)\n",
    "\n",
    "name = outDir+'Fig_3_histogram_panels_corrected.png'\n",
    "if (name is None):\n",
    "    plt.show() \n",
    "else:\n",
    "    print('saving plot to: %s'%name)\n",
    "    plt.savefig(name, bbox_inches='tight')\n",
    "    "
   ]
  },
  {
   "cell_type": "markdown",
   "metadata": {},
   "source": [
    "## [Illustration only ] Calculating the full linear fit along timescales ... "
   ]
  },
  {
   "cell_type": "code",
   "execution_count": 63,
   "metadata": {
    "collapsed": false
   },
   "outputs": [
    {
     "data": {
      "image/png": "[encoded data removed]",
      "text/plain": [
       "<matplotlib.figure.Figure at 0x113e55ba8>"
      ]
     },
     "metadata": {},
     "output_type": "display_data"
    }
   ],
   "source": [
    "def func(x, a, b):\n",
    "    return a * x + b\n",
    "\n",
    "from scipy.optimize import curve_fit\n",
    "# popt is func(x, popt*)\n",
    "\n",
    "fig,ax = plt.subplots()\n",
    "\n",
    "aCoeffArr = np.zeros(len(Min_arr))\n",
    "bCoeffArr =np.zeros(len(Min_arr))\n",
    "stdArr = np.zeros(len(Min_arr))\n",
    "colors = ['']\n",
    "for i in range(len(Min_arr)):\n",
    "    tau_cen = (np.array(tau_max_arr) + np.array(tau_min_arr)) / 2.0\n",
    "    popt, pcov = curve_fit(func, tau_cen, store_fc_starB[i,:])\n",
    "    a,b = popt[0], popt[1]\n",
    "    aCoeffArr[i] = a\n",
    "    bCoeffArr[i] = b\n",
    "    \n",
    "    x = np.sort(np.append(np.array(tau_min_arr), tau_max_arr)) #np.linspace(tau_min_arr[0], tau_min_arr[-1])\n",
    "    y = a * x + b\n",
    "    std = np.std(a * np.array(tau_cen)  - store_fc_starB[i,:] )\n",
    "    stdArr[i] = std\n",
    "    ax.plot(x,y)\n",
    "    ax.scatter(tau_cen, store_fc_starB[i,:])\n",
    "    ax.text(x=0, y=store_fc_starB[i,0]+0.05,  s=r'$y='+str(a)[:6]+'x + '+str(b)[:5]+'$ ', fontsize=20)\n",
    "\n",
    "for j in range(len(tau_min_arr)):\n",
    "    ax.fill_between(x=[tau_min_arr[j],tau_max_arr[j]],y1=[0.8,0.8],y2=[1.4,1.4],alpha=0.1)\n",
    "\n",
    "ax.set_ylim(0.8,1.4)\n",
    "ax.set_xlabel(r'$log_{10} (\\Delta _{t})$ [days]',fontsize=20)\n",
    "ax.set_ylabel(r'$\\sigma_{G}(\\chi_{Blue})$',fontsize=20)\n",
    "plt.tight_layout()\n",
    "plt.savefig(outDir + 'Blue_Stars_coefficients.png')"
   ]
  },
  {
   "cell_type": "code",
   "execution_count": 137,
   "metadata": {
    "collapsed": false
   },
   "outputs": [],
   "source": [
    "# Store the linear correction coefficients \n",
    "data = np.column_stack((aCoeffArr, bCoeffArr, stdArr, Min_arr, Max_arr))\n",
    "np.savetxt(outDir+'fc_starsB_a_b_coeff.txt',data, header='  a      b     stddev   rMagMin  rMagMax',fmt='%2.5f    %2.5f    %2.5f  %2.2f  %2.2f  ')\n"
   ]
  }
 ],
 "metadata": {
  "anaconda-cloud": {},
  "kernelspec": {
   "display_name": "Python [Root]",
   "language": "python",
   "name": "Python [Root]"
  },
  "language_info": {
   "codemirror_mode": {
    "name": "ipython",
    "version": 3
   },
   "file_extension": ".py",
   "mimetype": "text/x-python",
   "name": "python",
   "nbconvert_exporter": "python",
   "pygments_lexer": "ipython3",
   "version": "3.5.2"
  }
 },
 "nbformat": 4,
 "nbformat_minor": 0
}
