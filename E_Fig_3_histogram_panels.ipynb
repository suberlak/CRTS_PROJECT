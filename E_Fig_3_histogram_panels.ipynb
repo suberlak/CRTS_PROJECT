{
 "cells": [
  {
   "cell_type": "markdown",
   "metadata": {},
   "source": [
    "## Based on CRTS_sel_g_cut_vs_r_cut.ipynb,   taking only the code needed to make Fig. 3"
   ]
  },
  {
   "cell_type": "markdown",
   "metadata": {},
   "source": [
    "A testbed for making Fig.3 :  the 4 x 4 histogram plot. It shows that   0   < log(tau) < 1.7 (short timescales bin), does not exhibit any variability, because chi_ij for qso and stars is almost undistinguishable for uncorrected points. \n",
    "\n",
    "The files in  SF_plotting/Histogram_r_cut_starsB_qso/    are described in README. \n",
    "\n",
    "To make them  one would run points 1-10  (numeration inherited from CRTS_sel_g_cut_vs_r_cut.ipynb )   for different mag cuts :  17-18 ,  18-18.5 ,  18.5-19 , thus producing  8 files per cut (4 for qso,  4 for Blue Stars ) . \n",
    "\n",
    "Thus saved in SF_plotting/Histogram_r_cut_starsB_qso/   , one would read them all in 10)a) , and plot the histogram. \n",
    "\n",
    "NOTE:  that these points have no correction , they have exactly the same e_ij as from master files . |\n",
    "\n",
    "NOTE : if Fig_3_prereq-get_tau_samples_and_fc.ipynb  has been executed, then we already have all the log(tau) samples, and so JUMP STRAIGHT TO PART 10)a) : plotting \n"
   ]
  },
  {
   "cell_type": "code",
   "execution_count": null,
   "metadata": {
    "collapsed": true
   },
   "outputs": [],
   "source": []
  },
  {
   "cell_type": "code",
   "execution_count": 21,
   "metadata": {
    "collapsed": false
   },
   "outputs": [
    {
     "data": {
      "text/plain": [
       "<module 'CRTS_paper_modules' from 'CRTS_paper_modules.py'>"
      ]
     },
     "execution_count": 21,
     "metadata": {},
     "output_type": "execute_result"
    }
   ],
   "source": [
    "import os\n",
    "import numpy as np \n",
    "import matplotlib.pyplot as plt\n",
    "from astroML.stats import median_sigmaG\n",
    "from scipy.stats import binned_statistic\n",
    "from scipy.optimize import curve_fit\n",
    "import CRTS_paper_modules as mod\n",
    "import datetime\n",
    "reload(mod)"
   ]
  },
  {
   "cell_type": "code",
   "execution_count": 2,
   "metadata": {
    "collapsed": false
   },
   "outputs": [
    {
     "name": "stdout",
     "output_type": "stream",
     "text": [
      "Zipping CRTS-SDSS quasars catalog from  ../data_products/CRTS_SDSS_cross_matched_qso_DB_QSO_catalog.txt  ...\n",
      "Read in  7601 , quasars from CRTS\n",
      "zipping CRTS-SDSS stars catalog...\n",
      "Read in catalog for  48250 , stars from CRTS\n"
     ]
    }
   ],
   "source": [
    "cols1, qso_cat = mod.get_qso_catalog() \n",
    "cols2 , star_cat= mod.get_stars_catalog()\n"
   ]
  },
  {
   "cell_type": "markdown",
   "metadata": {},
   "source": [
    "## 1) Read in points  m_ij , e_ij , tau  from master files "
   ]
  },
  {
   "cell_type": "code",
   "execution_count": 7,
   "metadata": {
    "collapsed": false
   },
   "outputs": [
    {
     "data": {
      "text/plain": [
       "{'CRTS_M': array([ 20.04798,  15.95652,  17.47582, ...,  19.74864,  17.12618,  20.002  ]),\n",
       " 'CRTS_Merr': array([ 0.18944,  0.03524,  0.05099, ...,  0.13395,  0.04733,  0.2385 ]),\n",
       " 'N_rows': array([  23.,   90.,   99., ...,  114.,   94.,   72.]),\n",
       " 'crts_id': array([ 392106.,  315542.,  700105., ...,  964473.,  864141.,  744009.]),\n",
       " 'dec_CRTS': array([-0.79702,  0.4    , -0.50307, ..., -1.20402, -1.18179, -0.42934]),\n",
       " 'dec_SDSS': array([-0.79702,  0.4    , -0.50307, ..., -1.20402, -1.18179, -0.42934]),\n",
       " 'g_Nobs': array([  4.,  13.,   9., ...,  10.,   9.,  11.]),\n",
       " 'g_mMed': array([ 22.49 ,  16.886,  18.101, ...,  21.743,  17.757,  22.042]),\n",
       " 'i_mMed': array([ 19.927,  15.848,  17.205, ...,  19.194,  17.07 ,  19.419]),\n",
       " 'm_ang_deg': array([ 0.,  0.,  0., ...,  0.,  0.,  0.]),\n",
       " 'mjd_N': array([  23.,   90.,   99., ...,  114.,   94.,   72.]),\n",
       " 'mjd_span': array([ 3041.,  2920.,  3070., ...,  2997.,  3055.,  3042.]),\n",
       " 'r_mMed': array([ 21.068,  16.174,  17.473, ...,  20.351,  17.242,  20.634]),\n",
       " 'ra_CRTS': array([ 311.0213 ,   58.42855,  325.76031, ...,  352.70065,  339.4133 ,\n",
       "         328.74106]),\n",
       " 'ra_SDSS': array([ 311.0213 ,   58.42855,  325.76031, ...,  352.70065,  339.4133 ,\n",
       "         328.74106])}"
      ]
     },
     "execution_count": 7,
     "metadata": {},
     "output_type": "execute_result"
    }
   ],
   "source": [
    "star_cat"
   ]
  },
  {
   "cell_type": "code",
   "execution_count": 22,
   "metadata": {
    "collapsed": false,
    "scrolled": true
   },
   "outputs": [
    {
     "name": "stdout",
     "output_type": "stream",
     "text": [
      "Today we will save our Fig_3 files in /local/tmp/suberlak/CRTS_PROJECT/data_products/Fig_3_data/2016-06-07/\n",
      "\n",
      "Using now only lightcurves with SDSS  17.000000< r < 18.000000\n",
      "\n",
      " These cuts reduced the number of stars  in the sample from 48250  to  2795\n",
      "Returning only QSO which had an SDSS counterpart within 0.000278 radians\n",
      "\n",
      " These cuts reduced the number of qso  in the sample from 7601  to  185\n"
     ]
    }
   ],
   "source": [
    "Min = 17\n",
    "Max = 18\n",
    "magnitudes = ['r']  # don't need g magnitude , decided to use only r magnitude \n",
    "\n",
    "# Where to save the samples of log(tau), as well as the table results  ... \n",
    "\n",
    "# Set a directory to save the results...\n",
    "outDir = os.path.join(os.getcwd()[:-4]+'data_products/'+'Fig_3_data/')\n",
    "if not os.path.exists(outDir): os.system('mkdir %s' % outDir)\n",
    "                      \n",
    "outDir = os.path.join(os.getcwd()[:-4],'data_products/'+'Fig_3_data', \n",
    "                      datetime.datetime.now().strftime('%Y-%m-%d')+ '/')\n",
    "if not os.path.exists(outDir): os.system('mkdir %s' % outDir)\n",
    "\n",
    "print('Today we will save our Fig_3 files in %s'%outDir)\n",
    "\n",
    "objects_in_cut = {}\n",
    "\n",
    "for mag in magnitudes : \n",
    "    cut_mag = mag\n",
    "   \n",
    "    \n",
    "    print('\\nUsing now only lightcurves with SDSS  %f< %s < %f' % (Min, cut_mag, Max))\n",
    "\n",
    "\n",
    "    good_ids_S_blue = mod.cut_stars(star_cat = star_cat, mMin = Min, mMax=Max, mErrMax = 0.3, gi_Min = -1,  gi_Max=1, cut_mag=cut_mag + '_mMed')\n",
    "    \n",
    "    #good_ids_S_red = mod.cut_stars(star_cat = star_cat, mMin = Min, mMax=Max, mErrMax = 0.3, gi_Min = 1, \n",
    "    #                                       gi_Max=3, cut_mag=cut_mag + '_mMed')\n",
    "    \n",
    "    good_ids_QSO = mod.cut_qso(qso_cat = qso_cat, mMin = Min, mMax=Max, mErrMax = 0.3, \n",
    "                                               cut_mag=cut_mag)\n",
    "    objects_in_cut[mag] = {'starsB':good_ids_S_blue, 'qso':good_ids_QSO}\n",
    "    "
   ]
  },
  {
   "cell_type": "markdown",
   "metadata": {},
   "source": [
    "## Since I'm only using r_cut,   I won't compare it with g_cut .  Thus making r_bin is the same as r_cut  "
   ]
  },
  {
   "cell_type": "code",
   "execution_count": 23,
   "metadata": {
    "collapsed": true
   },
   "outputs": [],
   "source": [
    "bins = {}\n",
    "bin_types = ['r_cut']  # removed 'g_cut'\n",
    "\n",
    "objects = objects_in_cut['r'].keys()\n",
    "\n",
    "# first need to explicitly initialize the dictionaries \n",
    "for b in bin_types:\n",
    "    bins[b] = {}\n",
    "    \n",
    "for obj in objects : \n",
    "    bins['r_cut'][obj] =  objects_in_cut['r'][obj]\n"
   ]
  },
  {
   "cell_type": "markdown",
   "metadata": {},
   "source": [
    "## Read the xi, ei for objects in the r_cut ... "
   ]
  },
  {
   "cell_type": "code",
   "execution_count": null,
   "metadata": {
    "collapsed": true
   },
   "outputs": [],
   "source": []
  },
  {
   "cell_type": "code",
   "execution_count": 24,
   "metadata": {
    "collapsed": false
   },
   "outputs": [
    {
     "name": "stdout",
     "output_type": "stream",
     "text": [
      "Reading in xi, ei for bin  r_cut\n",
      "making new delflx, tau, xi arrays\n",
      "\n",
      "\n",
      "----- Already read 100% of qso \n",
      "\n",
      "----- Already read 100% of Blue Stars \n",
      "\n"
     ]
    }
   ],
   "source": [
    "inDirStars   = '../data_products/sf_file_per_LC/stars/'\n",
    "inDirQSO = '../data_products/sf_file_per_LC/qso/'\n",
    "\n",
    "out_dic = {}\n",
    "\n",
    "#for b in bins.keys():\n",
    "# read in only r_cut \n",
    "\n",
    "b = 'r_cut'\n",
    "print 'Reading in xi, ei for bin ', b\n",
    "out_dic[b] = {}   # initialize the dic \n",
    "\n",
    "good_ids_S_blue = bins[b]['starsB']\n",
    "#good_ids_S_red = bins[b]['starsR']\n",
    "good_ids_QSO = bins[b]['qso']\n",
    "\n",
    "qso, starB = mod.read_xi_ei(inDirStars, good_ids_S_blue, inDirQSO, good_ids_QSO)\n",
    "\n",
    "# put into a dictionary : makes it more explicit \n",
    "out_dic[b] = {'starsB': starB, 'qso':qso}\n",
    "\n",
    "\n",
    "# Straight after reading-in xi, ei,   one can proceed directly to part 9) (one bin) or 10 : all bins sigma comparison \n",
    "# or to Saving just the log(tau) samples of xi, tau, ei. \n"
   ]
  },
  {
   "cell_type": "markdown",
   "metadata": {
    "collapsed": true
   },
   "source": [
    "## 10) Save to a file all points for samples of log(tau) for a given mag cut, only for qso and starsB "
   ]
  },
  {
   "cell_type": "code",
   "execution_count": 25,
   "metadata": {
    "collapsed": false
   },
   "outputs": [
    {
     "name": "stdout",
     "output_type": "stream",
     "text": [
      "Saved r_cut_17-18_qso_mi_tau_ei-log_tau_0-1.7.txt\n",
      "Saved r_cut_17-18_qso_mi_tau_ei-log_tau_2.3-2.5.txt\n",
      "Saved r_cut_17-18_qso_mi_tau_ei-log_tau_2.8-3.0.txt\n",
      "Saved r_cut_17-18_qso_mi_tau_ei-log_tau_3.2-3.4.txt\n",
      "Saved r_cut_17-18_starsB_mi_tau_ei-log_tau_0-1.7.txt\n",
      "Saved r_cut_17-18_starsB_mi_tau_ei-log_tau_2.3-2.5.txt\n",
      "Saved r_cut_17-18_starsB_mi_tau_ei-log_tau_2.8-3.0.txt\n",
      "Saved r_cut_17-18_starsB_mi_tau_ei-log_tau_3.2-3.4.txt\n"
     ]
    }
   ],
   "source": [
    "## Save to a file points for log(tau) samples  for QSO, stars \n",
    "\n",
    "b = 'r_cut'   # or g_cut\n",
    "\n",
    "tau_min_arr = [0,   2.3, 2.8, 3.2]\n",
    "tau_max_arr = [1.7, 2.5, 3.0, 3.4]\n",
    "for obj in ['qso','starsB']:\n",
    "    #obj = 'qso'  # or starsB,  starsR \n",
    "    m_ij = out_dic[b][obj][0]\n",
    "    tau =  out_dic[b][obj][1]\n",
    "    e_ij =  out_dic[b][obj][2]\n",
    "    \n",
    "    for i in range(len(tau_min_arr)):\n",
    "        m1 = tau_min_arr[i] < np.log10(tau)\n",
    "        m2 = np.log10(tau) < tau_max_arr[i]\n",
    "        mask =  m1 * m2 \n",
    "\n",
    "        data = np.column_stack((m_ij[mask], tau[mask], e_ij[mask]))\n",
    "       \n",
    "        fname = b+'_'+str(Min)+'-'+str(Max)+'_'+obj+'_mi_tau_ei-log_tau_'+\\\n",
    "                str(tau_min_arr[i])+'-'+str(tau_max_arr[i])+'.txt'\n",
    "        print 'Saved', fname\n",
    "        np.savetxt(outDir+fname, data, fmt='%s', delimiter= ' ')\n"
   ]
  },
  {
   "cell_type": "markdown",
   "metadata": {},
   "source": [
    "## 10)a) Plot the histogram grid for qso and starsB "
   ]
  },
  {
   "cell_type": "code",
   "execution_count": 26,
   "metadata": {
    "collapsed": false
   },
   "outputs": [],
   "source": [
    "# this is taken from poster_hist_r_cut_qso_starsB_mag_tau_grid.py  program\n",
    "\n",
    "b = 'r_cut'\n",
    "# Use today's data... \n",
    "outDir = os.path.join(os.getcwd()[:-4],'data_products/'+'Fig_3_data', \n",
    "                      datetime.datetime.now().strftime('%Y-%m-%d')+ '/')\n",
    "# Use data from another day \n",
    "#outDir = os.path.join(os.getcwd(), 'Fig_3_data','2016-02-12_histogram_table/')\n",
    "\n",
    "def plot2Chistograms(chiQSO, chiSTAR, Xmin, Xmax, Ymin, Ymax, Xlabel, Ylabel, ax, bins=20, title=''):\n",
    "    limits = [(Xmin, Xmax, Ymin, Ymax)]\n",
    "    labels = [Xlabel, Ylabel]\n",
    "    ax.set_xlim(Xmin, Xmax)\n",
    "    ax.set_ylim(Ymin, Ymax)\n",
    "    #ax.set_xlabel(Xlabel, fontsize=12)\n",
    "    #ax.set_ylabel(Ylabel, fontsize=12)\n",
    "     # http://stackoverflow.com/questions/16150819/common-xlabel-ylabel-for-matplotlib-subplots\n",
    "        \n",
    "        \n",
    "    #plt.tick_params(axis='both', which='major', labelsize=15)\n",
    "    xTitle = Xmin + 0.05*(Xmax-Xmin)\n",
    "    yTitle = Ymax - 0.2*(Ymax-Ymin)\n",
    "    ax.text(xTitle, yTitle, title, fontsize=12)\n",
    "\n",
    "    # plot a histogram\n",
    "    ax.hist(chiSTAR, bins=bins, normed=True, facecolor='blue', histtype='stepfilled', alpha=0.4)\n",
    "    ax.hist(chiQSO, bins=bins, normed=True, facecolor='red', histtype='stepfilled', alpha=0.2)\n",
    "\n",
    "    # plot the robust width of both distributions\n",
    "    stdev_rob_QSO = 0.7414 *(np.percentile(chiQSO,75) - np.percentile(chiQSO,25) )\n",
    "    stdev_rob_S = 0.7414 *(np.percentile(chiSTAR,75) - np.percentile(chiSTAR,25) )\n",
    "    \n",
    "    \n",
    "    xTitle = Xmin + 0.65*(Xmax-Xmin)\n",
    "    yTitle = Ymax - 0.2*(Ymax-Ymin)\n",
    "    StarSigmaG = r'$'+str(stdev_rob_S)[:4]+'$'\n",
    "    ax.text(xTitle, yTitle, StarSigmaG, fontsize=12)\n",
    "    \n",
    "    \n",
    "    xTitle = Xmin + 0.65*(Xmax-Xmin)\n",
    "    yTitle = Ymax - 0.35*(Ymax-Ymin)\n",
    "    QSOSigmaG = r'$'+str(stdev_rob_QSO)[:4]+'$'\n",
    "    ax.text(xTitle, yTitle, QSOSigmaG, fontsize=12)\n",
    "    \n",
    "    \n",
    "Min_arr = [17, 18, 18.5]\n",
    "Max_arr = [18, 18.5, 19]\n",
    "tau_min_arr = [0,   2.3, 2.8, 3.2]\n",
    "tau_max_arr = [1.7, 2.5, 3.0, 3.4]\n",
    "xlims_arr = [5,10,10,10]\n",
    "\n",
    "\n"
   ]
  },
  {
   "cell_type": "code",
   "execution_count": 27,
   "metadata": {
    "collapsed": false
   },
   "outputs": [],
   "source": [
    "# just for testing  - load only 1/16 files (one for QSO one for Stars) and experiment with how it looks \n",
    "# if you use that, make sure to comment out those lines below !  \n",
    "j=0\n",
    "i=0\n",
    "\n",
    "datafileS = outDir+b+'_'+str(Min_arr[j])+'-'+str(Max_arr[j])+'_'+'starsB'+'_mi_tau_ei-log_tau_'+\\\n",
    "                        str(tau_min_arr[i])+'-'+str(tau_max_arr[i])+'.txt'\n",
    "vS = np.loadtxt(datafileS, unpack=True)\n",
    "\n",
    "datafileQ = outDir+b+'_'+str(Min_arr[j])+'-'+str(Max_arr[j])+'_'+'qso'+'_mi_tau_ei-log_tau_'+\\\n",
    "        str(tau_min_arr[i])+'-'+str(tau_max_arr[i])+'.txt'\n",
    "vQ = np.loadtxt(datafileQ, unpack=True)\n",
    "\n",
    "        "
   ]
  },
  {
   "cell_type": "code",
   "execution_count": 35,
   "metadata": {
    "collapsed": false
   },
   "outputs": [
    {
     "name": "stdout",
     "output_type": "stream",
     "text": [
      "saving plot to: /local/tmp/suberlak/CRTS_PROJECT/data_products/Fig_3_data/2016-06-07/Fig_3_histogram_panels.png\n"
     ]
    },
    {
     "data": {
      "image/png": "[encoded data removed]",
      "text/plain": [
       "<matplotlib.figure.Figure at 0x7fe3c4d66550>"
      ]
     },
     "metadata": {},
     "output_type": "display_data"
    }
   ],
   "source": [
    "import matplotlib \n",
    "matplotlib.rc('xtick', labelsize=15) \n",
    "matplotlib.rc('ytick', labelsize=15) \n",
    "\n",
    "%matplotlib inline\n",
    "\n",
    "fig, axs = plt.subplots(4,3, figsize=(8, 8))\n",
    "fig.subplots_adjust(wspace=0.46, hspace=0.36, left=0.12, right=0.94, bottom=0.10, top=0.95)\n",
    "store_fc_starB = np.zeros((3,4))\n",
    "\n",
    "for i in range(len(tau_max_arr)):  # \n",
    "    for j in range(len(Min_arr) ):  # \n",
    "       \n",
    "        # if not testing,  uncomment   datafileS,  vS,   datafileQ, vQ \n",
    "        datafileS = outDir+b+'_'+str(Min_arr[j])+'-'+str(Max_arr[j])+'_'+'starsB'+'_mi_tau_ei-log_tau_'+\\\n",
    "                        str(tau_min_arr[i])+'-'+str(tau_max_arr[i])+'.txt'\n",
    "        vS = np.loadtxt(datafileS, unpack=True)\n",
    "        chiS = vS[0]/vS[2]\n",
    "        chiSok = chiS[np.abs(chiS)<5]\n",
    "        stdev_rob_S = 0.7414 *(np.percentile(chiSok,75) - np.percentile(chiSok,25) )\n",
    "        datafileQ = outDir+b+'_'+str(Min_arr[j])+'-'+str(Max_arr[j])+'_'+'qso'+'_mi_tau_ei-log_tau_'+\\\n",
    "                str(tau_min_arr[i])+'-'+str(tau_max_arr[i])+'.txt'\n",
    "        vQ = np.loadtxt(datafileQ, unpack=True)\n",
    "        chiQ = vQ[0]/vQ[2]\n",
    "        chiQok = chiQ[np.abs(chiQ)<xlims_arr[i]]\n",
    "\n",
    "        # plot histograms\n",
    "        Xlabel = '$\\chi = \\Delta mag / error$'\n",
    "        Ylabel = '$n / (N\\Delta_{bin})$'\n",
    "        Xmin = -xlims_arr[i]\n",
    "        Xmax = xlims_arr[i]\n",
    "        bins = 40 \n",
    "        title= r'$ '+' '+ str(tau_min_arr[i])+'-'+str(tau_max_arr[i])+'$'\n",
    "        plot2Chistograms(chiQok, chiSok, Xmin=Xmin, Xmax=Xmax, Ymin=0.0, \n",
    "                             Ymax=0.55, Xlabel=Xlabel, Ylabel=Ylabel, ax=axs[i,j],bins=bins,  \n",
    "                         title=title)\n",
    "        # save the value of robust width of stellar chi distribution...\n",
    "        stdev_rob_S = 0.7414 *(np.percentile(chiSok,75) - np.percentile(chiSok,25) )\n",
    "        #store_fc_starB[row,column] = [magnitude_max, deltaTrange]\n",
    "        store_fc_starB[j,i] = stdev_rob_S\n",
    "fig.text(0.5, 0.04, Xlabel, ha='center', va='center',fontsize=20)\n",
    "fig.text(0.03, 0.5, Ylabel, ha='center', va='center', rotation='vertical',fontsize=20)\n",
    "\n",
    "#name = 'poster_r_cut_qso_starsB_histogram_grid.png'\n",
    "#name = None\n",
    "name = outDir+'Fig_3_histogram_panels_corr.png'\n",
    "if (name is None):\n",
    "    plt.show() \n",
    "else:\n",
    "    print 'saving plot to:', name\n",
    "    plt.savefig(name, bbox_inches='tight')"
   ]
  },
  {
   "cell_type": "code",
   "execution_count": 43,
   "metadata": {
    "collapsed": false
   },
   "outputs": [],
   "source": [
    "# This are the data for Table 1 in the paper, with values of chi for various \n",
    "# magnitude-log(tau) bins for blue stars\n",
    "store_fc_starB\n",
    "np.savetxt(outDir+'SigmaG_chi_-StarsB.txt',store_fc_starB, header='0-1.7  2.3-2.5  2.8-3.0   3.2-3.4', \n",
    "           fmt='%2.4f    '*4)"
   ]
  },
  {
   "cell_type": "code",
   "execution_count": 140,
   "metadata": {
    "collapsed": false
   },
   "outputs": [
    {
     "data": {
      "text/plain": [
       "array([[ 0.85123025,  0.89528021,  0.90391452,  0.90843273],\n",
       "       [ 1.06679681,  1.10987207,  1.11973961,  1.13243149],\n",
       "       [ 1.24832398,  1.29319014,  1.30201714,  1.30707115]])"
      ]
     },
     "execution_count": 140,
     "metadata": {},
     "output_type": "execute_result"
    }
   ],
   "source": [
    "store_fc_starB"
   ]
  },
  {
   "cell_type": "code",
   "execution_count": 46,
   "metadata": {
    "collapsed": false
   },
   "outputs": [
    {
     "data": {
      "text/plain": [
       "array([ 0.85123025,  0.89528021,  0.90391452,  0.90843273])"
      ]
     },
     "execution_count": 46,
     "metadata": {},
     "output_type": "execute_result"
    }
   ],
   "source": [
    "store_fc_starB[0,:]"
   ]
  },
  {
   "cell_type": "code",
   "execution_count": 48,
   "metadata": {
    "collapsed": false
   },
   "outputs": [
    {
     "data": {
      "text/plain": [
       "<matplotlib.collections.PathCollection at 0x7fe3c316db10>"
      ]
     },
     "execution_count": 48,
     "metadata": {},
     "output_type": "execute_result"
    },
    {
     "data": {
      "image/png": "[encoded data removed]",
      "text/plain": [
       "<matplotlib.figure.Figure at 0x7fe3c30f5fd0>"
      ]
     },
     "metadata": {},
     "output_type": "display_data"
    }
   ],
   "source": [
    "plt.scatter(tau_min_arr, store_fc_starB[0,:])"
   ]
  },
  {
   "cell_type": "code",
   "execution_count": 135,
   "metadata": {
    "collapsed": false
   },
   "outputs": [
    {
     "data": {
      "image/png": "[encoded data removed]",
      "text/plain": [
       "<matplotlib.figure.Figure at 0x7fe3c1e85410>"
      ]
     },
     "metadata": {},
     "output_type": "display_data"
    }
   ],
   "source": [
    "def func(x, a, b):\n",
    "    return a * x + b\n",
    "\n",
    "from scipy.optimize import curve_fit\n",
    "# popt is func(x, popt*)\n",
    "\n",
    "fig,ax = plt.subplots()\n",
    "\n",
    "aCoeffArr = np.zeros(len(Min_arr))\n",
    "bCoeffArr =np.zeros(len(Min_arr))\n",
    "stdArr = np.zeros(len(Min_arr))\n",
    "colors = ['']\n",
    "for i in range(len(Min_arr)):\n",
    "    tau_cen = (np.array(tau_max_arr) + np.array(tau_min_arr)) / 2.0\n",
    "    popt, pcov = curve_fit(func, tau_cen, store_fc_starB[i,:])\n",
    "    a,b = popt[0], popt[1]\n",
    "    aCoeffArr[i] = a\n",
    "    bCoeffArr[i] = b\n",
    "    \n",
    "    x = np.sort(np.append(np.array(tau_min_arr), tau_max_arr)) #np.linspace(tau_min_arr[0], tau_min_arr[-1])\n",
    "    y = a * x + b\n",
    "    std = np.std(a * np.array(tau_cen)  - store_fc_starB[i,:] )\n",
    "    stdArr[i] = std\n",
    "    ax.plot(x,y)\n",
    "    ax.scatter(tau_cen, store_fc_starB[i,:])\n",
    "    ax.text(x=0, y=store_fc_starB[i,0]+0.05,  s=r'$y='+str(a)[:6]+'x + '+str(b)[:5]+'$ ', fontsize=20)\n",
    "\n",
    "for j in range(len(tau_min_arr)):\n",
    "    ax.fill_between(x=[tau_min_arr[j],tau_max_arr[j]],y1=[0.8,0.8],y2=[1.4,1.4],alpha=0.1)\n",
    "\n",
    "ax.set_ylim(0.8,1.4)\n",
    "ax.set_xlabel(r'$log_{10} (\\Delta _{t})$ [days]',fontsize=20)\n",
    "ax.set_ylabel(r'$\\sigma_{G}(\\chi_{Blue})$',fontsize=20)\n",
    "plt.tight_layout()\n",
    "plt.savefig(outDir + 'Blue_Stars_coefficients.png')"
   ]
  },
  {
   "cell_type": "code",
   "execution_count": 137,
   "metadata": {
    "collapsed": false
   },
   "outputs": [],
   "source": [
    "# Store the linear correction coefficients \n",
    "data = np.column_stack((aCoeffArr, bCoeffArr, stdArr, Min_arr, Max_arr))\n",
    "np.savetxt(outDir+'fc_starsB_a_b_coeff.txt',data, header='  a      b     stddev   rMagMin  rMagMax',fmt='%2.5f    %2.5f    %2.5f  %2.2f  %2.2f  ')\n"
   ]
  },
  {
   "cell_type": "code",
   "execution_count": 138,
   "metadata": {
    "collapsed": false
   },
   "outputs": [
    {
     "data": {
      "text/plain": [
       "array([ 0.85,  2.4 ,  2.9 ,  3.3 ])"
      ]
     },
     "execution_count": 138,
     "metadata": {},
     "output_type": "execute_result"
    }
   ],
   "source": [
    "tau_cen"
   ]
  },
  {
   "cell_type": "code",
   "execution_count": 123,
   "metadata": {
    "collapsed": false
   },
   "outputs": [],
   "source": []
  },
  {
   "cell_type": "code",
   "execution_count": 124,
   "metadata": {
    "collapsed": false
   },
   "outputs": [
    {
     "data": {
      "text/plain": [
       "array([[  2.41828245e-02,   8.32582504e-01,   3.25637902e-03],\n",
       "       [  2.64992486e-02,   1.04460552e+00,   1.22213012e-03],\n",
       "       [  2.47674634e-02,   1.22913747e+00,   3.17345916e-03]])"
      ]
     },
     "execution_count": 124,
     "metadata": {},
     "output_type": "execute_result"
    }
   ],
   "source": [
    "data"
   ]
  },
  {
   "cell_type": "code",
   "execution_count": 102,
   "metadata": {
    "collapsed": false
   },
   "outputs": [
    {
     "data": {
      "text/plain": [
       "array([ 0. ,  2.3,  2.8,  3.2,  1.7,  2.5,  3. ,  3.4])"
      ]
     },
     "execution_count": 102,
     "metadata": {},
     "output_type": "execute_result"
    }
   ],
   "source": [
    "x"
   ]
  },
  {
   "cell_type": "code",
   "execution_count": 103,
   "metadata": {
    "collapsed": false
   },
   "outputs": [
    {
     "data": {
      "text/plain": [
       "array([ 1.22913747,  1.28610263,  1.29848637,  1.30839335,  1.27124216,\n",
       "        1.29105613,  1.30343986,  1.31334684])"
      ]
     },
     "execution_count": 103,
     "metadata": {},
     "output_type": "execute_result"
    }
   ],
   "source": [
    "y"
   ]
  },
  {
   "cell_type": "code",
   "execution_count": 104,
   "metadata": {
    "collapsed": false
   },
   "outputs": [
    {
     "data": {
      "text/plain": [
       "[<matplotlib.lines.Line2D at 0x7fe3c22aa610>]"
      ]
     },
     "execution_count": 104,
     "metadata": {},
     "output_type": "execute_result"
    },
    {
     "data": {
      "image/png": "[encoded data removed]",
      "text/plain": [
       "<matplotlib.figure.Figure at 0x7fe3c1e46450>"
      ]
     },
     "metadata": {},
     "output_type": "display_data"
    }
   ],
   "source": [
    "plt.plot(x,y)"
   ]
  },
  {
   "cell_type": "code",
   "execution_count": null,
   "metadata": {
    "collapsed": true
   },
   "outputs": [],
   "source": []
  }
 ],
 "metadata": {
  "kernelspec": {
   "display_name": "Python 2",
   "language": "python",
   "name": "python2"
  },
  "language_info": {
   "codemirror_mode": {
    "name": "ipython",
    "version": 2
   },
   "file_extension": ".py",
   "mimetype": "text/x-python",
   "name": "python",
   "nbconvert_exporter": "python",
   "pygments_lexer": "ipython2",
   "version": "2.7.11"
  }
 },
 "nbformat": 4,
 "nbformat_minor": 0
}
