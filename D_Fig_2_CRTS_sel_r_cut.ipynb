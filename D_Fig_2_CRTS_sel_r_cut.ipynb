{
 "cells": [
  {
   "cell_type": "markdown",
   "metadata": {},
   "source": [
    "## Based on CRTS_sel_g_cut_vs_r_cut.ipynb,   taking only the code needed to make Fig. 2 "
   ]
  },
  {
   "cell_type": "markdown",
   "metadata": {},
   "source": [
    "A testbed for making Fig.2 :  the 4-panel plot.  The 4-panel plot shows the problem :  how we can't get anything meaningful if we plot various characteristics of uncorrected data. Thus there is no reason to do splitting into magnitude bins, correcting, etc - it's not the purpose here. \n",
    "\n",
    "The desired magnitude range for the paper is 18.5-19 "
   ]
  },
  {
   "cell_type": "code",
   "execution_count": 10,
   "metadata": {
    "collapsed": false
   },
   "outputs": [
    {
     "data": {
      "text/plain": [
       "<module 'CRTS_paper_modules' from 'CRTS_paper_modules.py'>"
      ]
     },
     "execution_count": 10,
     "metadata": {},
     "output_type": "execute_result"
    }
   ],
   "source": [
    "import os\n",
    "import numpy as np \n",
    "import matplotlib.pyplot as plt\n",
    "import datetime\n",
    "from astroML.stats import median_sigmaG\n",
    "from scipy.stats import binned_statistic\n",
    "from scipy.optimize import curve_fit\n",
    "import CRTS_paper_modules as mod\n",
    "reload(mod)"
   ]
  },
  {
   "cell_type": "code",
   "execution_count": 3,
   "metadata": {
    "collapsed": false
   },
   "outputs": [
    {
     "name": "stdout",
     "output_type": "stream",
     "text": [
      "Zipping CRTS-SDSS quasars catalog from  ../data_products/CRTS_SDSS_cross_matched_qso_DB_QSO_catalog.txt  ...\n",
      "Read in  7601 , quasars from CRTS\n",
      "zipping CRTS-SDSS stars catalog...\n",
      "Read in catalog for  48250 , stars from CRTS\n"
     ]
    }
   ],
   "source": [
    "cols1, qso_cat = mod.get_qso_catalog() \n",
    "cols2 , star_cat= mod.get_stars_catalog()"
   ]
  },
  {
   "cell_type": "code",
   "execution_count": 11,
   "metadata": {
    "collapsed": false,
    "scrolled": true
   },
   "outputs": [
    {
     "name": "stdout",
     "output_type": "stream",
     "text": [
      "Today we will save our Fig_2 files in ../data_products/Fig_2_data/2016-06-03/\n",
      "\n",
      "Using now only lightcurves with SDSS  18.500000< r < 19.000000\n",
      "\n",
      " Reporting SDSS r  \n",
      "\n",
      " These cuts reduced the number of stars  in the sample from 48250  to  1496\n",
      "\n",
      " These cuts reduced the number of stars  in the sample from 48250  to  2327\n",
      "Returning only QSO which had an SDSS counterpart within 0.000278 radians\n",
      "\n",
      " These cuts reduced the number of qso  in the sample from 7601  to  747\n"
     ]
    }
   ],
   "source": [
    "Min = 18.5\n",
    "Max = 19\n",
    "magnitudes = ['r']  # don't need g magnitude , decided to use only r magnitude \n",
    "\n",
    "objects_in_cut = {}\n",
    "\n",
    "for mag in magnitudes : \n",
    "    cut_mag = mag\n",
    "    report_mag = mag\n",
    "    \n",
    "    print('\\nUsing now only lightcurves with SDSS  %f< %s < %f' % (Min, cut_mag, Max))\n",
    "    print('\\n Reporting SDSS %s  '% report_mag)\n",
    "\n",
    "    good_ids_S_blue = mod.cut_stars(star_cat = star_cat,mMin = Min, mMax=Max, mErrMax = 0.3, gi_Min = -1,\n",
    "                                              gi_Max=1, cut_mag=cut_mag + '_mMed')\n",
    "    \n",
    "    good_ids_S_red = mod.cut_stars(star_cat = star_cat,mMin = Min, mMax=Max, mErrMax = 0.3, gi_Min = 1, \n",
    "                                           gi_Max=3, cut_mag=cut_mag + '_mMed' )\n",
    "    \n",
    "    good_ids_QSO = mod.cut_qso(qso_cat=qso_cat, mMin = Min, mMax=Max, mErrMax = 0.3, \n",
    "                                               cut_mag=cut_mag)\n",
    "    objects_in_cut[mag] = {'starsB':good_ids_S_blue, 'starsR':good_ids_S_red, \n",
    "                           'qso':good_ids_QSO}\n",
    "    "
   ]
  },
  {
   "cell_type": "markdown",
   "metadata": {},
   "source": [
    "## Since I'm only using r_cut,   I won't compare it with g_cut .  Thus making r_bin is the same as r_cut  "
   ]
  },
  {
   "cell_type": "code",
   "execution_count": 12,
   "metadata": {
    "collapsed": true
   },
   "outputs": [],
   "source": [
    "bins = {}\n",
    "bin_types = ['r_cut']  # removed 'g_cut'\n",
    "\n",
    "objects = objects_in_cut['r'].keys()\n",
    "\n",
    "# first need to explicitly initialize the dictionaries \n",
    "for b in bin_types:\n",
    "    bins[b] = {}\n",
    "    \n",
    "for obj in objects : \n",
    "    bins['r_cut'][obj] =  objects_in_cut['r'][obj]"
   ]
  },
  {
   "cell_type": "markdown",
   "metadata": {},
   "source": [
    "## Read the xi, ei for objects in the r_cut ... "
   ]
  },
  {
   "cell_type": "code",
   "execution_count": 13,
   "metadata": {
    "collapsed": false
   },
   "outputs": [
    {
     "name": "stdout",
     "output_type": "stream",
     "text": [
      "Reading in xi, ei for bin  r_cut\n",
      "making new delflx, tau, xi arrays\n",
      "\n",
      "\n",
      "----- Already read 99% of qso \n",
      "\n",
      "----- Already read 99% of Blue Stars \n",
      "\n",
      "----- Already read 99% of Red Stars returning xi, ei for ... 747 objects\n"
     ]
    }
   ],
   "source": [
    "inDirStars   = '../data_products/sf_file_per_LC/stars/'\n",
    "inDirQSO = '../data_products/sf_file_per_LC/qso/'\n",
    "\n",
    "out_dic = {}\n",
    "\n",
    "#for b in bins.keys():\n",
    "# read in only r_cut \n",
    "\n",
    "b = 'r_cut'\n",
    "print 'Reading in xi, ei for bin ', b\n",
    "out_dic[b] = {}   # initialize the dic \n",
    "\n",
    "good_ids_S_blue = bins[b]['starsB']\n",
    "good_ids_S_red = bins[b]['starsR']\n",
    "good_ids_QSO = bins[b]['qso']\n",
    "\n",
    "qso, starB, starR = mod.read_xi_ei(inDirStars, good_ids_S_blue, good_ids_S_red, inDirQSO,\n",
    "              good_ids_QSO)\n",
    "\n",
    "# put into a dictionary : makes it more explicit \n",
    "out_dic[b] = {'starsB': starB, 'starsR': starR, 'qso':qso}\n",
    "\n",
    "\n",
    "# Straight after reading-in xi, ei,   one can proceed directly to part 9) (one bin) or 10 : all bins sigma comparison \n",
    "# or to Saving just the log(tau) samples of xi, tau, ei. \n"
   ]
  },
  {
   "cell_type": "markdown",
   "metadata": {},
   "source": [
    "## 11)a)  Calculate SF, mu in approximate and  full  ways"
   ]
  },
  {
   "cell_type": "code",
   "execution_count": 17,
   "metadata": {
    "collapsed": false
   },
   "outputs": [
    {
     "name": "stdout",
     "output_type": "stream",
     "text": [
      "\n"
     ]
    }
   ],
   "source": [
    "# for all imports of my functions, \n",
    "# make python aware of my packages...\n",
    "import sys\n",
    "sys.path.insert(0, '/astro/users/suberlak/S13Agg_analysis/packages/')\n",
    "import variabilityFunctions as varF\n"
   ]
  },
  {
   "cell_type": "code",
   "execution_count": 52,
   "metadata": {
    "collapsed": false
   },
   "outputs": [
    {
     "name": "stdout",
     "output_type": "stream",
     "text": [
      "Today we will save our Fig_2 files in /local/tmp/suberlak/CRTS_PROJECT/data_products/Fig_2_data/2016-06-03/\n",
      "\n",
      " For obj =  qso\n",
      " --- Calculating mu, sigma for bin 200 \n",
      " In this calculation, fc= 1.0\n",
      "Results saved as  /local/tmp/suberlak/CRTS_PROJECT/data_products/Fig_2_data/2016-06-03/r_cut_18.5-19_qso_fc-1.0.txt\n",
      "\n",
      " For obj =  starsB\n",
      " --- Calculating mu, sigma for bin 200 \n",
      " In this calculation, fc= 1.0\n",
      "Results saved as  /local/tmp/suberlak/CRTS_PROJECT/data_products/Fig_2_data/2016-06-03/r_cut_18.5-19_starsB_fc-1.0.txt\n",
      "\n",
      " For obj =  starsR\n",
      " --- Calculating mu, sigma for bin 52"
     ]
    },
    {
     "ename": "KeyboardInterrupt",
     "evalue": "",
     "output_type": "error",
     "traceback": [
      "\u001b[1;31m---------------------------------------------------------------------------\u001b[0m",
      "\u001b[1;31mKeyboardInterrupt\u001b[0m                         Traceback (most recent call last)",
      "\u001b[1;32m<ipython-input-52-acee81aac78b>\u001b[0m in \u001b[0;36m<module>\u001b[1;34m()\u001b[0m\n\u001b[0;32m    133\u001b[0m         \u001b[1;31m# 1) Calculate in an approximate way\u001b[0m\u001b[1;33m\u001b[0m\u001b[1;33m\u001b[0m\u001b[0m\n\u001b[0;32m    134\u001b[0m         \u001b[0mmu_approx\u001b[0m\u001b[1;33m,\u001b[0m \u001b[0msig_approx\u001b[0m \u001b[1;33m=\u001b[0m \u001b[0mvarF\u001b[0m\u001b[1;33m.\u001b[0m\u001b[0mapproximate_mu_sigma\u001b[0m\u001b[1;33m(\u001b[0m\u001b[0mxi\u001b[0m\u001b[1;33m,\u001b[0m \u001b[0mei\u001b[0m\u001b[1;33m)\u001b[0m\u001b[1;33m\u001b[0m\u001b[0m\n\u001b[1;32m--> 135\u001b[1;33m         \u001b[0mmu_full\u001b[0m\u001b[1;33m,\u001b[0m \u001b[0msig_full\u001b[0m \u001b[1;33m=\u001b[0m  \u001b[0mvarF\u001b[0m\u001b[1;33m.\u001b[0m\u001b[0mget_mu_sigma\u001b[0m\u001b[1;33m(\u001b[0m\u001b[0mxi\u001b[0m\u001b[1;33m,\u001b[0m\u001b[0mei\u001b[0m\u001b[1;33m)\u001b[0m\u001b[1;33m\u001b[0m\u001b[0m\n\u001b[0m\u001b[0;32m    136\u001b[0m \u001b[1;33m\u001b[0m\u001b[0m\n\u001b[0;32m    137\u001b[0m         \u001b[0msig_bins\u001b[0m\u001b[1;33m[\u001b[0m\u001b[1;34m'approx'\u001b[0m\u001b[1;33m]\u001b[0m\u001b[1;33m[\u001b[0m\u001b[0mN\u001b[0m\u001b[1;33m-\u001b[0m\u001b[1;36m1\u001b[0m\u001b[1;33m]\u001b[0m \u001b[1;33m=\u001b[0m \u001b[0msig_approx\u001b[0m\u001b[1;33m\u001b[0m\u001b[0m\n",
      "\u001b[1;32m/astro/users/suberlak/S13Agg_analysis/packages/variabilityFunctions.py\u001b[0m in \u001b[0;36mget_mu_sigma\u001b[1;34m(xi, ei, N_boot)\u001b[0m\n\u001b[0;32m     71\u001b[0m     \u001b[1;31m# Calculate bootstrapped approximate....\u001b[0m\u001b[1;33m\u001b[0m\u001b[1;33m\u001b[0m\u001b[0m\n\u001b[0;32m     72\u001b[0m     \u001b[1;31m#print N_boot\u001b[0m\u001b[1;33m\u001b[0m\u001b[1;33m\u001b[0m\u001b[0m\n\u001b[1;32m---> 73\u001b[1;33m     \u001b[0mindices\u001b[0m \u001b[1;33m=\u001b[0m \u001b[0mnp\u001b[0m\u001b[1;33m.\u001b[0m\u001b[0mrandom\u001b[0m\u001b[1;33m.\u001b[0m\u001b[0mrandint\u001b[0m\u001b[1;33m(\u001b[0m\u001b[1;36m0\u001b[0m\u001b[1;33m,\u001b[0m \u001b[0mlen\u001b[0m\u001b[1;33m(\u001b[0m\u001b[0mxi\u001b[0m\u001b[1;33m)\u001b[0m\u001b[1;33m,\u001b[0m \u001b[1;33m(\u001b[0m\u001b[0mlen\u001b[0m\u001b[1;33m(\u001b[0m\u001b[0mxi\u001b[0m\u001b[1;33m)\u001b[0m\u001b[1;33m,\u001b[0m \u001b[0mN_boot\u001b[0m\u001b[1;33m)\u001b[0m\u001b[1;33m)\u001b[0m\u001b[1;33m\u001b[0m\u001b[0m\n\u001b[0m\u001b[0;32m     74\u001b[0m \u001b[1;33m\u001b[0m\u001b[0m\n\u001b[0;32m     75\u001b[0m     \u001b[0mxi_boot\u001b[0m \u001b[1;33m=\u001b[0m \u001b[0mxi\u001b[0m\u001b[1;33m[\u001b[0m\u001b[0mindices\u001b[0m\u001b[1;33m]\u001b[0m\u001b[1;33m\u001b[0m\u001b[0m\n",
      "\u001b[1;31mKeyboardInterrupt\u001b[0m: "
     ]
    }
   ],
   "source": [
    "# Run the calculation over all bins : \n",
    "# - keep the option to plot a bin if one wants to compare the three methods : need to provide object N\n",
    "#   \n",
    "# - as it is, calculate three values for sigma, etc., and plot it  \n",
    "\n",
    "# Set correction factor\n",
    "fc = 1.0\n",
    "# Set the bin  : here we use only r_cut \n",
    "b = 'r_cut'\n",
    "\n",
    "# set the bin number \n",
    "nbins = 200 \n",
    "\n",
    "# Set a directory to save the results...\n",
    "outDir = os.path.join(os.getcwd()[:-4]+'data_products/'+'Fig_2_data/')\n",
    "if not os.path.exists(outDir): os.system('mkdir %s' % outDir)\n",
    "                      \n",
    "outDir = os.path.join(os.getcwd()[:-4],'data_products/'+'Fig_2_data', \n",
    "                      datetime.datetime.now().strftime('%Y-%m-%d')+ '/')\n",
    "if not os.path.exists(outDir): os.system('mkdir %s' % outDir)\n",
    "                      \n",
    "print('Today we will save our Fig_2 files in %s'%outDir)\n",
    "\n",
    "# Loop over objects in the dictionary  \n",
    "for obj in out_dic[b].keys() : \n",
    "    print '\\n For obj = ', obj\n",
    "    # obj = 'qso'  # or starsB,  starsR \n",
    "    m_ij = out_dic[b][obj][0]\n",
    "    tau =  out_dic[b][obj][1]\n",
    "    e_ij = fc * out_dic[b][obj][2]\n",
    "\n",
    "    #n =  out_dic[b][obj][3]\n",
    "\n",
    "    # Pull out some tau to plot means : common to all panels \n",
    "    binned_tau = binned_statistic(tau, tau, statistic='mean', bins=nbins)\n",
    "    mean_tau = binned_tau[0]\n",
    "    # Take N from each bin... 'count' function works like a regular histogram\n",
    "    binned_count = binned_statistic(tau, tau, statistic='count', bins=nbins)\n",
    "    bin_count = binned_count[0]\n",
    "    #bin_names = np.arange(1,len(binned_count[2]))\n",
    "\n",
    "     # Calculate median preprocessed photometric error per bin \n",
    "    binned_err_median = binned_statistic(tau, e_ij, statistic='median', bins=nbins) \n",
    "    err_median = binned_err_median[0]\n",
    "\n",
    "    # checking for empty bins : either mean or some custom function, but not\n",
    "    # count! If statistic='count', then check for 0's , and not for nan's/ \n",
    "    non_empty_bins = np.bitwise_not(np.isnan(mean_tau))\n",
    "\n",
    "    # reassign number of points in a bin and  tau position \n",
    "\n",
    "    bin_count = bin_count[non_empty_bins]\n",
    "    mean_tau = mean_tau[non_empty_bins]\n",
    "    err_median = err_median[non_empty_bins]\n",
    "\n",
    "    # Which point belongs to which bin\n",
    "    bin_number  = binned_tau[2]\n",
    "    \n",
    "    ####\n",
    "    ####  Panel 1 : Standard Deviation \n",
    "    ####\n",
    "\n",
    "    rms_std = lambda x : np.std(x)\n",
    "    stdev_binned = binned_statistic(tau, m_ij, statistic = rms_std, \n",
    "                                              bins=nbins)\n",
    "\n",
    "\n",
    "    bin_stdev = stdev_binned[0][non_empty_bins]  \n",
    "    #bin_number = stdev_binned[2]  \n",
    "     # since each point belongs to some bin : len(bin_number) =len(delflx)\n",
    "\n",
    "\n",
    "    # error on standard deviation in the bin     \n",
    "    # calculate when plotting, since it's just a function of bin count... \n",
    "    \n",
    "    #err_stdev = bin_stdev / np.sqrt(2.0*(bin_count - 1.0))\n",
    "\n",
    "    #####\n",
    "    ##### Panel 2  : Gaussian rms  \n",
    "    #####\n",
    "    rms_robust = lambda x : 0.7414 *(np.percentile(x,75) - np.percentile(x,25))\n",
    "    bin_sigma_G = binned_statistic(tau, m_ij, statistic = rms_robust, \n",
    "                                      bins=nbins)[0][non_empty_bins]\n",
    "\n",
    "    # error on Gaussian estimate of rms in the bin \n",
    "    # calcualte when plotting, from bin_sigma_G... \n",
    "    #err_sigma_G = bin_sigma_G* 1.06 / np.sqrt(bin_count)\n",
    "\n",
    "\n",
    "    #####\n",
    "    ##### Panel 3 (SF)   and Panel 4   (mu)\n",
    "    #####\n",
    "\n",
    "\n",
    "    #def approximate_mu_sigma(xi, ei, axis=None):\n",
    "    #    \"\"\"Estimates of mu0 and sigma0 via equations 5.67 - 5.68\"\"\"\n",
    "    #    if axis is not None:\n",
    "    #        xi = np.rollaxis(xi, axis)\n",
    "    #        ei = np.rollaxis(ei, axis)\n",
    "    #        axis = 0#\n",
    "    #\n",
    "    #    mu_approx, sigmaG = median_sigmaG(xi, axis=axis)\n",
    "    #    e50 = np.median(ei, axis=axis)\n",
    "    #    var_twiddle = (sigmaG ** 2 + ei ** 2 - e50 ** 2)\n",
    "    #    sigma_twiddle = np.sqrt(np.maximum(0, var_twiddle))\n",
    "    # \n",
    "    #    med = np.median(sigma_twiddle, axis=axis)\n",
    "    #    mu = np.mean(sigma_twiddle, axis=axis)\n",
    "    #\n",
    "    #    zeta = np.ones_like(mu)\n",
    "    #    zeta[mu != 0] = med[mu != 0] / mu[mu != 0]\n",
    "    #\n",
    "    #    var_approx = zeta ** 2 * sigmaG ** 2 - e50 ** 2\n",
    "    #    sigma_approx = np.sqrt(np.maximum(0, var_approx)) \n",
    "    #\n",
    "    #    return mu_approx, sigma_approx\n",
    "\n",
    "    # Loop over all bins  calculating approximate mu and sigma \n",
    "\n",
    "    mu_bins = {}\n",
    "    sig_bins = {}\n",
    "\n",
    "    sig_bins['approx'] = np.zeros(nbins)\n",
    "    mu_bins['approx'] = np.zeros(nbins)\n",
    "    sig_bins['full'] = np.zeros(nbins)\n",
    "    mu_bins['full'] = np.zeros(nbins)\n",
    "    \n",
    "    for N in np.unique(bin_number):\n",
    "        print('\\r --- Calculating mu, sigma for bin %d' % N),\n",
    "        xi = m_ij[bin_number == N]\n",
    "        ei = e_ij[bin_number == N]\n",
    "\n",
    "        # 1) Calculate in an approximate way \n",
    "        mu_approx, sig_approx = varF.approximate_mu_sigma(xi, ei)\n",
    "        mu_full, sig_full =  varF.get_mu_sigma(xi,ei)\n",
    "        \n",
    "        sig_bins['approx'][N-1] = sig_approx\n",
    "        sig_bins['full'][N-1] = sig_full\n",
    "        \n",
    "        mu_bins['approx'][N-1] = mu_approx\n",
    "        mu_bins['full'][N-1] = mu_full \n",
    "\n",
    "    # Calculate error of points  ( at plotting, since it's a function of bin_count and the \n",
    "    # value of SF .. )\n",
    "    # sig_bins['approx_err'] = sig_bins['approx']* 1.06 / np.sqrt(bin_count)\n",
    "    # mu_bins['approx_err'] = bin_stdev / np.sqrt(bin_count)\n",
    "\n",
    "\n",
    "    print '\\n In this calculation, fc=', fc \n",
    "\n",
    "    # Save full results for plotting 4 panels \n",
    "    # Save the results of calculation  : Panel 1,2,3,4 \n",
    "\n",
    "    fname = outDir+ b+'_'+str(Min)+'-'+str(Max)+'_'+obj+'_fc-'+str(fc)+'.txt'\n",
    "    \n",
    "\n",
    "    data = np.column_stack((mean_tau, bin_stdev, bin_sigma_G, sig_bins['full'], \n",
    "                            sig_bins['approx'], mu_bins['full'], mu_bins['approx'], bin_count))\n",
    "\n",
    "    header = 'meanTau   stdev    sigmaG   sigmaFull  sigmaApprox   muFull  muApprox   binCount'\n",
    "    np.savetxt(fname, data, fmt = '%s', delimiter = ' ' , header=header )\n",
    "    print 'Results saved as ', fname\n",
    "\n",
    "print 'Done with calculating panel data '    "
   ]
  },
  {
   "cell_type": "markdown",
   "metadata": {},
   "source": [
    "## Read in the calculation results "
   ]
  },
  {
   "cell_type": "markdown",
   "metadata": {},
   "source": [
    "If the calculation for each bin has already been done, and only some fine tuning is needed for the figure, you can set the Min, Max mags for the cut below, and we will read in the results from the files and plot it all. "
   ]
  },
  {
   "cell_type": "code",
   "execution_count": 7,
   "metadata": {
    "collapsed": false
   },
   "outputs": [
    {
     "name": "stdout",
     "output_type": "stream",
     "text": [
      "Reading from /astro/users/suberlak/Desktop/SDSS/SF_plotting/Fig_2_data/2016-02-16/r_cut_18.5-19_qso_fc-1.0_mean_tau_sig_sigG_SF_mu.txt\n",
      "Reading from /astro/users/suberlak/Desktop/SDSS/SF_plotting/Fig_2_data/2016-02-16/r_cut_18.5-19_starsB_fc-1.0_mean_tau_sig_sigG_SF_mu.txt\n",
      "Reading from /astro/users/suberlak/Desktop/SDSS/SF_plotting/Fig_2_data/2016-02-16/r_cut_18.5-19_starsR_fc-1.0_mean_tau_sig_sigG_SF_mu.txt\n"
     ]
    }
   ],
   "source": [
    "# Read the results from the run on Magneto...\n",
    "\n",
    "# Initialize the dictionary \n",
    "\n",
    "\n",
    "plot_data = {}\n",
    "for obj in out_dic[b].keys() : \n",
    "    plot_data[obj] = {}\n",
    "    \n",
    "    fname = outDir+ b+'_'+str(Min)+'-'+str(Max)+'_'+obj+'_fc-'+str(fc)+'.txt'\n",
    "    print 'Reading from', fname\n",
    "\n",
    "    colnames = open(fname,'r').read().splitlines()[0][1:].split()\n",
    "    d = np.genfromtxt(fname, dtype=float)\n",
    "\n",
    "    for label, column in zip(colnames, d.T):\n",
    "        plot_data[obj][label] = column\n"
   ]
  },
  {
   "cell_type": "markdown",
   "metadata": {},
   "source": [
    "## Make Fig.2 : four-panel plot "
   ]
  },
  {
   "cell_type": "code",
   "execution_count": 8,
   "metadata": {
    "collapsed": true
   },
   "outputs": [],
   "source": [
    "%matplotlib inline"
   ]
  },
  {
   "cell_type": "code",
   "execution_count": 9,
   "metadata": {
    "collapsed": false
   },
   "outputs": [],
   "source": [
    "import matplotlib \n",
    "from matplotlib import rcParams\n",
    "matplotlib.rcParams['font.size'] = 17"
   ]
  },
  {
   "cell_type": "code",
   "execution_count": 10,
   "metadata": {
    "collapsed": false
   },
   "outputs": [
    {
     "name": "stdout",
     "output_type": "stream",
     "text": [
      "Figure is saved as  /astro/users/suberlak/Desktop/SDSS/SF_plotting/Fig_2_data/2016-02-16/Fig_2_18.5-19_panels_fc-1.0.png\n"
     ]
    },
    {
     "data": {
      "image/png": "[encoded data removed]",
      "text/plain": [
       "<matplotlib.figure.Figure at 0x7fa3fc05c8d0>"
      ]
     },
     "metadata": {},
     "output_type": "display_data"
    }
   ],
   "source": [
    "# set all plot parameters\n",
    "lh_w   = 1.0  # horizontal line thickness \n",
    "lh_st  = '--' # horizontal line style \n",
    "lh_al  = 0.5  # horizontal line alpha parameter \n",
    "\n",
    "# dot size \n",
    "p_size = 10\n",
    "p_al   = 0.5 \n",
    "\n",
    "# y limits for sigma, sigma_G, SF panels \n",
    "y_top  = 0.45\n",
    "y_bott = -0.05\n",
    "\n",
    "# y limits for mu approx \n",
    "y_mu_top = 0.1\n",
    "y_mu_bott = -0.1\n",
    "\n",
    "# x limits for ALL PANELS \n",
    "x_left = 0.5\n",
    "x_right = 3.7\n",
    "\n",
    "# colors for quasars, blue and red stars \n",
    "colors= {}\n",
    "colors['qso'] = 'black'\n",
    "colors['starsB'] = 'blue'\n",
    "colors['starsR']   = 'red'\n",
    "\n",
    "fig,ax = plt.subplots(4,1, figsize=(8,12), sharex=True)\n",
    "fig.subplots_adjust(hspace=0)\n",
    "\n",
    "# Panel 1 \n",
    "for obj in plot_data.keys() : \n",
    "    ax[0].scatter(np.log10(plot_data[obj]['mean_tau']), plot_data[obj]['bin_stdev'], s=p_size, \n",
    "                    alpha=p_al, c = colors[obj])\n",
    "    ax[0].errorbar(np.log10(plot_data[obj]['mean_tau']), plot_data[obj]['bin_stdev'],plot_data[obj]['err_stdev'], \n",
    "                   linestyle='None', c = colors[obj]  )\n",
    "\n",
    "ax[0].set_ylabel(r'$\\sigma_{stdev}$',fontsize=20)  \n",
    "ax[0].tick_params( axis='x', which='both',  bottom='off', \n",
    "                top='off', labelbottom='off') \n",
    "ax[0].set_ylim(bottom=y_bott, top=y_top)\n",
    "ax[0].set_xlim(left=x_left, right=x_right)\n",
    "ax[0].set_yticks([0,0.1,0.2,0.3,0.4])\n",
    "ax[0].set_yticklabels(['0.0','0.1', '0.2', '0.3', '0.4'])\n",
    "ax[0].axhline(y=0.0, color='black', lw=lh_w, ls=lh_st,alpha=lh_al)\n",
    "ax[0].axhline(y=0.1, color='black', lw=lh_w, ls=lh_st,alpha=lh_al)\n",
    "ax[0].axhline(y=0.2, color='black', lw=lh_w, ls=lh_st,alpha=lh_al)\n",
    "ax[0].grid(axis='x')\n",
    "\n",
    "\n",
    "# Panel 2\n",
    "for obj in plot_data.keys() : \n",
    "    ax[1].scatter(np.log10(plot_data[obj]['mean_tau']), plot_data[obj]['bin_sigma_G'], s=p_size, \n",
    "                    alpha=p_al, c = colors[obj])\n",
    "    ax[1].errorbar(np.log10(plot_data[obj]['mean_tau']), plot_data[obj]['bin_sigma_G'],plot_data[obj]['err_sigma_G'], \n",
    "                   linestyle='None', c = colors[obj] )\n",
    "\n",
    "\n",
    "ax[1].set_ylabel(r'$\\sigma_{G}$',fontsize=20)  \n",
    "ax[1].tick_params( axis='x', which='both',  bottom='off', \n",
    "                top='off', labelbottom='off') \n",
    "ax[1].set_ylim(bottom=y_bott, top=y_top)\n",
    "ax[1].set_xlim(left=x_left, right=x_right)\n",
    "ax[1].set_yticks([0,0.1,0.2,0.3,0.4])\n",
    "ax[1].set_yticklabels(['0.0','0.1', '0.2', '0.3', '0.4'])\n",
    "ax[1].axhline(y=0.0, color='black', lw=lh_w, ls=lh_st,alpha=lh_al)\n",
    "ax[1].axhline(y=0.1, color='black', lw=lh_w, ls=lh_st,alpha=lh_al)\n",
    "ax[1].axhline(y=0.2, color='black', lw=lh_w, ls=lh_st,alpha=lh_al)\n",
    "ax[1].grid(axis='x')\n",
    "\n",
    "\n",
    "# Panel 3\n",
    " \n",
    "def model_sf(t, sf_inf=0.25, tau = 1.0):\n",
    "    br = 1.0-np.exp(-t/tau)\n",
    "    sf = sf_inf * np.power(br,0.5)\n",
    "    return sf\n",
    "\n",
    "# Calculate the model DRW fit for QSO\n",
    "obj = 'qso'\n",
    "xdata = plot_data[obj]['mean_tau']\n",
    "sf = plot_data[obj]['SF']\n",
    "popt, pcov = curve_fit(model_sf, xdata, sf)\n",
    "y = model_sf(xdata, sf_inf=popt[0], tau = popt[1]) # tau 1 year in days \n",
    "\n",
    "# Fold-in the error to the model SF , plot \n",
    "# both folded and not-folded version \\\n",
    "err_sig = plot_data[obj]['SF_err']\n",
    "y_fold = np.sqrt((y ** 2.0)+ (err_sig ** 2.0) )\n",
    "ax[2].plot(np.log10(xdata), y_fold , lw=3, c = 'green', ls='--')\n",
    "ax[2].plot(np.log10(xdata), y , lw=3, c = 'orange', ls='--')\n",
    "\n",
    "text = r'$ \\mathrm{Model:}\\ \\tau=%.3f \\,\\mathrm{days} , \\ SF_{\\infty}=%.3f \\,\\mathrm{mag}$'%(popt[1],popt[0])\n",
    "ax[2].text(x=0.75, y=0.3,s = text )\n",
    "\n",
    "    \n",
    "for obj in plot_data.keys() : \n",
    "    ax[2].scatter(np.log10(plot_data[obj]['mean_tau']), plot_data[obj]['SF'], s=p_size, \n",
    "                    alpha=p_al, c = colors[obj])\n",
    "    ax[2].errorbar(np.log10(plot_data[obj]['mean_tau']), plot_data[obj]['SF'],plot_data[obj]['SF_err'], \n",
    "                   linestyle='None', c = colors[obj]  )\n",
    "\n",
    "ax[2].set_ylim(bottom=y_bott, top=y_top)\n",
    "ax[2].set_xlim(left=x_left, right=x_right)\n",
    "ax[2].set_ylabel(r'$SF $',fontsize=20)\n",
    "ax[2].tick_params( axis='x', which='both',  bottom='off', \n",
    "                top='off', labelbottom='off')\n",
    "ax[2].grid(axis='x')\n",
    "ax[2].set_yticks([0,0.1,0.2,0.3,0.4])\n",
    "ax[2].set_yticklabels(['0.0','0.1', '0.2', '0.3', '0.4'])\n",
    "ax[2].axhline(y=0.0, color='black', lw=lh_w, ls=lh_st,alpha=lh_al)    \n",
    "ax[2].axhline(y=0.1, color='black', lw=lh_w, ls=lh_st,alpha=lh_al)\n",
    "ax[2].axhline(y=0.2, color='black', lw=lh_w, ls=lh_st,alpha=lh_al) \n",
    "\n",
    "\n",
    "# Panel 4 \n",
    "for obj in plot_data.keys() : \n",
    "    ax[3].scatter(np.log10(plot_data[obj]['mean_tau']), plot_data[obj]['mu'], s=p_size, \n",
    "                    alpha=p_al, c = colors[obj])\n",
    "    ax[3].errorbar(np.log10(plot_data[obj]['mean_tau']), plot_data[obj]['mu'],plot_data[obj]['mu_err'], \n",
    "                   linestyle='None', c = colors[obj]  )\n",
    "\n",
    "\n",
    "ax[3].axhline(y=0.0, color='black', lw=lh_w, ls=lh_st,alpha=lh_al)\n",
    "ax[3].set_ylim(top=y_mu_top, bottom=y_mu_bott)\n",
    "ax[3].set_xlim(left=x_left, right=x_right)\n",
    "ax[3].set_yticks([-0.05,0,0.05])\n",
    "ax[3].set_yticklabels(['-0.05','0.0', '0.05'])  \n",
    "ax[3].set_ylabel(r'$\\mu$', fontsize=20)\n",
    "ax[3].grid(axis='x')\n",
    "ax[3].set_xlabel(r'$log_{10} (\\Delta _{t})$ [days]',fontsize=20)\n",
    "\n",
    "figname = outDir+'Fig_2_'+str(Min)+'-'+str(Max)+'_panels_fc-'+str(fc)+'.png'\n",
    "plt.savefig(figname)\n",
    "print 'Figure is saved as ', figname \n",
    "\n",
    "# Note : selecting 17-19 , err < 0.3 ,  "
   ]
  },
  {
   "cell_type": "code",
   "execution_count": null,
   "metadata": {
    "collapsed": true
   },
   "outputs": [],
   "source": []
  },
  {
   "cell_type": "code",
   "execution_count": null,
   "metadata": {
    "collapsed": true
   },
   "outputs": [],
   "source": []
  },
  {
   "cell_type": "code",
   "execution_count": null,
   "metadata": {
    "collapsed": true
   },
   "outputs": [],
   "source": []
  },
  {
   "cell_type": "code",
   "execution_count": null,
   "metadata": {
    "collapsed": true
   },
   "outputs": [],
   "source": []
  }
 ],
 "metadata": {
  "kernelspec": {
   "display_name": "Python 2",
   "language": "python",
   "name": "python2"
  },
  "language_info": {
   "codemirror_mode": {
    "name": "ipython",
    "version": 2
   },
   "file_extension": ".py",
   "mimetype": "text/x-python",
   "name": "python",
   "nbconvert_exporter": "python",
   "pygments_lexer": "ipython2",
   "version": "2.7.11"
  }
 },
 "nbformat": 4,
 "nbformat_minor": 0
}
