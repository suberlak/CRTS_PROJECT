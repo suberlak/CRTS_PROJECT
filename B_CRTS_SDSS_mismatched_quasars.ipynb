{
 "cells": [
  {
   "cell_type": "code",
   "execution_count": 98,
   "metadata": {
    "collapsed": true
   },
   "outputs": [],
   "source": [
    "import numpy as np\n",
    "from astropy.coordinates import SkyCoord\n",
    "from astropy import units as u\n",
    "from astropy.table import Table\n",
    "from astropy.table import hstack\n",
    "from astropy.table import Column"
   ]
  },
  {
   "cell_type": "markdown",
   "metadata": {},
   "source": [
    "Open a list of CRTS QSO : "
   ]
  },
  {
   "cell_type": "code",
   "execution_count": 133,
   "metadata": {
    "collapsed": false
   },
   "outputs": [
    {
     "data": {
      "text/plain": [
       "array(['000011.96+000225.3.dat', '000014.82-011030.6.dat',\n",
       "       '000017.88+002612.6.dat', ..., '235958.66-011225.2.dat',\n",
       "       '235958.72+003345.3.dat', '235959.44+000841.5.dat'], \n",
       "      dtype='<U22')"
      ]
     },
     "execution_count": 133,
     "metadata": {},
     "output_type": "execute_result"
    }
   ],
   "source": [
    "File = 'file.list'\n",
    "crts_qso = Table.read(File, format='ascii', names=['CRTS_name'])\n",
    "radec = np.array(crts_qso['CRTS_name'])\n",
    "radec"
   ]
  },
  {
   "cell_type": "code",
   "execution_count": 100,
   "metadata": {
    "collapsed": false
   },
   "outputs": [],
   "source": [
    "radec_split = np.zeros_like(radec, dtype='<U30')\n",
    "for i in range(0, len(radec)): \n",
    "    radec_split[i] = radec[i][0:2]+' '+ radec[i][2:4] + ' ' + radec[i][4:9]+' '+ \\\n",
    "                     radec[i][9:12]+' '+ radec[i][12:14] + ' ' + radec[i][14:18]        "
   ]
  },
  {
   "cell_type": "code",
   "execution_count": 101,
   "metadata": {
    "collapsed": false
   },
   "outputs": [
    {
     "data": {
      "text/plain": [
       "array(['00 00 11.96 +00 02 25.3', '00 00 14.82 -01 10 30.6',\n",
       "       '00 00 17.88 +00 26 12.6', ..., '23 59 58.66 -01 12 25.2',\n",
       "       '23 59 58.72 +00 33 45.3', '23 59 59.44 +00 08 41.5'], \n",
       "      dtype='<U30')"
      ]
     },
     "execution_count": 101,
     "metadata": {},
     "output_type": "execute_result"
    }
   ],
   "source": [
    "radec_split"
   ]
  },
  {
   "cell_type": "markdown",
   "metadata": {},
   "source": [
    "Use AstroPy to convert that to degrees : "
   ]
  },
  {
   "cell_type": "code",
   "execution_count": 102,
   "metadata": {
    "collapsed": false
   },
   "outputs": [
    {
     "data": {
      "text/latex": [
       "[$0^\\circ02{}^\\prime25.3{}^{\\prime\\prime}$\n",
       " $-1^\\circ10{}^\\prime30.6{}^{\\prime\\prime}$\n",
       " $0^\\circ26{}^\\prime12.6{}^{\\prime\\prime}$ ...,\n",
       " $-1^\\circ12{}^\\prime25.2{}^{\\prime\\prime}$\n",
       " $0^\\circ33{}^\\prime45.3{}^{\\prime\\prime}$\n",
       " $0^\\circ08{}^\\prime41.5{}^{\\prime\\prime}$]"
      ],
      "text/plain": [
       "<Latitude [ 0.04036111,-1.17516667, 0.43683333,..., -1.207     ,\n",
       "            0.56258333, 0.14486111] deg>"
      ]
     },
     "execution_count": 102,
     "metadata": {},
     "output_type": "execute_result"
    }
   ],
   "source": [
    "radec_astropy = SkyCoord(radec_split, unit=(u.hourangle, u.deg))\n",
    "radec_astropy.dec"
   ]
  },
  {
   "cell_type": "code",
   "execution_count": 126,
   "metadata": {
    "collapsed": false
   },
   "outputs": [
    {
     "data": {
      "text/plain": [
       "(array([ 3077.,  1826.,     0.,     0.,     0.,     0.,     0.,     0.,\n",
       "          527.,  2500.]),\n",
       " array([  4.98333333e-02,   3.60446167e+01,   7.20394000e+01,\n",
       "          1.08034183e+02,   1.44028967e+02,   1.80023750e+02,\n",
       "          2.16018533e+02,   2.52013317e+02,   2.88008100e+02,\n",
       "          3.24002883e+02,   3.59997667e+02]),\n",
       " <a list of 10 Patch objects>)"
      ]
     },
     "execution_count": 126,
     "metadata": {},
     "output_type": "execute_result"
    },
    {
     "data": {
      "image/png": "[encoded data removed]",
      "text/plain": [
       "<matplotlib.figure.Figure at 0x10dfddda0>"
      ]
     },
     "metadata": {},
     "output_type": "display_data"
    }
   ],
   "source": [
    "%matplotlib inline\n",
    "\n",
    "import matplotlib.pyplot as plt \n",
    "plt.hist(radec_astropy.ra.value)"
   ]
  },
  {
   "cell_type": "code",
   "execution_count": 123,
   "metadata": {
    "collapsed": false
   },
   "outputs": [
    {
     "data": {
      "text/plain": [
       "array([  4.98333333e-02,   6.17500000e-02,   7.45000000e-02, ...,\n",
       "         3.59994417e+02,   3.59994667e+02,   3.59997667e+02])"
      ]
     },
     "execution_count": 123,
     "metadata": {},
     "output_type": "execute_result"
    }
   ],
   "source": [
    "radec_astropy.ra.value"
   ]
  },
  {
   "cell_type": "markdown",
   "metadata": {},
   "source": [
    "SDSS Quasar catalog : "
   ]
  },
  {
   "cell_type": "code",
   "execution_count": 103,
   "metadata": {
    "collapsed": true
   },
   "outputs": [],
   "source": [
    "File = 'DB_QSO_S82.dat'\n",
    "colnames = ['dbID', 'ra', 'dec', 'SDR5ID', 'M_i', 'M_i_corr', 'redshift',\n",
    "                   'mass_BH', 'Lbol', 'u', 'g', 'r', 'i', 'z', 'Au']\n",
    "sdss_qso = Table.read(File, format='ascii', names = colnames)"
   ]
  },
  {
   "cell_type": "markdown",
   "metadata": {},
   "source": [
    "Match CRTS to SDSS : "
   ]
  },
  {
   "cell_type": "code",
   "execution_count": 104,
   "metadata": {
    "collapsed": true
   },
   "outputs": [],
   "source": [
    "cat1 = radec_astropy\n",
    "cat2_ra  = sdss_qso['ra']\n",
    "cat2_dec = sdss_qso['dec']\n",
    "cat2 = SkyCoord(ra=cat2_ra*u.degree, dec=cat2_dec*u.degree)\n",
    "idx, sep2d, dist3d = cat1.match_to_catalog_sky(cat2) \n",
    "match_angle_arcsec = sep2d.value * 3600\n"
   ]
  },
  {
   "cell_type": "code",
   "execution_count": 134,
   "metadata": {
    "collapsed": true
   },
   "outputs": [],
   "source": [
    "# select matching rows from SDSS and make a new column with matching radius\n",
    "sdss_select_rows = sdss_qso[idx]\n",
    "\n",
    "match_angle = Column(name='match_angle_arcsec',data= match_angle_arcsec)\n",
    "sdss_select_rows.add_column(match_angle)\n",
    "\n",
    "# stack two tables horizontally, since they are already matched.\n",
    "crts_sdss_matched = hstack([crts_qso, sdss_select_rows])"
   ]
  },
  {
   "cell_type": "code",
   "execution_count": 135,
   "metadata": {
    "collapsed": false
   },
   "outputs": [
    {
     "data": {
      "text/plain": [
       "7930"
      ]
     },
     "execution_count": 135,
     "metadata": {},
     "output_type": "execute_result"
    }
   ],
   "source": [
    "len(crts_sdss_matched)"
   ]
  },
  {
   "cell_type": "code",
   "execution_count": 136,
   "metadata": {
    "collapsed": true
   },
   "outputs": [],
   "source": [
    "# add columns with CRTS ra, dec in degrees.... \n",
    "ra = Column(name='ra_CRTS', data = radec_astropy.ra.value)\n",
    "dec = Column(name='dec_CRTS', data = radec_astropy.dec.value)\n",
    "crts_sdss_matched.add_column(ra)\n",
    "crts_sdss_matched.add_column(dec)"
   ]
  },
  {
   "cell_type": "markdown",
   "metadata": {},
   "source": [
    "Find how many objects are not matched to within 1 arcsec... "
   ]
  },
  {
   "cell_type": "code",
   "execution_count": 106,
   "metadata": {
    "collapsed": false
   },
   "outputs": [
    {
     "data": {
      "text/plain": [
       "15"
      ]
     },
     "execution_count": 106,
     "metadata": {},
     "output_type": "execute_result"
    }
   ],
   "source": [
    "np.sum(crts_sdss_matched['match_angle_arcsec'] > 1)"
   ]
  },
  {
   "cell_type": "code",
   "execution_count": 137,
   "metadata": {
    "collapsed": false
   },
   "outputs": [
    {
     "data": {
      "text/html": [
       "&lt;Table length=15&gt;\n",
       "<table id=\"table4536888288\" class=\"table-striped table-bordered table-condensed\">\n",
       "<thead><tr><th>CRTS_name</th><th>dbID</th><th>ra</th><th>dec</th><th>SDR5ID</th><th>M_i</th><th>M_i_corr</th><th>redshift</th><th>mass_BH</th><th>Lbol</th><th>u</th><th>g</th><th>r</th><th>i</th><th>z</th><th>Au</th><th>match_angle_arcsec</th><th>ra_CRTS</th><th>dec_CRTS</th></tr></thead>\n",
       "<thead><tr><th>str22</th><th>int64</th><th>float64</th><th>float64</th><th>int64</th><th>float64</th><th>float64</th><th>float64</th><th>float64</th><th>float64</th><th>float64</th><th>float64</th><th>float64</th><th>float64</th><th>float64</th><th>float64</th><th>float64</th><th>float64</th><th>float64</th></tr></thead>\n",
       "<tr><td>005621.72+003235.6.dat</td><td>203782</td><td>14.160388</td><td>0.611479</td><td>2207</td><td>-24.237</td><td>-24.167</td><td>1.2352</td><td>0.0</td><td>0.0</td><td>21.602</td><td>20.912</td><td>20.228</td><td>20.049</td><td>20.12</td><td>0.137</td><td>351.674559391</td><td>14.0905</td><td>0.543222222222</td></tr>\n",
       "<tr><td>010617.84-001857.5.dat</td><td>601626</td><td>16.577963</td><td>-0.367788</td><td>2535</td><td>-22.042</td><td>-22.607</td><td>0.4468</td><td>7.536</td><td>45.136</td><td>20.63</td><td>20.358</td><td>20.214</td><td>19.81</td><td>19.432</td><td>0.207</td><td>186.993884728</td><td>16.5743333333</td><td>-0.315972222222</td></tr>\n",
       "<tr><td>012723.65-004630.1.dat</td><td>972719</td><td>21.790438</td><td>-0.823125</td><td>3285</td><td>-25.619</td><td>-26.073</td><td>1.8917</td><td>0.0</td><td>46.213</td><td>20.18</td><td>20.088</td><td>20.091</td><td>19.676</td><td>19.679</td><td>0.153</td><td>271.525022433</td><td>21.8485416667</td><td>-0.775027777778</td></tr>\n",
       "<tr><td>013416.34+001413.5.dat</td><td>905667</td><td>23.575804</td><td>0.26019</td><td>3587</td><td>-24.81</td><td>-25.493</td><td>0.3999</td><td>0.0</td><td>46.106</td><td>16.969</td><td>16.807</td><td>16.798</td><td>16.749</td><td>16.391</td><td>0.142</td><td>87.7045721106</td><td>23.5680833333</td><td>0.237083333333</td></tr>\n",
       "<tr><td>020038.67-005954.5.dat</td><td>1572529</td><td>30.27578</td><td>-0.948508</td><td>4669</td><td>-23.027</td><td>-23.759</td><td>0.7045</td><td>7.765</td><td>45.299</td><td>20.648</td><td>20.108</td><td>19.985</td><td>19.905</td><td>19.613</td><td>0.143</td><td>450.192877296</td><td>30.161125</td><td>-0.998472222222</td></tr>\n",
       "<tr><td>025458.56-000423.2.dat</td><td>2477355</td><td>43.793972</td><td>-0.120296</td><td>6692</td><td>-25.374</td><td>-25.764</td><td>1.6864</td><td>9.014</td><td>46.266</td><td>20.541</td><td>20.234</td><td>20.134</td><td>19.742</td><td>19.658</td><td>0.371</td><td>247.422614573</td><td>43.744</td><td>-0.0731111111111</td></tr>\n",
       "<tr><td>025600.14+010258.3.dat</td><td>2522803</td><td>44.029736</td><td>1.077224</td><td>6741</td><td>-25.644</td><td>-26.231</td><td>2.0918</td><td>0.0</td><td>0.0</td><td>20.92</td><td>20.608</td><td>20.267</td><td>20.016</td><td>19.709</td><td>0.484</td><td>144.748025985</td><td>44.0005833333</td><td>1.04952777778</td></tr>\n",
       "<tr><td>032759.20-005421.9.dat</td><td>3796954</td><td>51.851318</td><td>-0.857827</td><td>7837</td><td>-26.174</td><td>-26.686</td><td>1.9001</td><td>9.686</td><td>46.563</td><td>20.101</td><td>19.813</td><td>19.483</td><td>19.306</td><td>19.187</td><td>0.585</td><td>551.280989912</td><td>51.9966666667</td><td>-0.906083333333</td></tr>\n",
       "<tr><td>034252.47+005252.4.dat</td><td>4895372</td><td>55.730446</td><td>0.823176</td><td>8389</td><td>-24.723</td><td>-24.911</td><td>1.654</td><td>0.0</td><td>0.0</td><td>20.982</td><td>20.879</td><td>20.701</td><td>20.456</td><td>20.431</td><td>0.637</td><td>213.254624003</td><td>55.718625</td><td>0.881222222222</td></tr>\n",
       "<tr><td>204450.49+005628.8.dat</td><td>3294458</td><td>311.170746</td><td>0.941982</td><td>71746</td><td>-25.431</td><td>-25.728</td><td>1.4879</td><td>9.031</td><td>46.223</td><td>20.312</td><td>20.12</td><td>19.664</td><td>19.431</td><td>19.462</td><td>0.468</td><td>142.664246027</td><td>311.210375</td><td>0.941333333333</td></tr>\n",
       "<tr><td>222130.44+001801.8.dat</td><td>1025069</td><td>335.403992</td><td>0.195585</td><td>74262</td><td>-24.993</td><td>-25.321</td><td>1.4198</td><td>9.178</td><td>46.067</td><td>20.164</td><td>19.934</td><td>19.724</td><td>19.71</td><td>19.716</td><td>0.348</td><td>390.143285679</td><td>335.376833333</td><td>0.3005</td></tr>\n",
       "<tr><td>225612.17-010507.9.dat</td><td>774573</td><td>343.925659</td><td>-1.123425</td><td>75286</td><td>-26.756</td><td>-27.048</td><td>1.5494</td><td>9.186</td><td>46.795</td><td>19.458</td><td>18.865</td><td>18.483</td><td>18.139</td><td>18.049</td><td>0.313</td><td>470.316607554</td><td>344.050708333</td><td>-1.08552777778</td></tr>\n",
       "<tr><td>231210.62-010100.6.dat</td><td>423742</td><td>348.041382</td><td>-0.949633</td><td>75756</td><td>-26.579</td><td>-27.273</td><td>2.989</td><td>8.694</td><td>46.779</td><td>21.697</td><td>19.797</td><td>19.77</td><td>19.762</td><td>19.712</td><td>0.187</td><td>242.141357687</td><td>348.04425</td><td>-1.01683333333</td></tr>\n",
       "<tr><td>232056.46-000158.2.dat</td><td>368825</td><td>350.348907</td><td>-0.023225</td><td>76021</td><td>-26.625</td><td>-27.039</td><td>3.3397</td><td>0.0</td><td>0.0</td><td>24.93</td><td>20.59</td><td>20.145</td><td>19.975</td><td>19.978</td><td>0.225</td><td>410.624632156</td><td>350.23525</td><td>-0.0328333333333</td></tr>\n",
       "<tr><td>233955.84+010258.5.dat</td><td>3968712</td><td>355.04129</td><td>0.938874</td><td>76705</td><td>-24.216</td><td>-25.139</td><td>0.7158</td><td>8.494</td><td>45.992</td><td>19.745</td><td>19.134</td><td>18.917</td><td>18.762</td><td>18.527</td><td>0.16</td><td>450.966870305</td><td>354.982666667</td><td>1.04958333333</td></tr>\n",
       "</table>"
      ],
      "text/plain": [
       "<Table length=15>\n",
       "      CRTS_name          dbID      ra     ...    ra_CRTS        dec_CRTS    \n",
       "        str22           int64   float64   ...    float64        float64     \n",
       "---------------------- ------- ---------- ... ------------- ----------------\n",
       "005621.72+003235.6.dat  203782  14.160388 ...       14.0905   0.543222222222\n",
       "010617.84-001857.5.dat  601626  16.577963 ... 16.5743333333  -0.315972222222\n",
       "012723.65-004630.1.dat  972719  21.790438 ... 21.8485416667  -0.775027777778\n",
       "013416.34+001413.5.dat  905667  23.575804 ... 23.5680833333   0.237083333333\n",
       "020038.67-005954.5.dat 1572529   30.27578 ...     30.161125  -0.998472222222\n",
       "025458.56-000423.2.dat 2477355  43.793972 ...        43.744 -0.0731111111111\n",
       "025600.14+010258.3.dat 2522803  44.029736 ... 44.0005833333    1.04952777778\n",
       "032759.20-005421.9.dat 3796954  51.851318 ... 51.9966666667  -0.906083333333\n",
       "034252.47+005252.4.dat 4895372  55.730446 ...     55.718625   0.881222222222\n",
       "204450.49+005628.8.dat 3294458 311.170746 ...    311.210375   0.941333333333\n",
       "222130.44+001801.8.dat 1025069 335.403992 ... 335.376833333           0.3005\n",
       "225612.17-010507.9.dat  774573 343.925659 ... 344.050708333   -1.08552777778\n",
       "231210.62-010100.6.dat  423742 348.041382 ...     348.04425   -1.01683333333\n",
       "232056.46-000158.2.dat  368825 350.348907 ...     350.23525 -0.0328333333333\n",
       "233955.84+010258.5.dat 3968712  355.04129 ... 354.982666667    1.04958333333"
      ]
     },
     "execution_count": 137,
     "metadata": {},
     "output_type": "execute_result"
    }
   ],
   "source": [
    "# Mismatched objects...\n",
    "mask  = crts_sdss_matched['match_angle_arcsec'] > 1\n",
    "crts_sdss_matched[mask]"
   ]
  },
  {
   "cell_type": "code",
   "execution_count": 152,
   "metadata": {
    "collapsed": false
   },
   "outputs": [],
   "source": [
    "# save the mismatched QSO names and ra, dec ....\n",
    "\n",
    "np.savetxt('CRTS_mismatch_QSO_names.txt', crts_sdss_matched[mask]['CRTS_name'], fmt='%s')\n",
    "np.savetxt('CRTS_mismatch_QSO_ra_dec.txt', crts_sdss_matched[mask]['ra_CRTS','dec_CRTS'], fmt='%13.8f')"
   ]
  },
  {
   "cell_type": "code",
   "execution_count": 146,
   "metadata": {
    "collapsed": true
   },
   "outputs": [],
   "source": []
  },
  {
   "cell_type": "code",
   "execution_count": null,
   "metadata": {
    "collapsed": true
   },
   "outputs": [],
   "source": []
  }
 ],
 "metadata": {
  "anaconda-cloud": {},
  "kernelspec": {
   "display_name": "Python [Root]",
   "language": "python",
   "name": "Python [Root]"
  },
  "language_info": {
   "codemirror_mode": {
    "name": "ipython",
    "version": 3
   },
   "file_extension": ".py",
   "mimetype": "text/x-python",
   "name": "python",
   "nbconvert_exporter": "python",
   "pygments_lexer": "ipython3",
   "version": "3.5.2"
  }
 },
 "nbformat": 4,
 "nbformat_minor": 0
}
