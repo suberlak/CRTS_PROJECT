{
 "cells": [
  {
   "cell_type": "markdown",
   "metadata": {},
   "source": [
    "# Appendix B : wiggles explained "
   ]
  },
  {
   "cell_type": "markdown",
   "metadata": {},
   "source": [
    "In this notebook we insert all code needed to make Appendix  B figure.  Other experiments are kept in D_Fig_2_CRTS_sel_r_cut"
   ]
  },
  {
   "cell_type": "code",
   "execution_count": 1,
   "metadata": {
    "collapsed": false
   },
   "outputs": [
    {
     "data": {
      "text/plain": [
       "<module 'CRTS_paper_modules' from '/Users/chris/GradResearch/CRTS_PROJECT/code/CRTS_paper_modules.py'>"
      ]
     },
     "execution_count": 1,
     "metadata": {},
     "output_type": "execute_result"
    }
   ],
   "source": [
    "import os\n",
    "import numpy as np \n",
    "import matplotlib.pyplot as plt\n",
    "import datetime\n",
    "from astroML.stats import median_sigmaG\n",
    "from scipy.stats import binned_statistic\n",
    "from scipy.optimize import curve_fit\n",
    "\n",
    "import CRTS_paper_modules as mod\n",
    "import imp\n",
    "imp.reload(mod)\n",
    "#reload(mod)"
   ]
  },
  {
   "cell_type": "code",
   "execution_count": 2,
   "metadata": {
    "collapsed": false
   },
   "outputs": [
    {
     "name": "stdout",
     "output_type": "stream",
     "text": [
      "Zipping CRTS-SDSS quasars catalog from ../data_products/CRTS_SDSS_catalogs/CRTS_SDSS_cross_matched_qso_DB_QSO_catalog.txt\n",
      "Read in 7601 quasars from CRTS\n",
      "zipping CRTS-SDSS stars catalog...\n",
      "Read in catalog for 48250 stars from CRTS \n"
     ]
    }
   ],
   "source": [
    "cols1, qso_cat = mod.get_qso_catalog() \n",
    "cols2 , star_cat= mod.get_stars_catalog()"
   ]
  },
  {
   "cell_type": "markdown",
   "metadata": {},
   "source": [
    "\"The motivation for the additional panel is that it seems to me that the oscillation\n",
    "problem might not have anything to do with the actual sample size. It could be that\n",
    "systematic photometric calibration errors are large when comparing data obtained\n",
    "six months apart than for data obtained at the same time of year. To test this\n",
    "hypothesis, I propose to redo the middle panel (sigmaG with raw measurements)\n",
    "as the 6th panel where, instead of using all the data points when computing sigmaG,\n",
    "you *randomly subselect* 20,000 points. This number comes from the bottom panel \n",
    "where I see that counts vary from about 200,000 to about 0. Choosing a random\n",
    "sample of 20,000 points will allow you to get good results to beyond t2-t1 ~ 1500\n",
    "and thus you should see (or not) the first four wiggles in sigmaG. I think that the\n",
    "amplitude of sigmaG for the first four wiggles will remain about the same when you \n",
    "always use 20,000 random points (when you have fewer than 20,000 points, don’t\n",
    "plot any points). This will demonstrate that the wiggles are not due to varying \n",
    "sample size. If the amplitude becomes much smaller instead, then I am wrong\n",
    "about calibration problems and the oscillations are indeed caused (somehow)\n",
    "by the varying sample size.\"  (Zeljko's email   5/4/17 )  \n",
    "\n"
   ]
  },
  {
   "cell_type": "code",
   "execution_count": 3,
   "metadata": {
    "collapsed": false
   },
   "outputs": [
    {
     "name": "stdout",
     "output_type": "stream",
     "text": [
      "\n",
      "Using now only lightcurves with SDSS  17.000000< r < 18.000000\n",
      "\n",
      "Choosing stars with  SDSS   -1.00<g-i<3.00\n",
      " These cuts reduced the number of stars  in the sample from 48250 to 5790\n",
      "\n",
      "Reading in tau,xi,ei  for 5790 objects\n",
      "\n",
      "Using structure function master files from ../data_products/sf_file_per_LC/stars/\n",
      "[##########] 100.00%\n",
      "Finished reading all master files for the selected objects ...\n",
      "\n",
      "Using now only lightcurves with SDSS  18.000000< r < 18.500000\n",
      "\n",
      "Choosing stars with  SDSS   -1.00<g-i<3.00\n",
      " These cuts reduced the number of stars  in the sample from 48250 to 3487\n",
      "\n",
      "Reading in tau,xi,ei  for 3487 objects\n",
      "\n",
      "Using structure function master files from ../data_products/sf_file_per_LC/stars/\n",
      "[######### ] 99.94%\n",
      "Finished reading all master files for the selected objects ...\n",
      "\n",
      "Using now only lightcurves with SDSS  18.500000< r < 19.000000\n",
      "\n",
      "Choosing stars with  SDSS   -1.00<g-i<3.00\n",
      " These cuts reduced the number of stars  in the sample from 48250 to 3825\n",
      "\n",
      "Reading in tau,xi,ei  for 3825 objects\n",
      "\n",
      "Using structure function master files from ../data_products/sf_file_per_LC/stars/\n",
      "[##########] 100.00%\n",
      "Finished reading all master files for the selected objects ...\n"
     ]
    }
   ],
   "source": [
    "# Code to select a sample of xi , ei points, treating all \n",
    "# stars together ... \n",
    "# this is what makes  detail_dic{}\n",
    "\n",
    "imp.reload(mod)\n",
    "\n",
    "Min_arr = [17, 18,   18.5 ]\n",
    "Max_arr = [18, 18.5, 19   ]\n",
    "\n",
    "detail_dic = {}\n",
    "#detail_dic['qso'] = {}\n",
    "detail_dic['stars'] = {}\n",
    "\n",
    "mag = 'r'   # which magnitudes to use for cutting and reporting \n",
    "inDirStars   = '../data_products/sf_file_per_LC/stars/'\n",
    "inDirQSO = '../data_products/sf_file_per_LC/qso_detailed/'\n",
    "        \n",
    "\n",
    "for i in range(len(Min_arr)):\n",
    "    Min = Min_arr[i]\n",
    "    Max = Max_arr[i]\n",
    "\n",
    "    print('\\nUsing now only lightcurves with SDSS  %f< %s < %f' % (Min, mag, Max))\n",
    "     \n",
    "    # no need for QSO to prove our point... \n",
    "    #detail_dic['qso'][Min] = mod.faster_read_xi_ei(inDirSF = inDirQSO, \n",
    "    #                                               good_ids= mod.cut_qso(qso_cat=qso_cat, mMin = Min, \n",
    "    #                                               mMax=Max, mErrMax = 0.3, cut_mag=mag), detailed=True)\n",
    "\n",
    "    # we combine blue and red stars by choosing g-i from   -1 to 1 and 1 to 3 together \n",
    "    detail_dic['stars'][Min] = mod.faster_read_xi_ei(inDirSF =inDirStars,  \n",
    "                               good_ids = mod.cut_stars(star_cat = star_cat, mMin = Min, \n",
    "                               mMax=Max, mErrMax = 0.3, gi_Min = -1, gi_Max=3, \n",
    "                               cut_mag=mag + '_mMed'), \n",
    "                               detailed=None)\n",
    "\n",
    "\n",
    "    "
   ]
  },
  {
   "cell_type": "code",
   "execution_count": 5,
   "metadata": {
    "collapsed": false
   },
   "outputs": [
    {
     "name": "stdout",
     "output_type": "stream",
     "text": [
      "Today we will save our Fig_B1 files in /Users/chris/GradResearch/CRTS_PROJECT/data_products/Fig_B1_data/2017-08-15/\n"
     ]
    }
   ],
   "source": [
    "# Make a new dir ... \n",
    "# Set a directory to save the results...\n",
    "outDir = os.path.join(os.getcwd()[:-4],'data_products/'+'Fig_B1_data', \n",
    "                      datetime.datetime.now().strftime('%Y-%m-%d')+ '/')\n",
    "if not os.path.exists(outDir): os.system('mkdir %s' % outDir)\n",
    "                      \n",
    "print('Today we will save our Fig_B1 files in %s'%outDir)"
   ]
  },
  {
   "cell_type": "code",
   "execution_count": 4,
   "metadata": {
    "collapsed": false
   },
   "outputs": [],
   "source": [
    "#detail_dic"
   ]
  },
  {
   "cell_type": "code",
   "execution_count": 6,
   "metadata": {
    "collapsed": false
   },
   "outputs": [],
   "source": [
    "# Save the  detailed_dic dictionary into files organised by object - Min - Max \n",
    "for obj in detail_dic.keys(): \n",
    "    for i in range(len(Min_arr)) : \n",
    "        Min = Min_arr[i]\n",
    "        Max = Max_arr[i]\n",
    "        np.save(outDir + obj+'_' +str(Min)+'-'+str(Max) , detail_dic[obj][Min])"
   ]
  },
  {
   "cell_type": "code",
   "execution_count": null,
   "metadata": {
    "collapsed": true
   },
   "outputs": [],
   "source": [
    "########################################################################\n",
    "# Read detail_dic  using the code above : reproduced here for clarity \n",
    "########################################################################\n",
    "\n",
    "#outDir = '../data_products/Fig_2_data/2017-04-19/'\n",
    "\n",
    "# Load the files if needed later ....\n",
    "detail_dic = {}\n",
    "for obj in ['qso', 'stars'] : \n",
    "    detail_dic[obj] = {}\n",
    "    \n",
    "    for i in range(len(Min_arr)) : \n",
    "        Min = Min_arr[i]\n",
    "        Max = Max_arr[i]\n",
    "        detail_dic[obj][Min] = np.load(outDir + obj+'_' +str(Min)+'-'+str(Max)+'.npy').item()\n",
    "        \n",
    "print('Read detailed xi, ei data from %s'%outDir)"
   ]
  },
  {
   "cell_type": "code",
   "execution_count": 7,
   "metadata": {
    "collapsed": true
   },
   "outputs": [],
   "source": [
    "import matplotlib \n",
    "from matplotlib import rcParams\n",
    "#matplotlib.rcParams['font.size'] = 17\n",
    "#matplotlib.rc('xtick', labelsize=15) \n",
    "#matplotlib.rc('ytick', labelsize=15) \n",
    "rcParams['ytick.labelsize'] = 25\n",
    "rcParams['xtick.labelsize'] = 25\n",
    "rcParams['axes.labelsize'] = 35\n",
    "rcParams['axes.linewidth'] = 3\n",
    "rcParams['font.size'] = 25"
   ]
  },
  {
   "cell_type": "code",
   "execution_count": 8,
   "metadata": {
    "collapsed": true
   },
   "outputs": [],
   "source": [
    "# Do random selection and calculating mean tau ... \n",
    "# So that plotting can be done separately with just \n",
    "# a small fraction of data ... \n",
    "\n",
    "#bin_size_days = 20\n",
    "obj = 'stars'\n",
    "\n",
    "plot_dic = {}\n",
    "\n",
    "for Min , Max in zip([17,18,18.5], [18,18.5,19]):\n",
    "    plot_dic[Min] = {}\n",
    "    \n",
    "    # read in the points \n",
    "    tau = detail_dic[obj][Min]['tau']\n",
    "    xi  = detail_dic[obj][Min]['xi']\n",
    "\n",
    "    # randomly  select points...\n",
    "    # sigmaG (raw measurements ) : randomly subselect 20000 points \n",
    "    # https://docs.scipy.org/doc/numpy/reference/generated/numpy.random.choice.html \n",
    "    indices = np.arange(len(xi))\n",
    "    size = 20000 \n",
    "\n",
    "    # first split xi, tau into 200 bins  \n",
    "    stats_temp = binned_statistic(tau, xi, statistic='count', bins=200)\n",
    "\n",
    "    # go over each bin, and calculate the sigmaG(xi) using random resample of N points.\n",
    "    sigmaG_xi = np.zeros_like(stats_temp.statistic)\n",
    "    N_pts  = 20000\n",
    "\n",
    "    sigmaG = lambda x : 0.7413 *(np.percentile(x,75) - np.percentile(x,25))\n",
    "\n",
    "    for N in np.sort(np.unique(stats_temp.binnumber)): \n",
    "        xi_per_bin = xi[stats_temp.binnumber == N] # choose points in the N-th bin\n",
    "        # randomly select 'N_pts'  from each bin. \n",
    "        # If there is less than N_pts in the bin,  then return NaN\n",
    "        if len(xi_per_bin) >= N_pts : \n",
    "            # randomly select N_pts points, and make sure that each point \n",
    "            # is drawn only once ! \n",
    "            xi_sample = np.random.choice(xi_per_bin, size = N_pts, replace = False)\n",
    "            sigmaG_xi[N-1] = sigmaG(xi_sample)\n",
    "        else :  # if the number of points per bin is less than N_pts, then set \n",
    "            # the sigmaG to nan, or 0, or some other number. \n",
    "            sigmaG_xi[N-1] = np.nan \n",
    "\n",
    "    mean_tau = (stats_temp.bin_edges[:-1] + stats_temp.bin_edges[1:])/2\n",
    "    bin_sigmaG = sigmaG_xi\n",
    "\n",
    "    plot_dic[Min]['mean_tau'] = mean_tau\n",
    "    plot_dic[Min]['bin_sigmaG'] = bin_sigmaG\n",
    "\n"
   ]
  },
  {
   "cell_type": "code",
   "execution_count": 10,
   "metadata": {
    "collapsed": false
   },
   "outputs": [
    {
     "data": {
      "text/plain": [
       "{17: {'bin_sigmaG': array([ 0.05848857,  0.05537511,  0.05915574,  0.0562832 ,  0.06189855,\n",
       "          0.05737662,  0.06325142,  0.05893335,  0.06486375,  0.0622692 ,\n",
       "          0.0681996 ,  0.0681996 ,  0.06857025,  0.06271398,  0.0659757 ,\n",
       "          0.05841444,  0.06263985,  0.05932253,  0.06199121,  0.05819205,\n",
       "          0.06100899,  0.05843297,  0.05848857,  0.05700597,  0.05745075,\n",
       "          0.0607866 ,  0.05806232,  0.06390006,  0.05917427,  0.06464136,\n",
       "          0.05961905,  0.0644931 ,  0.06115725,  0.06701352,  0.06805134,\n",
       "          0.06643901,  0.06508614,  0.06471549,  0.06175029,  0.06538266,\n",
       "          0.06182442,  0.06604983,  0.06263985,  0.06338115,  0.05871096,\n",
       "          0.05871096,  0.05895188,  0.05767314,  0.06056421,  0.05804379,\n",
       "          0.06115725,  0.05922987,  0.0630105 ,  0.06115725,  0.06391859,\n",
       "          0.06204681,  0.06560505,  0.06701352,  0.06567918,  0.06612396,\n",
       "          0.06777335,  0.0622692 ,  0.06538266,  0.06204681,  0.06488228,\n",
       "          0.06115725,  0.06404832,  0.0600453 ,  0.0607866 ,  0.05871096,\n",
       "          0.05880362,  0.0585627 ,  0.0578214 ,  0.06130551,  0.059304  ,\n",
       "          0.06251012,  0.06034182,  0.06553092,  0.06199121,  0.06560505,\n",
       "          0.06656874,  0.0674583 ,  0.06784748,  0.06604983,  0.06049008,\n",
       "          0.06271398,  0.05745075,  0.06130551,  0.06110165,  0.0630105 ,\n",
       "          0.05967465,  0.0607866 ,  0.0600453 ,  0.06086073,  0.06100899,\n",
       "          0.06041595,  0.06130551,  0.059304  ,  0.06145377,  0.06071247,\n",
       "          0.06503054,  0.05910014,  0.06516027,  0.06532706,  0.07168371,\n",
       "          0.07007138,  0.0704235 ,  0.0630105 ,  0.06441897,  0.05834031,\n",
       "          0.06115725,  0.05804379,  0.06419658,  0.06199121,  0.06338115,\n",
       "          0.06108312,  0.05976731,  0.06080513,  0.059304  ,  0.06293637,\n",
       "          0.06041595,  0.0630105 ,  0.06137964,  0.06508614,  0.0630105 ,\n",
       "          0.06352941,  0.06427071,  0.06857025,  0.07383348,  0.07198023,\n",
       "          0.06664287,  0.06686526,  0.06041595,  0.0600453 ,  0.05910014,\n",
       "          0.06362207,  0.06130551,  0.06115725,  0.06011943,  0.05843297,\n",
       "          0.059304  ,  0.05672798,  0.05952639,  0.05581989,  0.06315876,\n",
       "          0.05885922,  0.06265838,  0.059304  ,  0.06338115,  0.06716178,\n",
       "          0.06612396,  0.07101654,  0.0725918 ,  0.06486375,  0.06621662,\n",
       "          0.059304  ,  0.06167616,  0.05589402,  0.06137964,  0.0585627 ,\n",
       "          0.06182442,  0.06063834,  0.05709863,  0.06108312,  0.05715423,\n",
       "          0.06175029,  0.05670945,  0.06345528,  0.05670945,  0.06693939,\n",
       "          0.06006383,  0.06123138,  0.06465989,  0.06191708,         nan,\n",
       "          0.06093486,         nan,         nan,  0.06427071,         nan,\n",
       "          0.0585627 ,         nan,  0.05796966,  0.06345528,  0.05900748,\n",
       "          0.05418903,  0.05441142,  0.051891  ,  0.05641293,         nan,\n",
       "                 nan,         nan,         nan,         nan,         nan,\n",
       "                 nan,         nan,         nan,         nan,         nan]),\n",
       "  'mean_tau': array([    8.358968,    23.774104,    39.18924 ,    54.604376,\n",
       "            70.019512,    85.434648,   100.849784,   116.26492 ,\n",
       "           131.680056,   147.095192,   162.510328,   177.925464,\n",
       "           193.3406  ,   208.755736,   224.170872,   239.586008,\n",
       "           255.001144,   270.41628 ,   285.831416,   301.246552,\n",
       "           316.661688,   332.076824,   347.49196 ,   362.907096,\n",
       "           378.322232,   393.737368,   409.152504,   424.56764 ,\n",
       "           439.982776,   455.397912,   470.813048,   486.228184,\n",
       "           501.64332 ,   517.058456,   532.473592,   547.888728,\n",
       "           563.303864,   578.719   ,   594.134136,   609.549272,\n",
       "           624.964408,   640.379544,   655.79468 ,   671.209816,\n",
       "           686.624952,   702.040088,   717.455224,   732.87036 ,\n",
       "           748.285496,   763.700632,   779.115768,   794.530904,\n",
       "           809.94604 ,   825.361176,   840.776312,   856.191448,\n",
       "           871.606584,   887.02172 ,   902.436856,   917.851992,\n",
       "           933.267128,   948.682264,   964.0974  ,   979.512536,\n",
       "           994.927672,  1010.342808,  1025.757944,  1041.17308 ,\n",
       "          1056.588216,  1072.003352,  1087.418488,  1102.833624,\n",
       "          1118.24876 ,  1133.663896,  1149.079032,  1164.494168,\n",
       "          1179.909304,  1195.32444 ,  1210.739576,  1226.154712,\n",
       "          1241.569848,  1256.984984,  1272.40012 ,  1287.815256,\n",
       "          1303.230392,  1318.645528,  1334.060664,  1349.4758  ,\n",
       "          1364.890936,  1380.306072,  1395.721208,  1411.136344,\n",
       "          1426.55148 ,  1441.966616,  1457.381752,  1472.796888,\n",
       "          1488.212024,  1503.62716 ,  1519.042296,  1534.457432,\n",
       "          1549.872568,  1565.287704,  1580.70284 ,  1596.117976,\n",
       "          1611.533112,  1626.948248,  1642.363384,  1657.77852 ,\n",
       "          1673.193656,  1688.608792,  1704.023928,  1719.439064,\n",
       "          1734.8542  ,  1750.269336,  1765.684472,  1781.099608,\n",
       "          1796.514744,  1811.92988 ,  1827.345016,  1842.760152,\n",
       "          1858.175288,  1873.590424,  1889.00556 ,  1904.420696,\n",
       "          1919.835832,  1935.250968,  1950.666104,  1966.08124 ,\n",
       "          1981.496376,  1996.911512,  2012.326648,  2027.741784,\n",
       "          2043.15692 ,  2058.572056,  2073.987192,  2089.402328,\n",
       "          2104.817464,  2120.2326  ,  2135.647736,  2151.062872,\n",
       "          2166.478008,  2181.893144,  2197.30828 ,  2212.723416,\n",
       "          2228.138552,  2243.553688,  2258.968824,  2274.38396 ,\n",
       "          2289.799096,  2305.214232,  2320.629368,  2336.044504,\n",
       "          2351.45964 ,  2366.874776,  2382.289912,  2397.705048,\n",
       "          2413.120184,  2428.53532 ,  2443.950456,  2459.365592,\n",
       "          2474.780728,  2490.195864,  2505.611   ,  2521.026136,\n",
       "          2536.441272,  2551.856408,  2567.271544,  2582.68668 ,\n",
       "          2598.101816,  2613.516952,  2628.932088,  2644.347224,\n",
       "          2659.76236 ,  2675.177496,  2690.592632,  2706.007768,\n",
       "          2721.422904,  2736.83804 ,  2752.253176,  2767.668312,\n",
       "          2783.083448,  2798.498584,  2813.91372 ,  2829.328856,\n",
       "          2844.743992,  2860.159128,  2875.574264,  2890.9894  ,\n",
       "          2906.404536,  2921.819672,  2937.234808,  2952.649944,\n",
       "          2968.06508 ,  2983.480216,  2998.895352,  3014.310488,\n",
       "          3029.725624,  3045.14076 ,  3060.555896,  3075.971032])},\n",
       " 18: {'bin_sigmaG': array([ 0.0911799 ,  0.08541629,  0.09305168,  0.08665797,  0.09407097,\n",
       "          0.09021621,  0.09816665,  0.0926625 ,  0.10467156,  0.09861143,\n",
       "          0.10819273,  0.10904523,  0.10689546,  0.0985929 ,  0.10350401,\n",
       "          0.090383  ,  0.09733269,  0.09244011,  0.09681378,  0.09140229,\n",
       "          0.09407097,  0.09095751,  0.09103164,  0.08977143,  0.09006795,\n",
       "          0.09312581,  0.09021621,  0.09614661,  0.09245864,  0.10118745,\n",
       "          0.09644313,  0.09948246,  0.09874116,  0.10637655,  0.10483835,\n",
       "          0.10578351,  0.10296657,  0.10202141,  0.096369  ,  0.10120598,\n",
       "          0.09588716,  0.1000199 ,  0.09799986,  0.09496053,  0.09216212,\n",
       "          0.09319994,  0.09132816,  0.0874734 ,  0.09149495,  0.08977143,\n",
       "          0.09399684,  0.09214359,  0.09644313,  0.09370032,  0.10052028,\n",
       "          0.09733269,  0.10185462,  0.10563525,  0.10593177,  0.10467156,\n",
       "          0.10578351,  0.09733269,  0.10096506,  0.09518292,  0.10022376,\n",
       "          0.09407097,  0.09770334,  0.09429336,  0.09206946,  0.09073512,\n",
       "          0.0903274 ,  0.09110577,  0.09021621,  0.09646166,  0.09177294,\n",
       "          0.09948246,  0.09421923,  0.10291097,  0.09623927,  0.10126158,\n",
       "          0.10580204,  0.10676573,  0.10682133,  0.10333722,  0.09618367,\n",
       "          0.10037202,  0.08962317,  0.09777747,  0.09481227,  0.09733269,\n",
       "          0.09169881,  0.09355206,  0.09164321,  0.09275516,  0.09496053,\n",
       "          0.09105017,  0.09673965,  0.09088338,  0.09288489,  0.09466401,\n",
       "          0.10237353,  0.0940895 ,  0.10252179,  0.1015581 ,  0.11156565,\n",
       "          0.11104674,  0.11141739,  0.09833344,  0.10200288,  0.09312581,\n",
       "          0.09688791,  0.0919212 ,  0.1007612 ,  0.09496053,  0.09814812,\n",
       "          0.0948864 ,  0.09236598,  0.09206946,  0.09244011,  0.09622074,\n",
       "          0.09258837,  0.09764774,  0.09281076,  0.10052028,  0.09725856,\n",
       "          0.09831491,  0.10192875,  0.10667307,  0.11386368,  0.11297412,\n",
       "          0.10548699,  0.10741437,  0.09444162,  0.09236598,  0.09001235,\n",
       "          0.10103919,  0.0948864 ,  0.09273663,  0.09253277,  0.09021621,\n",
       "          0.09303315,  0.09095751,  0.09586862,  0.08658384,  0.09725856,\n",
       "          0.0918656 ,  0.09964925,  0.0926625 ,  0.09966779,  0.10424531,\n",
       "          0.10572791,         nan,         nan,         nan,         nan,\n",
       "          0.09325554,         nan,  0.08940078,  0.09675818,  0.09229185,\n",
       "          0.09918594,  0.09229185,  0.08754753,  0.09327407,  0.088956  ,\n",
       "          0.09740682,  0.0874734 ,  0.09888942,  0.08858535,  0.10222527,\n",
       "          0.0940895 ,  0.09696204,         nan,         nan,         nan,\n",
       "                 nan,         nan,         nan,         nan,         nan,\n",
       "                 nan,         nan,         nan,         nan,         nan,\n",
       "                 nan,         nan,  0.0830256 ,         nan,         nan,\n",
       "                 nan,         nan,         nan,         nan,         nan,\n",
       "                 nan,         nan,         nan,         nan,         nan]),\n",
       "  'mean_tau': array([    8.36135225,    23.77645675,    39.19156125,    54.60666575,\n",
       "            70.02177025,    85.43687475,   100.85197925,   116.26708375,\n",
       "           131.68218825,   147.09729275,   162.51239725,   177.92750175,\n",
       "           193.34260625,   208.75771075,   224.17281525,   239.58791975,\n",
       "           255.00302425,   270.41812875,   285.83323325,   301.24833775,\n",
       "           316.66344225,   332.07854675,   347.49365125,   362.90875575,\n",
       "           378.32386025,   393.73896475,   409.15406925,   424.56917375,\n",
       "           439.98427825,   455.39938275,   470.81448725,   486.22959175,\n",
       "           501.64469625,   517.05980075,   532.47490525,   547.89000975,\n",
       "           563.30511425,   578.72021875,   594.13532325,   609.55042775,\n",
       "           624.96553225,   640.38063675,   655.79574125,   671.21084575,\n",
       "           686.62595025,   702.04105475,   717.45615925,   732.87126375,\n",
       "           748.28636825,   763.70147275,   779.11657725,   794.53168175,\n",
       "           809.94678625,   825.36189075,   840.77699525,   856.19209975,\n",
       "           871.60720425,   887.02230875,   902.43741325,   917.85251775,\n",
       "           933.26762225,   948.68272675,   964.09783125,   979.51293575,\n",
       "           994.92804025,  1010.34314475,  1025.75824925,  1041.17335375,\n",
       "          1056.58845825,  1072.00356275,  1087.41866725,  1102.83377175,\n",
       "          1118.24887625,  1133.66398075,  1149.07908525,  1164.49418975,\n",
       "          1179.90929425,  1195.32439875,  1210.73950325,  1226.15460775,\n",
       "          1241.56971225,  1256.98481675,  1272.39992125,  1287.81502575,\n",
       "          1303.23013025,  1318.64523475,  1334.06033925,  1349.47544375,\n",
       "          1364.89054825,  1380.30565275,  1395.72075725,  1411.13586175,\n",
       "          1426.55096625,  1441.96607075,  1457.38117525,  1472.79627975,\n",
       "          1488.21138425,  1503.62648875,  1519.04159325,  1534.45669775,\n",
       "          1549.87180225,  1565.28690675,  1580.70201125,  1596.11711575,\n",
       "          1611.53222025,  1626.94732475,  1642.36242925,  1657.77753375,\n",
       "          1673.19263825,  1688.60774275,  1704.02284725,  1719.43795175,\n",
       "          1734.85305625,  1750.26816075,  1765.68326525,  1781.09836975,\n",
       "          1796.51347425,  1811.92857875,  1827.34368325,  1842.75878775,\n",
       "          1858.17389225,  1873.58899675,  1889.00410125,  1904.41920575,\n",
       "          1919.83431025,  1935.24941475,  1950.66451925,  1966.07962375,\n",
       "          1981.49472825,  1996.90983275,  2012.32493725,  2027.74004175,\n",
       "          2043.15514625,  2058.57025075,  2073.98535525,  2089.40045975,\n",
       "          2104.81556425,  2120.23066875,  2135.64577325,  2151.06087775,\n",
       "          2166.47598225,  2181.89108675,  2197.30619125,  2212.72129575,\n",
       "          2228.13640025,  2243.55150475,  2258.96660925,  2274.38171375,\n",
       "          2289.79681825,  2305.21192275,  2320.62702725,  2336.04213175,\n",
       "          2351.45723625,  2366.87234075,  2382.28744525,  2397.70254975,\n",
       "          2413.11765425,  2428.53275875,  2443.94786325,  2459.36296775,\n",
       "          2474.77807225,  2490.19317675,  2505.60828125,  2521.02338575,\n",
       "          2536.43849025,  2551.85359475,  2567.26869925,  2582.68380375,\n",
       "          2598.09890825,  2613.51401275,  2628.92911725,  2644.34422175,\n",
       "          2659.75932625,  2675.17443075,  2690.58953525,  2706.00463975,\n",
       "          2721.41974425,  2736.83484875,  2752.24995325,  2767.66505775,\n",
       "          2783.08016225,  2798.49526675,  2813.91037125,  2829.32547575,\n",
       "          2844.74058025,  2860.15568475,  2875.57078925,  2890.98589375,\n",
       "          2906.40099825,  2921.81610275,  2937.23120725,  2952.64631175,\n",
       "          2968.06141625,  2983.47652075,  2998.89162525,  3014.30672975,\n",
       "          3029.72183425,  3045.13693875,  3060.55204325,  3075.96714775])},\n",
       " 18.5: {'bin_sigmaG': array([ 0.13108037,  0.12023886,  0.13078385,  0.12439014,  0.13597295,\n",
       "          0.1244828 ,  0.13671425,  0.13159928,  0.14729631,  0.14173656,\n",
       "          0.15583979,  0.15404214,  0.15619191,  0.14121765,  0.14788935,\n",
       "          0.12757773,  0.13478687,  0.13024641,  0.13886402,  0.12870821,\n",
       "          0.13083945,  0.12713295,  0.12587274,  0.12461253,  0.12381563,\n",
       "          0.12843023,  0.12715148,  0.13573203,  0.12950511,  0.13780767,\n",
       "          0.13335987,  0.14168096,  0.14160683,  0.15337497,  0.15448692,\n",
       "          0.15315258,  0.15146612,  0.14753723,  0.13767794,  0.14492415,\n",
       "          0.13432356,  0.14099526,  0.13536138,  0.13499073,  0.12781865,\n",
       "          0.12861555,  0.1304688 ,  0.12483492,  0.13026494,  0.12561329,\n",
       "          0.13298922,  0.12957924,  0.13580616,  0.13070972,  0.1401057 ,\n",
       "          0.13219232,  0.14499828,  0.15011325,  0.15685908,  0.14829707,\n",
       "          0.15335644,  0.13552817,  0.1452392 ,  0.13187727,  0.13990184,\n",
       "          0.13234058,  0.13951266,  0.12839316,  0.12982016,  0.12907886,\n",
       "          0.12500171,  0.12846729,  0.12650285,  0.1356579 ,  0.12715148,\n",
       "          0.13899375,  0.13211819,  0.14188482,  0.1356023 ,  0.14314503,\n",
       "          0.14805614,  0.15159585,  0.15420893,  0.15404214,  0.13676985,\n",
       "          0.14207014,  0.12728121,  0.13693664,  0.13137689,  0.13656599,\n",
       "          0.12974603,  0.13167341,  0.12870821,  0.13143249,  0.13499073,\n",
       "          0.12937538,  0.13239618,  0.12937538,  0.1349166 ,  0.13306335,\n",
       "          0.14308943,  0.1320626 ,  0.1423296 ,  0.14255199,  0.15902738,\n",
       "          0.15804516,  0.16004667,  0.14032809,  0.14625849,  0.13083945,\n",
       "          0.13958679,  0.13024641,  0.14003157,  0.13580616,  0.13662159,\n",
       "          0.13017228,  0.13054293,  0.13211819,  0.12700322,  0.13693664,\n",
       "          0.12937538,  0.13825245,  0.12965337,  0.142274  ,  0.13135836,\n",
       "          0.13743702,  0.14262612,  0.15141052,  0.16497631,  0.16317866,\n",
       "          0.14848239,  0.15444985,  0.13306335,  0.13180314,  0.12735534,\n",
       "          0.1415883 ,  0.13552817,  0.13137689,  0.1296719 ,  0.12907886,\n",
       "          0.1304688 ,  0.12468666,  0.13462008,  0.12372297,  0.13951266,\n",
       "          0.12728121,  0.13908641,  0.12705882,  0.13676985,  0.14264465,\n",
       "          0.14507241,         nan,         nan,         nan,         nan,\n",
       "          0.1348054 ,         nan,  0.1245384 ,  0.1341753 ,  0.13139542,\n",
       "          0.14025396,  0.13069119,  0.12476079,  0.13447182,  0.12483492,\n",
       "          0.1349166 ,  0.12166586,  0.14003157,  0.12477932,  0.14627702,\n",
       "          0.12965337,  0.13137689,         nan,         nan,         nan,\n",
       "                 nan,         nan,         nan,         nan,         nan,\n",
       "                 nan,         nan,         nan,         nan,         nan,\n",
       "                 nan,         nan,  0.1149015 ,         nan,         nan,\n",
       "                 nan,         nan,         nan,         nan,         nan,\n",
       "                 nan,         nan,         nan,         nan,         nan]),\n",
       "  'mean_tau': array([    8.359562,    23.774686,    39.18981 ,    54.604934,\n",
       "            70.020058,    85.435182,   100.850306,   116.26543 ,\n",
       "           131.680554,   147.095678,   162.510802,   177.925926,\n",
       "           193.34105 ,   208.756174,   224.171298,   239.586422,\n",
       "           255.001546,   270.41667 ,   285.831794,   301.246918,\n",
       "           316.662042,   332.077166,   347.49229 ,   362.907414,\n",
       "           378.322538,   393.737662,   409.152786,   424.56791 ,\n",
       "           439.983034,   455.398158,   470.813282,   486.228406,\n",
       "           501.64353 ,   517.058654,   532.473778,   547.888902,\n",
       "           563.304026,   578.71915 ,   594.134274,   609.549398,\n",
       "           624.964522,   640.379646,   655.79477 ,   671.209894,\n",
       "           686.625018,   702.040142,   717.455266,   732.87039 ,\n",
       "           748.285514,   763.700638,   779.115762,   794.530886,\n",
       "           809.94601 ,   825.361134,   840.776258,   856.191382,\n",
       "           871.606506,   887.02163 ,   902.436754,   917.851878,\n",
       "           933.267002,   948.682126,   964.09725 ,   979.512374,\n",
       "           994.927498,  1010.342622,  1025.757746,  1041.17287 ,\n",
       "          1056.587994,  1072.003118,  1087.418242,  1102.833366,\n",
       "          1118.24849 ,  1133.663614,  1149.078738,  1164.493862,\n",
       "          1179.908986,  1195.32411 ,  1210.739234,  1226.154358,\n",
       "          1241.569482,  1256.984606,  1272.39973 ,  1287.814854,\n",
       "          1303.229978,  1318.645102,  1334.060226,  1349.47535 ,\n",
       "          1364.890474,  1380.305598,  1395.720722,  1411.135846,\n",
       "          1426.55097 ,  1441.966094,  1457.381218,  1472.796342,\n",
       "          1488.211466,  1503.62659 ,  1519.041714,  1534.456838,\n",
       "          1549.871962,  1565.287086,  1580.70221 ,  1596.117334,\n",
       "          1611.532458,  1626.947582,  1642.362706,  1657.77783 ,\n",
       "          1673.192954,  1688.608078,  1704.023202,  1719.438326,\n",
       "          1734.85345 ,  1750.268574,  1765.683698,  1781.098822,\n",
       "          1796.513946,  1811.92907 ,  1827.344194,  1842.759318,\n",
       "          1858.174442,  1873.589566,  1889.00469 ,  1904.419814,\n",
       "          1919.834938,  1935.250062,  1950.665186,  1966.08031 ,\n",
       "          1981.495434,  1996.910558,  2012.325682,  2027.740806,\n",
       "          2043.15593 ,  2058.571054,  2073.986178,  2089.401302,\n",
       "          2104.816426,  2120.23155 ,  2135.646674,  2151.061798,\n",
       "          2166.476922,  2181.892046,  2197.30717 ,  2212.722294,\n",
       "          2228.137418,  2243.552542,  2258.967666,  2274.38279 ,\n",
       "          2289.797914,  2305.213038,  2320.628162,  2336.043286,\n",
       "          2351.45841 ,  2366.873534,  2382.288658,  2397.703782,\n",
       "          2413.118906,  2428.53403 ,  2443.949154,  2459.364278,\n",
       "          2474.779402,  2490.194526,  2505.60965 ,  2521.024774,\n",
       "          2536.439898,  2551.855022,  2567.270146,  2582.68527 ,\n",
       "          2598.100394,  2613.515518,  2628.930642,  2644.345766,\n",
       "          2659.76089 ,  2675.176014,  2690.591138,  2706.006262,\n",
       "          2721.421386,  2736.83651 ,  2752.251634,  2767.666758,\n",
       "          2783.081882,  2798.497006,  2813.91213 ,  2829.327254,\n",
       "          2844.742378,  2860.157502,  2875.572626,  2890.98775 ,\n",
       "          2906.402874,  2921.817998,  2937.233122,  2952.648246,\n",
       "          2968.06337 ,  2983.478494,  2998.893618,  3014.308742,\n",
       "          3029.723866,  3045.13899 ,  3060.554114,  3075.969238])}}"
      ]
     },
     "execution_count": 10,
     "metadata": {},
     "output_type": "execute_result"
    }
   ],
   "source": [
    "plot_dic"
   ]
  },
  {
   "cell_type": "code",
   "execution_count": 11,
   "metadata": {
    "collapsed": true
   },
   "outputs": [],
   "source": [
    "# Quickly save the plot points in case of any last-minute adjustments ...\n",
    "savefile = outDir + 'B1_plot_dictionary.npy'\n",
    "np.save(savefile,plot_dic)"
   ]
  },
  {
   "cell_type": "markdown",
   "metadata": {},
   "source": [
    "## Plotting "
   ]
  },
  {
   "cell_type": "code",
   "execution_count": 14,
   "metadata": {
    "collapsed": true
   },
   "outputs": [],
   "source": [
    "# Read plot data ...\n",
    "savefile = outDir + 'B1_plot_dictionary.npy'\n",
    "plot_dic = np.load(savefile)[()]\n"
   ]
  },
  {
   "cell_type": "code",
   "execution_count": 16,
   "metadata": {
    "collapsed": false
   },
   "outputs": [],
   "source": [
    "#plot_dic"
   ]
  },
  {
   "cell_type": "code",
   "execution_count": 48,
   "metadata": {
    "collapsed": false
   },
   "outputs": [
    {
     "name": "stdout",
     "output_type": "stream",
     "text": [
      "N bins with lt 20000 points : 16\n",
      "N bins with lt 20000 points : 32\n",
      "N bins with lt 20000 points : 32\n",
      "Saved as /Users/chris/GradResearch/CRTS_PROJECT/data_products/Fig_B1_data/2017-08-15/Stars_CRTS_wiggles.png\n"
     ]
    },
    {
     "data": {
      "image/png": "[encoded data removed]",
      "text/plain": [
       "<matplotlib.figure.Figure at 0x11b6d9278>"
      ]
     },
     "metadata": {},
     "output_type": "display_data"
    }
   ],
   "source": [
    "# Plot using results of selecting equal number of points per bin ...\n",
    "%matplotlib inline\n",
    "\n",
    "fig, ax3 = plt.subplots(1,1, figsize=(12,6), sharex=True)\n",
    "\n",
    "# set all plot parameters\n",
    "lh_w   = 1.0  # horizontal line thickness \n",
    "lh_st  = '--' # horizontal line style \n",
    "lh_al  = 0.5  # horizontal line alpha parameter \n",
    "\n",
    "pre = {'qso':'QSO', 'stars':'Stars'}\n",
    "\n",
    "facecolors = {17: 'blue', 18: 'orange', 18.5 : 'black'}\n",
    "edgecolors  = {17:'blue',  18:'black', 18.5:'green'}\n",
    "markers = {17:'o',     18: 's',      18.5: '*'}\n",
    "labels  = {17:'17-18', 18:'18-18.5', 18.5:'18.5-19'}\n",
    "\n",
    "cm = plt.cm.get_cmap('RdYlBu')\n",
    "\n",
    "for Min in [17,18,18.5] : \n",
    "    x  = plot_dic[Min]['mean_tau']\n",
    "    y  = plot_dic[Min]['bin_sigmaG']\n",
    "    print('N bins with lt 20000 points : %d'% np.sum(np.isnan(y)))\n",
    "    ax3.scatter(x,y  , label = labels[Min], alpha=0.7, marker = markers[Min],\n",
    "               s=65, facecolors=facecolors[Min], edgecolors = edgecolors[Min])\n",
    "ymin= 0.04\n",
    "dy = 0.13\n",
    "ax3.set_ylim(0.02, ymin+dy)\n",
    "#ax3.set_ylim(0.06, 0.17)\n",
    "ax3.set_xlim(-400, 3300)\n",
    "yticks = ax3.get_yticks()\n",
    "ax3.set_yticks(yticks[1:-1]) \n",
    "ax3.set_ylabel(r'$\\sigma_{G}(\\Delta m)\\,\\,  [mag]$')\n",
    "ax3.set_xlabel(r'$\\Delta t \\, \\, [days]$')\n",
    "plt.legend(loc='upper right', fontsize=20)\n",
    "\n",
    "fig.autofmt_xdate()\n",
    "fig.subplots_adjust(hspace=0)\n",
    "\n",
    "for ax in [ax3] : \n",
    "    ax.grid(axis='x')\n",
    "    for y in [0.05,0.1, 0.15]:\n",
    "        ax.axhline(y=y, color='black', lw=lh_w, ls=lh_st,alpha=lh_al)\n",
    "\n",
    "title = pre[obj] +'_CRTS_wiggles.png'\n",
    "plt.savefig(outDir+title,  bbox_inches='tight')\n",
    "print('Saved as %s'%outDir+title)\n",
    "\n",
    "\n"
   ]
  },
  {
   "cell_type": "code",
   "execution_count": null,
   "metadata": {
    "collapsed": true
   },
   "outputs": [],
   "source": []
  }
 ],
 "metadata": {
  "kernelspec": {
   "display_name": "Python 3",
   "language": "python",
   "name": "python3"
  },
  "language_info": {
   "codemirror_mode": {
    "name": "ipython",
    "version": 3
   },
   "file_extension": ".py",
   "mimetype": "text/x-python",
   "name": "python",
   "nbconvert_exporter": "python",
   "pygments_lexer": "ipython3",
   "version": "3.6.0"
  }
 },
 "nbformat": 4,
 "nbformat_minor": 2
}
