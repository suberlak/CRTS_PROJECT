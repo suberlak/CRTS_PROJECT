{
 "cells": [
  {
   "cell_type": "code",
   "execution_count": 1,
   "metadata": {
    "collapsed": true
   },
   "outputs": [],
   "source": [
    "import numpy as np\n",
    "import matplotlib.pyplot as plt \n",
    "from os import listdir\n",
    "import pandas as pd \n",
    "from astropy.table import Table"
   ]
  },
  {
   "cell_type": "markdown",
   "metadata": {},
   "source": [
    "## Resulting PTF QSO lightcurves from  S82"
   ]
  },
  {
   "cell_type": "markdown",
   "metadata": {},
   "source": [
    "First, find how many quasars we have from this query, in  ../IPAC_output_tables/Ipac_PTF_lightcurves_QSO_S82.tbl "
   ]
  },
  {
   "cell_type": "code",
   "execution_count": 2,
   "metadata": {
    "collapsed": false
   },
   "outputs": [],
   "source": [
    "# all lightcurves (may take a minute to read as the file has size of 82 MB ... )\n",
    "lcs_qso = Table.read('../IPAC_output_tables/Ipac_PTF_lightcurves_QSO_S82.tbl', format='ipac')\n",
    "\n"
   ]
  },
  {
   "cell_type": "code",
   "execution_count": 5,
   "metadata": {
    "collapsed": false
   },
   "outputs": [
    {
     "data": {
      "text/plain": [
       "astropy.table.table.Table"
      ]
     },
     "execution_count": 5,
     "metadata": {},
     "output_type": "execute_result"
    }
   ],
   "source": [
    "type(lcs_qso)"
   ]
  },
  {
   "cell_type": "code",
   "execution_count": 3,
   "metadata": {
    "collapsed": false
   },
   "outputs": [
    {
     "data": {
      "text/plain": [
       "159641"
      ]
     },
     "execution_count": 3,
     "metadata": {},
     "output_type": "execute_result"
    }
   ],
   "source": [
    "# This gives total number of epochs : \n",
    "len(lcs_qso)"
   ]
  },
  {
   "cell_type": "code",
   "execution_count": 8,
   "metadata": {
    "collapsed": false
   },
   "outputs": [
    {
     "name": "stdout",
     "output_type": "stream",
     "text": [
      "We have 6471 quasars to start with \n"
     ]
    }
   ],
   "source": [
    "# Need to group by SDSS ra to get info about how many objects we have:\n",
    "print('We have %d quasars to start with ' % len(np.unique(lcs_qso['ra'])))"
   ]
  },
  {
   "cell_type": "markdown",
   "metadata": {},
   "source": [
    "## Remove empty files and those with less than 10 points "
   ]
  },
  {
   "cell_type": "markdown",
   "metadata": {},
   "source": [
    "Three equivalent ways of testing for the number of empty files.  Those files should be removed from the list of accepted QSO/ "
   ]
  },
  {
   "cell_type": "code",
   "execution_count": 13,
   "metadata": {
    "collapsed": false
   },
   "outputs": [
    {
     "data": {
      "text/plain": [
       "0"
      ]
     },
     "execution_count": 13,
     "metadata": {},
     "output_type": "execute_result"
    }
   ],
   "source": [
    "# Since I selected the objects from PTF asking them to have at least \n",
    "# ngoodobs > 10, there are definitely no objects with less than 10 epochs : \n",
    "np.sum(lcs_qso['ngoodobs'] < 10)"
   ]
  },
  {
   "cell_type": "markdown",
   "metadata": {},
   "source": [
    "## Statistics on the raw  LC (before day-averaging)  "
   ]
  },
  {
   "cell_type": "markdown",
   "metadata": {},
   "source": [
    "Group by ra : the SDSS ra, since ra_01 : the PTF ra , may differ from chip to chip,  just as oid .  For these quasars there seems to be only one edge-case ( number of unique ra is 6471, and oid : 6472, ra_01: 6480)"
   ]
  },
  {
   "cell_type": "code",
   "execution_count": 28,
   "metadata": {
    "collapsed": false
   },
   "outputs": [],
   "source": [
    "# drop some pesky 'masked' row... \n",
    "lcs_qso_new = lcs_qso[lcs_qso['ra'] != np.unique(lcs_qso['ra'])[-1]]\n",
    "\n",
    "\n"
   ]
  },
  {
   "cell_type": "code",
   "execution_count": 32,
   "metadata": {
    "collapsed": false
   },
   "outputs": [],
   "source": [
    "# group by ra to calculate stats on each object...\n",
    "grouped_lcs = lcs_qso_new.group_by('ra')\n",
    "\n"
   ]
  },
  {
   "cell_type": "markdown",
   "metadata": {},
   "source": [
    "I capitalize on what stats are **really** needed. I'm not making a Fig.1 for PTF. If needed in the future, I may worry about that, but for now, I'll get some simple-to-do stats  (per object-grouped group :  max(mjd) - min(mjd),  mean(mag), mean(err) ) .  Means are built-in as group-aggregates , and the max-min  statistic I'll try to implement as a function.  \n",
    "\n",
    "Either way,  stats are not as needed as just making the master files  (delta_t, delta_mag, error),  and the PTF-SDSS matched catalogs, to use SDSS r-mag for magnitude cuts. "
   ]
  },
  {
   "cell_type": "code",
   "execution_count": 67,
   "metadata": {
    "collapsed": false
   },
   "outputs": [
    {
     "data": {
      "text/html": [
       "&lt;Table masked=True length=10&gt;\n",
       "<table id=\"table4947013360\" class=\"table-striped table-bordered table-condensed\">\n",
       "<thead><tr><th>cntr_01</th><th>dist_x</th><th>pang_x</th><th>ra_01</th><th>dec_01</th><th>obsmjd</th><th>mag_autocorr</th><th>magerr_auto</th><th>oid</th><th>ra</th><th>dec</th><th>fid</th><th>transient_flag</th><th>astrometricrms</th><th>nobs</th><th>ngoodobs</th><th>nbestobs</th><th>referencemag</th><th>referencemagerr</th><th>medianmag</th><th>bestmedianmag</th><th>meanmag</th><th>bestmeanmag</th><th>magrms</th><th>bestmagrms</th><th>sid</th><th>s_ra</th><th>s_dec</th><th>ptffield</th><th>ccdid</th><th>hmjd</th><th>nid</th><th>mag_auto</th><th>limitmag</th><th>absphotzp</th><th>fwhmsex</th><th>fwhm_image</th><th>qaflags</th><th>flags</th><th>photcalflag</th><th>goodflag</th></tr></thead>\n",
       "<thead><tr><th></th><th>arcsec</th><th>deg</th><th>degrees</th><th>degrees</th><th>days</th><th>mag</th><th>mag</th><th></th><th>degrees</th><th>degrees</th><th></th><th></th><th>degrees</th><th></th><th></th><th></th><th>mag</th><th>mag</th><th>mag</th><th>mag</th><th>mag</th><th>mag</th><th>mag</th><th>mag</th><th></th><th>degrees</th><th>degrees</th><th></th><th></th><th>days</th><th></th><th>mag</th><th>mag</th><th>mag</th><th>arcsec</th><th>pixels</th><th></th><th></th><th>0=No, 1=Yes</th><th>0=No, 1=Yes</th></tr></thead>\n",
       "<thead><tr><th>int64</th><th>float64</th><th>float64</th><th>float64</th><th>float64</th><th>float64</th><th>float64</th><th>float64</th><th>int64</th><th>float64</th><th>float64</th><th>int64</th><th>int64</th><th>float64</th><th>int64</th><th>int64</th><th>int64</th><th>float64</th><th>float64</th><th>float64</th><th>float64</th><th>float64</th><th>float64</th><th>float64</th><th>float64</th><th>int64</th><th>float64</th><th>float64</th><th>int64</th><th>int64</th><th>float64</th><th>int64</th><th>float64</th><th>float64</th><th>float64</th><th>float64</th><th>float64</th><th>int64</th><th>int64</th><th>int64</th><th>int64</th></tr></thead>\n",
       "<tr><td>1211</td><td>0.0</td><td>180.0</td><td>0.049846</td><td>0.040389</td><td>56920.3323372</td><td>17.249</td><td>0.034</td><td>26971060000456</td><td>0.049846</td><td>0.040389</td><td>1</td><td>0</td><td>2.035493e-07</td><td>109</td><td>109</td><td>109</td><td>17.228</td><td>0.004</td><td>17.257</td><td>17.257</td><td>17.287</td><td>17.287</td><td>0.079</td><td>0.079</td><td>21434266001679</td><td>0.049834</td><td>0.040392</td><td>2697</td><td>6</td><td>56920.3380872</td><td>1983</td><td>17.249</td><td>21.592</td><td>27.843</td><td>3.05</td><td>3.56</td><td>0</td><td>131072</td><td>0</td><td>1</td></tr>\n",
       "<tr><td>1211</td><td>0.0</td><td>180.0</td><td>0.049846</td><td>0.040389</td><td>56952.2524972</td><td>17.237</td><td>0.034</td><td>26971060000456</td><td>0.049846</td><td>0.040389</td><td>1</td><td>0</td><td>2.035493e-07</td><td>109</td><td>109</td><td>109</td><td>17.228</td><td>0.004</td><td>17.257</td><td>17.257</td><td>17.287</td><td>17.287</td><td>0.079</td><td>0.079</td><td>21923244001705</td><td>0.049843</td><td>0.040389</td><td>2697</td><td>6</td><td>56952.2576672</td><td>2014</td><td>17.239</td><td>21.624</td><td>27.871</td><td>2.65</td><td>2.912</td><td>0</td><td>131072</td><td>0</td><td>1</td></tr>\n",
       "<tr><td>1211</td><td>0.0</td><td>180.0</td><td>0.049846</td><td>0.040389</td><td>56914.2943372</td><td>17.258</td><td>0.037</td><td>26971060000456</td><td>0.049846</td><td>0.040389</td><td>1</td><td>0</td><td>2.035493e-07</td><td>109</td><td>109</td><td>109</td><td>17.228</td><td>0.004</td><td>17.257</td><td>17.257</td><td>17.287</td><td>17.287</td><td>0.079</td><td>0.079</td><td>21364525001402</td><td>0.049841</td><td>0.040379</td><td>2697</td><td>6</td><td>56914.3000172</td><td>1979</td><td>17.248</td><td>21.014</td><td>27.801</td><td>2.45</td><td>2.836</td><td>0</td><td>131072</td><td>0</td><td>1</td></tr>\n",
       "<tr><td>1211</td><td>0.0</td><td>180.0</td><td>0.049846</td><td>0.040389</td><td>56914.3413172</td><td>17.244</td><td>0.037</td><td>26971060000456</td><td>0.049846</td><td>0.040389</td><td>1</td><td>0</td><td>2.035493e-07</td><td>109</td><td>109</td><td>109</td><td>17.228</td><td>0.004</td><td>17.257</td><td>17.257</td><td>17.287</td><td>17.287</td><td>0.079</td><td>0.079</td><td>21364555001390</td><td>0.04984</td><td>0.040393</td><td>2697</td><td>6</td><td>56914.3469972</td><td>1979</td><td>17.228</td><td>21.027</td><td>27.816</td><td>2.45</td><td>2.618</td><td>0</td><td>131072</td><td>0</td><td>1</td></tr>\n",
       "<tr><td>1211</td><td>0.0</td><td>180.0</td><td>0.049846</td><td>0.040389</td><td>56927.2768872</td><td>17.239</td><td>0.036</td><td>26971060000456</td><td>0.049846</td><td>0.040389</td><td>1</td><td>0</td><td>2.035493e-07</td><td>109</td><td>109</td><td>109</td><td>17.228</td><td>0.004</td><td>17.257</td><td>17.257</td><td>17.287</td><td>17.287</td><td>0.079</td><td>0.079</td><td>21547909001793</td><td>0.049844</td><td>0.040393</td><td>2697</td><td>6</td><td>56927.2826572</td><td>1990</td><td>17.223</td><td>21.705</td><td>27.853</td><td>2.55</td><td>2.977</td><td>0</td><td>131072</td><td>0</td><td>1</td></tr>\n",
       "<tr><td>1211</td><td>0.0</td><td>180.0</td><td>0.049846</td><td>0.040389</td><td>56927.3321972</td><td>17.282</td><td>0.037</td><td>26971060000456</td><td>0.049846</td><td>0.040389</td><td>1</td><td>0</td><td>2.035493e-07</td><td>109</td><td>109</td><td>109</td><td>17.228</td><td>0.004</td><td>17.257</td><td>17.257</td><td>17.287</td><td>17.287</td><td>0.079</td><td>0.079</td><td>21547958001377</td><td>0.049848</td><td>0.040385</td><td>2697</td><td>6</td><td>56927.3379672</td><td>1990</td><td>17.285</td><td>21.307</td><td>27.856</td><td>3.65</td><td>4.108</td><td>0</td><td>131072</td><td>0</td><td>1</td></tr>\n",
       "<tr><td>1211</td><td>0.0</td><td>180.0</td><td>0.049846</td><td>0.040389</td><td>56954.2361372</td><td>17.275</td><td>0.034</td><td>26971060000456</td><td>0.049846</td><td>0.040389</td><td>1</td><td>0</td><td>2.035493e-07</td><td>109</td><td>109</td><td>109</td><td>17.228</td><td>0.004</td><td>17.257</td><td>17.257</td><td>17.287</td><td>17.287</td><td>0.079</td><td>0.079</td><td>21960345001818</td><td>0.049845</td><td>0.040391</td><td>2697</td><td>6</td><td>56954.2412072</td><td>2016</td><td>17.278</td><td>21.51</td><td>27.874</td><td>2.85</td><td>3.055</td><td>0</td><td>131072</td><td>0</td><td>1</td></tr>\n",
       "<tr><td>1211</td><td>0.0</td><td>180.0</td><td>0.049846</td><td>0.040389</td><td>56954.2640372</td><td>17.262</td><td>0.034</td><td>26971060000456</td><td>0.049846</td><td>0.040389</td><td>1</td><td>0</td><td>2.035493e-07</td><td>109</td><td>109</td><td>109</td><td>17.228</td><td>0.004</td><td>17.257</td><td>17.257</td><td>17.287</td><td>17.287</td><td>0.079</td><td>0.079</td><td>21960367001850</td><td>0.049848</td><td>0.040389</td><td>2697</td><td>6</td><td>56954.2691172</td><td>2016</td><td>17.275</td><td>21.709</td><td>27.868</td><td>2.35</td><td>2.585</td><td>0</td><td>131072</td><td>0</td><td>1</td></tr>\n",
       "<tr><td>1211</td><td>0.0</td><td>180.0</td><td>0.049846</td><td>0.040389</td><td>56934.2508172</td><td>17.291</td><td>0.228</td><td>26971060000456</td><td>0.049846</td><td>0.040389</td><td>1</td><td>0</td><td>2.035493e-07</td><td>109</td><td>109</td><td>109</td><td>17.228</td><td>0.004</td><td>17.257</td><td>17.257</td><td>17.287</td><td>17.287</td><td>0.079</td><td>0.079</td><td>21641917000852</td><td>0.049835</td><td>0.040359</td><td>2697</td><td>6</td><td>56934.2565272</td><td>1997</td><td>17.251</td><td>20.191</td><td>27.658</td><td>3.25</td><td>3.64</td><td>0</td><td>131072</td><td>0</td><td>1</td></tr>\n",
       "<tr><td>1211</td><td>0.0</td><td>180.0</td><td>0.049846</td><td>0.040389</td><td>56916.3462272</td><td>17.241</td><td>0.036</td><td>26971060000456</td><td>0.049846</td><td>0.040389</td><td>1</td><td>0</td><td>2.035493e-07</td><td>109</td><td>109</td><td>109</td><td>17.228</td><td>0.004</td><td>17.257</td><td>17.257</td><td>17.287</td><td>17.287</td><td>0.079</td><td>0.079</td><td>21375820001525</td><td>0.049842</td><td>0.040372</td><td>2697</td><td>6</td><td>56916.3519372</td><td>1980</td><td>17.241</td><td>21.241</td><td>27.849</td><td>2.95</td><td>3.297</td><td>0</td><td>131072</td><td>0</td><td>1</td></tr>\n",
       "</table>"
      ],
      "text/plain": [
       "<Table masked=True length=10>\n",
       "cntr_01  dist_x  pang_x  ra_01   ... qaflags flags  photcalflag   goodflag \n",
       "         arcsec   deg   degrees  ...                0=No, 1=Yes 0=No, 1=Yes\n",
       " int64  float64 float64 float64  ...  int64  int64     int64       int64   \n",
       "------- ------- ------- -------- ... ------- ------ ----------- -----------\n",
       "   1211     0.0   180.0 0.049846 ...       0 131072           0           1\n",
       "   1211     0.0   180.0 0.049846 ...       0 131072           0           1\n",
       "   1211     0.0   180.0 0.049846 ...       0 131072           0           1\n",
       "   1211     0.0   180.0 0.049846 ...       0 131072           0           1\n",
       "   1211     0.0   180.0 0.049846 ...       0 131072           0           1\n",
       "   1211     0.0   180.0 0.049846 ...       0 131072           0           1\n",
       "   1211     0.0   180.0 0.049846 ...       0 131072           0           1\n",
       "   1211     0.0   180.0 0.049846 ...       0 131072           0           1\n",
       "   1211     0.0   180.0 0.049846 ...       0 131072           0           1\n",
       "   1211     0.0   180.0 0.049846 ...       0 131072           0           1"
      ]
     },
     "execution_count": 67,
     "metadata": {},
     "output_type": "execute_result"
    }
   ],
   "source": [
    "# calculate some aggregate info...\n",
    "\n",
    "# ra = grouped_lcs.groups.keys[0]\n",
    "#http://docs.astropy.org/en/stable/table/operations.html \n",
    "\n",
    "# display first 10 rows of the first group\n",
    "grouped_lcs.groups[0][:10]\n",
    "\n"
   ]
  },
  {
   "cell_type": "markdown",
   "metadata": {},
   "source": [
    " All the quick stats below : test on few objects... "
   ]
  },
  {
   "cell_type": "code",
   "execution_count": 117,
   "metadata": {
    "collapsed": false
   },
   "outputs": [],
   "source": [
    "\n",
    "#n_groups = 2\n",
    "test_group = grouped_lcs.groups[:2]\n",
    "#test_agg_info = grouped_lcs.groups.keys[:2]\n",
    "test_agg_info = test_group[['ra','dec', 'oid', 'magerr_auto','mag_autocorr']].groups.aggregate(np.mean)\n",
    "\n",
    "def agg_func(array):\n",
    "    'return max(array)-min(array)'\n",
    "    return max(array) - min(array)\n",
    "\n",
    "test_agg_info['mjd_span'] =  test_group['obsmjd'].groups.aggregate(agg_func)\n",
    "test_agg_info['lc_length'] = test_group['ra'].groups.aggregate(np.count_nonzero)\n",
    "\n",
    "# rename columns, since aggregate leaves the columns unchanged...\n",
    "test_agg_info.rename_column('magerr_auto', 'avg_err')\n",
    "test_agg_info.rename_column('mag_autocorr', 'avg_mag')"
   ]
  },
  {
   "cell_type": "markdown",
   "metadata": {},
   "source": [
    "And do on all objects.... "
   ]
  },
  {
   "cell_type": "code",
   "execution_count": 201,
   "metadata": {
    "collapsed": false
   },
   "outputs": [],
   "source": [
    "# And do on all objects.... \n",
    "raw_agg_info = grouped_lcs[['ra','dec', 'oid', 'magerr_auto','mag_autocorr']].groups.aggregate(np.mean)\n",
    "\n",
    "def agg_func(array):\n",
    "    'return max(array)-min(array)'\n",
    "    return max(array) - min(array)\n",
    "\n",
    "raw_agg_info['mjd_span'] =  grouped_lcs['obsmjd'].groups.aggregate(agg_func)\n",
    "raw_agg_info['lc_length'] = grouped_lcs['ra'].groups.aggregate(np.count_nonzero)\n",
    "\n",
    "# rename columns, since aggregate leaves the columns unchanged...\n",
    "raw_agg_info.rename_column('magerr_auto', 'avg_err')\n",
    "raw_agg_info.rename_column('mag_autocorr', 'avg_mag')\n",
    "raw_agg_info.rename_column('ra', 'ra_sdss')\n",
    "raw_agg_info.rename_column('dec', 'dec_sdss')\n",
    "\n"
   ]
  },
  {
   "cell_type": "code",
   "execution_count": 203,
   "metadata": {
    "collapsed": false
   },
   "outputs": [],
   "source": [
    "# Save that info as something that could be easily accessed to make PTF - SDSS matched catalog \n",
    "\n",
    "raw_agg_info.write('../data_products/PTF_qso_raw_agg_info.dat', format='ascii', overwrite='True')\n",
    "    "
   ]
  },
  {
   "cell_type": "code",
   "execution_count": 207,
   "metadata": {
    "collapsed": false
   },
   "outputs": [
    {
     "data": {
      "text/plain": [
       "(array([ 2942.,    28.,  1890.,    34.,   163.,   116.,   108.,   102.,\n",
       "          372.,   715.]),\n",
       " array([    0.      ,   193.190252,   386.380504,   579.570756,\n",
       "          772.761008,   965.95126 ,  1159.141512,  1352.331764,\n",
       "         1545.522016,  1738.712268,  1931.90252 ]),\n",
       " <a list of 1 Patch objects>)"
      ]
     },
     "execution_count": 207,
     "metadata": {},
     "output_type": "execute_result"
    },
    {
     "data": {
      "image/png": "[encoded data removed]",
      "text/plain": [
       "<matplotlib.figure.Figure at 0x135a37ba8>"
      ]
     },
     "metadata": {},
     "output_type": "display_data"
    }
   ],
   "source": [
    "# Show some stats....\n",
    "\n",
    "plt.hist(raw_agg_info['mjd_span'], histtype='step', lw=4)\n"
   ]
  },
  {
   "cell_type": "code",
   "execution_count": 164,
   "metadata": {
    "collapsed": false
   },
   "outputs": [
    {
     "data": {
      "text/plain": [
       "<matplotlib.collections.PathCollection at 0x11e683a90>"
      ]
     },
     "execution_count": 164,
     "metadata": {},
     "output_type": "execute_result"
    },
    {
     "data": {
      "image/png": "[encoded data removed]",
      "text/plain": [
       "<matplotlib.figure.Figure at 0x11e65deb8>"
      ]
     },
     "metadata": {},
     "output_type": "display_data"
    }
   ],
   "source": [
    "plt.scatter(agg_info['ra'], agg_info['dec'])\n"
   ]
  },
  {
   "cell_type": "code",
   "execution_count": 104,
   "metadata": {
    "collapsed": false
   },
   "outputs": [],
   "source": []
  },
  {
   "cell_type": "markdown",
   "metadata": {},
   "source": [
    "### Preprocessing : Day-averaged light curves : needs be RUN ONLY ONCE  to make them!"
   ]
  },
  {
   "cell_type": "markdown",
   "metadata": {},
   "source": [
    "Make day-averaged lightcurves, save only if more than 10 observing days (points in the day-averaged light curve). \n",
    "Save MJD, avg_mag, error, N_obs that day. For our 6471 lightcurves it takes about 1.5 mins on my workstation. "
   ]
  },
  {
   "cell_type": "markdown",
   "metadata": {},
   "source": [
    "Test on a few lightcurves : "
   ]
  },
  {
   "cell_type": "code",
   "execution_count": 145,
   "metadata": {
    "collapsed": false
   },
   "outputs": [],
   "source": [
    "# Input lightcurves are lcs_qso_new , and it is an AstroPy Table \n",
    "# Each lightcurve is most easily accessed as a grouped object  by 'ra' : \n",
    "# object_lc = grouped_lcs.groups[i] \n",
    "# \n",
    "object_lc = grouped_lcs.groups[0] \n",
    "mjd = np.array(object_lc['obsmjd'])\n",
    "mags = np.array(object_lc['mag_autocorr'])\n",
    "errs = np.array(object_lc['magerr_auto'])\n",
    "\n",
    "days = np.unique([int(day) for day in mjd])\n",
    "\n",
    "# store values for a given object... \n",
    "mjd_arr = np.zeros_like(days).astype(float)\n",
    "avg_mags = np.zeros_like(days).astype(float)\n",
    "err_weights = np.zeros_like(days).astype(float)  \n",
    "\n",
    "for i in range(len(days)):\n",
    "    day = days[i]\n",
    "    int_mjd = np.require(mjd,int)       # forcing mjd array -> integers\n",
    "    condition = (int_mjd == day)        # finding where int(mjd) = day\n",
    "\n",
    "    w=1.0 / ( errs[condition] * errs[condition]) \n",
    "    avgmag = np.average(mags[condition], weights = w)       \n",
    "    avg_mags[i] = avgmag\n",
    "    error_weights = 1.0 / np.sqrt(np.sum(w))\n",
    "\n",
    "    # increase error if too small \n",
    "    if error_weights < 0.02 : \n",
    "        error_weights = np.sqrt(error_weights**2.0 + 0.01**2.0)  \n",
    "    err_weights[i] = error_weights\n",
    "\n",
    "    mjd_arr[i] = np.mean(mjd[condition])\n",
    "    \n",
    "    "
   ]
  },
  {
   "cell_type": "code",
   "execution_count": 156,
   "metadata": {
    "collapsed": false
   },
   "outputs": [
    {
     "data": {
      "text/plain": [
       "<Container object of 3 artists>"
      ]
     },
     "execution_count": 156,
     "metadata": {},
     "output_type": "execute_result"
    },
    {
     "data": {
      "image/png": "[encoded data removed]",
      "text/plain": [
       "<matplotlib.figure.Figure at 0x11ddf8400>"
      ]
     },
     "metadata": {},
     "output_type": "display_data"
    }
   ],
   "source": [
    "# Plot the original (blue) and the averaged lightcurve (red)...\n",
    "plt.scatter(mjd,mags)\n",
    "plt.errorbar(mjd,mags,errs, ls=\"None\")\n",
    "plt.scatter(mjd_arr, avg_mags, color='red')\n",
    "plt.errorbar(mjd_arr, avg_mags, err_weights, color='red', ls='None')\n"
   ]
  },
  {
   "cell_type": "code",
   "execution_count": 157,
   "metadata": {
    "collapsed": false
   },
   "outputs": [
    {
     "data": {
      "text/plain": [
       "6470"
      ]
     },
     "execution_count": 157,
     "metadata": {},
     "output_type": "execute_result"
    }
   ],
   "source": [
    "len(grouped_lcs.groups.keys)\n",
    "\n"
   ]
  },
  {
   "cell_type": "markdown",
   "metadata": {},
   "source": [
    "Run on all 6470 lightcurves : "
   ]
  },
  {
   "cell_type": "code",
   "execution_count": 160,
   "metadata": {
    "collapsed": true
   },
   "outputs": [],
   "source": [
    "from CRTS_paper_modules import update_progress\n"
   ]
  },
  {
   "cell_type": "code",
   "execution_count": 163,
   "metadata": {
    "collapsed": false
   },
   "outputs": [
    {
     "data": {
      "text/html": [
       "&lt;Table masked=True length=63&gt;\n",
       "<table id=\"table4804956848\" class=\"table-striped table-bordered table-condensed\">\n",
       "<thead><tr><th>cntr_01</th><th>dist_x</th><th>pang_x</th><th>ra_01</th><th>dec_01</th><th>obsmjd</th><th>mag_autocorr</th><th>magerr_auto</th><th>oid</th><th>ra</th><th>dec</th><th>fid</th><th>transient_flag</th><th>astrometricrms</th><th>nobs</th><th>ngoodobs</th><th>nbestobs</th><th>referencemag</th><th>referencemagerr</th><th>medianmag</th><th>bestmedianmag</th><th>meanmag</th><th>bestmeanmag</th><th>magrms</th><th>bestmagrms</th><th>sid</th><th>s_ra</th><th>s_dec</th><th>ptffield</th><th>ccdid</th><th>hmjd</th><th>nid</th><th>mag_auto</th><th>limitmag</th><th>absphotzp</th><th>fwhmsex</th><th>fwhm_image</th><th>qaflags</th><th>flags</th><th>photcalflag</th><th>goodflag</th></tr></thead>\n",
       "<thead><tr><th></th><th>arcsec</th><th>deg</th><th>degrees</th><th>degrees</th><th>days</th><th>mag</th><th>mag</th><th></th><th>degrees</th><th>degrees</th><th></th><th></th><th>degrees</th><th></th><th></th><th></th><th>mag</th><th>mag</th><th>mag</th><th>mag</th><th>mag</th><th>mag</th><th>mag</th><th>mag</th><th></th><th>degrees</th><th>degrees</th><th></th><th></th><th>days</th><th></th><th>mag</th><th>mag</th><th>mag</th><th>arcsec</th><th>pixels</th><th></th><th></th><th>0=No, 1=Yes</th><th>0=No, 1=Yes</th></tr></thead>\n",
       "<thead><tr><th>int64</th><th>float64</th><th>float64</th><th>float64</th><th>float64</th><th>float64</th><th>float64</th><th>float64</th><th>int64</th><th>float64</th><th>float64</th><th>int64</th><th>int64</th><th>float64</th><th>int64</th><th>int64</th><th>int64</th><th>float64</th><th>float64</th><th>float64</th><th>float64</th><th>float64</th><th>float64</th><th>float64</th><th>float64</th><th>int64</th><th>float64</th><th>float64</th><th>int64</th><th>int64</th><th>float64</th><th>int64</th><th>float64</th><th>float64</th><th>float64</th><th>float64</th><th>float64</th><th>int64</th><th>int64</th><th>int64</th><th>int64</th></tr></thead>\n",
       "<tr><td>1211</td><td>0.0</td><td>180.0</td><td>0.049846</td><td>0.040389</td><td>56920.3323372</td><td>17.249</td><td>0.034</td><td>26971060000456</td><td>0.049846</td><td>0.040389</td><td>1</td><td>0</td><td>2.035493e-07</td><td>109</td><td>109</td><td>109</td><td>17.228</td><td>0.004</td><td>17.257</td><td>17.257</td><td>17.287</td><td>17.287</td><td>0.079</td><td>0.079</td><td>21434266001679</td><td>0.049834</td><td>0.040392</td><td>2697</td><td>6</td><td>56920.3380872</td><td>1983</td><td>17.249</td><td>21.592</td><td>27.843</td><td>3.05</td><td>3.56</td><td>0</td><td>131072</td><td>0</td><td>1</td></tr>\n",
       "<tr><td>1211</td><td>0.0</td><td>180.0</td><td>0.049846</td><td>0.040389</td><td>56952.2524972</td><td>17.237</td><td>0.034</td><td>26971060000456</td><td>0.049846</td><td>0.040389</td><td>1</td><td>0</td><td>2.035493e-07</td><td>109</td><td>109</td><td>109</td><td>17.228</td><td>0.004</td><td>17.257</td><td>17.257</td><td>17.287</td><td>17.287</td><td>0.079</td><td>0.079</td><td>21923244001705</td><td>0.049843</td><td>0.040389</td><td>2697</td><td>6</td><td>56952.2576672</td><td>2014</td><td>17.239</td><td>21.624</td><td>27.871</td><td>2.65</td><td>2.912</td><td>0</td><td>131072</td><td>0</td><td>1</td></tr>\n",
       "<tr><td>1211</td><td>0.0</td><td>180.0</td><td>0.049846</td><td>0.040389</td><td>56914.2943372</td><td>17.258</td><td>0.037</td><td>26971060000456</td><td>0.049846</td><td>0.040389</td><td>1</td><td>0</td><td>2.035493e-07</td><td>109</td><td>109</td><td>109</td><td>17.228</td><td>0.004</td><td>17.257</td><td>17.257</td><td>17.287</td><td>17.287</td><td>0.079</td><td>0.079</td><td>21364525001402</td><td>0.049841</td><td>0.040379</td><td>2697</td><td>6</td><td>56914.3000172</td><td>1979</td><td>17.248</td><td>21.014</td><td>27.801</td><td>2.45</td><td>2.836</td><td>0</td><td>131072</td><td>0</td><td>1</td></tr>\n",
       "<tr><td>1211</td><td>0.0</td><td>180.0</td><td>0.049846</td><td>0.040389</td><td>56914.3413172</td><td>17.244</td><td>0.037</td><td>26971060000456</td><td>0.049846</td><td>0.040389</td><td>1</td><td>0</td><td>2.035493e-07</td><td>109</td><td>109</td><td>109</td><td>17.228</td><td>0.004</td><td>17.257</td><td>17.257</td><td>17.287</td><td>17.287</td><td>0.079</td><td>0.079</td><td>21364555001390</td><td>0.04984</td><td>0.040393</td><td>2697</td><td>6</td><td>56914.3469972</td><td>1979</td><td>17.228</td><td>21.027</td><td>27.816</td><td>2.45</td><td>2.618</td><td>0</td><td>131072</td><td>0</td><td>1</td></tr>\n",
       "<tr><td>1211</td><td>0.0</td><td>180.0</td><td>0.049846</td><td>0.040389</td><td>56927.2768872</td><td>17.239</td><td>0.036</td><td>26971060000456</td><td>0.049846</td><td>0.040389</td><td>1</td><td>0</td><td>2.035493e-07</td><td>109</td><td>109</td><td>109</td><td>17.228</td><td>0.004</td><td>17.257</td><td>17.257</td><td>17.287</td><td>17.287</td><td>0.079</td><td>0.079</td><td>21547909001793</td><td>0.049844</td><td>0.040393</td><td>2697</td><td>6</td><td>56927.2826572</td><td>1990</td><td>17.223</td><td>21.705</td><td>27.853</td><td>2.55</td><td>2.977</td><td>0</td><td>131072</td><td>0</td><td>1</td></tr>\n",
       "<tr><td>1211</td><td>0.0</td><td>180.0</td><td>0.049846</td><td>0.040389</td><td>56927.3321972</td><td>17.282</td><td>0.037</td><td>26971060000456</td><td>0.049846</td><td>0.040389</td><td>1</td><td>0</td><td>2.035493e-07</td><td>109</td><td>109</td><td>109</td><td>17.228</td><td>0.004</td><td>17.257</td><td>17.257</td><td>17.287</td><td>17.287</td><td>0.079</td><td>0.079</td><td>21547958001377</td><td>0.049848</td><td>0.040385</td><td>2697</td><td>6</td><td>56927.3379672</td><td>1990</td><td>17.285</td><td>21.307</td><td>27.856</td><td>3.65</td><td>4.108</td><td>0</td><td>131072</td><td>0</td><td>1</td></tr>\n",
       "<tr><td>1211</td><td>0.0</td><td>180.0</td><td>0.049846</td><td>0.040389</td><td>56954.2361372</td><td>17.275</td><td>0.034</td><td>26971060000456</td><td>0.049846</td><td>0.040389</td><td>1</td><td>0</td><td>2.035493e-07</td><td>109</td><td>109</td><td>109</td><td>17.228</td><td>0.004</td><td>17.257</td><td>17.257</td><td>17.287</td><td>17.287</td><td>0.079</td><td>0.079</td><td>21960345001818</td><td>0.049845</td><td>0.040391</td><td>2697</td><td>6</td><td>56954.2412072</td><td>2016</td><td>17.278</td><td>21.51</td><td>27.874</td><td>2.85</td><td>3.055</td><td>0</td><td>131072</td><td>0</td><td>1</td></tr>\n",
       "<tr><td>1211</td><td>0.0</td><td>180.0</td><td>0.049846</td><td>0.040389</td><td>56954.2640372</td><td>17.262</td><td>0.034</td><td>26971060000456</td><td>0.049846</td><td>0.040389</td><td>1</td><td>0</td><td>2.035493e-07</td><td>109</td><td>109</td><td>109</td><td>17.228</td><td>0.004</td><td>17.257</td><td>17.257</td><td>17.287</td><td>17.287</td><td>0.079</td><td>0.079</td><td>21960367001850</td><td>0.049848</td><td>0.040389</td><td>2697</td><td>6</td><td>56954.2691172</td><td>2016</td><td>17.275</td><td>21.709</td><td>27.868</td><td>2.35</td><td>2.585</td><td>0</td><td>131072</td><td>0</td><td>1</td></tr>\n",
       "<tr><td>1211</td><td>0.0</td><td>180.0</td><td>0.049846</td><td>0.040389</td><td>56934.2508172</td><td>17.291</td><td>0.228</td><td>26971060000456</td><td>0.049846</td><td>0.040389</td><td>1</td><td>0</td><td>2.035493e-07</td><td>109</td><td>109</td><td>109</td><td>17.228</td><td>0.004</td><td>17.257</td><td>17.257</td><td>17.287</td><td>17.287</td><td>0.079</td><td>0.079</td><td>21641917000852</td><td>0.049835</td><td>0.040359</td><td>2697</td><td>6</td><td>56934.2565272</td><td>1997</td><td>17.251</td><td>20.191</td><td>27.658</td><td>3.25</td><td>3.64</td><td>0</td><td>131072</td><td>0</td><td>1</td></tr>\n",
       "<tr><td>...</td><td>...</td><td>...</td><td>...</td><td>...</td><td>...</td><td>...</td><td>...</td><td>...</td><td>...</td><td>...</td><td>...</td><td>...</td><td>...</td><td>...</td><td>...</td><td>...</td><td>...</td><td>...</td><td>...</td><td>...</td><td>...</td><td>...</td><td>...</td><td>...</td><td>...</td><td>...</td><td>...</td><td>...</td><td>...</td><td>...</td><td>...</td><td>...</td><td>...</td><td>...</td><td>...</td><td>...</td><td>...</td><td>...</td><td>...</td><td>...</td></tr>\n",
       "<tr><td>1211</td><td>0.0</td><td>180.0</td><td>0.049846</td><td>0.040389</td><td>56921.2836372</td><td>17.241</td><td>0.034</td><td>26971060000456</td><td>0.049846</td><td>0.040389</td><td>1</td><td>0</td><td>2.035493e-07</td><td>109</td><td>109</td><td>109</td><td>17.228</td><td>0.004</td><td>17.257</td><td>17.257</td><td>17.287</td><td>17.287</td><td>0.079</td><td>0.079</td><td>21452238001865</td><td>0.049835</td><td>0.040395</td><td>2697</td><td>6</td><td>56921.2893972</td><td>1984</td><td>17.235</td><td>21.781</td><td>27.878</td><td>2.35</td><td>2.677</td><td>0</td><td>131072</td><td>0</td><td>1</td></tr>\n",
       "<tr><td>1211</td><td>0.0</td><td>180.0</td><td>0.049846</td><td>0.040389</td><td>56921.3307072</td><td>17.23</td><td>0.034</td><td>26971060000456</td><td>0.049846</td><td>0.040389</td><td>1</td><td>0</td><td>2.035493e-07</td><td>109</td><td>109</td><td>109</td><td>17.228</td><td>0.004</td><td>17.257</td><td>17.257</td><td>17.287</td><td>17.287</td><td>0.079</td><td>0.079</td><td>21452282001892</td><td>0.049842</td><td>0.040385</td><td>2697</td><td>6</td><td>56921.3364672</td><td>1984</td><td>17.235</td><td>21.831</td><td>27.893</td><td>2.45</td><td>2.728</td><td>0</td><td>131072</td><td>0</td><td>1</td></tr>\n",
       "<tr><td>1211</td><td>0.0</td><td>180.0</td><td>0.049846</td><td>0.040389</td><td>56903.3206572</td><td>17.223</td><td>0.033</td><td>26971060000456</td><td>0.049846</td><td>0.040389</td><td>1</td><td>0</td><td>2.035493e-07</td><td>109</td><td>109</td><td>109</td><td>17.228</td><td>0.004</td><td>17.257</td><td>17.257</td><td>17.287</td><td>17.287</td><td>0.079</td><td>0.079</td><td>21305652002080</td><td>0.049843</td><td>0.040394</td><td>2697</td><td>6</td><td>56903.3260372</td><td>1968</td><td>17.238</td><td>21.936</td><td>27.91</td><td>2.35</td><td>2.661</td><td>0</td><td>131072</td><td>0</td><td>1</td></tr>\n",
       "<tr><td>1211</td><td>0.0</td><td>180.0</td><td>0.049846</td><td>0.040389</td><td>56903.3503472</td><td>17.222</td><td>0.033</td><td>26971060000456</td><td>0.049846</td><td>0.040389</td><td>1</td><td>0</td><td>2.035493e-07</td><td>109</td><td>109</td><td>109</td><td>17.228</td><td>0.004</td><td>17.257</td><td>17.257</td><td>17.287</td><td>17.287</td><td>0.079</td><td>0.079</td><td>21305673002141</td><td>0.049846</td><td>0.040395</td><td>2697</td><td>6</td><td>56903.3557272</td><td>1968</td><td>17.231</td><td>22.029</td><td>27.916</td><td>2.25</td><td>2.492</td><td>0</td><td>131072</td><td>0</td><td>1</td></tr>\n",
       "<tr><td>1211</td><td>0.0</td><td>180.0</td><td>0.049846</td><td>0.040389</td><td>56956.2194772</td><td>17.258</td><td>0.275</td><td>26971060000456</td><td>0.049846</td><td>0.040389</td><td>1</td><td>0</td><td>2.035493e-07</td><td>109</td><td>109</td><td>109</td><td>17.228</td><td>0.004</td><td>17.257</td><td>17.257</td><td>17.287</td><td>17.287</td><td>0.079</td><td>0.079</td><td>21999978001751</td><td>0.049851</td><td>0.040404</td><td>2697</td><td>6</td><td>56956.2244572</td><td>2018</td><td>16.714</td><td>21.06</td><td>27.295</td><td>2.55</td><td>2.911</td><td>0</td><td>131072</td><td>0</td><td>1</td></tr>\n",
       "<tr><td>1211</td><td>0.0</td><td>180.0</td><td>0.049846</td><td>0.040389</td><td>56956.2470472</td><td>17.236</td><td>0.275</td><td>26971060000456</td><td>0.049846</td><td>0.040389</td><td>1</td><td>0</td><td>2.035493e-07</td><td>109</td><td>109</td><td>109</td><td>17.228</td><td>0.004</td><td>17.257</td><td>17.257</td><td>17.287</td><td>17.287</td><td>0.079</td><td>0.079</td><td>22000002001803</td><td>0.049853</td><td>0.040388</td><td>2697</td><td>6</td><td>56956.2520272</td><td>2018</td><td>16.63</td><td>21.012</td><td>27.237</td><td>2.55</td><td>2.841</td><td>0</td><td>131072</td><td>0</td><td>1</td></tr>\n",
       "<tr><td>1211</td><td>0.0</td><td>180.0</td><td>0.049846</td><td>0.040389</td><td>56931.3043172</td><td>17.25</td><td>0.033</td><td>26971060000456</td><td>0.049846</td><td>0.040389</td><td>1</td><td>0</td><td>2.035493e-07</td><td>109</td><td>109</td><td>109</td><td>17.228</td><td>0.004</td><td>17.257</td><td>17.257</td><td>17.287</td><td>17.287</td><td>0.079</td><td>0.079</td><td>22270358001793</td><td>0.049849</td><td>0.040392</td><td>2697</td><td>6</td><td>56931.3100572</td><td>1994</td><td>17.249</td><td>21.684</td><td>27.87</td><td>2.55</td><td>2.789</td><td>0</td><td>131072</td><td>0</td><td>1</td></tr>\n",
       "<tr><td>1211</td><td>0.0</td><td>180.0</td><td>0.049846</td><td>0.040389</td><td>56931.3502272</td><td>17.227</td><td>0.033</td><td>26971060000456</td><td>0.049846</td><td>0.040389</td><td>1</td><td>0</td><td>2.035493e-07</td><td>109</td><td>109</td><td>109</td><td>17.228</td><td>0.004</td><td>17.257</td><td>17.257</td><td>17.287</td><td>17.287</td><td>0.079</td><td>0.079</td><td>22270396001813</td><td>0.049856</td><td>0.040394</td><td>2697</td><td>6</td><td>56931.3559772</td><td>1994</td><td>17.227</td><td>21.715</td><td>27.861</td><td>2.45</td><td>2.8</td><td>0</td><td>131072</td><td>0</td><td>1</td></tr>\n",
       "<tr><td>1211</td><td>0.0</td><td>180.0</td><td>0.049846</td><td>0.040389</td><td>56952.2250972</td><td>17.267</td><td>0.034</td><td>26971060000456</td><td>0.049846</td><td>0.040389</td><td>1</td><td>0</td><td>2.035493e-07</td><td>109</td><td>109</td><td>109</td><td>17.228</td><td>0.004</td><td>17.257</td><td>17.257</td><td>17.287</td><td>17.287</td><td>0.079</td><td>0.079</td><td>21923204001869</td><td>0.049842</td><td>0.04039</td><td>2697</td><td>6</td><td>56952.2302572</td><td>2014</td><td>17.266</td><td>21.705</td><td>27.868</td><td>2.45</td><td>2.787</td><td>0</td><td>131072</td><td>0</td><td>1</td></tr>\n",
       "<tr><td>1211</td><td>0.0</td><td>180.0</td><td>0.049846</td><td>0.040389</td><td>56920.3795372</td><td>17.249</td><td>0.034</td><td>26971060000456</td><td>0.049846</td><td>0.040389</td><td>1</td><td>0</td><td>2.035493e-07</td><td>109</td><td>109</td><td>109</td><td>17.228</td><td>0.004</td><td>17.257</td><td>17.257</td><td>17.287</td><td>17.287</td><td>0.079</td><td>0.079</td><td>21434304001696</td><td>0.04985</td><td>0.040395</td><td>2697</td><td>6</td><td>56920.3852872</td><td>1983</td><td>17.254</td><td>21.602</td><td>27.83</td><td>3.05</td><td>3.316</td><td>0</td><td>131072</td><td>0</td><td>1</td></tr>\n",
       "</table>"
      ],
      "text/plain": [
       "<Table masked=True length=63>\n",
       "cntr_01  dist_x  pang_x  ra_01   ... qaflags flags  photcalflag   goodflag \n",
       "         arcsec   deg   degrees  ...                0=No, 1=Yes 0=No, 1=Yes\n",
       " int64  float64 float64 float64  ...  int64  int64     int64       int64   \n",
       "------- ------- ------- -------- ... ------- ------ ----------- -----------\n",
       "   1211     0.0   180.0 0.049846 ...       0 131072           0           1\n",
       "   1211     0.0   180.0 0.049846 ...       0 131072           0           1\n",
       "   1211     0.0   180.0 0.049846 ...       0 131072           0           1\n",
       "   1211     0.0   180.0 0.049846 ...       0 131072           0           1\n",
       "   1211     0.0   180.0 0.049846 ...       0 131072           0           1\n",
       "   1211     0.0   180.0 0.049846 ...       0 131072           0           1\n",
       "   1211     0.0   180.0 0.049846 ...       0 131072           0           1\n",
       "   1211     0.0   180.0 0.049846 ...       0 131072           0           1\n",
       "   1211     0.0   180.0 0.049846 ...       0 131072           0           1\n",
       "    ...     ...     ...      ... ...     ...    ...         ...         ...\n",
       "   1211     0.0   180.0 0.049846 ...       0 131072           0           1\n",
       "   1211     0.0   180.0 0.049846 ...       0 131072           0           1\n",
       "   1211     0.0   180.0 0.049846 ...       0 131072           0           1\n",
       "   1211     0.0   180.0 0.049846 ...       0 131072           0           1\n",
       "   1211     0.0   180.0 0.049846 ...       0 131072           0           1\n",
       "   1211     0.0   180.0 0.049846 ...       0 131072           0           1\n",
       "   1211     0.0   180.0 0.049846 ...       0 131072           0           1\n",
       "   1211     0.0   180.0 0.049846 ...       0 131072           0           1\n",
       "   1211     0.0   180.0 0.049846 ...       0 131072           0           1\n",
       "   1211     0.0   180.0 0.049846 ...       0 131072           0           1"
      ]
     },
     "execution_count": 163,
     "metadata": {},
     "output_type": "execute_result"
    }
   ],
   "source": [
    "grouped_lcs.groups[0]\n"
   ]
  },
  {
   "cell_type": "code",
   "execution_count": 178,
   "metadata": {
    "collapsed": false
   },
   "outputs": [
    {
     "name": "stdout",
     "output_type": "stream",
     "text": [
      "[######### ] 99.00%"
     ]
    }
   ],
   "source": [
    "dir_out = '../proc_LC_PTF/qso/'\n",
    "number_of_lightcurves = len(grouped_lcs.groups.keys)\n",
    "keys = np.array(grouped_lcs.groups.keys)\n",
    "\n",
    "for k in range(number_of_lightcurves):\n",
    "    \n",
    "    percent = 100*(k / number_of_lightcurves)\n",
    "    if (k % 10) == 0 : # every tenth loop.. \n",
    "        update_progress(int(percent))\n",
    "    \n",
    "    object_lc = grouped_lcs.groups[k] \n",
    "    mjd = np.array(object_lc['obsmjd'])\n",
    "    mags = np.array(object_lc['mag_autocorr'])\n",
    "    errs = np.array(object_lc['magerr_auto'])\n",
    "\n",
    "    days = np.unique([int(day) for day in mjd])\n",
    "\n",
    "    # store values for a given object... \n",
    "    mjd_arr = np.zeros_like(days).astype(float)\n",
    "    avg_mags = np.zeros_like(days).astype(float)\n",
    "    err_weights = np.zeros_like(days).astype(float)  \n",
    "    N_per_day = np.zeros_like(days).astype(float)\n",
    "    \n",
    "    for i in range(len(days)):\n",
    "        day = days[i]\n",
    "        int_mjd = np.require(mjd,int)       # forcing mjd array -> integers\n",
    "        condition = (int_mjd == day)        # finding where int(mjd) = day\n",
    "        \n",
    "        # number of obs in that night \n",
    "        N_per_day[i] = float(len(mags[condition]))\n",
    "        \n",
    "        w=1.0 / ( errs[condition] * errs[condition]) \n",
    "        avgmag = np.average(mags[condition], weights = w)       \n",
    "        avg_mags[i] = avgmag\n",
    "        error_weights = 1.0 / np.sqrt(np.sum(w))\n",
    "\n",
    "        # increase error if too small \n",
    "        if error_weights < 0.02 : \n",
    "            error_weights = np.sqrt(error_weights**2.0 + 0.01**2.0)  \n",
    "        err_weights[i] = error_weights\n",
    "\n",
    "        mjd_arr[i] = np.mean(mjd[condition])\n",
    "\n",
    "      \n",
    "    # Save the output... \n",
    "    # Once per lightcurve \n",
    "    # ONLY IF THERE IS MORE THAN 10 OBS ! \n",
    "    \n",
    "    if( len(mjd_arr) >  10 ) :\n",
    "        object_name = str(keys[k][0])\n",
    "        name_out = dir_out  + object_name +'.txt'\n",
    "        np.savetxt(name_out, np.column_stack((mjd_arr,avg_mags, err_weights, N_per_day)),fmt='%11.4f')\n",
    "        \n",
    "print('finished')"
   ]
  },
  {
   "cell_type": "code",
   "execution_count": null,
   "metadata": {
    "collapsed": true
   },
   "outputs": [],
   "source": []
  },
  {
   "cell_type": "code",
   "execution_count": 224,
   "metadata": {
    "collapsed": false
   },
   "outputs": [
    {
     "data": {
      "text/html": [
       "&lt;Table masked=True length=6470&gt;\n",
       "<table id=\"table5186420464\" class=\"table-striped table-bordered table-condensed\">\n",
       "<thead><tr><th>ra_sdss</th><th>dec_sdss</th><th>oid</th><th>avg_err</th><th>avg_mag</th><th>mjd_span</th><th>lc_length</th></tr></thead>\n",
       "<thead><tr><th>degrees</th><th>degrees</th><th></th><th>mag</th><th>mag</th><th>days</th><th>degrees</th></tr></thead>\n",
       "<thead><tr><th>float64</th><th>float64</th><th>float64</th><th>float64</th><th>float64</th><th>float64</th><th>int64</th></tr></thead>\n",
       "<tr><td>0.049846</td><td>0.040389</td><td>2.69710600005e+13</td><td>0.0484603174603</td><td>17.2498571429</td><td>54.92261</td><td>63</td></tr>\n",
       "<tr><td>0.061789</td><td>-1.175205</td><td>2.59220600024e+13</td><td>0.128666666667</td><td>19.9896666667</td><td>1056.22068</td><td>3</td></tr>\n",
       "<tr><td>0.074522</td><td>0.436856</td><td>2.69710600019e+13</td><td>0.108683333333</td><td>20.1102666667</td><td>54.92261</td><td>60</td></tr>\n",
       "<tr><td>0.178728</td><td>0.927669</td><td>2.25921000005e+14</td><td>0.032</td><td>18.2735</td><td>0.0390999999945</td><td>2</td></tr>\n",
       "<tr><td>0.193409</td><td>1.239113</td><td>2.69720000006e+13</td><td>0.1502</td><td>20.2062</td><td>1863.83628</td><td>5</td></tr>\n",
       "<tr><td>0.214843</td><td>0.200738</td><td>2.25922000002e+14</td><td>0.1259</td><td>20.2657</td><td>70.9601</td><td>20</td></tr>\n",
       "<tr><td>0.225083</td><td>0.917532</td><td>2.69710600037e+13</td><td>0.115596774194</td><td>20.2757741935</td><td>54.92261</td><td>62</td></tr>\n",
       "<tr><td>0.22903</td><td>1.028718</td><td>2.69720600029e+13</td><td>0.1</td><td>19.5462</td><td>1891.8302</td><td>5</td></tr>\n",
       "<tr><td>0.244902</td><td>0.586288</td><td>2.69720600019e+13</td><td>0.0928333333333</td><td>19.3371666667</td><td>1891.8302</td><td>6</td></tr>\n",
       "<tr><td>...</td><td>...</td><td>...</td><td>...</td><td>...</td><td>...</td><td>...</td></tr>\n",
       "<tr><td>359.820938</td><td>-1.174725</td><td>2.69621100034e+13</td><td>0.0794545454545</td><td>17.8704090909</td><td>470.86651</td><td>22</td></tr>\n",
       "<tr><td>359.822694</td><td>1.200229</td><td>2.80120500005e+13</td><td>0.120576923077</td><td>20.0369230769</td><td>1931.8716</td><td>26</td></tr>\n",
       "<tr><td>359.829693</td><td>0.174204</td><td>2.26962050001e+14</td><td>0.0891578947368</td><td>19.723</td><td>412.94923</td><td>19</td></tr>\n",
       "<tr><td>359.837189</td><td>0.98199</td><td>2.26962050008e+14</td><td>0.123210526316</td><td>20.3201578947</td><td>412.94923</td><td>19</td></tr>\n",
       "<tr><td>359.859383</td><td>-0.797318</td><td>2.26962110003e+14</td><td>0.081</td><td>19.4673684211</td><td>412.94923</td><td>19</td></tr>\n",
       "<tr><td>359.863175</td><td>-0.034679</td><td>2.801211e+13</td><td>0.0953333333333</td><td>19.7042666667</td><td>1931.90252</td><td>30</td></tr>\n",
       "<tr><td>359.876765</td><td>0.626013</td><td>2.80121100022e+13</td><td>0.0594545454545</td><td>18.7876969697</td><td>1931.90252</td><td>33</td></tr>\n",
       "<tr><td>359.906615</td><td>0.706468</td><td>2.80121100026e+13</td><td>0.12172</td><td>20.2422</td><td>469.87201</td><td>25</td></tr>\n",
       "<tr><td>359.926453</td><td>0.227288</td><td>2.80121100007e+13</td><td>0.10025</td><td>19.7826875</td><td>1931.90252</td><td>32</td></tr>\n",
       "<tr><td>359.950384</td><td>0.208232</td><td>2.80121100006e+13</td><td>0.143153846154</td><td>20.2015</td><td>1931.90252</td><td>26</td></tr>\n",
       "</table>"
      ],
      "text/plain": [
       "<Table masked=True length=6470>\n",
       " ra_sdss    dec_sdss        oid        ...     mjd_span    lc_length\n",
       " degrees    degrees                    ...       days       degrees \n",
       " float64    float64       float64      ...     float64       int64  \n",
       "---------- --------- ----------------- ... --------------- ---------\n",
       "  0.049846  0.040389 2.69710600005e+13 ...        54.92261        63\n",
       "  0.061789 -1.175205 2.59220600024e+13 ...      1056.22068         3\n",
       "  0.074522  0.436856 2.69710600019e+13 ...        54.92261        60\n",
       "  0.178728  0.927669 2.25921000005e+14 ... 0.0390999999945         2\n",
       "  0.193409  1.239113 2.69720000006e+13 ...      1863.83628         5\n",
       "  0.214843  0.200738 2.25922000002e+14 ...         70.9601        20\n",
       "  0.225083  0.917532 2.69710600037e+13 ...        54.92261        62\n",
       "   0.22903  1.028718 2.69720600029e+13 ...       1891.8302         5\n",
       "  0.244902  0.586288 2.69720600019e+13 ...       1891.8302         6\n",
       "       ...       ...               ... ...             ...       ...\n",
       "359.820938 -1.174725 2.69621100034e+13 ...       470.86651        22\n",
       "359.822694  1.200229 2.80120500005e+13 ...       1931.8716        26\n",
       "359.829693  0.174204 2.26962050001e+14 ...       412.94923        19\n",
       "359.837189   0.98199 2.26962050008e+14 ...       412.94923        19\n",
       "359.859383 -0.797318 2.26962110003e+14 ...       412.94923        19\n",
       "359.863175 -0.034679      2.801211e+13 ...      1931.90252        30\n",
       "359.876765  0.626013 2.80121100022e+13 ...      1931.90252        33\n",
       "359.906615  0.706468 2.80121100026e+13 ...       469.87201        25\n",
       "359.926453  0.227288 2.80121100007e+13 ...      1931.90252        32\n",
       "359.950384  0.208232 2.80121100006e+13 ...      1931.90252        26"
      ]
     },
     "execution_count": 224,
     "metadata": {},
     "output_type": "execute_result"
    }
   ],
   "source": []
  },
  {
   "cell_type": "markdown",
   "metadata": {},
   "source": [
    "## Statistics on the day-averaged LC"
   ]
  },
  {
   "cell_type": "markdown",
   "metadata": {},
   "source": [
    "Here I add to the raw LC statistics (agg_info), the statistics on day-averaged lightcurves.\n",
    "Thus necessarily I select only those rows that correspond to objects \n",
    "that had a day-averaged lightcurve longer than 10 days, so that they made it to \n",
    "proc_LC_PTF/  directory . "
   ]
  },
  {
   "cell_type": "markdown",
   "metadata": {},
   "source": [
    "avg_err :  average of raw PTF errors over all epochs\n",
    "\n",
    "avg_mag : average of raw PTF magnitudes over all epochs\n",
    "\n",
    "mjd_span : min(mjd) - max(mjd), before day-averaging \n",
    " \n",
    "lc_length : number of epochs before day-averaging "
   ]
  },
  {
   "cell_type": "code",
   "execution_count": 285,
   "metadata": {
    "collapsed": true
   },
   "outputs": [],
   "source": [
    "from astropy.table import Table\n",
    "\n",
    "# Read in the previously saved stats on aggregate data for all objects \n",
    "address = '../data_products/PTF_qso_raw_agg_info.dat' \n",
    "raw_agg_info = Table.read(address,format='ascii' )\n",
    "\n",
    "\n"
   ]
  },
  {
   "cell_type": "code",
   "execution_count": 286,
   "metadata": {
    "collapsed": false
   },
   "outputs": [],
   "source": [
    "ra_info = np.array(agg_info['ra_sdss']).astype(str)\n",
    "\n",
    "dir_in = '../proc_LC_PTF/qso/'\n",
    "files = np.array(listdir(dir_in))\n",
    "ra_files = np.array([name[:-4] for name in files])\n",
    "\n",
    "# Choose only those PTF aggregate info about lightcurves that \n",
    "# during day-averaging were found to have at least day-averaged 10 epochs  (10 separate days of observations)\n",
    "\n",
    "raw_agg_info_select = raw_agg_info[np.in1d(ra_info, ra_files)]\n",
    "\n"
   ]
  },
  {
   "cell_type": "code",
   "execution_count": 287,
   "metadata": {
    "collapsed": false
   },
   "outputs": [
    {
     "name": "stdout",
     "output_type": "stream",
     "text": [
      "Only 2753 quasars out of 6470 have more than 10 days of obs \n"
     ]
    }
   ],
   "source": [
    "print('Only %d quasars out of %d have more than 10 days of obs '%(len(raw_agg_info_select),len(raw_agg_info)))\n",
    "      "
   ]
  },
  {
   "cell_type": "code",
   "execution_count": 277,
   "metadata": {
    "collapsed": false
   },
   "outputs": [
    {
     "name": "stdout",
     "output_type": "stream",
     "text": [
      "[######### ] 99.00%"
     ]
    }
   ],
   "source": [
    "# the files below are only for those quasars that have\n",
    "# more than 10 observations per day... \n",
    "# agg_info.write('../data_products/PTF_qso_aggregate_info.dat', format='ascii', overwrite='True')\n",
    "\n",
    "\n",
    "\n",
    "ra_files = np.array([name[:-4] for name in files])\n",
    "# make new columns:\n",
    "#avg_day_err :  the average of processed lightcurves errors \n",
    "#avg_day_mag : the average of processed lightcurves magnitudes \n",
    "# \n",
    "# make an array for storing total timespan of obs per object, \n",
    "# as well as the total number of nights per object\n",
    "proc_mjd_span = np.zeros_like(files, dtype=float) # store what was the total  timespan of observations per object\n",
    "proc_lc_length=np.zeros_like(files, dtype=float) # number of points in the lightcurve - equal to the number of obs nights\n",
    "avg_N_per_day = np.zeros_like(files, dtype=float)\n",
    "avg_day_mag = np.zeros_like(files, dtype=float)\n",
    "avg_day_err = np.zeros_like(files, dtype=float)\n",
    "avg_mjd_diff= np.zeros_like(files, dtype=float)\n",
    "\n",
    "k = 0\n",
    "total = float(len(files))\n",
    "\n",
    "for i in range(len(files)):\n",
    "    percent = 100*(k / total)\n",
    "    if (k % 10) == 0 : # every tenth loop.. \n",
    "        update_progress(int(percent))\n",
    "    k += 1\n",
    "    # choose processed lightcurves according to \n",
    "    # order of the aggregate info \n",
    "    # then rows will match . \n",
    "    \n",
    "    ra_sdss = str(agg_info_select['ra_sdss'][i])\n",
    "    address=dir_in+files[ra_files == ra_sdss][0]\n",
    "    \n",
    "    data=np.loadtxt(address) \n",
    "    proc_lc_length[i] = sum(1 for line in open(address))\n",
    "    avg_day_mag[i] = np.mean(data[:,1])\n",
    "    avg_day_err[i] = np.mean(data[:,2])\n",
    "    avg_N_per_day[i] = np.mean(data[:,3])\n",
    "    proc_mjd_span[i] = data[-1,0]-data[0,0]  # gives number of days between first and last obs\n",
    "    \n",
    "        #mjd_diff = np.zeros(len(data[:,0]))\n",
    "    #for j in range(len(data)-1):\n",
    "    #    mjd_diff[j] = data[j+1,0] - data[j,0]\n",
    "    #avg_mjd_diff[i] = np.mean(mjd_diff)     # avg span between obs in MJD    \n",
    "    \n",
    "keys = ['ra_files', 'proc_mjd_span', 'proc_lc_length', 'avg_N_per_day', 'avg_day_mag', 'avg_day_err']\n",
    "values = [np.array(ra_files).astype(float), proc_mjd_span,proc_lc_length,avg_N_per_day,avg_mag_ttl,avg_err_ttl]\n",
    "\n",
    "\n",
    "stats_proc_lc ={}\n",
    "for key, value in zip(keys, values):\n",
    "    stats_proc_lc[key] = value\n",
    "    \n",
    "    \n",
    "    "
   ]
  },
  {
   "cell_type": "code",
   "execution_count": 278,
   "metadata": {
    "collapsed": false
   },
   "outputs": [
    {
     "data": {
      "text/html": [
       "&lt;Table length=6&gt;\n",
       "<table id=\"table4883002088\" class=\"table-striped table-bordered table-condensed\">\n",
       "<thead><tr><th>avg_day_mag</th><th>proc_mjd_span</th><th>ra_files</th><th>avg_day_err</th><th>avg_N_per_day</th><th>proc_lc_length</th></tr></thead>\n",
       "<thead><tr><th>float64</th><th>float64</th><th>float64</th><th>float64</th><th>float64</th><th>float64</th></tr></thead>\n",
       "<tr><td>17.2495</td><td>54.8939</td><td>0.049846</td><td>0.0389971428571</td><td>1.8</td><td>35.0</td></tr>\n",
       "<tr><td>20.0987352941</td><td>54.8939</td><td>0.074522</td><td>0.0838117647059</td><td>1.76470588235</td><td>34.0</td></tr>\n",
       "<tr><td>20.2590382353</td><td>54.8939</td><td>0.225083</td><td>0.0896970588235</td><td>1.82352941176</td><td>34.0</td></tr>\n",
       "<tr><td>19.4490371429</td><td>1122.9245</td><td>0.331011</td><td>0.0621857142857</td><td>1.88571428571</td><td>35.0</td></tr>\n",
       "<tr><td>20.4550266667</td><td>54.8939</td><td>0.91298</td><td>0.117276666667</td><td>1.6</td><td>30.0</td></tr>\n",
       "<tr><td>18.9295514286</td><td>1122.9245</td><td>1.148971</td><td>0.0567</td><td>1.91428571429</td><td>35.0</td></tr>\n",
       "</table>"
      ],
      "text/plain": [
       "<Table length=6>\n",
       " avg_day_mag  proc_mjd_span ra_files ... avg_N_per_day proc_lc_length\n",
       "   float64       float64    float64  ...    float64       float64    \n",
       "------------- ------------- -------- ... ------------- --------------\n",
       "      17.2495       54.8939 0.049846 ...           1.8           35.0\n",
       "20.0987352941       54.8939 0.074522 ... 1.76470588235           34.0\n",
       "20.2590382353       54.8939 0.225083 ... 1.82352941176           34.0\n",
       "19.4490371429     1122.9245 0.331011 ... 1.88571428571           35.0\n",
       "20.4550266667       54.8939  0.91298 ...           1.6           30.0\n",
       "18.9295514286     1122.9245 1.148971 ... 1.91428571429           35.0"
      ]
     },
     "execution_count": 278,
     "metadata": {},
     "output_type": "execute_result"
    }
   ],
   "source": [
    "# make an Astropy table from these stats, and add it to agg_info_selected \n",
    "\n",
    "stats = Table(stats_proc_lc)\n",
    "stats[:6]\n",
    "\n"
   ]
  },
  {
   "cell_type": "code",
   "execution_count": 279,
   "metadata": {
    "collapsed": true
   },
   "outputs": [],
   "source": [
    "stats.rename_column('ra_files', 'ra_sdss')"
   ]
  },
  {
   "cell_type": "code",
   "execution_count": 280,
   "metadata": {
    "collapsed": false
   },
   "outputs": [],
   "source": [
    "#http://docs.astropy.org/en/stable/api/astropy.table.join.html\n",
    "# beautiful examples \n",
    "# https://star.herts.ac.uk/~gb/python/14-astropy-tables.html  \n",
    "from astropy.table import join\n",
    "agg_info_merged = join(left=raw_agg_info_select, right = stats, keys='ra_sdss')\n"
   ]
  },
  {
   "cell_type": "code",
   "execution_count": 284,
   "metadata": {
    "collapsed": false
   },
   "outputs": [],
   "source": [
    "#  Save the combined catalog, with both raw lightcurve aggregates, and processed lightcurve aggregates \n",
    "# this is the master catalog combining all the PTF information about quasars in one place \n",
    "\n",
    "\n",
    "agg_info_merged.write('../data_products/PTF_qso_raw_and_proc_combined_agg_info_2753.dat', format='ascii', overwrite='True')\n",
    "\n"
   ]
  },
  {
   "cell_type": "code",
   "execution_count": 283,
   "metadata": {
    "collapsed": false
   },
   "outputs": [
    {
     "data": {
      "text/plain": [
       "['ra_sdss',\n",
       " 'dec_sdss',\n",
       " 'oid',\n",
       " 'avg_err',\n",
       " 'avg_mag',\n",
       " 'mjd_span',\n",
       " 'lc_length',\n",
       " 'avg_day_mag',\n",
       " 'proc_mjd_span',\n",
       " 'avg_day_err',\n",
       " 'avg_N_per_day',\n",
       " 'proc_lc_length']"
      ]
     },
     "execution_count": 283,
     "metadata": {},
     "output_type": "execute_result"
    }
   ],
   "source": [
    "agg_info_merged.colnames\n",
    "\n"
   ]
  },
  {
   "cell_type": "markdown",
   "metadata": {},
   "source": [
    "## Compare before and after day-averaging: plot error and mag distribution "
   ]
  },
  {
   "cell_type": "code",
   "execution_count": 289,
   "metadata": {
    "collapsed": false
   },
   "outputs": [
    {
     "data": {
      "text/plain": [
       "array([ 0.23379035,  0.61212027,  0.40945688,  0.19647036,  0.72936668,\n",
       "        0.87329424,  0.97189702,  0.8041134 ,  0.50850535,  0.69234322])"
      ]
     },
     "execution_count": 289,
     "metadata": {},
     "output_type": "execute_result"
    }
   ],
   "source": []
  },
  {
   "cell_type": "code",
   "execution_count": 187,
   "metadata": {
    "collapsed": false
   },
   "outputs": [
    {
     "data": {
      "text/plain": [
       "<matplotlib.text.Text at 0x11d988e48>"
      ]
     },
     "execution_count": 187,
     "metadata": {},
     "output_type": "execute_result"
    },
    {
     "data": {
      "image/png": "[encoded data removed]",
      "text/plain": [
       "<matplotlib.figure.Figure at 0x11ee7d518>"
      ]
     },
     "metadata": {},
     "output_type": "display_data"
    }
   ],
   "source": [
    "m = (stats_proc_lc['mag']>15)*(stats_proc_lc['mag']<22)\n",
    "#plt.hist(mag_list[m])\n",
    "\n",
    "#sns.set_context('talk')\n",
    "fig,ax = plt.subplots(1,1)\n",
    "nbins=30\n",
    "# Calculate the histogram1 : individual epoch brightness measurements \n",
    "hist1, bin_edges = np.histogram(stats_proc_lc['mag'][m], bins=nbins, density=True)\n",
    "bin_centres1 = (bin_edges[:-1] + bin_edges[1:])/2\n",
    "\n",
    "# Calculate the histogram2 : day-averaged brightness measurements \n",
    "hist2, bin_edges = np.histogram(stats_after['avg_mag'], bins=nbins, density=True)\n",
    "bin_centres2 = (bin_edges[:-1] + bin_edges[1:])/2\n",
    "\n",
    "ax.plot(bin_centres1, hist1, ls = 'steps', label=r'$m_{i}$')\n",
    "ax.plot(bin_centres2, hist2, ls = 'steps', label=r'$\\langle m_{i}\\rangle_{day}$')\n",
    "plt.legend(loc='best')\n",
    "ax.set_ylabel('Density (normalized)')\n",
    "ax.set_xlabel('PTF Brightness at each epoch [mag]')"
   ]
  },
  {
   "cell_type": "code",
   "execution_count": null,
   "metadata": {
    "collapsed": true
   },
   "outputs": [],
   "source": []
  },
  {
   "cell_type": "code",
   "execution_count": 198,
   "metadata": {
    "collapsed": false
   },
   "outputs": [
    {
     "data": {
      "text/plain": [
       "<matplotlib.text.Text at 0x134fc4588>"
      ]
     },
     "execution_count": 198,
     "metadata": {},
     "output_type": "execute_result"
    },
    {
     "data": {
      "image/png": "[encoded data removed]",
      "text/plain": [
       "<matplotlib.figure.Figure at 0x135287b38>"
      ]
     },
     "metadata": {},
     "output_type": "display_data"
    }
   ],
   "source": [
    "#import seaborn as sns\n",
    "#sns.set_context('talk')\n",
    "fig,ax = plt.subplots(1,1)\n",
    "nbins=30\n",
    "# Calculate the histogram1 : new day-averages\n",
    "hist1, bin_edges = np.histogram(stats_proc_lc['err'][stats_proc_lc['err']<0.6], bins=nbins, density=True)\n",
    "bin_centres1 = (bin_edges[:-1] + bin_edges[1:])/2\n",
    "\n",
    "# Calculate the histogram2 : old day-averages\n",
    "hist2, bin_edges = np.histogram(stats_proc_lc['avg_err'], bins=nbins, density=True)\n",
    "bin_centres2 = (bin_edges[:-1] + bin_edges[1:])/2\n",
    "\n",
    "ax.plot(bin_centres1, hist1, ls = 'steps', label=r'$ e_{i} $')\n",
    "ax.plot(bin_centres2, hist2, ls = 'steps', label=r'$\\langle e_{i} \\rangle $')\n",
    "plt.legend(loc='best')\n",
    "ax.set_ylabel('Density (normalized)')\n",
    "ax.set_xlabel('Photometric error PTF [mag]')"
   ]
  },
  {
   "cell_type": "markdown",
   "metadata": {},
   "source": []
  },
  {
   "cell_type": "markdown",
   "metadata": {},
   "source": [
    "## Compare PTF r mag  with SDSS r mag  for QSO"
   ]
  },
  {
   "cell_type": "code",
   "execution_count": 197,
   "metadata": {
    "collapsed": false
   },
   "outputs": [
    {
     "name": "stdout",
     "output_type": "stream",
     "text": [
      "Zipping CRTS-SDSS quasars catalog from ../data_products/CRTS_SDSS_cross_matched_qso_DB_QSO_catalog.txt\n",
      "Read in 7601 quasars from CRTS\n"
     ]
    }
   ],
   "source": [
    "import CRTS_paper_modules as mod\n",
    "cols1, qso_cat = mod.get_qso_catalog() \n"
   ]
  },
  {
   "cell_type": "code",
   "execution_count": 210,
   "metadata": {
    "collapsed": false
   },
   "outputs": [],
   "source": [
    "address = '../data_products/PTF_qso_aggregate_info.dat'\n",
    "ptf_agg_info = Table.read(address,format='ascii' )"
   ]
  },
  {
   "cell_type": "code",
   "execution_count": 217,
   "metadata": {
    "collapsed": false
   },
   "outputs": [
    {
     "data": {
      "text/plain": [
       "6470"
      ]
     },
     "execution_count": 217,
     "metadata": {},
     "output_type": "execute_result"
    }
   ],
   "source": [
    "len(ptf_agg_info)"
   ]
  },
  {
   "cell_type": "code",
   "execution_count": 215,
   "metadata": {
    "collapsed": false
   },
   "outputs": [
    {
     "data": {
      "text/plain": [
       "<matplotlib.legend.Legend at 0x123003f60>"
      ]
     },
     "execution_count": 215,
     "metadata": {},
     "output_type": "execute_result"
    },
    {
     "data": {
      "image/png": "[encoded data removed]",
      "text/plain": [
       "<matplotlib.figure.Figure at 0x122f83128>"
      ]
     },
     "metadata": {},
     "output_type": "display_data"
    }
   ],
   "source": [
    "\n",
    "# SDSS r-mag \n",
    "r = np.array(qso_cat['r']).astype(float)\n",
    "m = (r > 15)*(r<22)\n",
    "plt.hist(r[m], histtype='step', lw=3, label='SDSS')\n",
    "\n",
    "# CRTS white light \n",
    "avg_mag = np.array(qso_cat['CRTS_avg_m']).astype(float)\n",
    "plt.hist(avg_mag,histtype='step', lw=3, label='CRTS')\n",
    "\n",
    "#PTF r mag \n",
    "ptf_mag = np.array(ptf_agg_info['avg_mag'])\n",
    "m = (ptf_mag > 15)*(ptf_mag<22)\n",
    "\n",
    "plt.hist(ptf_mag[m],histtype='step', lw=3, label='PTF')\n",
    "plt.legend()"
   ]
  },
  {
   "cell_type": "markdown",
   "metadata": {},
   "source": [
    "## Make Fig.1 : statistical properties of those QSO I use in my analysis "
   ]
  },
  {
   "cell_type": "code",
   "execution_count": 222,
   "metadata": {
    "collapsed": false
   },
   "outputs": [
    {
     "data": {
      "text/plain": [
       "dict_keys(['avg_err', 'avg_N_day', 'err', 'avg_mag', 'mag', 'timespan_obs', 'lc_length', 'avg_mjd_diff'])"
      ]
     },
     "execution_count": 222,
     "metadata": {},
     "output_type": "execute_result"
    }
   ],
   "source": [
    "stats_proc_lc.keys()"
   ]
  },
  {
   "cell_type": "code",
   "execution_count": 223,
   "metadata": {
    "collapsed": false
   },
   "outputs": [
    {
     "name": "stdout",
     "output_type": "stream",
     "text": [
      "CRTS Quasars: sample of 7601\n"
     ]
    },
    {
     "data": {
      "image/png": "[encoded data removed]",
      "text/plain": [
       "<matplotlib.figure.Figure at 0x12c496710>"
      ]
     },
     "metadata": {},
     "output_type": "display_data"
    }
   ],
   "source": [
    "%matplotlib inline\n",
    "\n",
    "import seaborn as sns\n",
    "sns.set_context('poster')\n",
    "from matplotlib import rcParams\n",
    "rcParams['ytick.labelsize'] = 25\n",
    "rcParams['xtick.labelsize'] = 25\n",
    "rcParams['axes.labelsize'] = 25\n",
    "rcParams['axes.linewidth'] = 3\n",
    "rcParams['font.size'] = 25\n",
    "\n",
    "fig = plt.figure()\n",
    "fig.subplots_adjust(hspace=0.15)\n",
    "fig.subplots_adjust(wspace=0.1)\n",
    "print('CRTS Quasars: sample of 7601')\n",
    "# Set number of histogram bins \n",
    "nbins = 30\n",
    "\n",
    "\n",
    "# Panel 1 \n",
    "ax1 = fig.add_subplot(221)\n",
    "ax1.set_ylabel('N')\n",
    "ax1.set_xlabel('Number of days observed')\n",
    "ax1.set_xticks([0,20,40,60,80,100])\n",
    "ax1.set_xticklabels(['0','20','40','60','80','100'])\n",
    "\n",
    "ax1.xaxis.set_label_position('top')\n",
    "ax1.xaxis.tick_top()\n",
    "hist2, bin_edges = np.histogram(stats_proc_lc['lc_length'], bins=nbins, density=False)\n",
    "bin_centres2 = (bin_edges[:-1] + bin_edges[1:])/2\n",
    "hist2[0]=0\n",
    "ax1.set_xlim(xmin = 10, xmax = max(bin_centres2))\n",
    "ax1.plot(bin_centres2, hist2, ls = 'steps')\n",
    "\n",
    "# Panel 2 \n",
    "ax2 = fig.add_subplot(222)\n",
    "ax2.set_ylabel('N')\n",
    "ax2.set_xlabel('<mag>')\n",
    "ax2.xaxis.set_label_position('top')\n",
    "ax2.xaxis.tick_top()\n",
    "ax2.yaxis.tick_right()\n",
    "ax2.yaxis.set_label_position(\"right\")\n",
    "a = stats_proc_lc['avg_mag']\n",
    "m = (a > 16) * (a < 21)\n",
    "hist2, bin_edges = np.histogram(a[m], bins=nbins, density=False)\n",
    "bin_centres2 = (bin_edges[:-1] + bin_edges[1:])/2\n",
    "hist2[0]=0  # start at 0 \n",
    "\n",
    "ax2.plot(bin_centres2, hist2, ls = 'steps')\n",
    "\n",
    "# Panel 3 \n",
    "ax3 = fig.add_subplot(223)\n",
    "ax3.set_ylabel('N')\n",
    "ax3.set_xlabel('<error>')\n",
    "ax3.set_xticks([0,0.1,0.2,0.3,0.4])\n",
    "ax3.set_xticklabels(['0','0.1','0.2','0.3','0.4'])\n",
    "\n",
    "hist2, bin_edges = np.histogram(stats_proc_lc['avg_err'], bins=nbins, density=False)\n",
    "bin_centres2 = (bin_edges[:-1] + bin_edges[1:])/2\n",
    "ax3.set_xlim(xmin = 0, xmax = max(bin_centres2))\n",
    "hist2[0]=0\n",
    "\n",
    "ax3.plot(bin_centres2, hist2, ls = 'steps')\n",
    "\n",
    "# Panel 4 \n",
    "ax4 = fig.add_subplot(224)\n",
    "ax4.set_ylabel('N')\n",
    "ax4.set_xlabel('log(<day-cadence>) [days]')  # time between consecutive observations\n",
    "ax4.yaxis.tick_right()\n",
    "ax4.yaxis.set_label_position(\"right\")\n",
    "\n",
    "hist2, bin_edges = np.histogram(np.log10(stats_proc_lc['avg_mjd_diff']), bins=nbins, density=False)\n",
    "bin_centres2 = (bin_edges[:-1] + bin_edges[1:])/2\n",
    "hist2[0]=0\n",
    "\n",
    "ax4.plot(bin_centres2, hist2, ls = 'steps')\n",
    "\n",
    "\n",
    "# Save\n",
    "\n",
    "plt.savefig('../data_products/PTF_Fig_1_QSO_avg_stats_four_panels.png')\n"
   ]
  },
  {
   "cell_type": "code",
   "execution_count": null,
   "metadata": {
    "collapsed": true
   },
   "outputs": [],
   "source": []
  },
  {
   "cell_type": "code",
   "execution_count": null,
   "metadata": {
    "collapsed": true
   },
   "outputs": [],
   "source": []
  },
  {
   "cell_type": "code",
   "execution_count": null,
   "metadata": {
    "collapsed": true
   },
   "outputs": [],
   "source": []
  }
 ],
 "metadata": {
  "anaconda-cloud": {},
  "kernelspec": {
   "display_name": "Python 3",
   "language": "python",
   "name": "python3"
  },
  "language_info": {
   "codemirror_mode": {
    "name": "ipython",
    "version": 3
   },
   "file_extension": ".py",
   "mimetype": "text/x-python",
   "name": "python",
   "nbconvert_exporter": "python",
   "pygments_lexer": "ipython3",
   "version": "3.6.0"
  }
 },
 "nbformat": 4,
 "nbformat_minor": 0
}
