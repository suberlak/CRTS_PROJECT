{
 "cells": [
  {
   "cell_type": "markdown",
   "metadata": {},
   "source": [
    "The goal here is to grab the PTF lightcurves for standard stars and quasars in Stripe 82 that I used in CRTS."
   ]
  },
  {
   "cell_type": "code",
   "execution_count": 1,
   "metadata": {
    "collapsed": true
   },
   "outputs": [],
   "source": [
    "import numpy as np\n",
    "import os\n",
    "import pandas as pd \n",
    "from astropy.table import Table\n",
    "\n",
    "import sys\n",
    "sys.path.insert(0, '/Users/chris/GradResearch/CRTS_PROJECT/code/')\n",
    "\n",
    "import CRTS_paper_modules as mod "
   ]
  },
  {
   "cell_type": "markdown",
   "metadata": {},
   "source": [
    "Search source catalog on  PTF objects table and \n",
    "--> use ngoodobs > 10 "
   ]
  },
  {
   "cell_type": "markdown",
   "metadata": {
    "collapsed": true
   },
   "source": [
    "### Read in the QSO in S82"
   ]
  },
  {
   "cell_type": "markdown",
   "metadata": {
    "collapsed": true
   },
   "source": [
    "Read in the CRTS-SDSS cross-matched table :"
   ]
  },
  {
   "cell_type": "code",
   "execution_count": 11,
   "metadata": {
    "collapsed": false
   },
   "outputs": [
    {
     "name": "stdout",
     "output_type": "stream",
     "text": [
      "Zipping CRTS-SDSS quasars catalog from ../data_products/CRTS_SDSS_cross_matched_qso_DB_QSO_catalog.txt\n",
      "Read in 7601 quasars from CRTS\n"
     ]
    },
    {
     "data": {
      "text/plain": [
       "dict_keys(['i', 'ra_CRTS', 'm_ang_deg', 'dec_SDSS', 'u', 'ra_SDSS', 'dec_CRTS', 'g', 'mjd_span', 'r', 'N_rows', 'z', 'CRTS_avg_m', 'CRTS_avg_e', 'CRTS_id', 'mjd_uniq_N', 'redshift'])"
      ]
     },
     "execution_count": 11,
     "metadata": {},
     "output_type": "execute_result"
    }
   ],
   "source": [
    "# This grabs the colnames , and the catalog as a dict from the \n",
    "# database file \n",
    "colnames, catalog  = mod.get_qso_catalog()\n",
    "catalog.keys()"
   ]
  },
  {
   "cell_type": "markdown",
   "metadata": {},
   "source": [
    "### Read in the stars in S82"
   ]
  },
  {
   "cell_type": "code",
   "execution_count": 12,
   "metadata": {
    "collapsed": false
   },
   "outputs": [
    {
     "name": "stdout",
     "output_type": "stream",
     "text": [
      "zipping CRTS-SDSS stars catalog...\n",
      "Read in catalog for 48250 stars from CRTS \n"
     ]
    },
    {
     "data": {
      "text/plain": [
       "dict_keys(['crts_id', 'g_Nobs', 'mjd_N', 'dec_SDSS', 'ra_SDSS', 'dec_CRTS', 'mjd_span', 'CRTS_Merr', 'ra_CRTS', 'CRTS_M', 'r_mMed', 'g_mMed', 'm_ang_deg', 'i_mMed', 'N_rows'])"
      ]
     },
     "execution_count": 12,
     "metadata": {},
     "output_type": "execute_result"
    }
   ],
   "source": [
    "colnames, catalog_stars  = mod.get_stars_catalog()\n",
    "catalog_stars.keys()"
   ]
  },
  {
   "cell_type": "markdown",
   "metadata": {},
   "source": [
    "### PTF Objects : make IPAC format S82 stars list "
   ]
  },
  {
   "cell_type": "code",
   "execution_count": 19,
   "metadata": {
    "collapsed": false
   },
   "outputs": [],
   "source": [
    "# Here astropy ascii does not directly have an import from a dict, but we can import from a dataframe\n",
    "# thus we make  dict --> dataframe --> table  conversion \n",
    "\n",
    "# convert the dictionary to  a pandas dataframe\n",
    "df_stars = pd.DataFrame.from_dict(catalog_stars)\n",
    "\n",
    "# convert the dataframe to an astropy Table \n",
    "tab_stars = Table.from_pandas(df_stars)\n",
    "\n",
    "# initiate a Table to save the relevant cols \n",
    "save_stars = Table()\n",
    "save_stars['ra'] = tab_stars['ra_SDSS']  # use SDSS ra, dec because it's more accurate than the CRTS \n",
    "save_stars['dec'] = tab_stars['dec_SDSS']\n",
    "save_stars['major'] =  0.1 # that's a search radius  : a semimajor axis  for an ellipse with 0 eccentricity... \n",
    "save_stars.write('IRSA_stars_s82_ra_dec.tbl', format='ipac') # use that to query against PTF Objects "
   ]
  },
  {
   "cell_type": "markdown",
   "metadata": {},
   "source": [
    "### PTF Objects : make IPAC format S82 QSO list"
   ]
  },
  {
   "cell_type": "markdown",
   "metadata": {},
   "source": [
    "To check which objects have been detected by iPTF, we will be querying against the PTF Objects catalog. To do that we upload a list of  RA and dec for the 7601 spectroscopically-confirmed quasars in S82, to positionally look for those sources in iPTF."
   ]
  },
  {
   "cell_type": "code",
   "execution_count": 20,
   "metadata": {
    "collapsed": true
   },
   "outputs": [],
   "source": [
    "# Here astropy ascii does not directly have an import from a dict, but we can import from a dataframe\n",
    "# thus we make  dict --> dataframe --> table  conversion \n",
    "\n",
    "# convert the dictionary to  a pandas dataframe\n",
    "df = pd.DataFrame.from_dict(catalog)\n",
    "\n",
    "# convert the dataframe to an astropy Table \n",
    "tab = Table.from_pandas(df)\n",
    "\n",
    "# initiate a Table to save the relevant cols \n",
    "save = Table()\n",
    "save['ra'] = tab['ra_SDSS']  # use SDSS ra, dec because it's more accurate than the CRTS \n",
    "save['dec'] = tab['dec_SDSS']\n",
    "save['major'] =  0.1 # that's a search radius  : a semimajor axis  for an ellipse with 0 eccentricity... \n",
    "save.write('IRSA_QSO_s82_ra_dec.tbl', format='ipac') # use that to query against PTF Objects "
   ]
  },
  {
   "cell_type": "code",
   "execution_count": null,
   "metadata": {
    "collapsed": true
   },
   "outputs": [],
   "source": []
  },
  {
   "cell_type": "markdown",
   "metadata": {},
   "source": [
    "## Querying IRSA : NASA/IPAC Infrared Science Archive  \n"
   ]
  },
  {
   "cell_type": "markdown",
   "metadata": {},
   "source": [
    "From the main page https://irsa.ipac.caltech.edu/frontpage/ <img src=\"figures/1_main_page.png\">"
   ]
  },
  {
   "cell_type": "markdown",
   "metadata": {},
   "source": [
    "We select \"catalogs\", and then choose the 'PTF' catalog : <img src=\"figures/2_catalog_choice.png\" style=\"width: 500px;\">"
   ]
  },
  {
   "cell_type": "markdown",
   "metadata": {},
   "source": [
    "We then select  'PTF Objects catalog'  : <img src=\"figures/3_subcatalog.png\" style=\"width: 500px;\">"
   ]
  },
  {
   "cell_type": "markdown",
   "metadata": {},
   "source": [
    "And run the Multi-Object Search, setting the search radius to 2 arcsec  : <img src=\"figures/4_query.png\" style=\"width: 500px;\">"
   ]
  },
  {
   "cell_type": "markdown",
   "metadata": {},
   "source": [
    "and ngoodobs > 10:  <img src=\"figures/5_ngoodobs.png\" style=\"width: 1000px;\">"
   ]
  },
  {
   "cell_type": "markdown",
   "metadata": {},
   "source": [
    "I don't need all columns : grab  ra,dec,oid,fid,  ngoodobs, nbestobs, bestmaxmag, ra, dec, obsmjd, mag_autocorr,  magerr_auto   \n",
    "press 'Run Query' on the very bottom of the page  <img src=\"figures/6_run_the_query.png\" style=\"width: 500px;\">"
   ]
  },
  {
   "cell_type": "markdown",
   "metadata": {},
   "source": [
    "Result :  6606 sources  with ngoodobs > 10 . In the result IPAC Table, I can select all rows in the upper left corner (each row corresponds to one object and contains various summary info about the aggregate quality of each lightcurve), and then save in ../IPAC_tables/"
   ]
  },
  {
   "cell_type": "code",
   "execution_count": 2,
   "metadata": {
    "collapsed": false
   },
   "outputs": [
    {
     "data": {
      "text/plain": [
       "'1.3'"
      ]
     },
     "execution_count": 2,
     "metadata": {},
     "output_type": "execute_result"
    }
   ],
   "source": [
    "# check which version I'm dealing with...\n",
    "#import astropy\n",
    "#astropy.version.version"
   ]
  },
  {
   "cell_type": "code",
   "execution_count": 25,
   "metadata": {
    "collapsed": true
   },
   "outputs": [],
   "source": [
    "# Read in the qso output table \n",
    "qso_table = Table.read('../IPAC_tables/IpacTableFromSource_QSO_S82.tbl', format='ipac')"
   ]
  },
  {
   "cell_type": "code",
   "execution_count": 57,
   "metadata": {
    "collapsed": true
   },
   "outputs": [],
   "source": [
    "# Read in the stars output table \n",
    "stars_table = Table.read('../IPAC_tables/IpacTableFromSource_stars_S82.tbl', format='ipac')"
   ]
  },
  {
   "cell_type": "markdown",
   "metadata": {},
   "source": [
    "### note : ngoodobs vs nbestobs"
   ]
  },
  {
   "cell_type": "markdown",
   "metadata": {},
   "source": [
    "\n",
    "\n",
    "the code below gives some idea how 'good' differs from 'best'... \n",
    "\n",
    "uint32_t bad_photo = SATELLITE | HIGH_DARK | NON_LINEAR | HOT_PIXEL | SATURATED_PIXEL | DEAD_PIXEL | NAN_PIXEL;\n",
    "#uint32_t bad_photo_strict = SATELLITE | HIGH_DARK | NON_LINEAR | HOT_PIXEL | GHOST_PIXEL | SATURATED_PIXEL | DEAD_PIXEL | NAN_PIXEL | HALO;\n",
    "\n",
    "nmag_ok = “ngoodobs” =  if( ((ipacflag & bad_photo) == 0) & ((sexflag & 506) == 0) )\n",
    "nmag_ok_strict = “nbestobs” =  if( ((ipacflag & bad_photo_strict) == 0) & ((sexflag & 507) == 0) )\n",
    "\n",
    "Thus unlike good designation,  best includes HALO,  which is a keyword for being close to a bright star (how close - email Eric B.  )\n",
    "\n",
    "Also note iPTF flags that have a good SExtractor documentation:\n",
    "\n",
    " * sexflag 506\n",
    " * sexflag 507 "
   ]
  },
  {
   "cell_type": "markdown",
   "metadata": {},
   "source": [
    "### Select good PTF quasars in S82..."
   ]
  },
  {
   "cell_type": "code",
   "execution_count": 56,
   "metadata": {
    "collapsed": false
   },
   "outputs": [],
   "source": [
    "#qso_table.colnames\n",
    "\n",
    "# NOTE : since it was matched on ra, dec,  it also stores ra_01,  dec_01, which\n",
    "# represent the PTF values that were matched to SDSS-based  ra, dec "
   ]
  },
  {
   "cell_type": "code",
   "execution_count": 42,
   "metadata": {
    "collapsed": false
   },
   "outputs": [
    {
     "data": {
      "text/plain": [
       "<matplotlib.text.Text at 0x11f4e8cc0>"
      ]
     },
     "execution_count": 42,
     "metadata": {},
     "output_type": "execute_result"
    },
    {
     "data": {
      "image/png": "[encoded data removed]",
      "text/plain": [
       "<matplotlib.figure.Figure at 0x11f493940>"
      ]
     },
     "metadata": {},
     "output_type": "display_data"
    }
   ],
   "source": [
    "# choose of those that are available only those with more than \n",
    "# 10 epochs ...\n",
    "require_nbestobs_gt = 10 \n",
    "select_by_nobs = qso_table['nbestobs'] > require_nbestobs_gt\n",
    "\n",
    "#  in case we want to add some more masks above., we can combine them here \n",
    "select_mask = select_by_nobs\n",
    "\n",
    "%matplotlib inline\n",
    "import matplotlib.pyplot as plt \n",
    "\n",
    "plt.hist(qso_table['bestmeanmag'][select_mask])\n",
    "plt.title('PTF Quasars in S82 : %d objects with nbestobs > %d'%(np.sum(select_mask), require_nbestobs_gt))\n",
    "plt.ylabel('Count')\n",
    "plt.xlabel('Best Mean Magnitude')"
   ]
  },
  {
   "cell_type": "code",
   "execution_count": 45,
   "metadata": {
    "collapsed": false
   },
   "outputs": [
    {
     "name": "stderr",
     "output_type": "stream",
     "text": [
      "WARNING: Comment string > 78 characters was automatically wrapped. [astropy.io.ascii.ipac]\n"
     ]
    }
   ],
   "source": [
    "# Save those PTF Quasars that we like to a table that we will use to query for lightcurves...\n",
    "selected = qso_table[['ra','dec']][select_by_nobs]\n",
    "\n",
    "# save those sources that we are now going to query PTF lightcurve database against in the ipac format ... \n",
    "selected.write('IPAC_get_lightcurves_QSO_ra_dec.tbl', format='ipac')"
   ]
  },
  {
   "cell_type": "code",
   "execution_count": 105,
   "metadata": {
    "collapsed": false
   },
   "outputs": [
    {
     "name": "stderr",
     "output_type": "stream",
     "text": [
      "WARNING: Comment string > 78 characters was automatically wrapped. [astropy.io.ascii.ipac]\n"
     ]
    }
   ],
   "source": [
    "# Test : select only a few to quickly see if we are retrieving all rows that there should be ... \n",
    "\n",
    "selected[:10].write('../IPAC_query_tables/IPAC_get_lightcurves_test_10_QSO_ra_dec.tbl', format='ipac')"
   ]
  },
  {
   "cell_type": "markdown",
   "metadata": {},
   "source": [
    "### Select good PTF stars in S82 "
   ]
  },
  {
   "cell_type": "code",
   "execution_count": 60,
   "metadata": {
    "collapsed": false
   },
   "outputs": [
    {
     "data": {
      "text/plain": [
       "<matplotlib.text.Text at 0x119116cc0>"
      ]
     },
     "execution_count": 60,
     "metadata": {},
     "output_type": "execute_result"
    },
    {
     "data": {
      "image/png": "[encoded data removed]",
      "text/plain": [
       "<matplotlib.figure.Figure at 0x115a9efd0>"
      ]
     },
     "metadata": {},
     "output_type": "display_data"
    }
   ],
   "source": [
    "# choose of those that are available only those with more than \n",
    "# 10 epochs ...\n",
    "require_nbestobs_gt = 10 \n",
    "select_by_nobs = stars_table['nbestobs'] > require_nbestobs_gt\n",
    "\n",
    "# remove those with spurioursly low magnitude... \n",
    "select_by_meanmag  = stars_table['bestmeanmag'] > 10 \n",
    "\n",
    "# combine masks \n",
    "select_mask = select_by_nobs * select_by_meanmag\n",
    "%matplotlib inline\n",
    "import matplotlib.pyplot as plt \n",
    "\n",
    "plt.hist(stars_table['bestmeanmag'][select_mask])\n",
    "plt.title('PTF stars in S82 : %d objects with nbestobs > %d'%(np.sum(select_mask), require_nbestobs_gt))\n",
    "plt.ylabel('Count')\n",
    "plt.xlabel('Best Mean Magnitude')"
   ]
  },
  {
   "cell_type": "code",
   "execution_count": 61,
   "metadata": {
    "collapsed": false
   },
   "outputs": [
    {
     "name": "stderr",
     "output_type": "stream",
     "text": [
      "WARNING: Comment string > 78 characters was automatically wrapped. [astropy.io.ascii.ipac]\n"
     ]
    }
   ],
   "source": [
    "# Save those PTF stars that we like to a table that we will use to query for lightcurves...\n",
    "selected_stars = stars_table[['ra','dec']][select_mask]\n",
    "\n",
    "# save those sources that we are now going to query PTF lightcurve database against in the ipac format ... \n",
    "selected_stars.write('IPAC_get_lightcurves_stars_ra_dec.tbl', format='ipac')"
   ]
  },
  {
   "cell_type": "markdown",
   "metadata": {},
   "source": [
    "### Grab lightcurves..."
   ]
  },
  {
   "cell_type": "markdown",
   "metadata": {},
   "source": [
    "Now we use that file to query against the PTF Lightcurve Database <img src=\"figures/7_grab_lightcurves.png\" style=\"width: 500px;\">"
   ]
  },
  {
   "cell_type": "markdown",
   "metadata": {},
   "source": [
    "Read in the query results... "
   ]
  },
  {
   "cell_type": "code",
   "execution_count": 62,
   "metadata": {
    "collapsed": true
   },
   "outputs": [],
   "source": [
    "# all lightcurves (may take a minute to read as the file has size of 82 MB ... )\n",
    "lcs_qso = Table.read('../IPAC_tables/Ipac_PTF_lightcurves_QSO_S82.tbl', format='ipac')\n",
    "\n"
   ]
  },
  {
   "cell_type": "code",
   "execution_count": 65,
   "metadata": {
    "collapsed": false
   },
   "outputs": [],
   "source": [
    "#lcs_qso.keys()"
   ]
  },
  {
   "cell_type": "markdown",
   "metadata": {},
   "source": [
    "Note : there may have been sources that are on CCD edges, so that they were detected on  two CCDs  For those sources, the ra_01 and dec_01 may be slightly different on the two chips because of dithering, but not more than 1.5 arcsec (at least according to David Schupe : schupe@ipac.caltech.edu)\n",
    "\n",
    "Thus to gather all rows corresponding to a single source, we group by ra, dec (the input SDSS ra, dec, rather than the PTF ra_01, dec_01):"
   ]
  },
  {
   "cell_type": "code",
   "execution_count": 122,
   "metadata": {
    "collapsed": false
   },
   "outputs": [
    {
     "data": {
      "text/plain": [
       "6472"
      ]
     },
     "execution_count": 122,
     "metadata": {},
     "output_type": "execute_result"
    }
   ],
   "source": [
    "len(np.unique(lcs_qso['oid']))\n",
    "\n"
   ]
  },
  {
   "cell_type": "code",
   "execution_count": 88,
   "metadata": {
    "collapsed": false
   },
   "outputs": [
    {
     "data": {
      "text/plain": [
       "6461"
      ]
     },
     "execution_count": 88,
     "metadata": {},
     "output_type": "execute_result"
    }
   ],
   "source": [
    "len(np.unique(lcs_qso['dec']))"
   ]
  },
  {
   "cell_type": "code",
   "execution_count": 121,
   "metadata": {
    "collapsed": false
   },
   "outputs": [
    {
     "data": {
      "text/plain": [
       "6471"
      ]
     },
     "execution_count": 121,
     "metadata": {},
     "output_type": "execute_result"
    }
   ],
   "source": [
    "# how many sources we have \n",
    "len(np.unique(lcs_qso['ra']))\n",
    "\n"
   ]
  },
  {
   "cell_type": "code",
   "execution_count": 118,
   "metadata": {
    "collapsed": false
   },
   "outputs": [
    {
     "data": {
      "text/plain": [
       "6480"
      ]
     },
     "execution_count": 118,
     "metadata": {},
     "output_type": "execute_result"
    }
   ],
   "source": [
    "len(np.unique(lcs_qso['ra_01']))"
   ]
  },
  {
   "cell_type": "code",
   "execution_count": 108,
   "metadata": {
    "collapsed": false
   },
   "outputs": [],
   "source": [
    "# test case... querying for 10 objects ...\n",
    "lcs_test = Table.read('../IPAC_output_tables/Ipac_PTF_lightcurves_test_QSO.tbl', format='ipac')\n",
    "\n"
   ]
  },
  {
   "cell_type": "code",
   "execution_count": 114,
   "metadata": {
    "collapsed": false
   },
   "outputs": [
    {
     "data": {
      "text/html": [
       "&lt;Table length=202&gt;\n",
       "<table id=\"table4708278344\" class=\"table-striped table-bordered table-condensed\">\n",
       "<thead><tr><th>cntr_01</th><th>dist_x</th><th>pang_x</th><th>ra_01</th><th>dec_01</th><th>obsmjd</th><th>mag_autocorr</th><th>magerr_auto</th><th>oid</th><th>ra</th><th>dec</th><th>fid</th><th>transient_flag</th><th>astrometricrms</th><th>nobs</th><th>ngoodobs</th><th>nbestobs</th><th>referencemag</th><th>referencemagerr</th><th>medianmag</th><th>bestmedianmag</th><th>meanmag</th><th>bestmeanmag</th><th>magrms</th><th>bestmagrms</th><th>sid</th><th>s_ra</th><th>s_dec</th><th>ptffield</th><th>ccdid</th><th>hmjd</th><th>nid</th><th>mag_auto</th><th>limitmag</th><th>absphotzp</th><th>fwhmsex</th><th>fwhm_image</th><th>qaflags</th><th>flags</th><th>photcalflag</th><th>goodflag</th></tr></thead>\n",
       "<thead><tr><th></th><th>arcsec</th><th>deg</th><th>degrees</th><th>degrees</th><th>days</th><th>mag</th><th>mag</th><th></th><th>degrees</th><th>degrees</th><th></th><th></th><th>degrees</th><th></th><th></th><th></th><th>mag</th><th>mag</th><th>mag</th><th>mag</th><th>mag</th><th>mag</th><th>mag</th><th>mag</th><th></th><th>degrees</th><th>degrees</th><th></th><th></th><th>days</th><th></th><th>mag</th><th>mag</th><th>mag</th><th>arcsec</th><th>pixels</th><th></th><th></th><th>0=No, 1=Yes</th><th>0=No, 1=Yes</th></tr></thead>\n",
       "<thead><tr><th>int64</th><th>float64</th><th>float64</th><th>float64</th><th>float64</th><th>float64</th><th>float64</th><th>float64</th><th>int64</th><th>float64</th><th>float64</th><th>int64</th><th>int64</th><th>float64</th><th>int64</th><th>int64</th><th>int64</th><th>float64</th><th>float64</th><th>float64</th><th>float64</th><th>float64</th><th>float64</th><th>float64</th><th>float64</th><th>int64</th><th>float64</th><th>float64</th><th>int64</th><th>int64</th><th>float64</th><th>int64</th><th>float64</th><th>float64</th><th>float64</th><th>float64</th><th>float64</th><th>int64</th><th>int64</th><th>int64</th><th>int64</th></tr></thead>\n",
       "<tr><td>1</td><td>0.0</td><td>0.0</td><td>6.968328</td><td>0.437734</td><td>56903.3404372</td><td>18.747</td><td>0.04</td><td>26991060002225</td><td>6.968328</td><td>0.437734</td><td>1</td><td>0</td><td>4.777896e-07</td><td>125</td><td>125</td><td>123</td><td>18.717</td><td>0.006</td><td>18.746</td><td>18.748</td><td>18.743</td><td>18.743</td><td>0.06</td><td>0.06</td><td>21305664001544</td><td>6.968329</td><td>0.437729</td><td>2699</td><td>6</td><td>56903.3455472</td><td>1968</td><td>18.76</td><td>21.93</td><td>27.896</td><td>2.45</td><td>2.713</td><td>0</td><td>131072</td><td>0</td><td>1</td></tr>\n",
       "<tr><td>1</td><td>0.0</td><td>0.0</td><td>6.968328</td><td>0.437734</td><td>56924.3337972</td><td>18.774</td><td>0.041</td><td>26991060002225</td><td>6.968328</td><td>0.437734</td><td>1</td><td>0</td><td>4.777896e-07</td><td>125</td><td>125</td><td>123</td><td>18.717</td><td>0.006</td><td>18.746</td><td>18.748</td><td>18.743</td><td>18.743</td><td>0.06</td><td>0.06</td><td>21507653001359</td><td>6.968328</td><td>0.43773</td><td>2699</td><td>6</td><td>56924.3395172</td><td>1987</td><td>18.778</td><td>21.754</td><td>27.874</td><td>2.45</td><td>2.531</td><td>0</td><td>131072</td><td>0</td><td>1</td></tr>\n",
       "<tr><td>1</td><td>0.0</td><td>0.0</td><td>6.968328</td><td>0.437734</td><td>56904.3353572</td><td>18.766</td><td>0.047</td><td>26991060002225</td><td>6.968328</td><td>0.437734</td><td>1</td><td>0</td><td>4.777896e-07</td><td>125</td><td>125</td><td>123</td><td>18.717</td><td>0.006</td><td>18.746</td><td>18.748</td><td>18.743</td><td>18.743</td><td>0.06</td><td>0.06</td><td>21299870001227</td><td>6.968337</td><td>0.43772</td><td>2699</td><td>6</td><td>56904.3405072</td><td>1969</td><td>18.784</td><td>21.467</td><td>27.896</td><td>2.45</td><td>2.968</td><td>0</td><td>131072</td><td>0</td><td>1</td></tr>\n",
       "<tr><td>1</td><td>0.0</td><td>0.0</td><td>6.968328</td><td>0.437734</td><td>56904.3635872</td><td>18.721</td><td>0.043</td><td>26991060002225</td><td>6.968328</td><td>0.437734</td><td>1</td><td>0</td><td>4.777896e-07</td><td>125</td><td>125</td><td>123</td><td>18.717</td><td>0.006</td><td>18.746</td><td>18.748</td><td>18.743</td><td>18.743</td><td>0.06</td><td>0.06</td><td>21299891001474</td><td>6.96832</td><td>0.437738</td><td>2699</td><td>6</td><td>56904.3687372</td><td>1969</td><td>18.728</td><td>21.97</td><td>27.901</td><td>2.45</td><td>2.778</td><td>0</td><td>131072</td><td>0</td><td>1</td></tr>\n",
       "<tr><td>1</td><td>0.0</td><td>0.0</td><td>6.968328</td><td>0.437734</td><td>56931.3226572</td><td>18.803</td><td>0.044</td><td>26991060002225</td><td>6.968328</td><td>0.437734</td><td>1</td><td>0</td><td>4.777896e-07</td><td>125</td><td>125</td><td>123</td><td>18.717</td><td>0.006</td><td>18.746</td><td>18.748</td><td>18.743</td><td>18.743</td><td>0.06</td><td>0.06</td><td>22270304001348</td><td>6.968356</td><td>0.437729</td><td>2699</td><td>6</td><td>56931.3284272</td><td>1994</td><td>18.802</td><td>21.732</td><td>27.858</td><td>2.45</td><td>2.63</td><td>0</td><td>131072</td><td>0</td><td>1</td></tr>\n",
       "<tr><td>1</td><td>0.0</td><td>0.0</td><td>6.968328</td><td>0.437734</td><td>56931.3685672</td><td>18.799</td><td>0.044</td><td>26991060002225</td><td>6.968328</td><td>0.437734</td><td>1</td><td>0</td><td>4.777896e-07</td><td>125</td><td>125</td><td>123</td><td>18.717</td><td>0.006</td><td>18.746</td><td>18.748</td><td>18.743</td><td>18.743</td><td>0.06</td><td>0.06</td><td>22270414001278</td><td>6.968343</td><td>0.437742</td><td>2699</td><td>6</td><td>56931.3743372</td><td>1994</td><td>18.798</td><td>21.666</td><td>27.849</td><td>2.55</td><td>2.937</td><td>0</td><td>131072</td><td>0</td><td>1</td></tr>\n",
       "<tr><td>1</td><td>0.0</td><td>0.0</td><td>6.968328</td><td>0.437734</td><td>56925.3380872</td><td>18.753</td><td>0.041</td><td>26991060002225</td><td>6.968328</td><td>0.437734</td><td>1</td><td>0</td><td>4.777896e-07</td><td>125</td><td>125</td><td>123</td><td>18.717</td><td>0.006</td><td>18.746</td><td>18.748</td><td>18.743</td><td>18.743</td><td>0.06</td><td>0.06</td><td>21522485001368</td><td>6.96833</td><td>0.437735</td><td>2699</td><td>6</td><td>56925.3438272</td><td>1988</td><td>18.75</td><td>21.685</td><td>27.852</td><td>2.55</td><td>2.645</td><td>0</td><td>131072</td><td>0</td><td>1</td></tr>\n",
       "<tr><td>1</td><td>0.0</td><td>0.0</td><td>6.968328</td><td>0.437734</td><td>56925.3921172</td><td>18.694</td><td>0.042</td><td>26991060002225</td><td>6.968328</td><td>0.437734</td><td>1</td><td>0</td><td>4.777896e-07</td><td>125</td><td>125</td><td>123</td><td>18.717</td><td>0.006</td><td>18.746</td><td>18.748</td><td>18.743</td><td>18.743</td><td>0.06</td><td>0.06</td><td>21522530001285</td><td>6.968333</td><td>0.437735</td><td>2699</td><td>6</td><td>56925.3978572</td><td>1988</td><td>18.691</td><td>21.604</td><td>27.839</td><td>2.65</td><td>2.935</td><td>0</td><td>131072</td><td>0</td><td>1</td></tr>\n",
       "<tr><td>1</td><td>0.0</td><td>0.0</td><td>6.968328</td><td>0.437734</td><td>56921.3020072</td><td>18.824</td><td>0.045</td><td>26991060002225</td><td>6.968328</td><td>0.437734</td><td>1</td><td>0</td><td>4.777896e-07</td><td>125</td><td>125</td><td>123</td><td>18.717</td><td>0.006</td><td>18.746</td><td>18.748</td><td>18.743</td><td>18.743</td><td>0.06</td><td>0.06</td><td>21452249001270</td><td>6.968316</td><td>0.437751</td><td>2699</td><td>6</td><td>56921.3076772</td><td>1984</td><td>18.824</td><td>21.739</td><td>27.861</td><td>2.55</td><td>2.825</td><td>0</td><td>131072</td><td>0</td><td>1</td></tr>\n",
       "<tr><td>...</td><td>...</td><td>...</td><td>...</td><td>...</td><td>...</td><td>...</td><td>...</td><td>...</td><td>...</td><td>...</td><td>...</td><td>...</td><td>...</td><td>...</td><td>...</td><td>...</td><td>...</td><td>...</td><td>...</td><td>...</td><td>...</td><td>...</td><td>...</td><td>...</td><td>...</td><td>...</td><td>...</td><td>...</td><td>...</td><td>...</td><td>...</td><td>...</td><td>...</td><td>...</td><td>...</td><td>...</td><td>...</td><td>...</td><td>...</td><td>...</td></tr>\n",
       "<tr><td>10</td><td>0.0</td><td>0.0</td><td>14.436147</td><td>1.13845</td><td>55440.4837072</td><td>19.031</td><td>0.059</td><td>27012010000113</td><td>14.436147</td><td>1.13845</td><td>2</td><td>0</td><td>9.764758e-07</td><td>31</td><td>30</td><td>25</td><td>19.07</td><td>0.023</td><td>19.064</td><td>19.06</td><td>19.073</td><td>19.057</td><td>0.075</td><td>0.065</td><td>10920411002139</td><td>14.436107</td><td>1.138411</td><td>2701</td><td>1</td><td>55440.4883672</td><td>535</td><td>19.028</td><td>21.263</td><td>27.764</td><td>2.05</td><td>2.356</td><td>0</td><td>131072</td><td>0</td><td>1</td></tr>\n",
       "<tr><td>10</td><td>0.0</td><td>0.0</td><td>14.436147</td><td>1.13845</td><td>55424.4650372</td><td>19.088</td><td>0.061</td><td>27012010000113</td><td>14.436147</td><td>1.13845</td><td>2</td><td>0</td><td>9.764758e-07</td><td>31</td><td>30</td><td>25</td><td>19.07</td><td>0.023</td><td>19.064</td><td>19.06</td><td>19.073</td><td>19.057</td><td>0.075</td><td>0.065</td><td>11141973002683</td><td>14.436084</td><td>1.138478</td><td>2701</td><td>1</td><td>55424.4686272</td><td>523</td><td>19.1</td><td>21.72</td><td>27.73</td><td>1.85</td><td>2.151</td><td>0</td><td>131072</td><td>0</td><td>1</td></tr>\n",
       "<tr><td>10</td><td>0.0</td><td>0.0</td><td>14.436147</td><td>1.13845</td><td>55424.5096972</td><td>19.049</td><td>0.078</td><td>27012010000113</td><td>14.436147</td><td>1.13845</td><td>2</td><td>0</td><td>9.764758e-07</td><td>31</td><td>30</td><td>25</td><td>19.07</td><td>0.023</td><td>19.064</td><td>19.06</td><td>19.073</td><td>19.057</td><td>0.075</td><td>0.065</td><td>11142067001834</td><td>14.436079</td><td>1.138387</td><td>2701</td><td>1</td><td>55424.5132972</td><td>523</td><td>19.071</td><td>21.042</td><td>27.73</td><td>1.85</td><td>2.617</td><td>0</td><td>131072</td><td>0</td><td>1</td></tr>\n",
       "<tr><td>10</td><td>0.0</td><td>0.0</td><td>14.436147</td><td>1.13845</td><td>55427.5090272</td><td>19.059</td><td>0.068</td><td>27012010000113</td><td>14.436147</td><td>1.13845</td><td>2</td><td>0</td><td>9.764758e-07</td><td>31</td><td>30</td><td>25</td><td>19.07</td><td>0.023</td><td>19.064</td><td>19.06</td><td>19.073</td><td>19.057</td><td>0.075</td><td>0.065</td><td>11195208001909</td><td>14.43605</td><td>1.13843</td><td>2701</td><td>1</td><td>55427.5128472</td><td>526</td><td>19.07</td><td>21.089</td><td>27.794</td><td>1.95</td><td>2.596</td><td>0</td><td>131072</td><td>0</td><td>1</td></tr>\n",
       "<tr><td>10</td><td>0.0</td><td>0.0</td><td>14.436147</td><td>1.13845</td><td>55478.2127072</td><td>19.021</td><td>0.065</td><td>27012010000113</td><td>14.436147</td><td>1.13845</td><td>2</td><td>0</td><td>9.764758e-07</td><td>31</td><td>30</td><td>25</td><td>19.07</td><td>0.023</td><td>19.064</td><td>19.06</td><td>19.073</td><td>19.057</td><td>0.075</td><td>0.065</td><td>10831272001885</td><td>14.436116</td><td>1.138389</td><td>2701</td><td>1</td><td>55478.2184572</td><td>572</td><td>19.011</td><td>20.911</td><td>27.773</td><td>2.85</td><td>4.27</td><td>0</td><td>131072</td><td>0</td><td>1</td></tr>\n",
       "<tr><td>10</td><td>0.0</td><td>0.0</td><td>14.436147</td><td>1.13845</td><td>55478.2572072</td><td>18.986</td><td>0.082</td><td>27012010000113</td><td>14.436147</td><td>1.13845</td><td>2</td><td>0</td><td>9.764758e-07</td><td>31</td><td>30</td><td>25</td><td>19.07</td><td>0.023</td><td>19.064</td><td>19.06</td><td>19.073</td><td>19.057</td><td>0.075</td><td>0.065</td><td>10831425001775</td><td>14.436149</td><td>1.138459</td><td>2701</td><td>1</td><td>55478.2629672</td><td>572</td><td>18.989</td><td>20.849</td><td>27.796</td><td>3.35</td><td>4.633</td><td>0</td><td>131072</td><td>0</td><td>1</td></tr>\n",
       "<tr><td>10</td><td>0.0</td><td>0.0</td><td>14.436147</td><td>1.13845</td><td>55056.4576472</td><td>19.068</td><td>0.068</td><td>27012010000113</td><td>14.436147</td><td>1.13845</td><td>2</td><td>0</td><td>9.764758e-07</td><td>31</td><td>30</td><td>25</td><td>19.07</td><td>0.023</td><td>19.064</td><td>19.06</td><td>19.073</td><td>19.057</td><td>0.075</td><td>0.065</td><td>11898814001945</td><td>14.436072</td><td>1.138458</td><td>2701</td><td>1</td><td>55056.4610372</td><td>170</td><td>19.084</td><td>20.74</td><td>27.385</td><td>2.35</td><td>2.959</td><td>0</td><td>131072</td><td>0</td><td>1</td></tr>\n",
       "<tr><td>10</td><td>0.0</td><td>0.0</td><td>14.436147</td><td>1.13845</td><td>55418.4606972</td><td>19.143</td><td>0.196</td><td>27012010000113</td><td>14.436147</td><td>1.13845</td><td>2</td><td>0</td><td>9.764758e-07</td><td>31</td><td>30</td><td>25</td><td>19.07</td><td>0.023</td><td>19.064</td><td>19.06</td><td>19.073</td><td>19.057</td><td>0.075</td><td>0.065</td><td>11128266001864</td><td>14.436048</td><td>1.138414</td><td>2701</td><td>1</td><td>55418.4638272</td><td>517</td><td>19.348</td><td>21.44</td><td>27.077</td><td>2.05</td><td>3.074</td><td>0</td><td>131072</td><td>0</td><td>1</td></tr>\n",
       "<tr><td>10</td><td>0.0</td><td>0.0</td><td>14.436147</td><td>1.13845</td><td>55473.2741972</td><td>18.971</td><td>0.061</td><td>27012010000113</td><td>14.436147</td><td>1.13845</td><td>2</td><td>0</td><td>9.764758e-07</td><td>31</td><td>30</td><td>25</td><td>19.07</td><td>0.023</td><td>19.064</td><td>19.06</td><td>19.073</td><td>19.057</td><td>0.075</td><td>0.065</td><td>10804860002968</td><td>14.436082</td><td>1.138461</td><td>2701</td><td>1</td><td>55473.2799372</td><td>566</td><td>18.98</td><td>21.695</td><td>27.811</td><td>2.05</td><td>2.836</td><td>0</td><td>131072</td><td>0</td><td>1</td></tr>\n",
       "<tr><td>10</td><td>0.0</td><td>0.0</td><td>14.436147</td><td>1.13845</td><td>55481.4407072</td><td>19.055</td><td>0.06</td><td>27012010000113</td><td>14.436147</td><td>1.13845</td><td>2</td><td>0</td><td>9.764758e-07</td><td>31</td><td>30</td><td>25</td><td>19.07</td><td>0.023</td><td>19.064</td><td>19.06</td><td>19.073</td><td>19.057</td><td>0.075</td><td>0.065</td><td>10899083002132</td><td>14.436087</td><td>1.138474</td><td>2701</td><td>1</td><td>55481.4464472</td><td>575</td><td>19.063</td><td>21.09</td><td>27.766</td><td>2.65</td><td>3.477</td><td>0</td><td>131072</td><td>0</td><td>1</td></tr>\n",
       "</table>"
      ],
      "text/plain": [
       "<Table length=202>\n",
       "cntr_01  dist_x  pang_x   ra_01   ... qaflags flags  photcalflag   goodflag \n",
       "         arcsec   deg    degrees  ...                0=No, 1=Yes 0=No, 1=Yes\n",
       " int64  float64 float64  float64  ...  int64  int64     int64       int64   \n",
       "------- ------- ------- --------- ... ------- ------ ----------- -----------\n",
       "      1     0.0     0.0  6.968328 ...       0 131072           0           1\n",
       "      1     0.0     0.0  6.968328 ...       0 131072           0           1\n",
       "      1     0.0     0.0  6.968328 ...       0 131072           0           1\n",
       "      1     0.0     0.0  6.968328 ...       0 131072           0           1\n",
       "      1     0.0     0.0  6.968328 ...       0 131072           0           1\n",
       "      1     0.0     0.0  6.968328 ...       0 131072           0           1\n",
       "      1     0.0     0.0  6.968328 ...       0 131072           0           1\n",
       "      1     0.0     0.0  6.968328 ...       0 131072           0           1\n",
       "      1     0.0     0.0  6.968328 ...       0 131072           0           1\n",
       "    ...     ...     ...       ... ...     ...    ...         ...         ...\n",
       "     10     0.0     0.0 14.436147 ...       0 131072           0           1\n",
       "     10     0.0     0.0 14.436147 ...       0 131072           0           1\n",
       "     10     0.0     0.0 14.436147 ...       0 131072           0           1\n",
       "     10     0.0     0.0 14.436147 ...       0 131072           0           1\n",
       "     10     0.0     0.0 14.436147 ...       0 131072           0           1\n",
       "     10     0.0     0.0 14.436147 ...       0 131072           0           1\n",
       "     10     0.0     0.0 14.436147 ...       0 131072           0           1\n",
       "     10     0.0     0.0 14.436147 ...       0 131072           0           1\n",
       "     10     0.0     0.0 14.436147 ...       0 131072           0           1\n",
       "     10     0.0     0.0 14.436147 ...       0 131072           0           1"
      ]
     },
     "execution_count": 114,
     "metadata": {},
     "output_type": "execute_result"
    }
   ],
   "source": [
    "lcs_test"
   ]
  },
  {
   "cell_type": "code",
   "execution_count": 115,
   "metadata": {
    "collapsed": false
   },
   "outputs": [
    {
     "data": {
      "text/plain": [
       "60"
      ]
     },
     "execution_count": 115,
     "metadata": {},
     "output_type": "execute_result"
    }
   ],
   "source": [
    "# grab the first object by ra \n",
    "test_obj_rows = lcs_test['ra'] == np.unique(lcs_test['ra'])[0]\n",
    "# count how many rows\n",
    "len(lcs_test[test_obj_rows])"
   ]
  },
  {
   "cell_type": "code",
   "execution_count": 117,
   "metadata": {
    "collapsed": false
   },
   "outputs": [
    {
     "data": {
      "text/html": [
       "&lt;Table length=6&gt;\n",
       "<table id=\"table4680385984\" class=\"table-striped table-bordered table-condensed\">\n",
       "<thead><tr><th>cntr_01</th><th>dist_x</th><th>pang_x</th><th>ra_01</th><th>dec_01</th><th>obsmjd</th><th>mag_autocorr</th><th>magerr_auto</th><th>oid</th><th>ra</th><th>dec</th><th>fid</th><th>transient_flag</th><th>astrometricrms</th><th>nobs</th><th>ngoodobs</th><th>nbestobs</th><th>referencemag</th><th>referencemagerr</th><th>medianmag</th><th>bestmedianmag</th><th>meanmag</th><th>bestmeanmag</th><th>magrms</th><th>bestmagrms</th><th>sid</th><th>s_ra</th><th>s_dec</th><th>ptffield</th><th>ccdid</th><th>hmjd</th><th>nid</th><th>mag_auto</th><th>limitmag</th><th>absphotzp</th><th>fwhmsex</th><th>fwhm_image</th><th>qaflags</th><th>flags</th><th>photcalflag</th><th>goodflag</th></tr></thead>\n",
       "<thead><tr><th></th><th>arcsec</th><th>deg</th><th>degrees</th><th>degrees</th><th>days</th><th>mag</th><th>mag</th><th></th><th>degrees</th><th>degrees</th><th></th><th></th><th>degrees</th><th></th><th></th><th></th><th>mag</th><th>mag</th><th>mag</th><th>mag</th><th>mag</th><th>mag</th><th>mag</th><th>mag</th><th></th><th>degrees</th><th>degrees</th><th></th><th></th><th>days</th><th></th><th>mag</th><th>mag</th><th>mag</th><th>arcsec</th><th>pixels</th><th></th><th></th><th>0=No, 1=Yes</th><th>0=No, 1=Yes</th></tr></thead>\n",
       "<thead><tr><th>int64</th><th>float64</th><th>float64</th><th>float64</th><th>float64</th><th>float64</th><th>float64</th><th>float64</th><th>int64</th><th>float64</th><th>float64</th><th>int64</th><th>int64</th><th>float64</th><th>int64</th><th>int64</th><th>int64</th><th>float64</th><th>float64</th><th>float64</th><th>float64</th><th>float64</th><th>float64</th><th>float64</th><th>float64</th><th>int64</th><th>float64</th><th>float64</th><th>int64</th><th>int64</th><th>float64</th><th>int64</th><th>float64</th><th>float64</th><th>float64</th><th>float64</th><th>float64</th><th>int64</th><th>int64</th><th>int64</th><th>int64</th></tr></thead>\n",
       "<tr><td>1</td><td>0.0</td><td>0.0</td><td>6.968328</td><td>0.437734</td><td>56903.3404372</td><td>18.747</td><td>0.04</td><td>26991060002225</td><td>6.968328</td><td>0.437734</td><td>1</td><td>0</td><td>4.777896e-07</td><td>125</td><td>125</td><td>123</td><td>18.717</td><td>0.006</td><td>18.746</td><td>18.748</td><td>18.743</td><td>18.743</td><td>0.06</td><td>0.06</td><td>21305664001544</td><td>6.968329</td><td>0.437729</td><td>2699</td><td>6</td><td>56903.3455472</td><td>1968</td><td>18.76</td><td>21.93</td><td>27.896</td><td>2.45</td><td>2.713</td><td>0</td><td>131072</td><td>0</td><td>1</td></tr>\n",
       "<tr><td>1</td><td>0.0</td><td>0.0</td><td>6.968328</td><td>0.437734</td><td>56924.3337972</td><td>18.774</td><td>0.041</td><td>26991060002225</td><td>6.968328</td><td>0.437734</td><td>1</td><td>0</td><td>4.777896e-07</td><td>125</td><td>125</td><td>123</td><td>18.717</td><td>0.006</td><td>18.746</td><td>18.748</td><td>18.743</td><td>18.743</td><td>0.06</td><td>0.06</td><td>21507653001359</td><td>6.968328</td><td>0.43773</td><td>2699</td><td>6</td><td>56924.3395172</td><td>1987</td><td>18.778</td><td>21.754</td><td>27.874</td><td>2.45</td><td>2.531</td><td>0</td><td>131072</td><td>0</td><td>1</td></tr>\n",
       "<tr><td>1</td><td>0.0</td><td>0.0</td><td>6.968328</td><td>0.437734</td><td>56904.3353572</td><td>18.766</td><td>0.047</td><td>26991060002225</td><td>6.968328</td><td>0.437734</td><td>1</td><td>0</td><td>4.777896e-07</td><td>125</td><td>125</td><td>123</td><td>18.717</td><td>0.006</td><td>18.746</td><td>18.748</td><td>18.743</td><td>18.743</td><td>0.06</td><td>0.06</td><td>21299870001227</td><td>6.968337</td><td>0.43772</td><td>2699</td><td>6</td><td>56904.3405072</td><td>1969</td><td>18.784</td><td>21.467</td><td>27.896</td><td>2.45</td><td>2.968</td><td>0</td><td>131072</td><td>0</td><td>1</td></tr>\n",
       "<tr><td>1</td><td>0.0</td><td>0.0</td><td>6.968328</td><td>0.437734</td><td>56904.3635872</td><td>18.721</td><td>0.043</td><td>26991060002225</td><td>6.968328</td><td>0.437734</td><td>1</td><td>0</td><td>4.777896e-07</td><td>125</td><td>125</td><td>123</td><td>18.717</td><td>0.006</td><td>18.746</td><td>18.748</td><td>18.743</td><td>18.743</td><td>0.06</td><td>0.06</td><td>21299891001474</td><td>6.96832</td><td>0.437738</td><td>2699</td><td>6</td><td>56904.3687372</td><td>1969</td><td>18.728</td><td>21.97</td><td>27.901</td><td>2.45</td><td>2.778</td><td>0</td><td>131072</td><td>0</td><td>1</td></tr>\n",
       "<tr><td>1</td><td>0.0</td><td>0.0</td><td>6.968328</td><td>0.437734</td><td>56931.3226572</td><td>18.803</td><td>0.044</td><td>26991060002225</td><td>6.968328</td><td>0.437734</td><td>1</td><td>0</td><td>4.777896e-07</td><td>125</td><td>125</td><td>123</td><td>18.717</td><td>0.006</td><td>18.746</td><td>18.748</td><td>18.743</td><td>18.743</td><td>0.06</td><td>0.06</td><td>22270304001348</td><td>6.968356</td><td>0.437729</td><td>2699</td><td>6</td><td>56931.3284272</td><td>1994</td><td>18.802</td><td>21.732</td><td>27.858</td><td>2.45</td><td>2.63</td><td>0</td><td>131072</td><td>0</td><td>1</td></tr>\n",
       "<tr><td>1</td><td>0.0</td><td>0.0</td><td>6.968328</td><td>0.437734</td><td>56931.3685672</td><td>18.799</td><td>0.044</td><td>26991060002225</td><td>6.968328</td><td>0.437734</td><td>1</td><td>0</td><td>4.777896e-07</td><td>125</td><td>125</td><td>123</td><td>18.717</td><td>0.006</td><td>18.746</td><td>18.748</td><td>18.743</td><td>18.743</td><td>0.06</td><td>0.06</td><td>22270414001278</td><td>6.968343</td><td>0.437742</td><td>2699</td><td>6</td><td>56931.3743372</td><td>1994</td><td>18.798</td><td>21.666</td><td>27.849</td><td>2.55</td><td>2.937</td><td>0</td><td>131072</td><td>0</td><td>1</td></tr>\n",
       "</table>"
      ],
      "text/plain": [
       "<Table length=6>\n",
       "cntr_01  dist_x  pang_x  ra_01   ... qaflags flags  photcalflag   goodflag \n",
       "         arcsec   deg   degrees  ...                0=No, 1=Yes 0=No, 1=Yes\n",
       " int64  float64 float64 float64  ...  int64  int64     int64       int64   \n",
       "------- ------- ------- -------- ... ------- ------ ----------- -----------\n",
       "      1     0.0     0.0 6.968328 ...       0 131072           0           1\n",
       "      1     0.0     0.0 6.968328 ...       0 131072           0           1\n",
       "      1     0.0     0.0 6.968328 ...       0 131072           0           1\n",
       "      1     0.0     0.0 6.968328 ...       0 131072           0           1\n",
       "      1     0.0     0.0 6.968328 ...       0 131072           0           1\n",
       "      1     0.0     0.0 6.968328 ...       0 131072           0           1"
      ]
     },
     "execution_count": 117,
     "metadata": {},
     "output_type": "execute_result"
    }
   ],
   "source": [
    "# display the first few rows\n",
    "lcs_test[test_obj_rows][:6]\n"
   ]
  },
  {
   "cell_type": "markdown",
   "metadata": {},
   "source": [
    "### Example qso lightcurve ... "
   ]
  },
  {
   "cell_type": "code",
   "execution_count": 97,
   "metadata": {
    "collapsed": false
   },
   "outputs": [
    {
     "data": {
      "text/html": [
       "&lt;Table masked=True length=6&gt;\n",
       "<table id=\"table4658727960\" class=\"table-striped table-bordered table-condensed\">\n",
       "<thead><tr><th>cntr_01</th><th>dist_x</th><th>pang_x</th><th>ra_01</th><th>dec_01</th><th>obsmjd</th><th>mag_autocorr</th><th>magerr_auto</th><th>oid</th><th>ra</th><th>dec</th><th>fid</th><th>transient_flag</th><th>astrometricrms</th><th>nobs</th><th>ngoodobs</th><th>nbestobs</th><th>referencemag</th><th>referencemagerr</th><th>medianmag</th><th>bestmedianmag</th><th>meanmag</th><th>bestmeanmag</th><th>magrms</th><th>bestmagrms</th><th>sid</th><th>s_ra</th><th>s_dec</th><th>ptffield</th><th>ccdid</th><th>hmjd</th><th>nid</th><th>mag_auto</th><th>limitmag</th><th>absphotzp</th><th>fwhmsex</th><th>fwhm_image</th><th>qaflags</th><th>flags</th><th>photcalflag</th><th>goodflag</th></tr></thead>\n",
       "<thead><tr><th></th><th>arcsec</th><th>deg</th><th>degrees</th><th>degrees</th><th>days</th><th>mag</th><th>mag</th><th></th><th>degrees</th><th>degrees</th><th></th><th></th><th>degrees</th><th></th><th></th><th></th><th>mag</th><th>mag</th><th>mag</th><th>mag</th><th>mag</th><th>mag</th><th>mag</th><th>mag</th><th></th><th>degrees</th><th>degrees</th><th></th><th></th><th>days</th><th></th><th>mag</th><th>mag</th><th>mag</th><th>arcsec</th><th>pixels</th><th></th><th></th><th>0=No, 1=Yes</th><th>0=No, 1=Yes</th></tr></thead>\n",
       "<thead><tr><th>int64</th><th>float64</th><th>float64</th><th>float64</th><th>float64</th><th>float64</th><th>float64</th><th>float64</th><th>int64</th><th>float64</th><th>float64</th><th>int64</th><th>int64</th><th>float64</th><th>int64</th><th>int64</th><th>int64</th><th>float64</th><th>float64</th><th>float64</th><th>float64</th><th>float64</th><th>float64</th><th>float64</th><th>float64</th><th>int64</th><th>float64</th><th>float64</th><th>int64</th><th>int64</th><th>float64</th><th>int64</th><th>float64</th><th>float64</th><th>float64</th><th>float64</th><th>float64</th><th>int64</th><th>int64</th><th>int64</th><th>int64</th></tr></thead>\n",
       "<tr><td>2402</td><td>0.0</td><td>0.0</td><td>1.50903</td><td>-0.899447</td><td>56905.2801772</td><td>19.407</td><td>0.094</td><td>25921020000816</td><td>1.50903</td><td>-0.899447</td><td>1</td><td>0</td><td>8.881669e-07</td><td>204</td><td>189</td><td>174</td><td>19.686</td><td>0.015</td><td>19.64</td><td>19.632</td><td>19.656</td><td>19.652</td><td>0.136</td><td>0.127</td><td>21294506001222</td><td>1.509024</td><td>-0.899403</td><td>2592</td><td>2</td><td>56905.2856372</td><td>1970</td><td>19.406</td><td>20.78</td><td>27.757</td><td>2.35</td><td>3.429</td><td>0</td><td>131072</td><td>0</td><td>1</td></tr>\n",
       "<tr><td>2402</td><td>0.0</td><td>0.0</td><td>1.50903</td><td>-0.899447</td><td>56942.3708872</td><td>19.959</td><td>0.124</td><td>25921020000816</td><td>1.50903</td><td>-0.899447</td><td>1</td><td>0</td><td>8.881669e-07</td><td>204</td><td>189</td><td>174</td><td>19.686</td><td>0.015</td><td>19.64</td><td>19.632</td><td>19.656</td><td>19.652</td><td>0.136</td><td>0.127</td><td>21770129000931</td><td>1.509045</td><td>-0.8994</td><td>2592</td><td>2</td><td>56942.3763972</td><td>2006</td><td>19.958</td><td>20.576</td><td>27.683</td><td>2.45</td><td>3.332</td><td>0</td><td>131072</td><td>0</td><td>1</td></tr>\n",
       "<tr><td>2402</td><td>0.0</td><td>0.0</td><td>1.50903</td><td>-0.899447</td><td>56904.3177872</td><td>19.612</td><td>0.08</td><td>25921020000816</td><td>1.50903</td><td>-0.899447</td><td>1</td><td>0</td><td>8.881669e-07</td><td>204</td><td>189</td><td>174</td><td>19.686</td><td>0.015</td><td>19.64</td><td>19.632</td><td>19.656</td><td>19.652</td><td>0.136</td><td>0.127</td><td>21301786001582</td><td>1.509043</td><td>-0.89943</td><td>2592</td><td>2</td><td>56904.3232272</td><td>1969</td><td>19.616</td><td>21.253</td><td>27.794</td><td>2.25</td><td>2.442</td><td>0</td><td>131072</td><td>0</td><td>1</td></tr>\n",
       "<tr><td>2402</td><td>0.0</td><td>0.0</td><td>1.50903</td><td>-0.899447</td><td>56903.3218972</td><td>19.567</td><td>0.057</td><td>25921020000816</td><td>1.50903</td><td>-0.899447</td><td>1</td><td>0</td><td>8.881669e-07</td><td>204</td><td>189</td><td>174</td><td>19.686</td><td>0.015</td><td>19.64</td><td>19.632</td><td>19.656</td><td>19.652</td><td>0.136</td><td>0.127</td><td>21304471002246</td><td>1.509005</td><td>-0.899428</td><td>2592</td><td>2</td><td>56903.3273072</td><td>1968</td><td>19.577</td><td>21.851</td><td>27.799</td><td>2.25</td><td>2.775</td><td>0</td><td>131072</td><td>0</td><td>1</td></tr>\n",
       "<tr><td>2402</td><td>0.0</td><td>0.0</td><td>1.50903</td><td>-0.899447</td><td>56903.3515872</td><td>19.557</td><td>0.056</td><td>25921020000816</td><td>1.50903</td><td>-0.899447</td><td>1</td><td>0</td><td>8.881669e-07</td><td>204</td><td>189</td><td>174</td><td>19.686</td><td>0.015</td><td>19.64</td><td>19.632</td><td>19.656</td><td>19.652</td><td>0.136</td><td>0.127</td><td>21304490002307</td><td>1.509005</td><td>-0.899456</td><td>2592</td><td>2</td><td>56903.3569872</td><td>1968</td><td>19.567</td><td>21.946</td><td>27.811</td><td>2.15</td><td>2.641</td><td>0</td><td>131072</td><td>0</td><td>1</td></tr>\n",
       "<tr><td>2402</td><td>0.0</td><td>0.0</td><td>1.50903</td><td>-0.899447</td><td>56915.2918972</td><td>19.589</td><td>0.076</td><td>25921020000816</td><td>1.50903</td><td>-0.899447</td><td>1</td><td>0</td><td>8.881669e-07</td><td>204</td><td>189</td><td>174</td><td>19.686</td><td>0.015</td><td>19.64</td><td>19.632</td><td>19.656</td><td>19.652</td><td>0.136</td><td>0.127</td><td>21345421001547</td><td>1.508995</td><td>-0.899431</td><td>2592</td><td>2</td><td>56915.2975972</td><td>1978</td><td>19.6</td><td>21.22</td><td>27.726</td><td>2.35</td><td>2.977</td><td>0</td><td>131072</td><td>0</td><td>1</td></tr>\n",
       "</table>"
      ],
      "text/plain": [
       "<Table masked=True length=6>\n",
       "cntr_01  dist_x  pang_x  ra_01  ... qaflags flags  photcalflag   goodflag \n",
       "         arcsec   deg   degrees ...                0=No, 1=Yes 0=No, 1=Yes\n",
       " int64  float64 float64 float64 ...  int64  int64     int64       int64   \n",
       "------- ------- ------- ------- ... ------- ------ ----------- -----------\n",
       "   2402     0.0     0.0 1.50903 ...       0 131072           0           1\n",
       "   2402     0.0     0.0 1.50903 ...       0 131072           0           1\n",
       "   2402     0.0     0.0 1.50903 ...       0 131072           0           1\n",
       "   2402     0.0     0.0 1.50903 ...       0 131072           0           1\n",
       "   2402     0.0     0.0 1.50903 ...       0 131072           0           1\n",
       "   2402     0.0     0.0 1.50903 ...       0 131072           0           1"
      ]
     },
     "execution_count": 97,
     "metadata": {},
     "output_type": "execute_result"
    }
   ],
   "source": [
    "# grab the first object by oid \n",
    "test_obj_rows = lcs_qso['oid'] == np.unique(lcs_qso['oid'])[0]\n",
    "# display first few rows... \n",
    "lcs_qso[test_obj_rows][:6]"
   ]
  },
  {
   "cell_type": "markdown",
   "metadata": {},
   "source": [
    "Again : there are 64 rows :  len(lcs_qso[test_obj_rows]) , even though nbestobs = 174... Why ?  "
   ]
  },
  {
   "cell_type": "code",
   "execution_count": 95,
   "metadata": {
    "collapsed": false
   },
   "outputs": [
    {
     "data": {
      "text/html": [
       "&lt;Table masked=True length=6&gt;\n",
       "<table id=\"table4671147368\" class=\"table-striped table-bordered table-condensed\">\n",
       "<thead><tr><th>cntr_01</th><th>dist_x</th><th>pang_x</th><th>ra_01</th><th>dec_01</th><th>obsmjd</th><th>mag_autocorr</th><th>magerr_auto</th><th>oid</th><th>ra</th><th>dec</th><th>fid</th><th>transient_flag</th><th>astrometricrms</th><th>nobs</th><th>ngoodobs</th><th>nbestobs</th><th>referencemag</th><th>referencemagerr</th><th>medianmag</th><th>bestmedianmag</th><th>meanmag</th><th>bestmeanmag</th><th>magrms</th><th>bestmagrms</th><th>sid</th><th>s_ra</th><th>s_dec</th><th>ptffield</th><th>ccdid</th><th>hmjd</th><th>nid</th><th>mag_auto</th><th>limitmag</th><th>absphotzp</th><th>fwhmsex</th><th>fwhm_image</th><th>qaflags</th><th>flags</th><th>photcalflag</th><th>goodflag</th></tr></thead>\n",
       "<thead><tr><th></th><th>arcsec</th><th>deg</th><th>degrees</th><th>degrees</th><th>days</th><th>mag</th><th>mag</th><th></th><th>degrees</th><th>degrees</th><th></th><th></th><th>degrees</th><th></th><th></th><th></th><th>mag</th><th>mag</th><th>mag</th><th>mag</th><th>mag</th><th>mag</th><th>mag</th><th>mag</th><th></th><th>degrees</th><th>degrees</th><th></th><th></th><th>days</th><th></th><th>mag</th><th>mag</th><th>mag</th><th>arcsec</th><th>pixels</th><th></th><th></th><th>0=No, 1=Yes</th><th>0=No, 1=Yes</th></tr></thead>\n",
       "<thead><tr><th>int64</th><th>float64</th><th>float64</th><th>float64</th><th>float64</th><th>float64</th><th>float64</th><th>float64</th><th>int64</th><th>float64</th><th>float64</th><th>int64</th><th>int64</th><th>float64</th><th>int64</th><th>int64</th><th>int64</th><th>float64</th><th>float64</th><th>float64</th><th>float64</th><th>float64</th><th>float64</th><th>float64</th><th>float64</th><th>int64</th><th>float64</th><th>float64</th><th>int64</th><th>int64</th><th>float64</th><th>int64</th><th>float64</th><th>float64</th><th>float64</th><th>float64</th><th>float64</th><th>int64</th><th>int64</th><th>int64</th><th>int64</th></tr></thead>\n",
       "<tr><td>1211</td><td>0.0</td><td>180.0</td><td>0.049846</td><td>0.040389</td><td>56920.3323372</td><td>17.249</td><td>0.034</td><td>26971060000456</td><td>0.049846</td><td>0.040389</td><td>1</td><td>0</td><td>2.035493e-07</td><td>109</td><td>109</td><td>109</td><td>17.228</td><td>0.004</td><td>17.257</td><td>17.257</td><td>17.287</td><td>17.287</td><td>0.079</td><td>0.079</td><td>21434266001679</td><td>0.049834</td><td>0.040392</td><td>2697</td><td>6</td><td>56920.3380872</td><td>1983</td><td>17.249</td><td>21.592</td><td>27.843</td><td>3.05</td><td>3.56</td><td>0</td><td>131072</td><td>0</td><td>1</td></tr>\n",
       "<tr><td>1211</td><td>0.0</td><td>180.0</td><td>0.049846</td><td>0.040389</td><td>56952.2524972</td><td>17.237</td><td>0.034</td><td>26971060000456</td><td>0.049846</td><td>0.040389</td><td>1</td><td>0</td><td>2.035493e-07</td><td>109</td><td>109</td><td>109</td><td>17.228</td><td>0.004</td><td>17.257</td><td>17.257</td><td>17.287</td><td>17.287</td><td>0.079</td><td>0.079</td><td>21923244001705</td><td>0.049843</td><td>0.040389</td><td>2697</td><td>6</td><td>56952.2576672</td><td>2014</td><td>17.239</td><td>21.624</td><td>27.871</td><td>2.65</td><td>2.912</td><td>0</td><td>131072</td><td>0</td><td>1</td></tr>\n",
       "<tr><td>1211</td><td>0.0</td><td>180.0</td><td>0.049846</td><td>0.040389</td><td>56914.2943372</td><td>17.258</td><td>0.037</td><td>26971060000456</td><td>0.049846</td><td>0.040389</td><td>1</td><td>0</td><td>2.035493e-07</td><td>109</td><td>109</td><td>109</td><td>17.228</td><td>0.004</td><td>17.257</td><td>17.257</td><td>17.287</td><td>17.287</td><td>0.079</td><td>0.079</td><td>21364525001402</td><td>0.049841</td><td>0.040379</td><td>2697</td><td>6</td><td>56914.3000172</td><td>1979</td><td>17.248</td><td>21.014</td><td>27.801</td><td>2.45</td><td>2.836</td><td>0</td><td>131072</td><td>0</td><td>1</td></tr>\n",
       "<tr><td>1211</td><td>0.0</td><td>180.0</td><td>0.049846</td><td>0.040389</td><td>56914.3413172</td><td>17.244</td><td>0.037</td><td>26971060000456</td><td>0.049846</td><td>0.040389</td><td>1</td><td>0</td><td>2.035493e-07</td><td>109</td><td>109</td><td>109</td><td>17.228</td><td>0.004</td><td>17.257</td><td>17.257</td><td>17.287</td><td>17.287</td><td>0.079</td><td>0.079</td><td>21364555001390</td><td>0.04984</td><td>0.040393</td><td>2697</td><td>6</td><td>56914.3469972</td><td>1979</td><td>17.228</td><td>21.027</td><td>27.816</td><td>2.45</td><td>2.618</td><td>0</td><td>131072</td><td>0</td><td>1</td></tr>\n",
       "<tr><td>1211</td><td>0.0</td><td>180.0</td><td>0.049846</td><td>0.040389</td><td>56927.2768872</td><td>17.239</td><td>0.036</td><td>26971060000456</td><td>0.049846</td><td>0.040389</td><td>1</td><td>0</td><td>2.035493e-07</td><td>109</td><td>109</td><td>109</td><td>17.228</td><td>0.004</td><td>17.257</td><td>17.257</td><td>17.287</td><td>17.287</td><td>0.079</td><td>0.079</td><td>21547909001793</td><td>0.049844</td><td>0.040393</td><td>2697</td><td>6</td><td>56927.2826572</td><td>1990</td><td>17.223</td><td>21.705</td><td>27.853</td><td>2.55</td><td>2.977</td><td>0</td><td>131072</td><td>0</td><td>1</td></tr>\n",
       "<tr><td>1211</td><td>0.0</td><td>180.0</td><td>0.049846</td><td>0.040389</td><td>56927.3321972</td><td>17.282</td><td>0.037</td><td>26971060000456</td><td>0.049846</td><td>0.040389</td><td>1</td><td>0</td><td>2.035493e-07</td><td>109</td><td>109</td><td>109</td><td>17.228</td><td>0.004</td><td>17.257</td><td>17.257</td><td>17.287</td><td>17.287</td><td>0.079</td><td>0.079</td><td>21547958001377</td><td>0.049848</td><td>0.040385</td><td>2697</td><td>6</td><td>56927.3379672</td><td>1990</td><td>17.285</td><td>21.307</td><td>27.856</td><td>3.65</td><td>4.108</td><td>0</td><td>131072</td><td>0</td><td>1</td></tr>\n",
       "</table>"
      ],
      "text/plain": [
       "<Table masked=True length=6>\n",
       "cntr_01  dist_x  pang_x  ra_01   ... qaflags flags  photcalflag   goodflag \n",
       "         arcsec   deg   degrees  ...                0=No, 1=Yes 0=No, 1=Yes\n",
       " int64  float64 float64 float64  ...  int64  int64     int64       int64   \n",
       "------- ------- ------- -------- ... ------- ------ ----------- -----------\n",
       "   1211     0.0   180.0 0.049846 ...       0 131072           0           1\n",
       "   1211     0.0   180.0 0.049846 ...       0 131072           0           1\n",
       "   1211     0.0   180.0 0.049846 ...       0 131072           0           1\n",
       "   1211     0.0   180.0 0.049846 ...       0 131072           0           1\n",
       "   1211     0.0   180.0 0.049846 ...       0 131072           0           1\n",
       "   1211     0.0   180.0 0.049846 ...       0 131072           0           1"
      ]
     },
     "execution_count": 95,
     "metadata": {},
     "output_type": "execute_result"
    }
   ],
   "source": [
    "    # grab the first object  by ra \n",
    "test_obj_ra = np.unique(lcs_qso['ra'])[0]\n",
    "test_obj_rows = lcs_qso['ra'] == test_obj_ra\n",
    "# display first few rows... \n",
    "\n",
    "lcs_qso[test_obj_rows][:6]"
   ]
  },
  {
   "cell_type": "markdown",
   "metadata": {},
   "source": [
    "Why nbestobs  has nothing do do with how many rows there actually are ?? \n",
    "\n",
    "len(lcs_qso[test_obj_rows])    is 63, whereas nobs = ngoodobs = nbestobs = 109 .... "
   ]
  },
  {
   "cell_type": "code",
   "execution_count": 84,
   "metadata": {
    "collapsed": false
   },
   "outputs": [
    {
     "data": {
      "text/plain": [
       "masked_BaseColumn(data = [False False False False False False False False  True False False False\n",
       " False False False False False False False False False False False False\n",
       " False False False False False False False False False False False False\n",
       " False False False False False False False False False False False False\n",
       " False False False False False False False False False  True  True False\n",
       " False False False],\n",
       "                  mask = False,\n",
       "            fill_value = 1.0)"
      ]
     },
     "execution_count": 84,
     "metadata": {},
     "output_type": "execute_result"
    }
   ],
   "source": [
    "mask_outliers = yerr > 3*np.mean(yerr)"
   ]
  },
  {
   "cell_type": "code",
   "execution_count": 87,
   "metadata": {
    "collapsed": false
   },
   "outputs": [
    {
     "data": {
      "text/plain": [
       "<matplotlib.text.Text at 0x1167f14a8>"
      ]
     },
     "execution_count": 87,
     "metadata": {},
     "output_type": "execute_result"
    },
    {
     "data": {
      "image/png": "[encoded data removed]",
      "text/plain": [
       "<matplotlib.figure.Figure at 0x116fb45f8>"
      ]
     },
     "metadata": {},
     "output_type": "display_data"
    }
   ],
   "source": [
    "# plot an example lightcurve...\n",
    "x    = lcs_qso[test_obj_rows]['obsmjd']\n",
    "y    = lcs_qso[test_obj_rows]['mag_autocorr']\n",
    "yerr = lcs_qso[test_obj_rows]['magerr_auto']\n",
    "\n",
    "# Just for plotting:  remove the points that have way too high photometric error... \n",
    "mask_outliers = yerr < 2*np.mean(yerr)\n",
    "\n",
    "x_sel = x[mask_outliers]\n",
    "y_sel = y[mask_outliers]\n",
    "yerr_sel = yerr[mask_outliers]\n",
    "\n",
    "plt.scatter(x_sel,y_sel,lw=0)\n",
    "plt.errorbar(x_sel,y_sel,yerr_sel, fmt='None')\n",
    "#plt.ylim(14,23)\n",
    "plt.ylabel('mag_autocorr')\n",
    "plt.xlabel('MJD')\n"
   ]
  },
  {
   "cell_type": "code",
   "execution_count": null,
   "metadata": {
    "collapsed": true
   },
   "outputs": [],
   "source": [
    "# Save in a CRTS-readable format, so that I can run these through the same analysis as CRTS data... \n",
    "\n",
    "# Or just do all day-averaging  on the IPAC table :  \n",
    "# much quicker solution, since I don't really need the raw data for anything.... \n",
    "\n",
    "# Next steps:  modify  \n",
    "# A_Fig_1_QSO_CRTS_day_averaged_stats.ipynb\n",
    "# B_sf_CRTS_SDSS_matching_NEW.py\n",
    "\n",
    "# and perhaps \n",
    "\n",
    "# C_sf_load_single_LC.py "
   ]
  },
  {
   "cell_type": "markdown",
   "metadata": {},
   "source": [
    "Querying IRSA for  stars : same steps as above for quasars... "
   ]
  },
  {
   "cell_type": "code",
   "execution_count": null,
   "metadata": {
    "collapsed": true
   },
   "outputs": [],
   "source": []
  }
 ],
 "metadata": {
  "anaconda-cloud": {},
  "kernelspec": {
   "display_name": "Python [Root]",
   "language": "python",
   "name": "Python [Root]"
  },
  "language_info": {
   "codemirror_mode": {
    "name": "ipython",
    "version": 3
   },
   "file_extension": ".py",
   "mimetype": "text/x-python",
   "name": "python",
   "nbconvert_exporter": "python",
   "pygments_lexer": "ipython3",
   "version": "3.5.2"
  }
 },
 "nbformat": 4,
 "nbformat_minor": 0
}
