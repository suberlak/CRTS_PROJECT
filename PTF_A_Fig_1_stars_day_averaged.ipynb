{
 "cells": [
  {
   "cell_type": "code",
   "execution_count": 1,
   "metadata": {
    "collapsed": true
   },
   "outputs": [],
   "source": [
    "import numpy as np\n",
    "import matplotlib.pyplot as plt \n",
    "from os import listdir\n",
    "import pandas as pd \n",
    "from astropy.table import Table"
   ]
  },
  {
   "cell_type": "markdown",
   "metadata": {},
   "source": [
    "## Resulting PTF stellar lightcurves from  S82"
   ]
  },
  {
   "cell_type": "markdown",
   "metadata": {},
   "source": [
    "First, find how many stars we have from this query, in  ../IPAC_output_tables/Ipac_PTF_lightcurves_stars_S82.tbl "
   ]
  },
  {
   "cell_type": "code",
   "execution_count": 2,
   "metadata": {
    "collapsed": false
   },
   "outputs": [],
   "source": [
    "# all lightcurves (may take a minute to read as the file has size of 82 MB ... )\n",
    "lcs = Table.read('../IPAC_output_tables/Ipac_PTF_lightcurves_stars_S82.tbl', format='ipac')\n",
    "\n"
   ]
  },
  {
   "cell_type": "code",
   "execution_count": 3,
   "metadata": {
    "collapsed": false
   },
   "outputs": [
    {
     "data": {
      "text/plain": [
       "913975"
      ]
     },
     "execution_count": 3,
     "metadata": {},
     "output_type": "execute_result"
    }
   ],
   "source": [
    "# This gives total number of epochs : \n",
    "len(lcs)\n",
    "\n"
   ]
  },
  {
   "cell_type": "code",
   "execution_count": 72,
   "metadata": {
    "collapsed": false
   },
   "outputs": [
    {
     "name": "stdout",
     "output_type": "stream",
     "text": [
      "We have 38776 stars to start with \n"
     ]
    }
   ],
   "source": [
    "# Need to group by SDSS ra to get info about how many objects we have:\n",
    "print('We have %d stars to start with ' % len(np.unique(lcs['ra'])))\n",
    "\n",
    "\n"
   ]
  },
  {
   "cell_type": "markdown",
   "metadata": {},
   "source": [
    "## Remove empty files and those with less than 10 points "
   ]
  },
  {
   "cell_type": "markdown",
   "metadata": {},
   "source": [
    "Three equivalent ways of testing for the number of empty files.  Those files should be removed from the list of accepted stars/ "
   ]
  },
  {
   "cell_type": "code",
   "execution_count": 6,
   "metadata": {
    "collapsed": false
   },
   "outputs": [
    {
     "data": {
      "text/plain": [
       "0"
      ]
     },
     "execution_count": 6,
     "metadata": {},
     "output_type": "execute_result"
    }
   ],
   "source": [
    "# Since I selected the objects from PTF asking them to have at least \n",
    "# ngoodobs > 10, there are definitely no objects with less than 10 epochs : \n",
    "np.sum(lcs['ngoodobs'] < 10)"
   ]
  },
  {
   "cell_type": "markdown",
   "metadata": {},
   "source": [
    "## Statistics on the raw  LC (before day-averaging)  "
   ]
  },
  {
   "cell_type": "markdown",
   "metadata": {},
   "source": [
    "Group by ra : the SDSS ra, since ra_01 : the PTF ra , may differ from chip to chip,  just as oid .  For these stars there seems to be only one edge-case ( number of unique SDSS  ra is 38776, and PTF oid : 38886, PTF ra_01: 38892)"
   ]
  },
  {
   "cell_type": "code",
   "execution_count": 10,
   "metadata": {
    "collapsed": false
   },
   "outputs": [],
   "source": [
    "# drop some pesky 'masked' row... \n",
    "lcs_new = lcs[lcs['ra'] != np.unique(lcs['ra'])[-1]]"
   ]
  },
  {
   "cell_type": "code",
   "execution_count": 12,
   "metadata": {
    "collapsed": false
   },
   "outputs": [],
   "source": [
    "# group by ra to calculate stats on each object...\n",
    "grouped_lcs = lcs_new.group_by('ra')"
   ]
  },
  {
   "cell_type": "code",
   "execution_count": 14,
   "metadata": {
    "collapsed": false
   },
   "outputs": [
    {
     "data": {
      "text/plain": [
       "38775"
      ]
     },
     "execution_count": 14,
     "metadata": {},
     "output_type": "execute_result"
    }
   ],
   "source": [
    "len(grouped_lcs.groups.keys)"
   ]
  },
  {
   "cell_type": "markdown",
   "metadata": {},
   "source": [
    "I capitalize on what stats are **really** needed. I'm not making a Fig.1 for PTF. If needed in the future, I may worry about that, but for now, I'll get some simple-to-do stats  (per object-grouped group :  max(mjd) - min(mjd),  mean(mag), mean(err) ) .  Means are built-in as group-aggregates , and the max-min  statistic I'll try to implement as a function.  \n",
    "\n",
    "Either way,  stats are not as needed as just making the master files  (delta_t, delta_mag, error),  and the PTF-SDSS matched catalogs, to use SDSS r-mag for magnitude cuts. "
   ]
  },
  {
   "cell_type": "code",
   "execution_count": 16,
   "metadata": {
    "collapsed": false
   },
   "outputs": [
    {
     "data": {
      "text/html": [
       "&lt;Table masked=True length=6&gt;\n",
       "<table id=\"table4678309592\" class=\"table-striped table-bordered table-condensed\">\n",
       "<thead><tr><th>cntr_01</th><th>dist_x</th><th>pang_x</th><th>ra_01</th><th>dec_01</th><th>obsmjd</th><th>mag_autocorr</th><th>magerr_auto</th><th>oid</th><th>ra</th><th>dec</th><th>fid</th><th>transient_flag</th><th>astrometricrms</th><th>nobs</th><th>ngoodobs</th><th>nbestobs</th><th>referencemag</th><th>referencemagerr</th><th>medianmag</th><th>bestmedianmag</th><th>meanmag</th><th>bestmeanmag</th><th>magrms</th><th>bestmagrms</th><th>sid</th><th>s_ra</th><th>s_dec</th><th>ptffield</th><th>ccdid</th><th>hmjd</th><th>nid</th><th>mag_auto</th><th>limitmag</th><th>absphotzp</th><th>fwhmsex</th><th>fwhm_image</th><th>qaflags</th><th>flags</th><th>photcalflag</th><th>goodflag</th></tr></thead>\n",
       "<thead><tr><th></th><th>arcsec</th><th>deg</th><th>degrees</th><th>degrees</th><th>days</th><th>mag</th><th>mag</th><th></th><th>degrees</th><th>degrees</th><th></th><th></th><th>degrees</th><th></th><th></th><th></th><th>mag</th><th>mag</th><th>mag</th><th>mag</th><th>mag</th><th>mag</th><th>mag</th><th>mag</th><th></th><th>degrees</th><th>degrees</th><th></th><th></th><th>days</th><th></th><th>mag</th><th>mag</th><th>mag</th><th>arcsec</th><th>pixels</th><th></th><th></th><th>0=No, 1=Yes</th><th>0=No, 1=Yes</th></tr></thead>\n",
       "<thead><tr><th>int64</th><th>float64</th><th>float64</th><th>float64</th><th>float64</th><th>float64</th><th>float64</th><th>float64</th><th>int64</th><th>float64</th><th>float64</th><th>int64</th><th>int64</th><th>float64</th><th>int64</th><th>int64</th><th>int64</th><th>float64</th><th>float64</th><th>float64</th><th>float64</th><th>float64</th><th>float64</th><th>float64</th><th>float64</th><th>int64</th><th>float64</th><th>float64</th><th>int64</th><th>int64</th><th>float64</th><th>int64</th><th>float64</th><th>float64</th><th>float64</th><th>float64</th><th>float64</th><th>int64</th><th>int64</th><th>int64</th><th>int64</th></tr></thead>\n",
       "<tr><td>18239</td><td>0.0</td><td>0.0</td><td>0.054504</td><td>-1.149916</td><td>56942.3257272</td><td>15.854</td><td>0.032</td><td>25921000000030</td><td>0.054504</td><td>-1.149916</td><td>1</td><td>0</td><td>3.837622e-07</td><td>170</td><td>168</td><td>168</td><td>15.848</td><td>0.005</td><td>15.85</td><td>15.85</td><td>15.853</td><td>15.853</td><td>0.022</td><td>0.022</td><td>21771458000909</td><td>0.054509</td><td>-1.149944</td><td>2592</td><td>0</td><td>56942.3312272</td><td>2006</td><td>15.856</td><td>20.798</td><td>28.006</td><td>2.45</td><td>2.963</td><td>0</td><td>131072</td><td>0</td><td>1</td></tr>\n",
       "<tr><td>18239</td><td>0.0</td><td>0.0</td><td>0.054504</td><td>-1.149916</td><td>56942.3708872</td><td>15.859</td><td>0.032</td><td>25921000000030</td><td>0.054504</td><td>-1.149916</td><td>1</td><td>0</td><td>3.837622e-07</td><td>170</td><td>168</td><td>168</td><td>15.848</td><td>0.005</td><td>15.85</td><td>15.85</td><td>15.853</td><td>15.853</td><td>0.022</td><td>0.022</td><td>21771594000870</td><td>0.054502</td><td>-1.14994</td><td>2592</td><td>0</td><td>56942.3763972</td><td>2006</td><td>15.848</td><td>20.692</td><td>27.969</td><td>2.45</td><td>2.768</td><td>0</td><td>131072</td><td>0</td><td>1</td></tr>\n",
       "<tr><td>18239</td><td>0.0</td><td>0.0</td><td>0.054504</td><td>-1.149916</td><td>56943.2970072</td><td>15.846</td><td>0.034</td><td>25921000000030</td><td>0.054504</td><td>-1.149916</td><td>1</td><td>0</td><td>3.837622e-07</td><td>170</td><td>168</td><td>168</td><td>15.848</td><td>0.005</td><td>15.85</td><td>15.85</td><td>15.853</td><td>15.853</td><td>0.022</td><td>0.022</td><td>21786591001041</td><td>0.054499</td><td>-1.149921</td><td>2592</td><td>0</td><td>56943.3024772</td><td>2002</td><td>15.835</td><td>20.998</td><td>28.033</td><td>2.65</td><td>2.751</td><td>0</td><td>131072</td><td>0</td><td>1</td></tr>\n",
       "<tr><td>18239</td><td>0.0</td><td>0.0</td><td>0.054504</td><td>-1.149916</td><td>56943.3422372</td><td>15.86</td><td>0.034</td><td>25921000000030</td><td>0.054504</td><td>-1.149916</td><td>1</td><td>0</td><td>3.837622e-07</td><td>170</td><td>168</td><td>168</td><td>15.848</td><td>0.005</td><td>15.85</td><td>15.85</td><td>15.853</td><td>15.853</td><td>0.022</td><td>0.022</td><td>21786687000844</td><td>0.054498</td><td>-1.149918</td><td>2592</td><td>0</td><td>56943.3477072</td><td>2002</td><td>15.854</td><td>20.646</td><td>28.002</td><td>3.35</td><td>3.451</td><td>0</td><td>131072</td><td>0</td><td>1</td></tr>\n",
       "<tr><td>18239</td><td>0.0</td><td>0.0</td><td>0.054504</td><td>-1.149916</td><td>56951.2557972</td><td>15.852</td><td>0.037</td><td>25921000000030</td><td>0.054504</td><td>-1.149916</td><td>1</td><td>0</td><td>3.837622e-07</td><td>170</td><td>168</td><td>168</td><td>15.848</td><td>0.005</td><td>15.85</td><td>15.85</td><td>15.853</td><td>15.853</td><td>0.022</td><td>0.022</td><td>21903205001471</td><td>0.054499</td><td>-1.149919</td><td>2592</td><td>0</td><td>56951.2609672</td><td>2013</td><td>15.862</td><td>21.398</td><td>28.044</td><td>3.45</td><td>3.938</td><td>0</td><td>131072</td><td>0</td><td>1</td></tr>\n",
       "<tr><td>18239</td><td>0.0</td><td>0.0</td><td>0.054504</td><td>-1.149916</td><td>56952.2262372</td><td>15.86</td><td>0.031</td><td>25921000000030</td><td>0.054504</td><td>-1.149916</td><td>1</td><td>0</td><td>3.837622e-07</td><td>170</td><td>168</td><td>168</td><td>15.848</td><td>0.005</td><td>15.85</td><td>15.85</td><td>15.853</td><td>15.853</td><td>0.022</td><td>0.022</td><td>21922072001453</td><td>0.054499</td><td>-1.149916</td><td>2592</td><td>0</td><td>56952.2313672</td><td>2014</td><td>15.862</td><td>21.6</td><td>28.072</td><td>2.65</td><td>2.701</td><td>0</td><td>131072</td><td>0</td><td>1</td></tr>\n",
       "</table>"
      ],
      "text/plain": [
       "<Table masked=True length=6>\n",
       "cntr_01  dist_x  pang_x  ra_01   ... qaflags flags  photcalflag   goodflag \n",
       "         arcsec   deg   degrees  ...                0=No, 1=Yes 0=No, 1=Yes\n",
       " int64  float64 float64 float64  ...  int64  int64     int64       int64   \n",
       "------- ------- ------- -------- ... ------- ------ ----------- -----------\n",
       "  18239     0.0     0.0 0.054504 ...       0 131072           0           1\n",
       "  18239     0.0     0.0 0.054504 ...       0 131072           0           1\n",
       "  18239     0.0     0.0 0.054504 ...       0 131072           0           1\n",
       "  18239     0.0     0.0 0.054504 ...       0 131072           0           1\n",
       "  18239     0.0     0.0 0.054504 ...       0 131072           0           1\n",
       "  18239     0.0     0.0 0.054504 ...       0 131072           0           1"
      ]
     },
     "execution_count": 16,
     "metadata": {},
     "output_type": "execute_result"
    }
   ],
   "source": [
    "# calculate some aggregate info...\n",
    "\n",
    "# ra = grouped_lcs.groups.keys[0]\n",
    "#http://docs.astropy.org/en/stable/table/operations.html \n",
    "\n",
    "# display first 10 rows of the first group\n",
    "grouped_lcs.groups[0][:6]"
   ]
  },
  {
   "cell_type": "code",
   "execution_count": 84,
   "metadata": {
    "collapsed": true
   },
   "outputs": [],
   "source": [
    "# All the quick stats below : test on few objects... "
   ]
  },
  {
   "cell_type": "code",
   "execution_count": 17,
   "metadata": {
    "collapsed": false
   },
   "outputs": [],
   "source": [
    "#n_groups = 2\n",
    "test_group = grouped_lcs.groups[:2]\n",
    "#test_agg_info = grouped_lcs.groups.keys[:2]\n",
    "test_agg_info = test_group[['ra','dec', 'oid', 'magerr_auto','mag_autocorr']].groups.aggregate(np.mean)\n",
    "\n",
    "def agg_func(array):\n",
    "    'return max(array)-min(array)'\n",
    "    return max(array) - min(array)\n",
    "\n",
    "test_agg_info['mjd_span'] =  test_group['obsmjd'].groups.aggregate(agg_func)\n",
    "test_agg_info['lc_length'] = test_group['ra'].groups.aggregate(np.count_nonzero)\n",
    "\n",
    "# rename columns, since aggregate leaves the columns unchanged...\n",
    "test_agg_info.rename_column('magerr_auto', 'avg_err')\n",
    "test_agg_info.rename_column('mag_autocorr', 'avg_mag')"
   ]
  },
  {
   "cell_type": "markdown",
   "metadata": {
    "collapsed": true
   },
   "source": [
    "The cell below may take a minute to run... After all its 38775 lightcurves.... "
   ]
  },
  {
   "cell_type": "code",
   "execution_count": 18,
   "metadata": {
    "collapsed": false
   },
   "outputs": [],
   "source": [
    "# And do on all objects.... \n",
    "agg_info = grouped_lcs[['ra','dec', 'oid', 'magerr_auto','mag_autocorr']].groups.aggregate(np.mean)\n",
    "\n",
    "def agg_func(array):\n",
    "    'return max(array)-min(array)'\n",
    "    return max(array) - min(array)\n",
    "\n",
    "agg_info['mjd_span'] =  grouped_lcs['obsmjd'].groups.aggregate(agg_func)\n",
    "agg_info['lc_length'] = grouped_lcs['ra'].groups.aggregate(np.count_nonzero)\n",
    "\n",
    "# rename columns, since aggregate leaves the columns unchanged...\n",
    "agg_info.rename_column('magerr_auto', 'avg_err')\n",
    "agg_info.rename_column('mag_autocorr', 'avg_mag')\n",
    "agg_info.rename_column('ra', 'ra_sdss')\n",
    "agg_info.rename_column('dec', 'dec_sdss')"
   ]
  },
  {
   "cell_type": "code",
   "execution_count": 19,
   "metadata": {
    "collapsed": false
   },
   "outputs": [],
   "source": [
    "# Save that info as something that could be easily accessed to make PTF - SDSS matched catalog \n",
    "agg_info.write('../data_products/PTF_stars_aggregate_info.dat', format='ascii', overwrite='True')\n"
   ]
  },
  {
   "cell_type": "code",
   "execution_count": 21,
   "metadata": {
    "collapsed": false
   },
   "outputs": [
    {
     "data": {
      "text/plain": [
       "(array([ 20357.,    380.,   6459.,    674.,    946.,    458.,    838.,\n",
       "          1592.,   1873.,   5198.]),\n",
       " array([    0.      ,   193.190252,   386.380504,   579.570756,\n",
       "          772.761008,   965.95126 ,  1159.141512,  1352.331764,\n",
       "         1545.522016,  1738.712268,  1931.90252 ]),\n",
       " <a list of 1 Patch objects>)"
      ]
     },
     "execution_count": 21,
     "metadata": {},
     "output_type": "execute_result"
    },
    {
     "data": {
      "image/png": "[encoded data removed]",
      "text/plain": [
       "<matplotlib.figure.Figure at 0x1e2af9710>"
      ]
     },
     "metadata": {},
     "output_type": "display_data"
    }
   ],
   "source": [
    "%matplotlib inline\n",
    "# Show some stats....\n",
    "plt.hist(agg_info['mjd_span'], histtype='step', lw=4)\n",
    "\n",
    "\n"
   ]
  },
  {
   "cell_type": "code",
   "execution_count": 24,
   "metadata": {
    "collapsed": false
   },
   "outputs": [
    {
     "data": {
      "text/plain": [
       "<matplotlib.collections.PathCollection at 0x11eccb2e8>"
      ]
     },
     "execution_count": 24,
     "metadata": {},
     "output_type": "execute_result"
    },
    {
     "data": {
      "image/png": "[encoded data removed]",
      "text/plain": [
       "<matplotlib.figure.Figure at 0x21fb9de80>"
      ]
     },
     "metadata": {},
     "output_type": "display_data"
    }
   ],
   "source": [
    "plt.scatter(agg_info['ra_sdss'], agg_info['dec_sdss'], lw=0, alpha=0.5)\n"
   ]
  },
  {
   "cell_type": "code",
   "execution_count": 104,
   "metadata": {
    "collapsed": false
   },
   "outputs": [],
   "source": []
  },
  {
   "cell_type": "markdown",
   "metadata": {},
   "source": [
    "### Preprocessing : Day-averaged light curves : needs be RUN ONLY ONCE  to make them!"
   ]
  },
  {
   "cell_type": "markdown",
   "metadata": {},
   "source": [
    "Make day-averaged lightcurves, save only if more than 10 observing days (points in the day-averaged light curve). \n",
    "Save MJD, avg_mag, error, N_obs that day. For our 38776 lightcurves it takes about few mins on my workstation. "
   ]
  },
  {
   "cell_type": "markdown",
   "metadata": {},
   "source": [
    "Test on a few lightcurves : "
   ]
  },
  {
   "cell_type": "code",
   "execution_count": 25,
   "metadata": {
    "collapsed": false
   },
   "outputs": [],
   "source": [
    "# Input lightcurves are lcs_qso_new , and it is an AstroPy Table \n",
    "# Each lightcurve is most easily accessed as a grouped object  by 'ra' : \n",
    "# object_lc = grouped_lcs.groups[i] \n",
    "# \n",
    "object_lc = grouped_lcs.groups[0] \n",
    "mjd = np.array(object_lc['obsmjd'])\n",
    "mags = np.array(object_lc['mag_autocorr'])\n",
    "errs = np.array(object_lc['magerr_auto'])\n",
    "\n",
    "days = np.unique([int(day) for day in mjd])\n",
    "\n",
    "# store values for a given object... \n",
    "mjd_arr = np.zeros_like(days).astype(float)\n",
    "avg_mags = np.zeros_like(days).astype(float)\n",
    "err_weights = np.zeros_like(days).astype(float)  \n",
    "\n",
    "for i in range(len(days)):\n",
    "    day = days[i]\n",
    "    int_mjd = np.require(mjd,int)       # forcing mjd array -> integers\n",
    "    condition = (int_mjd == day)        # finding where int(mjd) = day\n",
    "\n",
    "    w=1.0 / ( errs[condition] * errs[condition]) \n",
    "    avgmag = np.average(mags[condition], weights = w)       \n",
    "    avg_mags[i] = avgmag\n",
    "    error_weights = 1.0 / np.sqrt(np.sum(w))\n",
    "\n",
    "    # increase error if too small \n",
    "    if error_weights < 0.02 : \n",
    "        error_weights = np.sqrt(error_weights**2.0 + 0.01**2.0)  \n",
    "    err_weights[i] = error_weights\n",
    "\n",
    "    mjd_arr[i] = np.mean(mjd[condition])"
   ]
  },
  {
   "cell_type": "code",
   "execution_count": 26,
   "metadata": {
    "collapsed": false
   },
   "outputs": [
    {
     "data": {
      "text/plain": [
       "<Container object of 3 artists>"
      ]
     },
     "execution_count": 26,
     "metadata": {},
     "output_type": "execute_result"
    },
    {
     "data": {
      "image/png": "[encoded data removed]",
      "text/plain": [
       "<matplotlib.figure.Figure at 0x11ee2e1d0>"
      ]
     },
     "metadata": {},
     "output_type": "display_data"
    }
   ],
   "source": [
    "# Plot the original (blue) and the averaged lightcurve (red)...\n",
    "plt.scatter(mjd,mags)\n",
    "plt.errorbar(mjd,mags,errs, ls=\"None\")\n",
    "plt.scatter(mjd_arr, avg_mags, color='red')\n",
    "plt.errorbar(mjd_arr, avg_mags, err_weights, color='red', ls='None')"
   ]
  },
  {
   "cell_type": "code",
   "execution_count": 27,
   "metadata": {
    "collapsed": false
   },
   "outputs": [
    {
     "data": {
      "text/plain": [
       "38775"
      ]
     },
     "execution_count": 27,
     "metadata": {},
     "output_type": "execute_result"
    }
   ],
   "source": [
    "len(grouped_lcs.groups.keys)"
   ]
  },
  {
   "cell_type": "markdown",
   "metadata": {},
   "source": [
    "Run on all 38775 lightcurves : "
   ]
  },
  {
   "cell_type": "code",
   "execution_count": 28,
   "metadata": {
    "collapsed": true
   },
   "outputs": [],
   "source": [
    "from CRTS_paper_modules import update_progress"
   ]
  },
  {
   "cell_type": "code",
   "execution_count": 30,
   "metadata": {
    "collapsed": false
   },
   "outputs": [
    {
     "data": {
      "text/html": [
       "&lt;Table masked=True length=6&gt;\n",
       "<table id=\"table4810995976\" class=\"table-striped table-bordered table-condensed\">\n",
       "<thead><tr><th>cntr_01</th><th>dist_x</th><th>pang_x</th><th>ra_01</th><th>dec_01</th><th>obsmjd</th><th>mag_autocorr</th><th>magerr_auto</th><th>oid</th><th>ra</th><th>dec</th><th>fid</th><th>transient_flag</th><th>astrometricrms</th><th>nobs</th><th>ngoodobs</th><th>nbestobs</th><th>referencemag</th><th>referencemagerr</th><th>medianmag</th><th>bestmedianmag</th><th>meanmag</th><th>bestmeanmag</th><th>magrms</th><th>bestmagrms</th><th>sid</th><th>s_ra</th><th>s_dec</th><th>ptffield</th><th>ccdid</th><th>hmjd</th><th>nid</th><th>mag_auto</th><th>limitmag</th><th>absphotzp</th><th>fwhmsex</th><th>fwhm_image</th><th>qaflags</th><th>flags</th><th>photcalflag</th><th>goodflag</th></tr></thead>\n",
       "<thead><tr><th></th><th>arcsec</th><th>deg</th><th>degrees</th><th>degrees</th><th>days</th><th>mag</th><th>mag</th><th></th><th>degrees</th><th>degrees</th><th></th><th></th><th>degrees</th><th></th><th></th><th></th><th>mag</th><th>mag</th><th>mag</th><th>mag</th><th>mag</th><th>mag</th><th>mag</th><th>mag</th><th></th><th>degrees</th><th>degrees</th><th></th><th></th><th>days</th><th></th><th>mag</th><th>mag</th><th>mag</th><th>arcsec</th><th>pixels</th><th></th><th></th><th>0=No, 1=Yes</th><th>0=No, 1=Yes</th></tr></thead>\n",
       "<thead><tr><th>int64</th><th>float64</th><th>float64</th><th>float64</th><th>float64</th><th>float64</th><th>float64</th><th>float64</th><th>int64</th><th>float64</th><th>float64</th><th>int64</th><th>int64</th><th>float64</th><th>int64</th><th>int64</th><th>int64</th><th>float64</th><th>float64</th><th>float64</th><th>float64</th><th>float64</th><th>float64</th><th>float64</th><th>float64</th><th>int64</th><th>float64</th><th>float64</th><th>int64</th><th>int64</th><th>float64</th><th>int64</th><th>float64</th><th>float64</th><th>float64</th><th>float64</th><th>float64</th><th>int64</th><th>int64</th><th>int64</th><th>int64</th></tr></thead>\n",
       "<tr><td>18239</td><td>0.0</td><td>0.0</td><td>0.054504</td><td>-1.149916</td><td>56942.3257272</td><td>15.854</td><td>0.032</td><td>25921000000030</td><td>0.054504</td><td>-1.149916</td><td>1</td><td>0</td><td>3.837622e-07</td><td>170</td><td>168</td><td>168</td><td>15.848</td><td>0.005</td><td>15.85</td><td>15.85</td><td>15.853</td><td>15.853</td><td>0.022</td><td>0.022</td><td>21771458000909</td><td>0.054509</td><td>-1.149944</td><td>2592</td><td>0</td><td>56942.3312272</td><td>2006</td><td>15.856</td><td>20.798</td><td>28.006</td><td>2.45</td><td>2.963</td><td>0</td><td>131072</td><td>0</td><td>1</td></tr>\n",
       "<tr><td>18239</td><td>0.0</td><td>0.0</td><td>0.054504</td><td>-1.149916</td><td>56942.3708872</td><td>15.859</td><td>0.032</td><td>25921000000030</td><td>0.054504</td><td>-1.149916</td><td>1</td><td>0</td><td>3.837622e-07</td><td>170</td><td>168</td><td>168</td><td>15.848</td><td>0.005</td><td>15.85</td><td>15.85</td><td>15.853</td><td>15.853</td><td>0.022</td><td>0.022</td><td>21771594000870</td><td>0.054502</td><td>-1.14994</td><td>2592</td><td>0</td><td>56942.3763972</td><td>2006</td><td>15.848</td><td>20.692</td><td>27.969</td><td>2.45</td><td>2.768</td><td>0</td><td>131072</td><td>0</td><td>1</td></tr>\n",
       "<tr><td>18239</td><td>0.0</td><td>0.0</td><td>0.054504</td><td>-1.149916</td><td>56943.2970072</td><td>15.846</td><td>0.034</td><td>25921000000030</td><td>0.054504</td><td>-1.149916</td><td>1</td><td>0</td><td>3.837622e-07</td><td>170</td><td>168</td><td>168</td><td>15.848</td><td>0.005</td><td>15.85</td><td>15.85</td><td>15.853</td><td>15.853</td><td>0.022</td><td>0.022</td><td>21786591001041</td><td>0.054499</td><td>-1.149921</td><td>2592</td><td>0</td><td>56943.3024772</td><td>2002</td><td>15.835</td><td>20.998</td><td>28.033</td><td>2.65</td><td>2.751</td><td>0</td><td>131072</td><td>0</td><td>1</td></tr>\n",
       "<tr><td>18239</td><td>0.0</td><td>0.0</td><td>0.054504</td><td>-1.149916</td><td>56943.3422372</td><td>15.86</td><td>0.034</td><td>25921000000030</td><td>0.054504</td><td>-1.149916</td><td>1</td><td>0</td><td>3.837622e-07</td><td>170</td><td>168</td><td>168</td><td>15.848</td><td>0.005</td><td>15.85</td><td>15.85</td><td>15.853</td><td>15.853</td><td>0.022</td><td>0.022</td><td>21786687000844</td><td>0.054498</td><td>-1.149918</td><td>2592</td><td>0</td><td>56943.3477072</td><td>2002</td><td>15.854</td><td>20.646</td><td>28.002</td><td>3.35</td><td>3.451</td><td>0</td><td>131072</td><td>0</td><td>1</td></tr>\n",
       "<tr><td>18239</td><td>0.0</td><td>0.0</td><td>0.054504</td><td>-1.149916</td><td>56951.2557972</td><td>15.852</td><td>0.037</td><td>25921000000030</td><td>0.054504</td><td>-1.149916</td><td>1</td><td>0</td><td>3.837622e-07</td><td>170</td><td>168</td><td>168</td><td>15.848</td><td>0.005</td><td>15.85</td><td>15.85</td><td>15.853</td><td>15.853</td><td>0.022</td><td>0.022</td><td>21903205001471</td><td>0.054499</td><td>-1.149919</td><td>2592</td><td>0</td><td>56951.2609672</td><td>2013</td><td>15.862</td><td>21.398</td><td>28.044</td><td>3.45</td><td>3.938</td><td>0</td><td>131072</td><td>0</td><td>1</td></tr>\n",
       "<tr><td>18239</td><td>0.0</td><td>0.0</td><td>0.054504</td><td>-1.149916</td><td>56952.2262372</td><td>15.86</td><td>0.031</td><td>25921000000030</td><td>0.054504</td><td>-1.149916</td><td>1</td><td>0</td><td>3.837622e-07</td><td>170</td><td>168</td><td>168</td><td>15.848</td><td>0.005</td><td>15.85</td><td>15.85</td><td>15.853</td><td>15.853</td><td>0.022</td><td>0.022</td><td>21922072001453</td><td>0.054499</td><td>-1.149916</td><td>2592</td><td>0</td><td>56952.2313672</td><td>2014</td><td>15.862</td><td>21.6</td><td>28.072</td><td>2.65</td><td>2.701</td><td>0</td><td>131072</td><td>0</td><td>1</td></tr>\n",
       "</table>"
      ],
      "text/plain": [
       "<Table masked=True length=6>\n",
       "cntr_01  dist_x  pang_x  ra_01   ... qaflags flags  photcalflag   goodflag \n",
       "         arcsec   deg   degrees  ...                0=No, 1=Yes 0=No, 1=Yes\n",
       " int64  float64 float64 float64  ...  int64  int64     int64       int64   \n",
       "------- ------- ------- -------- ... ------- ------ ----------- -----------\n",
       "  18239     0.0     0.0 0.054504 ...       0 131072           0           1\n",
       "  18239     0.0     0.0 0.054504 ...       0 131072           0           1\n",
       "  18239     0.0     0.0 0.054504 ...       0 131072           0           1\n",
       "  18239     0.0     0.0 0.054504 ...       0 131072           0           1\n",
       "  18239     0.0     0.0 0.054504 ...       0 131072           0           1\n",
       "  18239     0.0     0.0 0.054504 ...       0 131072           0           1"
      ]
     },
     "execution_count": 30,
     "metadata": {},
     "output_type": "execute_result"
    }
   ],
   "source": [
    "grouped_lcs.groups[0][:6]"
   ]
  },
  {
   "cell_type": "markdown",
   "metadata": {},
   "source": [
    "The cell below takes about 5 mins on the mac ... "
   ]
  },
  {
   "cell_type": "code",
   "execution_count": 31,
   "metadata": {
    "collapsed": false
   },
   "outputs": [
    {
     "name": "stdout",
     "output_type": "stream",
     "text": [
      "[######### ] 99.00%finished\n"
     ]
    }
   ],
   "source": [
    "dir_out = '../proc_LC_PTF/stars/'\n",
    "number_of_lightcurves = len(grouped_lcs.groups.keys)\n",
    "keys = np.array(grouped_lcs.groups.keys)\n",
    "\n",
    "for k in range(number_of_lightcurves):\n",
    "    \n",
    "    percent = 100*(k / number_of_lightcurves)\n",
    "    if (k % 10) == 0 : # every tenth loop.. \n",
    "        update_progress(int(percent))\n",
    "    \n",
    "    object_lc = grouped_lcs.groups[k] \n",
    "    mjd = np.array(object_lc['obsmjd'])\n",
    "    mags = np.array(object_lc['mag_autocorr'])\n",
    "    errs = np.array(object_lc['magerr_auto'])\n",
    "\n",
    "    days = np.unique([int(day) for day in mjd])\n",
    "\n",
    "    # store values for a given object... \n",
    "    mjd_arr = np.zeros_like(days).astype(float)\n",
    "    avg_mags = np.zeros_like(days).astype(float)\n",
    "    err_weights = np.zeros_like(days).astype(float)  \n",
    "    N_per_day = np.zeros_like(days).astype(float)\n",
    "    \n",
    "    for i in range(len(days)):\n",
    "        day = days[i]\n",
    "        int_mjd = np.require(mjd,int)       # forcing mjd array -> integers\n",
    "        condition = (int_mjd == day)        # finding where int(mjd) = day\n",
    "        \n",
    "        # number of obs in that night \n",
    "        N_per_day[i] = float(len(mags[condition]))\n",
    "        \n",
    "        w=1.0 / ( errs[condition] * errs[condition]) \n",
    "        avgmag = np.average(mags[condition], weights = w)       \n",
    "        avg_mags[i] = avgmag\n",
    "        error_weights = 1.0 / np.sqrt(np.sum(w))\n",
    "\n",
    "        # increase error if too small \n",
    "        if error_weights < 0.02 : \n",
    "            error_weights = np.sqrt(error_weights**2.0 + 0.01**2.0)  \n",
    "        err_weights[i] = error_weights\n",
    "\n",
    "        mjd_arr[i] = np.mean(mjd[condition])\n",
    "\n",
    "      \n",
    "    # Save the output... \n",
    "    # Once per lightcurve \n",
    "    # ONLY IF THERE IS MORE THAN 10 OBS ! \n",
    "    \n",
    "    if( len(mjd_arr) >  10 ) :\n",
    "        object_name = str(keys[k][0])\n",
    "        name_out = dir_out  + object_name +'.txt'\n",
    "        np.savetxt(name_out, np.column_stack((mjd_arr,avg_mags, err_weights, N_per_day)),fmt='%11.4f')\n",
    "        \n",
    "print('\\nfinished')"
   ]
  },
  {
   "cell_type": "code",
   "execution_count": null,
   "metadata": {
    "collapsed": true
   },
   "outputs": [],
   "source": []
  },
  {
   "cell_type": "markdown",
   "metadata": {},
   "source": [
    "## Statistics on the day-averaged LC "
   ]
  },
  {
   "cell_type": "markdown",
   "metadata": {},
   "source": [
    "Here I add to the raw LC statistics (agg_info), the statistics on day-averaged lightcurves.\n",
    "Thus necessarily I select only those rows that correspond to objects \n",
    "that had a day-averaged lightcurve longer than 10 days, so that they made it to \n",
    "proc_LC_PTF/  directory . "
   ]
  },
  {
   "cell_type": "markdown",
   "metadata": {},
   "source": [
    "avg_err :  average of raw PTF errors over all epochs\n",
    "\n",
    "avg_mag : average of raw PTF magnitudes over all epochs\n",
    "\n",
    "mjd_span : min(mjd) - max(mjd), before day-averaging \n",
    " \n",
    "lc_length : number of epochs before day-averaging "
   ]
  },
  {
   "cell_type": "code",
   "execution_count": 52,
   "metadata": {
    "collapsed": true
   },
   "outputs": [],
   "source": [
    "# convert the ra_sdss to strings to easily compare to ra of objects that made it to \n",
    "# proc_LC_PTF/   ,  i.e. they met the criteria explained above  \n",
    "ra_info = np.array(agg_info['ra_sdss']).astype(str)"
   ]
  },
  {
   "cell_type": "code",
   "execution_count": 53,
   "metadata": {
    "collapsed": true
   },
   "outputs": [],
   "source": [
    "# all LCs that had more than 10 separate days of obs. \n",
    "dir_in = '../proc_LC_PTF/stars/'\n",
    "files = np.array(listdir(dir_in))\n",
    "\n",
    "# take only the ra part  (cut off the .txt part )\n",
    "ra_files = np.array([name[:-4] for name in files])\n",
    "\n",
    "# Choose only those PTF aggregate info about lightcurves that \n",
    "# during day-averaging were found to have at least day-averaged 10 epochs  (10 separate days of observations)\n",
    "agg_info_select = agg_info[np.in1d(ra_info, ra_files)]"
   ]
  },
  {
   "cell_type": "code",
   "execution_count": 73,
   "metadata": {
    "collapsed": false
   },
   "outputs": [
    {
     "name": "stdout",
     "output_type": "stream",
     "text": [
      "Only 15714 stars out of 38775 have more than 10 days of obs \n"
     ]
    }
   ],
   "source": [
    "print('Only %d stars out of %d have more than 10 days of obs '%(len(agg_info_select),len(agg_info)))\n",
    "      "
   ]
  },
  {
   "cell_type": "code",
   "execution_count": 57,
   "metadata": {
    "collapsed": false
   },
   "outputs": [
    {
     "name": "stdout",
     "output_type": "stream",
     "text": [
      "[######### ] 99.00%"
     ]
    }
   ],
   "source": [
    "# make new columns:\n",
    "# avg_day_err :  the average of processed lightcurves errors \n",
    "# avg_day_mag : the average of processed lightcurves magnitudes \n",
    "# \n",
    "# make an array for storing total timespan of obs per object, \n",
    "# as well as the total number of nights per object\n",
    "\n",
    "proc_mjd_span = np.zeros_like(files, dtype=float) # store what was the total  timespan of observations per object\n",
    "proc_lc_length=np.zeros_like(files, dtype=float) # number of points in the lightcurve - equal to the number of obs nights\n",
    "avg_N_per_day = np.zeros_like(files, dtype=float)\n",
    "avg_day_mag = np.zeros_like(files, dtype=float)\n",
    "avg_day_err = np.zeros_like(files, dtype=float)\n",
    "avg_mjd_diff= np.zeros_like(files, dtype=float)\n",
    "\n",
    "k = 0\n",
    "total = float(len(files))\n",
    "\n",
    "for i in range(len(files)):\n",
    "    percent = 100*(k / total)\n",
    "    if (k % 10) == 0 : # every tenth loop.. \n",
    "        update_progress(int(percent))\n",
    "    k += 1\n",
    "    # choose processed lightcurves according to \n",
    "    # order of the aggregate info \n",
    "    # then rows will match . \n",
    "    \n",
    "    ra_sdss = str(agg_info_select['ra_sdss'][i])\n",
    "    address=dir_in+files[ra_files == ra_sdss][0]\n",
    "    \n",
    "    data=np.loadtxt(address) \n",
    "    proc_lc_length[i] = sum(1 for line in open(address))\n",
    "    avg_day_mag[i] = np.mean(data[:,1])\n",
    "    avg_day_err[i] = np.mean(data[:,2])\n",
    "    avg_N_per_day[i] = np.mean(data[:,3])\n",
    "    proc_mjd_span[i] = data[-1,0]-data[0,0]  # gives number of days between first and last obs\n",
    "    \n",
    "    #mjd_diff = np.zeros(len(data[:,0]))\n",
    "    #for j in range(len(data)-1):\n",
    "    #    mjd_diff[j] = data[j+1,0] - data[j,0]\n",
    "    #avg_mjd_diff[i] = np.mean(mjd_diff)     # avg span between obs in MJD    \n",
    "    \n",
    "keys = ['ra_files', 'proc_mjd_span', 'proc_lc_length', 'avg_N_per_day', 'avg_day_mag', 'avg_day_err']\n",
    "values = [np.array(ra_files).astype(float), proc_mjd_span,proc_lc_length,avg_N_per_day,avg_mag_ttl,avg_err_ttl]\n",
    "\n",
    "\n",
    "stats_proc_lc ={}\n",
    "for key, value in zip(keys, values):\n",
    "    stats_proc_lc[key] = value\n",
    "    \n",
    "    \n",
    "    "
   ]
  },
  {
   "cell_type": "code",
   "execution_count": 62,
   "metadata": {
    "collapsed": false
   },
   "outputs": [
    {
     "data": {
      "text/html": [
       "&lt;Table length=6&gt;\n",
       "<table id=\"table4846451008\" class=\"table-striped table-bordered table-condensed\">\n",
       "<thead><tr><th>ra_files</th><th>proc_lc_length</th><th>avg_day_err</th><th>avg_day_mag</th><th>proc_mjd_span</th><th>avg_N_per_day</th></tr></thead>\n",
       "<thead><tr><th>float64</th><th>float64</th><th>float64</th><th>float64</th><th>float64</th><th>float64</th></tr></thead>\n",
       "<tr><td>0.054504</td><td>35.0</td><td>0.0370542857143</td><td>15.85392</td><td>1122.904</td><td>1.94285714286</td></tr>\n",
       "<tr><td>0.078347</td><td>29.0</td><td>0.137420689655</td><td>20.9523068966</td><td>54.8939</td><td>1.55172413793</td></tr>\n",
       "<tr><td>0.093096</td><td>35.0</td><td>0.0352342857143</td><td>15.1224171429</td><td>54.8939</td><td>1.85714285714</td></tr>\n",
       "<tr><td>0.132509</td><td>35.0</td><td>0.0400514285714</td><td>17.6477142857</td><td>54.8939</td><td>1.8</td></tr>\n",
       "<tr><td>0.262434</td><td>35.0</td><td>0.0490171428571</td><td>18.7640628571</td><td>54.8939</td><td>1.77142857143</td></tr>\n",
       "<tr><td>0.28241</td><td>35.0</td><td>0.0490228571429</td><td>18.7135885714</td><td>54.8939</td><td>1.77142857143</td></tr>\n",
       "</table>"
      ],
      "text/plain": [
       "<Table length=6>\n",
       "ra_files proc_lc_length   avg_day_err   ... proc_mjd_span avg_N_per_day\n",
       "float64     float64         float64     ...    float64       float64   \n",
       "-------- -------------- --------------- ... ------------- -------------\n",
       "0.054504           35.0 0.0370542857143 ...      1122.904 1.94285714286\n",
       "0.078347           29.0  0.137420689655 ...       54.8939 1.55172413793\n",
       "0.093096           35.0 0.0352342857143 ...       54.8939 1.85714285714\n",
       "0.132509           35.0 0.0400514285714 ...       54.8939           1.8\n",
       "0.262434           35.0 0.0490171428571 ...       54.8939 1.77142857143\n",
       " 0.28241           35.0 0.0490228571429 ...       54.8939 1.77142857143"
      ]
     },
     "execution_count": 62,
     "metadata": {},
     "output_type": "execute_result"
    }
   ],
   "source": [
    "# make an Astropy table from these stats, and add it to agg_info_selected \n",
    "\n",
    "stats = Table(stats_proc_lc)\n",
    "stats[:6]"
   ]
  },
  {
   "cell_type": "code",
   "execution_count": 63,
   "metadata": {
    "collapsed": false
   },
   "outputs": [],
   "source": [
    "stats.rename_column('ra_files', 'ra_sdss')"
   ]
  },
  {
   "cell_type": "code",
   "execution_count": 70,
   "metadata": {
    "collapsed": false
   },
   "outputs": [
    {
     "data": {
      "text/plain": [
       "15714"
      ]
     },
     "execution_count": 70,
     "metadata": {},
     "output_type": "execute_result"
    }
   ],
   "source": [
    "np.sum(np.in1d(agg_info_select['ra_sdss'], stats['ra_sdss']))"
   ]
  },
  {
   "cell_type": "code",
   "execution_count": 64,
   "metadata": {
    "collapsed": true
   },
   "outputs": [],
   "source": [
    "#http://docs.astropy.org/en/stable/api/astropy.table.join.html\n",
    "# beautiful examples \n",
    "# https://star.herts.ac.uk/~gb/python/14-astropy-tables.html  \n",
    "\n",
    "from astropy.table import join\n",
    "agg_info_merged = join(left=agg_info_select, right = stats, keys='ra_sdss')"
   ]
  },
  {
   "cell_type": "code",
   "execution_count": 66,
   "metadata": {
    "collapsed": true
   },
   "outputs": [],
   "source": [
    "agg_info_merged.write('../data_products/PTF_stars_agg_info_15714_lc_merged.dat', format='ascii', overwrite='True')"
   ]
  },
  {
   "cell_type": "markdown",
   "metadata": {},
   "source": [
    "## Compare before and after day-averaging: error and mag distribution "
   ]
  },
  {
   "cell_type": "code",
   "execution_count": 36,
   "metadata": {
    "collapsed": false
   },
   "outputs": [
    {
     "data": {
      "text/plain": [
       "<matplotlib.text.Text at 0x120ce3a58>"
      ]
     },
     "execution_count": 36,
     "metadata": {},
     "output_type": "execute_result"
    },
    {
     "data": {
      "image/png": "[encoded data removed]",
      "text/plain": [
       "<matplotlib.figure.Figure at 0x120cdcd68>"
      ]
     },
     "metadata": {},
     "output_type": "display_data"
    }
   ],
   "source": [
    "m = (stats_proc_lc['mag']>15)*(stats_proc_lc['mag']<22)\n",
    "m1 = (stats_proc_lc['avg_mag']>15)*(stats_proc_lc['avg_mag']<22)\n",
    "#plt.hist(mag_list[m])\n",
    "\n",
    "#sns.set_context('talk')\n",
    "fig,ax = plt.subplots(1,1)\n",
    "nbins=30\n",
    "# Calculate the histogram1 : individual epoch brightness measurements \n",
    "hist1, bin_edges = np.histogram(stats_proc_lc['mag'][m], bins=nbins, density=True)\n",
    "bin_centres1 = (bin_edges[:-1] + bin_edges[1:])/2\n",
    "\n",
    "# Calculate the histogram2 : day-averaged brightness measurements \n",
    "hist2, bin_edges = np.histogram(stats_proc_lc['avg_mag'][m1], bins=nbins, density=True)\n",
    "bin_centres2 = (bin_edges[:-1] + bin_edges[1:])/2\n",
    "\n",
    "ax.plot(bin_centres1, hist1, ls = 'steps', label=r'$m_{i}$')\n",
    "ax.plot(bin_centres2, hist2, ls = 'steps', label=r'$\\langle m_{i}\\rangle_{day}$')\n",
    "plt.legend(loc='best')\n",
    "ax.set_ylabel('Density (normalized)')\n",
    "ax.set_xlabel('PTF Brightness at each epoch [mag]')"
   ]
  },
  {
   "cell_type": "code",
   "execution_count": 42,
   "metadata": {
    "collapsed": false
   },
   "outputs": [
    {
     "data": {
      "text/plain": [
       "dict_keys(['lc_length', 'avg_N_day', 'avg_err', 'err', 'mag', 'timespan_obs', 'avg_mjd_diff', 'avg_mag'])"
      ]
     },
     "execution_count": 42,
     "metadata": {},
     "output_type": "execute_result"
    }
   ],
   "source": [
    "stats_proc_lc.keys()"
   ]
  },
  {
   "cell_type": "code",
   "execution_count": 41,
   "metadata": {
    "collapsed": false
   },
   "outputs": [
    {
     "data": {
      "text/plain": [
       "array([ 126.27  ,  126.354 ,  126.368 ,  126.456 ,  126.4365,  126.276 ,\n",
       "        126.964 ])"
      ]
     },
     "execution_count": 41,
     "metadata": {},
     "output_type": "execute_result"
    }
   ],
   "source": [
    "m = stats_proc_lc['err'] > 1 \n",
    "stats_proc_lc['mag'][m]"
   ]
  },
  {
   "cell_type": "code",
   "execution_count": 43,
   "metadata": {
    "collapsed": false
   },
   "outputs": [
    {
     "data": {
      "text/plain": [
       "<matplotlib.text.Text at 0x11ede69e8>"
      ]
     },
     "execution_count": 43,
     "metadata": {},
     "output_type": "execute_result"
    },
    {
     "data": {
      "image/png": "[encoded data removed]",
      "text/plain": [
       "<matplotlib.figure.Figure at 0x1189a3940>"
      ]
     },
     "metadata": {},
     "output_type": "display_data"
    }
   ],
   "source": [
    "#import seaborn as sns\n",
    "#sns.set_context('talk')\n",
    "fig,ax = plt.subplots(1,1)\n",
    "nbins=30\n",
    "# Calculate the histogram1 : new day-averages\n",
    "hist1, bin_edges = np.histogram(stats_proc_lc['err'][stats_proc_lc['err']<0.6], bins=nbins, density=True)\n",
    "bin_centres1 = (bin_edges[:-1] + bin_edges[1:])/2\n",
    "\n",
    "# Calculate the histogram2 : old day-averages\n",
    "hist2, bin_edges = np.histogram(stats_proc_lc['avg_err'][stats_proc_lc['avg_err']<1], bins=nbins, density=True)\n",
    "bin_centres2 = (bin_edges[:-1] + bin_edges[1:])/2\n",
    "\n",
    "ax.plot(bin_centres1, hist1, ls = 'steps', label=r'$ e_{i} $')\n",
    "ax.plot(bin_centres2, hist2, ls = 'steps', label=r'$\\langle e_{i} \\rangle $')\n",
    "plt.legend(loc='best')\n",
    "ax.set_ylabel('Density (normalized)')\n",
    "ax.set_xlabel('Photometric error PTF [mag]')"
   ]
  },
  {
   "cell_type": "markdown",
   "metadata": {},
   "source": []
  },
  {
   "cell_type": "markdown",
   "metadata": {},
   "source": [
    "## Compare PTF r mag  with SDSS r mag  for stars "
   ]
  },
  {
   "cell_type": "code",
   "execution_count": 44,
   "metadata": {
    "collapsed": false
   },
   "outputs": [
    {
     "name": "stdout",
     "output_type": "stream",
     "text": [
      "zipping CRTS-SDSS stars catalog...\n",
      "Read in catalog for 48250 stars from CRTS \n"
     ]
    }
   ],
   "source": [
    "import CRTS_paper_modules as mod\n",
    "cols1, stars_cat = mod.get_stars_catalog() \n"
   ]
  },
  {
   "cell_type": "code",
   "execution_count": 45,
   "metadata": {
    "collapsed": false
   },
   "outputs": [],
   "source": [
    "address = '../data_products/PTF_stars_aggregate_info.dat'\n",
    "ptf_agg_info = Table.read(address,format='ascii' )"
   ]
  },
  {
   "cell_type": "code",
   "execution_count": 46,
   "metadata": {
    "collapsed": false
   },
   "outputs": [
    {
     "data": {
      "text/plain": [
       "38775"
      ]
     },
     "execution_count": 46,
     "metadata": {},
     "output_type": "execute_result"
    }
   ],
   "source": [
    "len(ptf_agg_info)"
   ]
  },
  {
   "cell_type": "code",
   "execution_count": 49,
   "metadata": {
    "collapsed": false
   },
   "outputs": [
    {
     "data": {
      "text/plain": [
       "<matplotlib.legend.Legend at 0x21fbb4c18>"
      ]
     },
     "execution_count": 49,
     "metadata": {},
     "output_type": "execute_result"
    },
    {
     "data": {
      "image/png": "[encoded data removed]",
      "text/plain": [
       "<matplotlib.figure.Figure at 0x11ec27d68>"
      ]
     },
     "metadata": {},
     "output_type": "display_data"
    }
   ],
   "source": [
    "\n",
    "# SDSS r-mag \n",
    "r = np.array(stars_cat['r_mMed']).astype(float)\n",
    "m = (r > 15)*(r<22)\n",
    "plt.hist(r[m], histtype='step', lw=3, label='SDSS')\n",
    "\n",
    "# CRTS white light \n",
    "avg_mag = np.array(stars_cat['CRTS_M']).astype(float)\n",
    "plt.hist(avg_mag,histtype='step', lw=3, label='CRTS')\n",
    "\n",
    "#PTF r mag \n",
    "ptf_mag = np.array(ptf_agg_info['avg_mag'])\n",
    "m = (ptf_mag > 15)*(ptf_mag<22)\n",
    "\n",
    "plt.hist(ptf_mag[m],histtype='step', lw=3, label='PTF')\n",
    "plt.legend(loc='upper left')"
   ]
  },
  {
   "cell_type": "markdown",
   "metadata": {},
   "source": [
    "## Make Fig.1 : statistical properties of those stars I use in my analysis (2016/06)"
   ]
  },
  {
   "cell_type": "code",
   "execution_count": 222,
   "metadata": {
    "collapsed": false
   },
   "outputs": [
    {
     "data": {
      "text/plain": [
       "dict_keys(['avg_err', 'avg_N_day', 'err', 'avg_mag', 'mag', 'timespan_obs', 'lc_length', 'avg_mjd_diff'])"
      ]
     },
     "execution_count": 222,
     "metadata": {},
     "output_type": "execute_result"
    }
   ],
   "source": [
    "stats_proc_lc.keys()"
   ]
  },
  {
   "cell_type": "code",
   "execution_count": 50,
   "metadata": {
    "collapsed": false
   },
   "outputs": [
    {
     "data": {
      "text/plain": [
       "[<matplotlib.lines.Line2D at 0x1502e7a90>]"
      ]
     },
     "execution_count": 50,
     "metadata": {},
     "output_type": "execute_result"
    },
    {
     "data": {
      "image/png": "[encoded data removed]",
      "text/plain": [
       "<matplotlib.figure.Figure at 0x106249d30>"
      ]
     },
     "metadata": {},
     "output_type": "display_data"
    }
   ],
   "source": [
    "%matplotlib inline\n",
    "\n",
    "import seaborn as sns\n",
    "sns.set_context('poster')\n",
    "from matplotlib import rcParams\n",
    "rcParams['ytick.labelsize'] = 25\n",
    "rcParams['xtick.labelsize'] = 25\n",
    "rcParams['axes.labelsize'] = 25\n",
    "rcParams['axes.linewidth'] = 3\n",
    "rcParams['font.size'] = 25\n",
    "\n",
    "fig = plt.figure()\n",
    "fig.subplots_adjust(hspace=0.15)\n",
    "fig.subplots_adjust(wspace=0.1)\n",
    "\n",
    "# Set number of histogram bins \n",
    "nbins = 30\n",
    "\n",
    "\n",
    "# Panel 1 \n",
    "ax1 = fig.add_subplot(221)\n",
    "ax1.set_ylabel('N')\n",
    "ax1.set_xlabel('Number of days observed')\n",
    "ax1.set_xticks([0,20,40,60,80,100])\n",
    "ax1.set_xticklabels(['0','20','40','60','80','100'])\n",
    "\n",
    "ax1.xaxis.set_label_position('top')\n",
    "ax1.xaxis.tick_top()\n",
    "hist2, bin_edges = np.histogram(stats_proc_lc['lc_length'], bins=nbins, density=False)\n",
    "bin_centres2 = (bin_edges[:-1] + bin_edges[1:])/2\n",
    "hist2[0]=0\n",
    "ax1.set_xlim(xmin = 10, xmax = max(bin_centres2))\n",
    "ax1.plot(bin_centres2, hist2, ls = 'steps')\n",
    "\n",
    "# Panel 2 \n",
    "ax2 = fig.add_subplot(222)\n",
    "ax2.set_ylabel('N')\n",
    "ax2.set_xlabel('<mag>')\n",
    "ax2.xaxis.set_label_position('top')\n",
    "ax2.xaxis.tick_top()\n",
    "ax2.yaxis.tick_right()\n",
    "ax2.yaxis.set_label_position(\"right\")\n",
    "a = stats_proc_lc['avg_mag']\n",
    "m = (a > 16) * (a < 21)\n",
    "hist2, bin_edges = np.histogram(a[m], bins=nbins, density=False)\n",
    "bin_centres2 = (bin_edges[:-1] + bin_edges[1:])/2\n",
    "hist2[0]=0  # start at 0 \n",
    "\n",
    "ax2.plot(bin_centres2, hist2, ls = 'steps')\n",
    "\n",
    "# Panel 3 \n",
    "ax3 = fig.add_subplot(223)\n",
    "ax3.set_ylabel('N')\n",
    "ax3.set_xlabel('<error>')\n",
    "ax3.set_xticks([0,0.1,0.2,0.3,0.4])\n",
    "ax3.set_xticklabels(['0','0.1','0.2','0.3','0.4'])\n",
    "\n",
    "hist2, bin_edges = np.histogram(stats_proc_lc['avg_err'], bins=nbins, density=False)\n",
    "bin_centres2 = (bin_edges[:-1] + bin_edges[1:])/2\n",
    "ax3.set_xlim(xmin = 0, xmax = max(bin_centres2))\n",
    "hist2[0]=0\n",
    "\n",
    "ax3.plot(bin_centres2, hist2, ls = 'steps')\n",
    "\n",
    "# Panel 4 \n",
    "ax4 = fig.add_subplot(224)\n",
    "ax4.set_ylabel('N')\n",
    "ax4.set_xlabel('log(<day-cadence>) [days]')  # time between consecutive observations\n",
    "ax4.yaxis.tick_right()\n",
    "ax4.yaxis.set_label_position(\"right\")\n",
    "\n",
    "hist2, bin_edges = np.histogram(np.log10(stats_proc_lc['avg_mjd_diff']), bins=nbins, density=False)\n",
    "bin_centres2 = (bin_edges[:-1] + bin_edges[1:])/2\n",
    "hist2[0]=0\n",
    "\n",
    "ax4.plot(bin_centres2, hist2, ls = 'steps')\n",
    "\n",
    "\n",
    "# Save\n",
    "\n",
    "#plt.savefig('../data_products/PTF_Fig_1_QSO_avg_stats_four_panels.png')\n"
   ]
  },
  {
   "cell_type": "code",
   "execution_count": null,
   "metadata": {
    "collapsed": true
   },
   "outputs": [],
   "source": []
  }
 ],
 "metadata": {
  "anaconda-cloud": {},
  "kernelspec": {
   "display_name": "Python [Root]",
   "language": "python",
   "name": "Python [Root]"
  },
  "language_info": {
   "codemirror_mode": {
    "name": "ipython",
    "version": 3
   },
   "file_extension": ".py",
   "mimetype": "text/x-python",
   "name": "python",
   "nbconvert_exporter": "python",
   "pygments_lexer": "ipython3",
   "version": "3.5.2"
  }
 },
 "nbformat": 4,
 "nbformat_minor": 0
}
