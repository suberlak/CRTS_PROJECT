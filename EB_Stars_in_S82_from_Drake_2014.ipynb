{
 "cells": [
  {
   "cell_type": "markdown",
   "metadata": {},
   "source": [
    "I need to find out what are Eclipsing Binaries in S82, if any. Quick google search didn't bring up anything useful. I finally found the Drake 2014 catalog : perhaps I can select objects by ra, dec :\n",
    "\n",
    "\n"
   ]
  },
  {
   "cell_type": "code",
   "execution_count": 1,
   "metadata": {
    "collapsed": true
   },
   "outputs": [],
   "source": [
    "from astropy.table import Table\n",
    "import numpy as np\n",
    "import matplotlib.pyplot as plt \n",
    "from astropy import units as u\n",
    "from astropy.coordinates import SkyCoord\n",
    "\n"
   ]
  },
  {
   "cell_type": "code",
   "execution_count": 2,
   "metadata": {
    "collapsed": false
   },
   "outputs": [
    {
     "data": {
      "text/plain": [
       "'/Users/chris/Desktop'"
      ]
     },
     "execution_count": 2,
     "metadata": {},
     "output_type": "execute_result"
    }
   ],
   "source": [
    "pwd"
   ]
  },
  {
   "cell_type": "code",
   "execution_count": 3,
   "metadata": {
    "collapsed": false
   },
   "outputs": [],
   "source": [
    "table = Table.read('Drake_2014_Table_3.txt', format='ascii.cds')"
   ]
  },
  {
   "cell_type": "code",
   "execution_count": 34,
   "metadata": {
    "collapsed": false
   },
   "outputs": [],
   "source": []
  },
  {
   "cell_type": "code",
   "execution_count": 14,
   "metadata": {
    "collapsed": false
   },
   "outputs": [],
   "source": []
  },
  {
   "cell_type": "code",
   "execution_count": 4,
   "metadata": {
    "collapsed": false
   },
   "outputs": [],
   "source": [
    "radec = np.zeros(len(table['RAh'].data.data), dtype='<U30')\n",
    "\n",
    "for i in range(len(table['RAh'].data.data)):\n",
    "    radec[i] = str(table['RAh'].data.data[i]) + ' '  \\\n",
    "          + str(table['RAm'].data.data[i]) + ' '  \\\n",
    "          + str(table['RAs'].data.data[i]) + ' '  \\\n",
    "          + str(table['DE-'].data.data[i]) + str(table['DEd'].data.data[i]) + ' '  \\\n",
    "          + str(table['DEm'].data.data[i]) + ' '  \\\n",
    "          + str(table['DEs'].data.data[i])"
   ]
  },
  {
   "cell_type": "code",
   "execution_count": 5,
   "metadata": {
    "collapsed": false
   },
   "outputs": [],
   "source": [
    "radec_astropy = SkyCoord(radec, unit=(u.hourangle, u.deg))"
   ]
  },
  {
   "cell_type": "code",
   "execution_count": 6,
   "metadata": {
    "collapsed": false
   },
   "outputs": [
    {
     "data": {
      "text/html": [
       "&lt;Table masked=True length=2&gt;\n",
       "<table id=\"table4507465208\" class=\"table-striped table-bordered table-condensed\">\n",
       "<thead><tr><th>CSS</th><th>RAh</th><th>RAm</th><th>RAs</th><th>DE-</th><th>DEd</th><th>DEm</th><th>DEs</th><th>&lt;Vmag&gt;</th><th>PF</th><th>AV</th><th>Class</th><th>f_Class</th></tr></thead>\n",
       "<thead><tr><th></th><th>h</th><th>min</th><th>s</th><th></th><th>deg</th><th>arcmin</th><th>arcsec</th><th>mag</th><th>d</th><th>mag</th><th></th><th></th></tr></thead>\n",
       "<thead><tr><th>str20</th><th>int64</th><th>int64</th><th>float64</th><th>str1</th><th>int64</th><th>int64</th><th>float64</th><th>float64</th><th>float64</th><th>float64</th><th>int64</th><th>str1</th></tr></thead>\n",
       "<tr><td>CSS_J000020.4+103118</td><td>0</td><td>0</td><td>20.41</td><td>+</td><td>10</td><td>31</td><td>18.9</td><td>14.62</td><td>1.491758</td><td>2.39</td><td>2</td><td>d</td></tr>\n",
       "<tr><td>CSS_J000031.5-084652</td><td>0</td><td>0</td><td>31.5</td><td>-</td><td>8</td><td>46</td><td>52.3</td><td>14.14</td><td>0.404185</td><td>0.12</td><td>1</td><td>--</td></tr>\n",
       "</table>"
      ],
      "text/plain": [
       "<Table masked=True length=2>\n",
       "        CSS           RAh   RAm    RAs   DE-  ...    PF       AV   Class f_Class\n",
       "                       h    min     s         ...    d       mag                \n",
       "       str20         int64 int64 float64 str1 ... float64  float64 int64   str1 \n",
       "-------------------- ----- ----- ------- ---- ... -------- ------- ----- -------\n",
       "CSS_J000020.4+103118     0     0   20.41    + ... 1.491758    2.39     2       d\n",
       "CSS_J000031.5-084652     0     0    31.5    - ... 0.404185    0.12     1      --"
      ]
     },
     "execution_count": 6,
     "metadata": {},
     "output_type": "execute_result"
    }
   ],
   "source": [
    "table[:2]"
   ]
  },
  {
   "cell_type": "code",
   "execution_count": 32,
   "metadata": {
    "collapsed": false
   },
   "outputs": [
    {
     "data": {
      "text/latex": [
       "[$10^\\circ31{}^\\prime18.9{}^{\\prime\\prime}$\n",
       " $-8^\\circ46{}^\\prime52.3{}^{\\prime\\prime}$\n",
       " $41^\\circ28{}^\\prime05.7{}^{\\prime\\prime}$ ...,\n",
       " $37^\\circ11{}^\\prime10{}^{\\prime\\prime}$\n",
       " $38^\\circ23{}^\\prime05.5{}^{\\prime\\prime}$\n",
       " $29^\\circ06{}^\\prime38.9{}^{\\prime\\prime}$]"
      ],
      "text/plain": [
       "<Latitude [ 10.52191667, -8.78119444, 41.46825   ,...,  37.18611111,\n",
       "            38.38486111, 29.11080556] deg>"
      ]
     },
     "execution_count": 32,
     "metadata": {},
     "output_type": "execute_result"
    }
   ],
   "source": [
    "# compare that to the first row ....\n",
    "radec_astropy.dec"
   ]
  },
  {
   "cell_type": "code",
   "execution_count": 40,
   "metadata": {
    "collapsed": false
   },
   "outputs": [
    {
     "data": {
      "text/plain": [
       "array([  8.50416667e-02,   1.31250000e-01,   1.53916667e-01, ...,\n",
       "         3.59945083e+02,   3.59950833e+02,   3.59970625e+02])"
      ]
     },
     "execution_count": 40,
     "metadata": {},
     "output_type": "execute_result"
    }
   ],
   "source": [
    "radec_astropy.ra.value"
   ]
  },
  {
   "cell_type": "code",
   "execution_count": 41,
   "metadata": {
    "collapsed": false
   },
   "outputs": [
    {
     "data": {
      "text/plain": [
       "array([ 10.52191667,  -8.78119444,  41.46825   , ...,  37.18611111,\n",
       "        38.38486111,  29.11080556])"
      ]
     },
     "execution_count": 41,
     "metadata": {},
     "output_type": "execute_result"
    }
   ],
   "source": [
    "radec_astropy.dec.value"
   ]
  },
  {
   "cell_type": "code",
   "execution_count": 45,
   "metadata": {
    "collapsed": false
   },
   "outputs": [
    {
     "data": {
      "text/plain": [
       "<matplotlib.collections.PathCollection at 0x1161ab748>"
      ]
     },
     "execution_count": 45,
     "metadata": {},
     "output_type": "execute_result"
    },
    {
     "data": {
      "image/png": "[encoded data removed]",
      "text/plain": [
       "<matplotlib.figure.Figure at 0x115a8e358>"
      ]
     },
     "metadata": {},
     "output_type": "display_data"
    }
   ],
   "source": [
    "# Display coverage of data....\n",
    "%matplotlib inline\n",
    "plt.scatter(radec_astropy.ra.value, radec_astropy.dec.value, lw=0, s=0.05)\n"
   ]
  },
  {
   "cell_type": "code",
   "execution_count": 7,
   "metadata": {
    "collapsed": false
   },
   "outputs": [
    {
     "name": "stdout",
     "output_type": "stream",
     "text": [
      "Number of objects in S82 footprint is 623 \n"
     ]
    }
   ],
   "source": [
    "# choose data only within S82 footprint...\n",
    "\n",
    "mask_ra = ( 300 < radec_astropy.ra.value )  | (  radec_astropy.ra.value < 60 ) \n",
    "mask_dec = ( -1.3 < radec_astropy.dec.value) * (radec_astropy.dec.value < 1.3 ) \n",
    "\n",
    "mask_S82 = mask_ra * mask_dec\n",
    "N_tot = np.sum(mask_S82)\n",
    "print('Number of objects in S82 footprint is %d '%N_tot)"
   ]
  },
  {
   "cell_type": "markdown",
   "metadata": {},
   "source": [
    "Now, \"The eclipsing variables in our data were generally divided into a contact and semi-detached binary (EW/EB) group and detached systems (EA)\".   These correspond to Class 1, 2  (see Table 2 ) "
   ]
  },
  {
   "cell_type": "code",
   "execution_count": 8,
   "metadata": {
    "collapsed": false
   },
   "outputs": [
    {
     "data": {
      "text/html": [
       "&lt;Table masked=True length=389&gt;\n",
       "<table id=\"table4572830016\" class=\"table-striped table-bordered table-condensed\">\n",
       "<thead><tr><th>CSS</th><th>RAh</th><th>RAm</th><th>RAs</th><th>DE-</th><th>DEd</th><th>DEm</th><th>DEs</th><th>&lt;Vmag&gt;</th><th>PF</th><th>AV</th><th>Class</th><th>f_Class</th></tr></thead>\n",
       "<thead><tr><th></th><th>h</th><th>min</th><th>s</th><th></th><th>deg</th><th>arcmin</th><th>arcsec</th><th>mag</th><th>d</th><th>mag</th><th></th><th></th></tr></thead>\n",
       "<thead><tr><th>str20</th><th>int64</th><th>int64</th><th>float64</th><th>str1</th><th>int64</th><th>int64</th><th>float64</th><th>float64</th><th>float64</th><th>float64</th><th>int64</th><th>str1</th></tr></thead>\n",
       "<tr><td>CSS_J003428.3+003818</td><td>0</td><td>34</td><td>28.31</td><td>+</td><td>0</td><td>38</td><td>18.8</td><td>14.54</td><td>0.274262</td><td>0.51</td><td>1</td><td>--</td></tr>\n",
       "<tr><td>CSS_J003550.3-003145</td><td>0</td><td>35</td><td>50.32</td><td>-</td><td>0</td><td>31</td><td>45.6</td><td>17.03</td><td>0.278672</td><td>0.24</td><td>1</td><td>--</td></tr>\n",
       "<tr><td>CSS_J003604.4-010814</td><td>0</td><td>36</td><td>4.44</td><td>-</td><td>1</td><td>8</td><td>14.6</td><td>16.43</td><td>0.310506</td><td>0.56</td><td>1</td><td>--</td></tr>\n",
       "<tr><td>CSS_J003813.6+001611</td><td>0</td><td>38</td><td>13.66</td><td>+</td><td>0</td><td>16</td><td>11.5</td><td>16.69</td><td>0.23436</td><td>0.35</td><td>1</td><td>--</td></tr>\n",
       "<tr><td>CSS_J003847.0-010012</td><td>0</td><td>38</td><td>47.05</td><td>-</td><td>1</td><td>0</td><td>12.8</td><td>13.82</td><td>0.471738</td><td>0.08</td><td>1</td><td>a</td></tr>\n",
       "<tr><td>CSS_J004314.1+003520</td><td>0</td><td>43</td><td>14.14</td><td>+</td><td>0</td><td>35</td><td>20.6</td><td>14.47</td><td>0.256278</td><td>0.68</td><td>1</td><td>--</td></tr>\n",
       "<tr><td>CSS_J004340.9-003413</td><td>0</td><td>43</td><td>40.96</td><td>-</td><td>0</td><td>34</td><td>13.6</td><td>15.89</td><td>0.394827</td><td>0.15</td><td>1</td><td>a</td></tr>\n",
       "<tr><td>CSS_J004949.7-011212</td><td>0</td><td>49</td><td>49.72</td><td>-</td><td>1</td><td>12</td><td>12.2</td><td>14.55</td><td>0.365948</td><td>0.49</td><td>1</td><td>--</td></tr>\n",
       "<tr><td>CSS_J005019.2-000241</td><td>0</td><td>50</td><td>19.29</td><td>-</td><td>0</td><td>2</td><td>41.5</td><td>17.75</td><td>0.230758</td><td>0.59</td><td>1</td><td>--</td></tr>\n",
       "<tr><td>...</td><td>...</td><td>...</td><td>...</td><td>...</td><td>...</td><td>...</td><td>...</td><td>...</td><td>...</td><td>...</td><td>...</td><td>...</td></tr>\n",
       "<tr><td>CSS_J234447.6+010010</td><td>23</td><td>44</td><td>47.62</td><td>+</td><td>1</td><td>0</td><td>10.5</td><td>14.17</td><td>0.284731</td><td>0.35</td><td>1</td><td>--</td></tr>\n",
       "<tr><td>CSS_J234508.1-004236</td><td>23</td><td>45</td><td>8.14</td><td>-</td><td>0</td><td>42</td><td>36.2</td><td>13.26</td><td>0.392834</td><td>0.42</td><td>1</td><td>--</td></tr>\n",
       "<tr><td>CSS_J234515.9-001914</td><td>23</td><td>45</td><td>15.97</td><td>-</td><td>0</td><td>19</td><td>14.7</td><td>16.31</td><td>0.319008</td><td>0.27</td><td>1</td><td>--</td></tr>\n",
       "<tr><td>CSS_J234728.8+001026</td><td>23</td><td>47</td><td>28.8</td><td>+</td><td>0</td><td>10</td><td>26.9</td><td>15.68</td><td>0.29859</td><td>0.68</td><td>1</td><td>--</td></tr>\n",
       "<tr><td>CSS_J234800.9+005359</td><td>23</td><td>48</td><td>0.93</td><td>+</td><td>0</td><td>53</td><td>59.7</td><td>17.31</td><td>0.250896</td><td>0.39</td><td>1</td><td>--</td></tr>\n",
       "<tr><td>CSS_J235102.7-005547</td><td>23</td><td>51</td><td>2.73</td><td>-</td><td>0</td><td>55</td><td>47.0</td><td>12.96</td><td>0.521584</td><td>0.44</td><td>1</td><td>--</td></tr>\n",
       "<tr><td>CSS_J235108.0-010925</td><td>23</td><td>51</td><td>8.06</td><td>-</td><td>1</td><td>9</td><td>25.0</td><td>14.63</td><td>0.311143</td><td>0.58</td><td>1</td><td>--</td></tr>\n",
       "<tr><td>CSS_J235415.5+010833</td><td>23</td><td>54</td><td>15.55</td><td>+</td><td>1</td><td>8</td><td>33.9</td><td>14.71</td><td>0.297014</td><td>0.39</td><td>1</td><td>--</td></tr>\n",
       "<tr><td>CSS_J235502.5+004807</td><td>23</td><td>55</td><td>2.5</td><td>+</td><td>0</td><td>48</td><td>7.4</td><td>15.57</td><td>0.271886</td><td>0.49</td><td>1</td><td>--</td></tr>\n",
       "<tr><td>CSS_J235740.1+005251</td><td>23</td><td>57</td><td>40.1</td><td>+</td><td>0</td><td>52</td><td>51.6</td><td>14.63</td><td>0.303798</td><td>0.31</td><td>1</td><td>--</td></tr>\n",
       "</table>"
      ],
      "text/plain": [
       "<Table masked=True length=389>\n",
       "        CSS           RAh   RAm    RAs   DE-  ...    PF       AV   Class f_Class\n",
       "                       h    min     s         ...    d       mag                \n",
       "       str20         int64 int64 float64 str1 ... float64  float64 int64   str1 \n",
       "-------------------- ----- ----- ------- ---- ... -------- ------- ----- -------\n",
       "CSS_J003428.3+003818     0    34   28.31    + ... 0.274262    0.51     1      --\n",
       "CSS_J003550.3-003145     0    35   50.32    - ... 0.278672    0.24     1      --\n",
       "CSS_J003604.4-010814     0    36    4.44    - ... 0.310506    0.56     1      --\n",
       "CSS_J003813.6+001611     0    38   13.66    + ...  0.23436    0.35     1      --\n",
       "CSS_J003847.0-010012     0    38   47.05    - ... 0.471738    0.08     1       a\n",
       "CSS_J004314.1+003520     0    43   14.14    + ... 0.256278    0.68     1      --\n",
       "CSS_J004340.9-003413     0    43   40.96    - ... 0.394827    0.15     1       a\n",
       "CSS_J004949.7-011212     0    49   49.72    - ... 0.365948    0.49     1      --\n",
       "CSS_J005019.2-000241     0    50   19.29    - ... 0.230758    0.59     1      --\n",
       "                 ...   ...   ...     ...  ... ...      ...     ...   ...     ...\n",
       "CSS_J234447.6+010010    23    44   47.62    + ... 0.284731    0.35     1      --\n",
       "CSS_J234508.1-004236    23    45    8.14    - ... 0.392834    0.42     1      --\n",
       "CSS_J234515.9-001914    23    45   15.97    - ... 0.319008    0.27     1      --\n",
       "CSS_J234728.8+001026    23    47    28.8    + ...  0.29859    0.68     1      --\n",
       "CSS_J234800.9+005359    23    48    0.93    + ... 0.250896    0.39     1      --\n",
       "CSS_J235102.7-005547    23    51    2.73    - ... 0.521584    0.44     1      --\n",
       "CSS_J235108.0-010925    23    51    8.06    - ... 0.311143    0.58     1      --\n",
       "CSS_J235415.5+010833    23    54   15.55    + ... 0.297014    0.39     1      --\n",
       "CSS_J235502.5+004807    23    55     2.5    + ... 0.271886    0.49     1      --\n",
       "CSS_J235740.1+005251    23    57    40.1    + ... 0.303798    0.31     1      --"
      ]
     },
     "execution_count": 8,
     "metadata": {},
     "output_type": "execute_result"
    }
   ],
   "source": [
    "table[mask_S82][table[mask_S82]['Class'] == 1]"
   ]
  },
  {
   "cell_type": "code",
   "execution_count": 11,
   "metadata": {
    "collapsed": false
   },
   "outputs": [
    {
     "data": {
      "text/plain": [
       "(array([ 31.,  22.,   8.,   2.,   2.,   2.,   1.,   2.,   0.,   1.]),\n",
       " array([ 0.249515 ,  0.8077155,  1.365916 ,  1.9241165,  2.482317 ,\n",
       "         3.0405175,  3.598718 ,  4.1569185,  4.715119 ,  5.2733195,  5.83152  ]),\n",
       " <a list of 10 Patch objects>)"
      ]
     },
     "execution_count": 11,
     "metadata": {},
     "output_type": "execute_result"
    },
    {
     "data": {
      "image/png": "[encoded data removed]",
      "text/plain": [
       "<matplotlib.figure.Figure at 0x1178165c0>"
      ]
     },
     "metadata": {},
     "output_type": "display_data"
    }
   ],
   "source": [
    "# Detached Systems:  Class 2  :\n",
    "# plot distribution of periods \n",
    "%matplotlib inline\n",
    "plt.hist(table[mask_S82][table[mask_S82]['Class'] == 2]['PF'])\n",
    "plt.title('S82 ')"
   ]
  },
  {
   "cell_type": "code",
   "execution_count": 56,
   "metadata": {
    "collapsed": false
   },
   "outputs": [],
   "source": [
    "# Choose a single EB, that has a period of 0.23 days, extract the lightcurve ... \n",
    "# CSS_J003813.6+001611 : \n",
    "# V mag  =  16.69\n",
    "# Period = 0.23436 days \n",
    "# Amplitude  : 0.35 mag \n",
    "\n",
    "# coords in PDAC-digestible format : \n",
    "# 00 38 13.6  +00 16 11"
   ]
  },
  {
   "cell_type": "code",
   "execution_count": 57,
   "metadata": {
    "collapsed": false
   },
   "outputs": [
    {
     "data": {
      "text/html": [
       "&lt;Table masked=True length=30&gt;\n",
       "<table id=\"table4647066872\" class=\"table-striped table-bordered table-condensed\">\n",
       "<thead><tr><th>CSS</th><th>RAh</th><th>RAm</th><th>RAs</th><th>DE-</th><th>DEd</th><th>DEm</th><th>DEs</th><th>&lt;Vmag&gt;</th><th>PF</th><th>AV</th><th>Class</th><th>f_Class</th></tr></thead>\n",
       "<thead><tr><th></th><th>h</th><th>min</th><th>s</th><th></th><th>deg</th><th>arcmin</th><th>arcsec</th><th>mag</th><th>d</th><th>mag</th><th></th><th></th></tr></thead>\n",
       "<thead><tr><th>str20</th><th>int64</th><th>int64</th><th>float64</th><th>str1</th><th>int64</th><th>int64</th><th>float64</th><th>float64</th><th>float64</th><th>float64</th><th>int64</th><th>str1</th></tr></thead>\n",
       "<tr><td>CSS_J010045.1-010212</td><td>1</td><td>0</td><td>45.11</td><td>-</td><td>1</td><td>2</td><td>12.0</td><td>16.33</td><td>0.5013599</td><td>0.53</td><td>4</td><td>--</td></tr>\n",
       "<tr><td>CSS_J010229.0-000334</td><td>1</td><td>2</td><td>29.07</td><td>-</td><td>0</td><td>3</td><td>34.3</td><td>15.7</td><td>0.6354628</td><td>0.46</td><td>4</td><td>--</td></tr>\n",
       "<tr><td>CSS_J013709.4+001208</td><td>1</td><td>37</td><td>9.41</td><td>+</td><td>0</td><td>12</td><td>8.9</td><td>17.57</td><td>0.641685</td><td>0.28</td><td>4</td><td>--</td></tr>\n",
       "<tr><td>CSS_J014929.7+000918</td><td>1</td><td>49</td><td>29.74</td><td>+</td><td>0</td><td>9</td><td>18.6</td><td>16.92</td><td>0.6827919</td><td>0.18</td><td>4</td><td>--</td></tr>\n",
       "<tr><td>CSS_J015128.4+011457</td><td>1</td><td>51</td><td>28.47</td><td>+</td><td>1</td><td>14</td><td>57.3</td><td>17.13</td><td>0.499791</td><td>1.09</td><td>4</td><td>--</td></tr>\n",
       "<tr><td>CSS_J015225.1-001712</td><td>1</td><td>52</td><td>25.14</td><td>-</td><td>0</td><td>17</td><td>12.3</td><td>15.42</td><td>0.797843</td><td>0.44</td><td>4</td><td>--</td></tr>\n",
       "<tr><td>CSS_J020943.4-010841</td><td>2</td><td>9</td><td>43.45</td><td>-</td><td>1</td><td>8</td><td>41.1</td><td>17.29</td><td>0.649989</td><td>0.23</td><td>4</td><td>--</td></tr>\n",
       "<tr><td>CSS_J030304.2+003029</td><td>3</td><td>3</td><td>4.24</td><td>+</td><td>0</td><td>30</td><td>29.8</td><td>17.91</td><td>0.6418724</td><td>0.34</td><td>4</td><td>--</td></tr>\n",
       "<tr><td>CSS_J031333.0+004255</td><td>3</td><td>13</td><td>33.09</td><td>+</td><td>0</td><td>42</td><td>55.1</td><td>18.1</td><td>0.4763703</td><td>0.44</td><td>4</td><td>--</td></tr>\n",
       "<tr><td>...</td><td>...</td><td>...</td><td>...</td><td>...</td><td>...</td><td>...</td><td>...</td><td>...</td><td>...</td><td>...</td><td>...</td><td>...</td></tr>\n",
       "<tr><td>CSS_J214720.5+003503</td><td>21</td><td>47</td><td>20.57</td><td>+</td><td>0</td><td>35</td><td>3.9</td><td>19.21</td><td>0.5013094</td><td>0.87</td><td>4</td><td>--</td></tr>\n",
       "<tr><td>CSS_J215102.4-001901</td><td>21</td><td>51</td><td>2.48</td><td>-</td><td>0</td><td>19</td><td>1.3</td><td>18.2</td><td>0.675835</td><td>0.4</td><td>4</td><td>--</td></tr>\n",
       "<tr><td>CSS_J215717.4-000344</td><td>21</td><td>57</td><td>17.45</td><td>-</td><td>0</td><td>3</td><td>44.4</td><td>18.74</td><td>0.5098859</td><td>0.83</td><td>4</td><td>--</td></tr>\n",
       "<tr><td>CSS_J220345.1-003217</td><td>22</td><td>3</td><td>45.14</td><td>-</td><td>0</td><td>32</td><td>17.0</td><td>18.35</td><td>0.5854212</td><td>0.5</td><td>4</td><td>--</td></tr>\n",
       "<tr><td>CSS_J220416.7+005755</td><td>22</td><td>4</td><td>16.75</td><td>+</td><td>0</td><td>57</td><td>55.5</td><td>16.13</td><td>0.5003169</td><td>0.71</td><td>4</td><td>--</td></tr>\n",
       "<tr><td>CSS_J220822.4+010501</td><td>22</td><td>8</td><td>22.42</td><td>+</td><td>1</td><td>5</td><td>1.0</td><td>17.71</td><td>0.5020314</td><td>1.03</td><td>4</td><td>--</td></tr>\n",
       "<tr><td>CSS_J231955.2-001111</td><td>23</td><td>19</td><td>55.27</td><td>-</td><td>0</td><td>11</td><td>11.8</td><td>17.14</td><td>0.6177148</td><td>0.17</td><td>4</td><td>--</td></tr>\n",
       "<tr><td>CSS_J232028.0+000531</td><td>23</td><td>20</td><td>28.06</td><td>+</td><td>0</td><td>5</td><td>31.5</td><td>17.05</td><td>0.64275</td><td>0.18</td><td>4</td><td>--</td></tr>\n",
       "<tr><td>CSS_J233103.7+010339</td><td>23</td><td>31</td><td>3.78</td><td>+</td><td>1</td><td>3</td><td>39.1</td><td>16.67</td><td>0.4982916</td><td>1.17</td><td>4</td><td>--</td></tr>\n",
       "<tr><td>CSS_J233403.0-003400</td><td>23</td><td>34</td><td>3.09</td><td>-</td><td>0</td><td>34</td><td>0.3</td><td>17.47</td><td>0.6261693</td><td>0.27</td><td>4</td><td>--</td></tr>\n",
       "</table>"
      ],
      "text/plain": [
       "<Table masked=True length=30>\n",
       "        CSS           RAh   RAm    RAs   ...     PF       AV   Class f_Class\n",
       "                       h    min     s    ...     d       mag                \n",
       "       str20         int64 int64 float64 ...  float64  float64 int64   str1 \n",
       "-------------------- ----- ----- ------- ... --------- ------- ----- -------\n",
       "CSS_J010045.1-010212     1     0   45.11 ... 0.5013599    0.53     4      --\n",
       "CSS_J010229.0-000334     1     2   29.07 ... 0.6354628    0.46     4      --\n",
       "CSS_J013709.4+001208     1    37    9.41 ...  0.641685    0.28     4      --\n",
       "CSS_J014929.7+000918     1    49   29.74 ... 0.6827919    0.18     4      --\n",
       "CSS_J015128.4+011457     1    51   28.47 ...  0.499791    1.09     4      --\n",
       "CSS_J015225.1-001712     1    52   25.14 ...  0.797843    0.44     4      --\n",
       "CSS_J020943.4-010841     2     9   43.45 ...  0.649989    0.23     4      --\n",
       "CSS_J030304.2+003029     3     3    4.24 ... 0.6418724    0.34     4      --\n",
       "CSS_J031333.0+004255     3    13   33.09 ... 0.4763703    0.44     4      --\n",
       "                 ...   ...   ...     ... ...       ...     ...   ...     ...\n",
       "CSS_J214720.5+003503    21    47   20.57 ... 0.5013094    0.87     4      --\n",
       "CSS_J215102.4-001901    21    51    2.48 ...  0.675835     0.4     4      --\n",
       "CSS_J215717.4-000344    21    57   17.45 ... 0.5098859    0.83     4      --\n",
       "CSS_J220345.1-003217    22     3   45.14 ... 0.5854212     0.5     4      --\n",
       "CSS_J220416.7+005755    22     4   16.75 ... 0.5003169    0.71     4      --\n",
       "CSS_J220822.4+010501    22     8   22.42 ... 0.5020314    1.03     4      --\n",
       "CSS_J231955.2-001111    23    19   55.27 ... 0.6177148    0.17     4      --\n",
       "CSS_J232028.0+000531    23    20   28.06 ...   0.64275    0.18     4      --\n",
       "CSS_J233103.7+010339    23    31    3.78 ... 0.4982916    1.17     4      --\n",
       "CSS_J233403.0-003400    23    34    3.09 ... 0.6261693    0.27     4      --"
      ]
     },
     "execution_count": 57,
     "metadata": {},
     "output_type": "execute_result"
    }
   ],
   "source": [
    "# Choose a single RR Lyr ... \n",
    "\n",
    "# RRab\n",
    "table[mask_S82][table[mask_S82]['Class'] == 4]"
   ]
  },
  {
   "cell_type": "code",
   "execution_count": null,
   "metadata": {
    "collapsed": true
   },
   "outputs": [],
   "source": [
    "# RR Lyrae : \n",
    "# CSS_J013709.4+001208\n",
    "# visual mag 17.57\n",
    "# period : 0.641685 days, \n",
    "# amplidute 0.28 mag \n",
    "\n",
    "\n",
    "# 01 37 09.4 +00 12 08\n",
    "\n",
    "# It's weird, because even within 3 arcsec I easily find objects in DeepSource .... \n",
    "\n",
    "# Deep Source at 01 37 09.4 +00 12 08  ,  3 arcsec : find   ifd 2999473357723312\n",
    "\n",
    "# with coadd_filter_id = 2 .  The weird thing is that there seems to be no i-band coadd for this source,  \n",
    "# since only id for coadd_filter_id=3  was inherited by Deep Forced Source ...\n",
    "\n"
   ]
  }
 ],
 "metadata": {
  "anaconda-cloud": {},
  "kernelspec": {
   "display_name": "Python 3",
   "language": "python",
   "name": "python3"
  },
  "language_info": {
   "codemirror_mode": {
    "name": "ipython",
    "version": 3
   },
   "file_extension": ".py",
   "mimetype": "text/x-python",
   "name": "python",
   "nbconvert_exporter": "python",
   "pygments_lexer": "ipython3",
   "version": "3.6.0"
  }
 },
 "nbformat": 4,
 "nbformat_minor": 0
}
