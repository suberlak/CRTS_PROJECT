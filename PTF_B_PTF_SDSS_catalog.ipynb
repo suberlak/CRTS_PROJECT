{
 "cells": [
  {
   "cell_type": "code",
   "execution_count": 1,
   "metadata": {
    "collapsed": true
   },
   "outputs": [],
   "source": [
    "from astropy.table import join\n",
    "from astropy.table import Table\n",
    "\n",
    "from CRTS_paper_modules import update_progress\n",
    "\n",
    "import numpy as np\n",
    "import matplotlib.pyplot as plt \n",
    "from os import listdir\n",
    "import pandas as pd \n",
    "\n",
    "\n",
    "# raw LC info on aggregates, i.e. grouped-by SDSS ra, to find stats on individual objects :\n",
    "#          mean magnitude, mean error,   mjd_span = max(mjd)-min(mjd), lc_length = np.count_nonzero()\n",
    "# \n",
    "# and added processed day-averaged LC info : \n",
    "#          proc_mjd_span = max(mjd)-min(mjd) , proc_lc_length, avg_N_per_day  = average number of epochs per day \n",
    "#          avg_day_mag = average of day-averaged magnitudes , avg_day_err = average of day-averaged weighted error \n"
   ]
  },
  {
   "cell_type": "markdown",
   "metadata": {},
   "source": [
    "## Match QSO catalogs... "
   ]
  },
  {
   "cell_type": "markdown",
   "metadata": {},
   "source": [
    "Okay : read in PTF info, combining statistics  on raw and day-averaged lightcurves :  "
   ]
  },
  {
   "cell_type": "code",
   "execution_count": 13,
   "metadata": {
    "collapsed": false
   },
   "outputs": [
    {
     "data": {
      "text/plain": [
       "['ra_sdss',\n",
       " 'dec_sdss',\n",
       " 'oid',\n",
       " 'avg_err',\n",
       " 'avg_mag',\n",
       " 'mjd_span',\n",
       " 'lc_length',\n",
       " 'avg_day_mag',\n",
       " 'proc_mjd_span',\n",
       " 'avg_day_err',\n",
       " 'avg_N_per_day',\n",
       " 'proc_lc_length']"
      ]
     },
     "execution_count": 13,
     "metadata": {},
     "output_type": "execute_result"
    }
   ],
   "source": [
    "\n",
    "address  = '../data_products/PTF_qso_agg_info_2753_lc_merged.dat' \n",
    "ptf_qso_table = Table.read(address,format='ascii' )\n",
    "\n",
    "ptf_qso_table.colnames"
   ]
  },
  {
   "cell_type": "markdown",
   "metadata": {},
   "source": [
    "Now, read in SDSS info about quasars : "
   ]
  },
  {
   "cell_type": "code",
   "execution_count": 8,
   "metadata": {
    "collapsed": false
   },
   "outputs": [],
   "source": [
    "from B_sf_CRTS_SDSS_matching_NEW import load_sdss_qso"
   ]
  },
  {
   "cell_type": "code",
   "execution_count": 9,
   "metadata": {
    "collapsed": false
   },
   "outputs": [
    {
     "name": "stdout",
     "output_type": "stream",
     "text": [
      "zipping quasars...\n",
      "I read in data for 9258 SDSS quasars \n",
      "From catalog ../catalogs_SDSS/DB_QSO_S82.dat\n"
     ]
    }
   ],
   "source": [
    "sdss_qso_info = load_sdss_qso()"
   ]
  },
  {
   "cell_type": "code",
   "execution_count": 11,
   "metadata": {
    "collapsed": false
   },
   "outputs": [],
   "source": [
    "# make an Astropy table from these stats\n",
    "sdss_qso_table = Table(sdss_qso_info)"
   ]
  },
  {
   "cell_type": "code",
   "execution_count": 17,
   "metadata": {
    "collapsed": false
   },
   "outputs": [
    {
     "data": {
      "text/plain": [
       "78"
      ]
     },
     "execution_count": 17,
     "metadata": {},
     "output_type": "execute_result"
    }
   ],
   "source": [
    "# Even though I explicitly used sdss ra, there must be some floating point imprecision\n",
    "# just match the two catalogs using astropy \n",
    "\n",
    "\n",
    "# they are both in decimal degrees, which is a joy :) \n",
    "\n",
    "np.sum(np.in1d(ptf_qso_table['ra_sdss'], sdss_qso_table['ra']))"
   ]
  },
  {
   "cell_type": "code",
   "execution_count": 26,
   "metadata": {
    "collapsed": false
   },
   "outputs": [],
   "source": [
    "from B_sf_CRTS_SDSS_matching_NEW import match_catalogs \n",
    "\n",
    "SDSS_matching_rows, matched_radius= match_catalogs(cat1_ra=ptf_qso_table['ra_sdss'],  \n",
    "                                                   cat1_dec=ptf_qso_table['dec_sdss'], \n",
    "                                                   cat2_ra= sdss_qso_table['ra'], \n",
    "                                                   cat2_dec=sdss_qso_table['dec']) \n",
    "match_angle_deg = matched_radius.value"
   ]
  },
  {
   "cell_type": "code",
   "execution_count": 88,
   "metadata": {
    "collapsed": false
   },
   "outputs": [],
   "source": [
    "match_angle_arcsec = match_angle_deg * 3600\n",
    "# remove one object that does not have a match within 2 arcsec...\n",
    "# But I wonder why, since all the PTF QSO I got were from SDSS...\n",
    "# But since my query was positional, maybe for this one QSO\n",
    "# PTF did not find a nearby object, \n",
    "# and that's why it gave something so distant... Even though my matching radius was \n",
    "# 2 arcsec?  I'd expect that if something is separated by more than 2 arcsec \n",
    "# I'd not get a match.... \n"
   ]
  },
  {
   "cell_type": "code",
   "execution_count": 75,
   "metadata": {
    "collapsed": true
   },
   "outputs": [],
   "source": [
    "# add columns from the SDSS rows matching to PTF \n",
    "ptf_qso_table.add_columns(sdss_qso_table[SDSS_matching_rows].columns.values())"
   ]
  },
  {
   "cell_type": "code",
   "execution_count": 61,
   "metadata": {
    "collapsed": false
   },
   "outputs": [],
   "source": [
    "from astropy.table import Column\n",
    "match_radius_column = Column(match_angle_arcsec, name='match_radius_arcsec')\n",
    "ptf_qso_table.add_column(match_radius_column)"
   ]
  },
  {
   "cell_type": "code",
   "execution_count": 62,
   "metadata": {
    "collapsed": false
   },
   "outputs": [
    {
     "data": {
      "text/html": [
       "&lt;Table length=6&gt;\n",
       "<table id=\"table4784511352\" class=\"table-striped table-bordered table-condensed\">\n",
       "<thead><tr><th>oid</th><th>ra</th><th>ra_sdss</th><th>dec</th><th>dec_sdss</th><th>match_radius_arcsec</th></tr></thead>\n",
       "<thead><tr><th>float64</th><th>float64</th><th>float64</th><th>float64</th><th>float64</th><th>float64</th></tr></thead>\n",
       "<tr><td>2.69710600005e+13</td><td>0.049842</td><td>0.049846</td><td>0.040372</td><td>0.040389</td><td>0.0628712962885</td></tr>\n",
       "<tr><td>2.69710600019e+13</td><td>0.07453</td><td>0.074522</td><td>0.436845</td><td>0.436856</td><td>0.0489648014736</td></tr>\n",
       "<tr><td>2.69710600037e+13</td><td>0.225083</td><td>0.225083</td><td>0.917519</td><td>0.917532</td><td>0.0468000000011</td></tr>\n",
       "<tr><td>2.59210600025e+13</td><td>0.331015</td><td>0.331011</td><td>-1.209549</td><td>-1.209551</td><td>0.0160968196225</td></tr>\n",
       "<tr><td>2.69710100004e+13</td><td>0.912976</td><td>0.91298</td><td>1.172123</td><td>1.172133</td><td>0.0387720676539</td></tr>\n",
       "<tr><td>2.59210800037e+13</td><td>1.148969</td><td>1.148971</td><td>-1.221839</td><td>-1.221851</td><td>0.0437956211117</td></tr>\n",
       "</table>"
      ],
      "text/plain": [
       "<Table length=6>\n",
       "       oid           ra    ra_sdss     dec     dec_sdss match_radius_arcsec\n",
       "     float64      float64  float64   float64   float64        float64      \n",
       "----------------- -------- -------- --------- --------- -------------------\n",
       "2.69710600005e+13 0.049842 0.049846  0.040372  0.040389     0.0628712962885\n",
       "2.69710600019e+13  0.07453 0.074522  0.436845  0.436856     0.0489648014736\n",
       "2.69710600037e+13 0.225083 0.225083  0.917519  0.917532     0.0468000000011\n",
       "2.59210600025e+13 0.331015 0.331011 -1.209549 -1.209551     0.0160968196225\n",
       "2.69710100004e+13 0.912976  0.91298  1.172123  1.172133     0.0387720676539\n",
       "2.59210800037e+13 1.148969 1.148971 -1.221839 -1.221851     0.0437956211117"
      ]
     },
     "execution_count": 62,
     "metadata": {},
     "output_type": "execute_result"
    }
   ],
   "source": [
    "# show that we did a good job of matching PTF and SDSS catalogs : \n",
    "ptf_qso_table[:6][['oid', 'ra','ra_sdss', 'dec', 'dec_sdss', 'match_radius_arcsec']]"
   ]
  },
  {
   "cell_type": "code",
   "execution_count": 63,
   "metadata": {
    "collapsed": true
   },
   "outputs": [],
   "source": [
    "# Save that PTF - SDSS matched catalog... \n",
    "ptf_qso_table.write('../data_products/PTF_SDSS_cross_matched_qso_DB9_catalog.dat', format='ascii', overwrite='True')"
   ]
  },
  {
   "cell_type": "markdown",
   "metadata": {},
   "source": [
    "## Match stars catalogs... "
   ]
  },
  {
   "cell_type": "code",
   "execution_count": 66,
   "metadata": {
    "collapsed": true
   },
   "outputs": [],
   "source": [
    "address  = '../data_products/PTF_stars_agg_info_15714_lc_merged.dat'\n",
    "ptf_stars_table = Table.read(address,format='ascii' )"
   ]
  },
  {
   "cell_type": "code",
   "execution_count": 67,
   "metadata": {
    "collapsed": false
   },
   "outputs": [
    {
     "name": "stdout",
     "output_type": "stream",
     "text": [
      "Zipping the stars...\n",
      "I read in data for 1006849 SDSS stars\n"
     ]
    }
   ],
   "source": [
    "from B_sf_CRTS_SDSS_matching_NEW import load_sdss_stars\n",
    "sdss_stars_info = load_sdss_stars()"
   ]
  },
  {
   "cell_type": "code",
   "execution_count": 77,
   "metadata": {
    "collapsed": false
   },
   "outputs": [],
   "source": [
    "# Could use that as well to be faster,  because I only have the PTF data for CRTS subset of stars, \n",
    "# but using the original SDSS catalog ensures that I am following identical procedure for PTF...\n",
    "\n",
    "#import CRTS_paper_modules as mod \n",
    "#cols2 , star_cat= mod.get_stars_catalog()"
   ]
  },
  {
   "cell_type": "code",
   "execution_count": 71,
   "metadata": {
    "collapsed": true
   },
   "outputs": [],
   "source": [
    "# make an Astropy table from these stats\n",
    "sdss_stars_table = Table(sdss_stars_info)"
   ]
  },
  {
   "cell_type": "code",
   "execution_count": 72,
   "metadata": {
    "collapsed": false
   },
   "outputs": [
    {
     "data": {
      "text/plain": [
       "42"
      ]
     },
     "execution_count": 72,
     "metadata": {},
     "output_type": "execute_result"
    }
   ],
   "source": [
    "# Even though I explicitly used sdss ra, there must be some floating point imprecision\n",
    "# just match the two catalogs using astropy \n",
    "\n",
    "\n",
    "# they are both in decimal degrees, which is a joy :) \n",
    "\n",
    "np.sum(np.in1d(ptf_stars_table['ra_sdss'], sdss_stars_table['ra']))"
   ]
  },
  {
   "cell_type": "code",
   "execution_count": 73,
   "metadata": {
    "collapsed": true
   },
   "outputs": [],
   "source": [
    "from B_sf_CRTS_SDSS_matching_NEW import match_catalogs \n",
    "\n",
    "SDSS_matching_rows, matched_radius= match_catalogs(cat1_ra=ptf_stars_table['ra_sdss'],  \n",
    "                                                   cat1_dec=ptf_stars_table['dec_sdss'], \n",
    "                                                   cat2_ra= sdss_stars_table['ra'], \n",
    "                                                   cat2_dec=sdss_stars_table['dec']) \n",
    "match_angle_deg = np.array([a.value  for a in matched_radius])"
   ]
  },
  {
   "cell_type": "code",
   "execution_count": 74,
   "metadata": {
    "collapsed": true
   },
   "outputs": [],
   "source": [
    "match_angle_arcsec = match_angle_deg * 3600\n",
    "# remove one object that does not have a match within 2 arcsec...\n",
    "# But I wonder why, since all the PTF QSO I got were from SDSS...\n",
    "# But since my query was positional, maybe for this one QSO\n",
    "# PTF did not find a nearby object, \n",
    "# and that's why it gave something so distant... Even though my matching radius was \n",
    "# 2 arcsec?  I'd expect that if something is separated by more than 2 arcsec \n",
    "# I'd not get a match.... \n",
    "\n",
    "\n",
    "# Check that object! "
   ]
  },
  {
   "cell_type": "code",
   "execution_count": null,
   "metadata": {
    "collapsed": true
   },
   "outputs": [],
   "source": [
    "# add columns from the SDSS rows matching to PTF \n",
    "ptf_stars_table.add_columns(sdss_stars_table[SDSS_matching_rows].columns.values())"
   ]
  },
  {
   "cell_type": "code",
   "execution_count": 76,
   "metadata": {
    "collapsed": true
   },
   "outputs": [],
   "source": [
    "# make an AstroPy Column from the match_angle , and add it to the combined catalog...\n",
    "\n",
    "from astropy.table import Column\n",
    "match_radius_column = Column(match_angle_arcsec, name='match_radius_arcsec')\n",
    "ptf_stars_table.add_column(match_radius_column)"
   ]
  },
  {
   "cell_type": "code",
   "execution_count": 78,
   "metadata": {
    "collapsed": false
   },
   "outputs": [
    {
     "data": {
      "text/html": [
       "&lt;Table length=6&gt;\n",
       "<table id=\"table4686146136\" class=\"table-striped table-bordered table-condensed\">\n",
       "<thead><tr><th>oid</th><th>ra</th><th>ra_sdss</th><th>dec</th><th>dec_sdss</th><th>match_radius_arcsec</th></tr></thead>\n",
       "<thead><tr><th>float64</th><th>float64</th><th>float64</th><th>float64</th><th>float64</th><th>float64</th></tr></thead>\n",
       "<tr><td>2.5921e+13</td><td>0.054511</td><td>0.054504</td><td>-1.1499029</td><td>-1.149916</td><td>0.053468213405</td></tr>\n",
       "<tr><td>2.69710600012e+13</td><td>0.078358</td><td>0.078347</td><td>0.235094</td><td>0.235053</td><td>0.152819807627</td></tr>\n",
       "<tr><td>2.69710600032e+13</td><td>0.093134</td><td>0.093096</td><td>0.751608</td><td>0.751601</td><td>0.139090114011</td></tr>\n",
       "<tr><td>2.69710600015e+13</td><td>0.132512</td><td>0.132509</td><td>0.336862</td><td>0.336847</td><td>0.0550693741422</td></tr>\n",
       "<tr><td>2.6971060004e+13</td><td>0.262431</td><td>0.262434</td><td>0.965064</td><td>0.965061</td><td>0.0152724232486</td></tr>\n",
       "<tr><td>2.69710600038e+13</td><td>0.282395</td><td>0.28241</td><td>1.011578</td><td>1.011579</td><td>0.054111469592</td></tr>\n",
       "</table>"
      ],
      "text/plain": [
       "<Table length=6>\n",
       "       oid           ra    ra_sdss     dec      dec_sdss match_radius_arcsec\n",
       "     float64      float64  float64   float64    float64        float64      \n",
       "----------------- -------- -------- ---------- --------- -------------------\n",
       "       2.5921e+13 0.054511 0.054504 -1.1499029 -1.149916      0.053468213405\n",
       "2.69710600012e+13 0.078358 0.078347   0.235094  0.235053      0.152819807627\n",
       "2.69710600032e+13 0.093134 0.093096   0.751608  0.751601      0.139090114011\n",
       "2.69710600015e+13 0.132512 0.132509   0.336862  0.336847     0.0550693741422\n",
       " 2.6971060004e+13 0.262431 0.262434   0.965064  0.965061     0.0152724232486\n",
       "2.69710600038e+13 0.282395  0.28241   1.011578  1.011579      0.054111469592"
      ]
     },
     "execution_count": 78,
     "metadata": {},
     "output_type": "execute_result"
    }
   ],
   "source": [
    "# show that we did a good job of matching PTF and SDSS catalogs : \n",
    "ptf_stars_table[:6][['oid', 'ra','ra_sdss', 'dec', 'dec_sdss', 'match_radius_arcsec']]"
   ]
  },
  {
   "cell_type": "code",
   "execution_count": 79,
   "metadata": {
    "collapsed": true
   },
   "outputs": [],
   "source": [
    "# Save that PTF - SDSS matched catalog... \n",
    "ptf_stars_table.write('../data_products/PTF_SDSS_cross_matched_stars_catalog.dat', format='ascii', overwrite='True')"
   ]
  },
  {
   "cell_type": "code",
   "execution_count": null,
   "metadata": {
    "collapsed": true
   },
   "outputs": [],
   "source": []
  }
 ],
 "metadata": {
  "kernelspec": {
   "display_name": "Python [Root]",
   "language": "python",
   "name": "Python [Root]"
  },
  "language_info": {
   "codemirror_mode": {
    "name": "ipython",
    "version": 3
   },
   "file_extension": ".py",
   "mimetype": "text/x-python",
   "name": "python",
   "nbconvert_exporter": "python",
   "pygments_lexer": "ipython3",
   "version": "3.5.2"
  }
 },
 "nbformat": 4,
 "nbformat_minor": 0
}
