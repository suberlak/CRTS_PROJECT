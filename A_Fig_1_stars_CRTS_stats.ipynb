{
 "cells": [
  {
   "cell_type": "code",
   "execution_count": 1,
   "metadata": {
    "collapsed": true
   },
   "outputs": [],
   "source": [
    "import numpy as np\n",
    "import matplotlib.pyplot as plt \n",
    "from os import listdir"
   ]
  },
  {
   "cell_type": "code",
   "execution_count": 2,
   "metadata": {
    "collapsed": true
   },
   "outputs": [],
   "source": [
    "def update_progress(progress):\n",
    "    ''' A simple function updating the time progress. \n",
    "    Inspired by \n",
    "    http://stackoverflow.com/questions/3173320/text-progress-bar-in-the-console \n",
    "    Parameters\n",
    "    -----------\n",
    "    progress : a value (float or int) between 0 and 100 indicating \n",
    "               percentage progress \n",
    "    Returns\n",
    "    ----------\n",
    "    None\n",
    "    '''\n",
    "    print '\\r[%-10s] %0.2f%%' % ('#' * int(progress/10), progress),"
   ]
  },
  {
   "cell_type": "markdown",
   "metadata": {},
   "source": [
    "## Initial sample of CRTS stars from Branimir ... "
   ]
  },
  {
   "cell_type": "markdown",
   "metadata": {},
   "source": [
    "First, find out the total number of objects to start with .. stars_CRTS/0/"
   ]
  },
  {
   "cell_type": "code",
   "execution_count": 3,
   "metadata": {
    "collapsed": false
   },
   "outputs": [
    {
     "data": {
      "text/plain": [
       "u'/local/tmp/suberlak/CRTS_PROJECT/code'"
      ]
     },
     "execution_count": 3,
     "metadata": {},
     "output_type": "execute_result"
    }
   ],
   "source": [
    "pwd"
   ]
  },
  {
   "cell_type": "code",
   "execution_count": 4,
   "metadata": {
    "collapsed": false
   },
   "outputs": [],
   "source": [
    "dir_in = '../raw_LC_CRTS/stars/'\n",
    "\n",
    "# make sure that we only take   stellar lightcurves,  which always end with .dat \n",
    "# and ignore two other files which may be there  : \n",
    "# radec.00   and file.list\n",
    "\n",
    "stars_list  = []\n",
    "for f in listdir(dir_in) : \n",
    "    if f.endswith('.dat'):\n",
    "        stars_list.append(f)\n",
    "        \n",
    "        \n"
   ]
  },
  {
   "cell_type": "code",
   "execution_count": 5,
   "metadata": {
    "collapsed": false
   },
   "outputs": [
    {
     "name": "stdout",
     "output_type": "stream",
     "text": [
      "We have 52131 stars to start with \n"
     ]
    }
   ],
   "source": [
    "print('We have %d stars to start with ' % len(stars_list))"
   ]
  },
  {
   "cell_type": "markdown",
   "metadata": {},
   "source": [
    "## Remove empty files and those with less than 10 points "
   ]
  },
  {
   "cell_type": "code",
   "execution_count": 7,
   "metadata": {
    "collapsed": false
   },
   "outputs": [
    {
     "name": "stdout",
     "output_type": "stream",
     "text": [
      "We have 1410 empty files\n"
     ]
    }
   ],
   "source": [
    "c = 0 \n",
    "empty_files = np.zeros(len(stars_list), dtype='bool')\n",
    "for i in range(len(stars_list)):\n",
    "    obj = stars_list[i]\n",
    "    address = dir_in + obj\n",
    "    f = open(address, 'r')\n",
    "    if f.readline() == '' :\n",
    "        c += 1\n",
    "        empty_files[i] = True \n",
    "        \n",
    "print('We have %d empty files' % c)   "
   ]
  },
  {
   "cell_type": "code",
   "execution_count": 8,
   "metadata": {
    "collapsed": false
   },
   "outputs": [
    {
     "data": {
      "text/plain": [
       "50721"
      ]
     },
     "execution_count": 8,
     "metadata": {},
     "output_type": "execute_result"
    }
   ],
   "source": [
    "stars_nonempty = np.array(stars_list)[~empty_files]\n",
    "len(stars_nonempty)"
   ]
  },
  {
   "cell_type": "markdown",
   "metadata": {},
   "source": [
    "Remove those files that have less than 10 points : "
   ]
  },
  {
   "cell_type": "code",
   "execution_count": 10,
   "metadata": {
    "collapsed": false
   },
   "outputs": [
    {
     "name": "stdout",
     "output_type": "stream",
     "text": [
      "We have 1336  files with less than 10 pts \n"
     ]
    }
   ],
   "source": [
    "c = 0 \n",
    "short_files  = np.zeros(len(stars_nonempty), dtype='bool')\n",
    "for i in range(len(stars_nonempty)):\n",
    "    obj = stars_nonempty[i]\n",
    "    num_lines = sum(1 for line in open(dir_in+obj))\n",
    "    if num_lines < 10 :\n",
    "        c += 1\n",
    "        short_files[i] = True\n",
    "        \n",
    "print('We have %d  files with less than 10 pts ' % c) "
   ]
  },
  {
   "cell_type": "code",
   "execution_count": 11,
   "metadata": {
    "collapsed": false
   },
   "outputs": [
    {
     "data": {
      "text/plain": [
       "49385"
      ]
     },
     "execution_count": 11,
     "metadata": {},
     "output_type": "execute_result"
    }
   ],
   "source": [
    "stars_10_pts_plus = stars_nonempty[~short_files]\n",
    "len(stars_10_pts_plus)"
   ]
  },
  {
   "cell_type": "markdown",
   "metadata": {},
   "source": [
    "## Preprocessing :  Day-averaged lightcurves : remove those with less than 10 days "
   ]
  },
  {
   "cell_type": "markdown",
   "metadata": {},
   "source": [
    " ### : needs be RUN ONLY ONCE  to make them! (takes about 10 mins on the workstation)"
   ]
  },
  {
   "cell_type": "markdown",
   "metadata": {},
   "source": [
    "Make day-averaged lightcurves, save only if more than 10 observing days (points in the day-averaged light curve). \n",
    "Save MJD, avg_mag, error, N_obs that day."
   ]
  },
  {
   "cell_type": "code",
   "execution_count": 12,
   "metadata": {
    "collapsed": false
   },
   "outputs": [
    {
     "name": "stdout",
     "output_type": "stream",
     "text": [
      "[######### ] 99.00%\n"
     ]
    }
   ],
   "source": [
    "# code based on the stars_crts_preprocessing.py \n",
    "# and QSO_CRTS_day_averaged_stats.py\n",
    "dir_in = '../raw_LC_CRTS/stars/'\n",
    "dir_out = '../proc_LC_CRTS/stars/'\n",
    "\n",
    "lc_files  = stars_10_pts_plus\n",
    "\n",
    "\n",
    "k = 0\n",
    "total = float(len(lc_files))\n",
    "\n",
    "for obj in lc_files:\n",
    "    percent = 100*(k / total)\n",
    "    if (k % 10) == 0 : # every tenth loop.. \n",
    "        update_progress(int(percent))\n",
    "    k += 1\n",
    "    \n",
    "    address=dir_in+obj\n",
    "    data=np.loadtxt(address)\n",
    "    \n",
    "    averages=np.zeros(shape=(len(data),3))\n",
    "\n",
    "    mjd = data[:,0]\n",
    "    mags = data[:,1]\n",
    "    errs = data[:,2]\n",
    "   \n",
    "    days = np.unique([int(day) for day in data[:,0]])\n",
    "    \n",
    "    # storage arrays  for each qso (all N's)\n",
    "    mjd_arr = np.zeros_like(days).astype(float)\n",
    "    avg_mags = np.zeros_like(days).astype(float)\n",
    "    avg_err_weights = np.zeros_like(days).astype(float)  \n",
    "    Nobs = np.zeros_like(days).astype(float)\n",
    "\n",
    "    # loop through days calculating mean, etc. \n",
    "    for i in range(len(days)):\n",
    "        day = days[i]\n",
    "        int_mjd = np.require(mjd,int)       # forcing mjd array -> integers\n",
    "        condition = (int_mjd == day)        # finding where int(mjd) = day\n",
    "        N = float(len(mags[condition]))            # number of obs in that night \n",
    "        Nobs[i] = N\n",
    "        w=1.0 / ( errs[condition] * errs[condition]) \n",
    "        \n",
    "        # daily error-weighted mean \n",
    "        avgmag = np.average(mags[condition], weights = w)\n",
    "        avg_mags[i] = avgmag\n",
    "        #avgmag = np.average(mags[condition],weights=errs[condition]) # works for single measurement too ! \n",
    "        \n",
    "        # error based on inverse square of sum of weights \n",
    "        error_weights = 1.0 / np.sqrt(np.sum(w))\n",
    "        \n",
    "        # increase error if too small \n",
    "        if error_weights < 0.02 : \n",
    "            error_weights = np.sqrt(error_weights**2.0 + 0.01**2.0)  \n",
    "            \n",
    "        avg_err_weights[i] = error_weights\n",
    "      \n",
    "        mjd_arr[i] = np.mean(mjd[condition])\n",
    "        \n",
    "    # Save the output... \n",
    "    # Once per lightcurve \n",
    "    # ONLY IF THERE IS MORE THAN 10 OBS ! \n",
    "    \n",
    "    if( len(mjd_arr) >  10 ) :\n",
    "        name_out = dir_out + 'out_'+obj[:18]+'.txt'\n",
    "        np.savetxt(name_out, np.column_stack((mjd_arr,avg_mags, avg_err_weights, Nobs)),fmt='%11.4f')\n",
    "\n",
    "        \n",
    "    "
   ]
  },
  {
   "cell_type": "markdown",
   "metadata": {},
   "source": [
    "How many stars with LC  longer than 10 days we have  ? "
   ]
  },
  {
   "cell_type": "code",
   "execution_count": 13,
   "metadata": {
    "collapsed": false
   },
   "outputs": [],
   "source": [
    "stars_LC_proc_err_w = listdir(dir_out)"
   ]
  },
  {
   "cell_type": "code",
   "execution_count": 14,
   "metadata": {
    "collapsed": false
   },
   "outputs": [
    {
     "data": {
      "text/plain": [
       "48250"
      ]
     },
     "execution_count": 14,
     "metadata": {},
     "output_type": "execute_result"
    }
   ],
   "source": [
    "len(stars_LC_proc_err_w)"
   ]
  },
  {
   "cell_type": "markdown",
   "metadata": {},
   "source": [
    "Calculate the stats of that sample : \n",
    "    \n",
    "    "
   ]
  },
  {
   "cell_type": "code",
   "execution_count": 17,
   "metadata": {
    "collapsed": false
   },
   "outputs": [],
   "source": [
    "def compare_star_LC(i=None, n=None):\n",
    "    '''A short function to plot an original stellar LC from CRTS (before all averaging, etc)\n",
    "    to the day-averaged LC.\n",
    "    \n",
    "    Parameters: \n",
    "    -----------\n",
    "    i = a number of the stellar processed LC in the stars_CRTS_LC_err_w/  dir \n",
    "     or  \n",
    "    n = name of an original stellar LC , eg . '127648.dat' \n",
    "    Returns:\n",
    "    --------\n",
    "    None\n",
    "    '''\n",
    "    \n",
    "    dir_in = '../raw_LC_CRTS/stars/'\n",
    "    dir_out = '../proc_LC_CRTS/stars/'\n",
    "    stars_LC_10_days_plus= listdir(dir_out)\n",
    "    if n ==None : \n",
    "        star_name_proc = stars_LC_10_days_plus[i]\n",
    "    else :\n",
    "        star_name_proc = 'out_'+ n +'.txt'\n",
    "   \n",
    "    orig_star_name = star_name_proc[4:-4]\n",
    "\n",
    "\n",
    "    data = np.loadtxt(dir_out  + star_name_proc)\n",
    "    data_orig = np.loadtxt(dir_in + orig_star_name)\n",
    "    \n",
    "    mjd_arr,avg_mags, avg_err_weights, Nobs = data[:,0], data[:,1], data[:,2], data[:,3]\n",
    "    mjd,mags, errs = data_orig[:,0],data_orig[:,1], data_orig[:,2]\n",
    " \n",
    "\n",
    "    %matplotlib inline\n",
    "\n",
    "    fig, axs = plt.subplots(2,2, figsize=(16,10))\n",
    "    ax = np.ravel(axs)\n",
    "    ax[0].set_title('Original LC for '+orig_star_name)\n",
    "    ax[0].scatter(mjd,mags)\n",
    "    ax[0].errorbar(mjd, mags, errs, linestyle='None')\n",
    "    print 'Vertical dashed lines indicate individual obs days '\n",
    "\n",
    "    for day in days : \n",
    "\n",
    "        ax[0].axvline(day, ymin=0, ymax=0.2, lw =1, ls = '--', color='red')\n",
    "\n",
    "\n",
    "    ax[1].set_title('Day-averaged LC for '+ orig_star_name)\n",
    "    ax[1].scatter(mjd_arr,avg_mags, color='green')\n",
    "    ax[1].errorbar(mjd_arr, avg_mags, avg_err_weights, linestyle='None', color='green')\n",
    "    \n",
    "    ax[2].set_title('Original and avg  LC for '+orig_star_name)\n",
    "    ax[2].scatter(mjd,mags, alpha=0.5)\n",
    "    ax[2].errorbar(mjd, mags, errs, linestyle='None',alpha=0.5)\n",
    "    ax[2].scatter(mjd_arr,avg_mags,alpha=0.5, color='red')\n",
    "    ax[2].errorbar(mjd_arr, avg_mags, avg_err_weights, linestyle='None', color='red')\n",
    "    ax[3].axis('off')\n",
    "    plt.show()"
   ]
  },
  {
   "cell_type": "code",
   "execution_count": 18,
   "metadata": {
    "collapsed": false
   },
   "outputs": [
    {
     "name": "stdout",
     "output_type": "stream",
     "text": [
      "Vertical dashed lines indicate individual obs days \n"
     ]
    },
    {
     "data": {
      "image/png": "[encoded data removed]",
      "text/plain": [
       "<matplotlib.figure.Figure at 0x7f70d1c241d0>"
      ]
     },
     "metadata": {},
     "output_type": "display_data"
    }
   ],
   "source": [
    "compare_star_LC(2)"
   ]
  },
  {
   "cell_type": "markdown",
   "metadata": {},
   "source": [
    "Looks like the day-averaging is working fine.  Now , calculate the statistics for the day-averaged stars (takes about 3 mins on the workstation)"
   ]
  },
  {
   "cell_type": "code",
   "execution_count": 19,
   "metadata": {
    "collapsed": false
   },
   "outputs": [
    {
     "name": "stdout",
     "output_type": "stream",
     "text": [
      "[######### ] 97.00%\n"
     ]
    }
   ],
   "source": [
    "from collections import OrderedDict\n",
    "dir_in = '../raw_LC_CRTS/stars/'\n",
    "dir_out = '../proc_LC_CRTS/stars/'\n",
    "\n",
    "stars_LC_10_days_plus = []\n",
    "for file in listdir(dir_out) : \n",
    "    if file.endswith('.txt'):\n",
    "        stars_LC_10_days_plus.append(file)\n",
    "\n",
    "stats_proc_err_w = OrderedDict()\n",
    "keys = ['avg_mag', 'med_mag', 'avg_err', 'med_err', 'name', 'avg_err_90th_percentile']\n",
    "for key in keys: \n",
    "    stats_proc_err_w[key] = [] \n",
    "\n",
    "\n",
    "k = 0\n",
    "total = float(len(lc_files))\n",
    "\n",
    "for i in range(len(stars_LC_10_days_plus)):\n",
    "    percent = 100*(k / total)\n",
    "    if (k % 10) == 0 : # every tenth loop.. \n",
    "        update_progress(int(percent))\n",
    "    k += 1\n",
    "    \n",
    "    star_name_proc = stars_LC_10_days_plus[i]\n",
    "    orig_star_name = star_name_proc[4:-4]\n",
    "\n",
    "\n",
    "    data = np.loadtxt(dir_out  + star_name_proc)\n",
    "    #data_orig = np.loadtxt(dir_in + orig_star_name)\n",
    "\n",
    "    mjd_arr,avg_mags, avg_err_weights, Nobs = data[:,0], data[:,1], data[:,2], data[:,3]\n",
    "    #mjd,mags, errs = data_orig[:,0],data_orig[:,1], data_orig[:,2]\n",
    "\n",
    "    # Calculate stats for day-averaged stars \n",
    "    stats_proc_err_w['avg_mag'].append(np.mean(avg_mags))\n",
    "    stats_proc_err_w['med_mag'].append(np.median(avg_mags))\n",
    "    stats_proc_err_w['avg_err'].append(np.mean(avg_err_weights))\n",
    "    stats_proc_err_w['med_err'].append(np.median(avg_err_weights))\n",
    "    stats_proc_err_w['name'].append(orig_star_name)\n",
    "    stats_proc_err_w['avg_err_90th_percentile'].append(np.percentile(avg_err_weights , 90))\n",
    "    \n"
   ]
  },
  {
   "cell_type": "code",
   "execution_count": 20,
   "metadata": {
    "collapsed": false
   },
   "outputs": [
    {
     "data": {
      "text/plain": [
       "48250"
      ]
     },
     "execution_count": 20,
     "metadata": {},
     "output_type": "execute_result"
    }
   ],
   "source": [
    "len(stars_LC_10_days_plus)"
   ]
  },
  {
   "cell_type": "code",
   "execution_count": 22,
   "metadata": {
    "collapsed": false
   },
   "outputs": [
    {
     "data": {
      "text/plain": [
       "0.090505061115355223"
      ]
     },
     "execution_count": 22,
     "metadata": {},
     "output_type": "execute_result"
    }
   ],
   "source": [
    "np.median(stats_proc_err_w['avg_err'])"
   ]
  },
  {
   "cell_type": "markdown",
   "metadata": {
    "collapsed": true
   },
   "source": [
    "Note : in my old work (in SDSS_CRTS directory) you will find that there is an entire issue about filtered vs unfiltered lightcurves. This is because in the code I used in 2014 and mid-2015, I had in processing of stellar lightcurves a line that wwas supposed to filter out some stars with high error, but it did not work as expected. Thus I redid the processing, to figure out what went wrong, and it's not immediately obvious what the filter  actually did. Nevertheless, for the poster in January 2016 I used a re-processed version of stellar lightcurves from CRTS. If you would like to filter out any outliers from stelalr lightcurves, it can always be done at the later stage, just before taking the individual master files...  "
   ]
  },
  {
   "cell_type": "code",
   "execution_count": 31,
   "metadata": {
    "collapsed": false
   },
   "outputs": [
    {
     "data": {
      "text/plain": [
       "['avg_mag', 'med_mag', 'avg_err', 'med_err', 'name', 'avg_err_90th_percentile']"
      ]
     },
     "execution_count": 31,
     "metadata": {},
     "output_type": "execute_result"
    }
   ],
   "source": [
    "stats_proc_err_w.keys()"
   ]
  },
  {
   "cell_type": "code",
   "execution_count": 32,
   "metadata": {
    "collapsed": false
   },
   "outputs": [
    {
     "data": {
      "text/plain": [
       "(array([ 19413.,   8727.,   3746.,   2551.,   2397.,   2362.,   2620.,\n",
       "          4413.,   1955.,     66.]),\n",
       " array([ 0.02325 ,  0.083025,  0.1428  ,  0.202575,  0.26235 ,  0.322125,\n",
       "         0.3819  ,  0.441675,  0.50145 ,  0.561225,  0.621   ]),\n",
       " <a list of 10 Patch objects>)"
      ]
     },
     "execution_count": 32,
     "metadata": {},
     "output_type": "execute_result"
    },
    {
     "data": {
      "image/png": "[encoded data removed]",
      "text/plain": [
       "<matplotlib.figure.Figure at 0x7f70d1c1b810>"
      ]
     },
     "metadata": {},
     "output_type": "display_data"
    }
   ],
   "source": [
    "%matplotlib inline\n",
    "plt.hist(stats_proc_err_w['avg_err_90th_percentile'])"
   ]
  },
  {
   "cell_type": "code",
   "execution_count": 28,
   "metadata": {
    "collapsed": false
   },
   "outputs": [
    {
     "data": {
      "text/plain": [
       "0.023456250000000001"
      ]
     },
     "execution_count": 28,
     "metadata": {},
     "output_type": "execute_result"
    }
   ],
   "source": [
    "min(stats_proc_err_w['avg_err'])"
   ]
  },
  {
   "cell_type": "code",
   "execution_count": null,
   "metadata": {
    "collapsed": true
   },
   "outputs": [],
   "source": []
  }
 ],
 "metadata": {
  "kernelspec": {
   "display_name": "Python 2",
   "language": "python",
   "name": "python2"
  },
  "language_info": {
   "codemirror_mode": {
    "name": "ipython",
    "version": 2
   },
   "file_extension": ".py",
   "mimetype": "text/x-python",
   "name": "python",
   "nbconvert_exporter": "python",
   "pygments_lexer": "ipython2",
   "version": "2.7.11"
  }
 },
 "nbformat": 4,
 "nbformat_minor": 0
}
