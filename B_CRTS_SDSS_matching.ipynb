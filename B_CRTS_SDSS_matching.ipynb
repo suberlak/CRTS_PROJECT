{
 "cells": [
  {
   "cell_type": "code",
   "execution_count": 89,
   "metadata": {
    "collapsed": false
   },
   "outputs": [
    {
     "data": {
      "text/plain": [
       "<module 'CRTS_paper_modules' from '/Users/chris/GradResearch/CRTS_PROJECT/code/CRTS_paper_modules.py'>"
      ]
     },
     "execution_count": 89,
     "metadata": {},
     "output_type": "execute_result"
    }
   ],
   "source": [
    "from astropy.table import join\n",
    "from astropy.table import Table\n",
    "\n",
    "from CRTS_paper_modules import update_progress\n",
    "import CRTS_paper_modules as mod\n",
    "import numpy as np\n",
    "import matplotlib.pyplot as plt \n",
    "from os import listdir\n",
    "import pandas as pd \n",
    "import imp\n",
    "imp.reload(mod)\n"
   ]
  },
  {
   "cell_type": "markdown",
   "metadata": {},
   "source": [
    "# CRTS stars "
   ]
  },
  {
   "cell_type": "markdown",
   "metadata": {},
   "source": [
    "Aim : want to figure out WHY  all SDSS and CRTS stars can be matched to matching radius of 0.0 ! How is this possible? Are CRTS RA even different ? \n",
    "    "
   ]
  },
  {
   "cell_type": "code",
   "execution_count": 2,
   "metadata": {
    "collapsed": true
   },
   "outputs": [],
   "source": []
  },
  {
   "cell_type": "code",
   "execution_count": 23,
   "metadata": {
    "collapsed": false
   },
   "outputs": [],
   "source": [
    "# CRTS stars radec\n",
    "\n",
    "address = '../raw_LC_CRTS/stars/radec.00'\n",
    "crts_stars_radec = Table.read(address, format='ascii', names=['CRTS_name','ra','dec'])\n"
   ]
  },
  {
   "cell_type": "code",
   "execution_count": 25,
   "metadata": {
    "collapsed": false
   },
   "outputs": [
    {
     "data": {
      "text/plain": [
       "100000"
      ]
     },
     "execution_count": 25,
     "metadata": {},
     "output_type": "execute_result"
    }
   ],
   "source": [
    "len(crts_stars_radec)\n"
   ]
  },
  {
   "cell_type": "code",
   "execution_count": 11,
   "metadata": {
    "collapsed": false
   },
   "outputs": [],
   "source": [
    "# SDSS stars\n",
    "\n",
    "address = '../catalogs_SDSS/stripe82calibStars_v2.6.dat' \n",
    "colnames = ['calib_fla', 'ra', 'dec', 'raRMS', 'decRMS', 'nEpochs', 'AR_val', \n",
    "                'u_Nobs', 'u_mMed', 'u_mMean', 'u_mErr', 'u_rms_scatt', 'u_chi2',\n",
    "                'g_Nobs', 'g_mMed', 'g_mMean', 'g_mErr', 'g_rms_scatt', 'g_chi2',\n",
    "                'r_Nobs', 'r_mMed', 'r_mMean', 'r_mErr', 'r_rms_scatt', 'r_chi2',\n",
    "                'i_Nobs', 'i_mMed', 'i_mMean', 'i_mErr', 'i_rms_scatt', 'i_chi2',\n",
    "                'z_Nobs', 'z_mMed', 'z_mMean', 'z_mErr', 'z_rms_scatt', 'z_chi2']\n",
    "    \n",
    "sdss_stars = Table.read(address, format='ascii', names = colnames)\n",
    "    "
   ]
  },
  {
   "cell_type": "code",
   "execution_count": 17,
   "metadata": {
    "collapsed": false
   },
   "outputs": [
    {
     "data": {
      "text/plain": [
       "array([ True,  True,  True, ...,  True,  True,  True], dtype=bool)"
      ]
     },
     "execution_count": 17,
     "metadata": {},
     "output_type": "execute_result"
    }
   ],
   "source": [
    "np.in1d(crts_stars_radec['ra'],sdss_stars['ra'])"
   ]
  },
  {
   "cell_type": "code",
   "execution_count": 15,
   "metadata": {
    "collapsed": false
   },
   "outputs": [
    {
     "data": {
      "text/plain": [
       "100000"
      ]
     },
     "execution_count": 15,
     "metadata": {},
     "output_type": "execute_result"
    }
   ],
   "source": [
    "len(crts_stars_radec)"
   ]
  },
  {
   "cell_type": "markdown",
   "metadata": {},
   "source": [
    " We combine aggregate info of raw LC and proc LC together with SDSS info, using the ra, dec which are for SDSS"
   ]
  },
  {
   "cell_type": "code",
   "execution_count": 18,
   "metadata": {
    "collapsed": true
   },
   "outputs": [],
   "source": [
    "# CRTS aggregate info  for stars \n",
    "address = '../data_products/CRTS_stars_raw_and_proc_combined_agg.dat'\n",
    "crts_stars = Table.read(address, format='ascii')"
   ]
  },
  {
   "cell_type": "code",
   "execution_count": 26,
   "metadata": {
    "collapsed": false
   },
   "outputs": [],
   "source": [
    "# Add the SDSS ra, dec information.... \n",
    "crts_table = join(left=crts_stars, right = crts_stars_radec, keys='CRTS_name')\n",
    "\n",
    "# It's length is the same as the crts_stars :  48250 / 100000  stars, that fulfill the criteria \n",
    "# of being longer than 10 day-averaged epochs "
   ]
  },
  {
   "cell_type": "code",
   "execution_count": 33,
   "metadata": {
    "collapsed": false
   },
   "outputs": [
    {
     "data": {
      "text/plain": [
       "48250"
      ]
     },
     "execution_count": 33,
     "metadata": {},
     "output_type": "execute_result"
    }
   ],
   "source": [
    "# Check that indeed all ra are in the SDSS (because they are the same )\n",
    "\n",
    "np.sum(np.in1d(crts_table['ra'], sdss_stars['ra']))\n",
    "\n",
    "# Indeed they are! "
   ]
  },
  {
   "cell_type": "code",
   "execution_count": 52,
   "metadata": {
    "collapsed": false
   },
   "outputs": [
    {
     "data": {
      "text/plain": [
       "47748"
      ]
     },
     "execution_count": 52,
     "metadata": {},
     "output_type": "execute_result"
    }
   ],
   "source": [
    "len(np.unique(crts_table['dec']))"
   ]
  },
  {
   "cell_type": "code",
   "execution_count": null,
   "metadata": {
    "collapsed": true
   },
   "outputs": [],
   "source": [
    "# Just join the SDSS info to CRTS table \n",
    "#crts_sdss_table = join(left=crts_table, right=sdss_stars )\n",
    "\n",
    "# Interestingly , for 48250 stars, there are only 47137 unique ra, and 47748 unique dec, i.e. some stars have either \n",
    "# the same ra, or the same dec. \n",
    "\n",
    "# So it seems that there are 820150 unique dec  , and 656841  unique ra  in sdss_stars.\n",
    "# even if we join on both 'ra' and 'dec', it seems that still we are getting more than one match from SDSS for\n",
    "# few stars . Just try using astropy catalog match, and see if it works perhaps better.... "
   ]
  },
  {
   "cell_type": "code",
   "execution_count": 53,
   "metadata": {
    "collapsed": false
   },
   "outputs": [
    {
     "ename": "SyntaxError",
     "evalue": "'return' outside function (<ipython-input-53-436616adb299>, line 13)",
     "output_type": "error",
     "traceback": [
      "\u001b[0;36m  File \u001b[0;32m\"<ipython-input-53-436616adb299>\"\u001b[0;36m, line \u001b[0;32m13\u001b[0m\n\u001b[0;31m    return idx, sep2d\u001b[0m\n\u001b[0m                      ^\u001b[0m\n\u001b[0;31mSyntaxError\u001b[0m\u001b[0;31m:\u001b[0m 'return' outside function\n"
     ]
    }
   ],
   "source": [
    "# Astropy  SkyCoord.match_to_catalog_sky \n",
    "\n",
    "cat1_ra  = crts_table['ra']\n",
    "cat1_dec = crts_table['dec']\n",
    "cat2_ra  = sdss_stars['ra']\n",
    "cat2_dec = sdss_stars['dec']\n",
    "\n",
    "from astropy import units as u\n",
    "from astropy.coordinates import SkyCoord\n",
    "cat1 = SkyCoord(ra=cat1_ra*u.degree, dec=cat1_dec*u.degree)\n",
    "cat2 = SkyCoord(ra=cat2_ra*u.degree, dec=cat2_dec*u.degree)\n",
    "idx, sep2d, dist3d = cat1.match_to_catalog_sky(cat2) \n",
    "#idx : indices that match catalog2  to catalog1 : \n",
    "#        catalog1[ra]  - catalog2[ra][idx] ~= 0 \n",
    "# eg. crts_table['dec'] - sdss_stars[idx]['dec'] "
   ]
  },
  {
   "cell_type": "code",
   "execution_count": 60,
   "metadata": {
    "collapsed": false
   },
   "outputs": [],
   "source": [
    "match_angle_deg = sep2d.value\n",
    "match_angle_arcsec = match_angle_deg * 3600\n",
    "\n",
    "# take only those rows that are a perfect positional match to our catalog ... \n",
    "# even though we didn't have to do this, the fact that some stars share ra or dec made it hard \n",
    "# to use join() \n",
    "sdss_table = sdss_stars[idx]"
   ]
  },
  {
   "cell_type": "code",
   "execution_count": 69,
   "metadata": {
    "collapsed": true
   },
   "outputs": [],
   "source": [
    "from astropy.table import  hstack\n",
    "\n",
    "sdss_crts_table = hstack([crts_table, sdss_table])"
   ]
  },
  {
   "cell_type": "code",
   "execution_count": 70,
   "metadata": {
    "collapsed": false
   },
   "outputs": [
    {
     "data": {
      "text/plain": [
       "48250"
      ]
     },
     "execution_count": 70,
     "metadata": {},
     "output_type": "execute_result"
    }
   ],
   "source": [
    "len(sdss_crts_table)"
   ]
  },
  {
   "cell_type": "code",
   "execution_count": 75,
   "metadata": {
    "collapsed": false
   },
   "outputs": [
    {
     "data": {
      "text/html": [
       "&lt;Table length=5&gt;\n",
       "<table id=\"table5319105056\" class=\"table-striped table-bordered table-condensed\">\n",
       "<thead><tr><th>raw_mjd_span</th><th>raw_mean_mag</th><th>raw_mean_err</th><th>CRTS_name</th><th>raw_lc_length</th><th>proc_mean_N_day</th><th>proc_mean_err</th><th>proc_lc_length</th><th>proc_mean_mag</th><th>proc_mjd_span</th><th>ra_1</th><th>dec_1</th><th>calib_fla</th><th>ra_2</th><th>dec_2</th><th>raRMS</th><th>decRMS</th><th>nEpochs</th><th>AR_val</th><th>u_Nobs</th><th>u_mMed</th><th>u_mMean</th><th>u_mErr</th><th>u_rms_scatt</th><th>u_chi2</th><th>g_Nobs</th><th>g_mMed</th><th>g_mMean</th><th>g_mErr</th><th>g_rms_scatt</th><th>g_chi2</th><th>r_Nobs</th><th>r_mMed</th><th>r_mMean</th><th>r_mErr</th><th>r_rms_scatt</th><th>r_chi2</th><th>i_Nobs</th><th>i_mMed</th><th>i_mMean</th><th>i_mErr</th><th>i_rms_scatt</th><th>i_chi2</th><th>z_Nobs</th><th>z_mMed</th><th>z_mMean</th><th>z_mErr</th><th>z_rms_scatt</th><th>z_chi2</th></tr></thead>\n",
       "<thead><tr><th>float64</th><th>float64</th><th>float64</th><th>int64</th><th>float64</th><th>float64</th><th>float64</th><th>float64</th><th>float64</th><th>float64</th><th>float64</th><th>float64</th><th>str10</th><th>float64</th><th>float64</th><th>float64</th><th>float64</th><th>int64</th><th>float64</th><th>int64</th><th>float64</th><th>float64</th><th>float64</th><th>float64</th><th>float64</th><th>int64</th><th>float64</th><th>float64</th><th>float64</th><th>float64</th><th>float64</th><th>int64</th><th>float64</th><th>float64</th><th>float64</th><th>float64</th><th>float64</th><th>int64</th><th>float64</th><th>float64</th><th>float64</th><th>float64</th><th>float64</th><th>int64</th><th>float64</th><th>float64</th><th>float64</th><th>float64</th><th>float64</th></tr></thead>\n",
       "<tr><td>3020.85593</td><td>17.8823529412</td><td>0.0705147058824</td><td>251</td><td>136.0</td><td>3.4</td><td>0.0399875</td><td>40.0</td><td>17.8839675</td><td>3020.8452</td><td>0.040063</td><td>0.55537</td><td>CALIBSTARS</td><td>0.040063</td><td>0.55537</td><td>0.038</td><td>0.031</td><td>9</td><td>0.068</td><td>9</td><td>19.069</td><td>19.062</td><td>0.009</td><td>0.047</td><td>2.0</td><td>9</td><td>18.253</td><td>18.251</td><td>0.007</td><td>0.016</td><td>0.6</td><td>9</td><td>17.919</td><td>17.919</td><td>0.006</td><td>0.014</td><td>0.6</td><td>9</td><td>17.788</td><td>17.79</td><td>0.006</td><td>0.01</td><td>0.2</td><td>9</td><td>17.731</td><td>17.734</td><td>0.008</td><td>0.02</td><td>0.7</td></tr>\n",
       "<tr><td>2892.13763</td><td>15.2544047619</td><td>0.05</td><td>340</td><td>84.0</td><td>4.0</td><td>0.025</td><td>21.0</td><td>15.2544047619</td><td>2892.1202</td><td>0.054511</td><td>-1.1499029</td><td>CALIBSTARS</td><td>0.054511</td><td>-1.1499029</td><td>0.049</td><td>0.067</td><td>9</td><td>0.097</td><td>9</td><td>17.772</td><td>17.77</td><td>0.007</td><td>0.018</td><td>0.7</td><td>9</td><td>16.012</td><td>16.01</td><td>0.006</td><td>0.014</td><td>0.5</td><td>9</td><td>15.319</td><td>15.318</td><td>0.006</td><td>0.01</td><td>0.3</td><td>9</td><td>15.056</td><td>15.057</td><td>0.005</td><td>0.013</td><td>0.5</td><td>9</td><td>14.938</td><td>14.942</td><td>0.006</td><td>0.016</td><td>0.9</td></tr>\n",
       "<tr><td>3020.85593</td><td>17.8416666667</td><td>0.0703623188406</td><td>425</td><td>138.0</td><td>3.45</td><td>0.039565</td><td>40.0</td><td>17.84158</td><td>3020.8438</td><td>0.073721</td><td>0.404988</td><td>CALIBSTARS</td><td>0.073721</td><td>0.404988</td><td>0.058</td><td>0.057</td><td>14</td><td>0.071</td><td>2</td><td>22.361</td><td>22.358</td><td>0.181</td><td>0.127</td><td>0.2</td><td>13</td><td>19.855</td><td>19.857</td><td>0.007</td><td>0.033</td><td>1.6</td><td>13</td><td>18.325</td><td>18.322</td><td>0.005</td><td>0.024</td><td>1.0</td><td>13</td><td>17.166</td><td>17.171</td><td>0.004</td><td>0.016</td><td>1.1</td><td>13</td><td>16.54</td><td>16.543</td><td>0.005</td><td>0.024</td><td>1.2</td></tr>\n",
       "<tr><td>3020.85593</td><td>19.4547826087</td><td>0.113115942029</td><td>455</td><td>138.0</td><td>3.45</td><td>0.0637025</td><td>40.0</td><td>19.4524925</td><td>3020.8438</td><td>0.078358</td><td>0.235094</td><td>CALIBSTARS</td><td>0.078358</td><td>0.235094</td><td>0.032</td><td>0.036</td><td>13</td><td>0.085</td><td>0</td><td>-0.33</td><td>-0.33</td><td>0.0</td><td>0.0</td><td>0.0</td><td>12</td><td>20.936</td><td>20.937</td><td>0.011</td><td>0.03</td><td>0.5</td><td>12</td><td>19.601</td><td>19.602</td><td>0.007</td><td>0.033</td><td>1.8</td><td>12</td><td>18.961</td><td>18.971</td><td>0.006</td><td>0.023</td><td>1.6</td><td>12</td><td>18.615</td><td>18.601</td><td>0.013</td><td>0.066</td><td>2.1</td></tr>\n",
       "<tr><td>3020.85593</td><td>14.7506521739</td><td>0.05</td><td>522</td><td>138.0</td><td>3.45</td><td>0.028005</td><td>40.0</td><td>14.75144</td><td>3020.8438</td><td>0.093134</td><td>0.751608</td><td>CALIBSTARS</td><td>0.093134</td><td>0.751608</td><td>0.032</td><td>0.021</td><td>5</td><td>0.077</td><td>5</td><td>16.393</td><td>16.385</td><td>0.007</td><td>0.028</td><td>1.8</td><td>5</td><td>15.192</td><td>15.192</td><td>0.006</td><td>0.005</td><td>0.1</td><td>5</td><td>14.798</td><td>14.808</td><td>0.008</td><td>0.03</td><td>2.8</td><td>5</td><td>14.667</td><td>14.666</td><td>0.008</td><td>0.023</td><td>0.9</td><td>5</td><td>14.647</td><td>14.645</td><td>0.009</td><td>0.006</td><td>0.1</td></tr>\n",
       "</table>"
      ],
      "text/plain": [
       "<Table length=5>\n",
       "raw_mjd_span  raw_mean_mag   raw_mean_err  ...  z_mErr z_rms_scatt  z_chi2\n",
       "  float64       float64        float64     ... float64   float64   float64\n",
       "------------ ------------- --------------- ... ------- ----------- -------\n",
       "  3020.85593 17.8823529412 0.0705147058824 ...   0.008        0.02     0.7\n",
       "  2892.13763 15.2544047619            0.05 ...   0.006       0.016     0.9\n",
       "  3020.85593 17.8416666667 0.0703623188406 ...   0.005       0.024     1.2\n",
       "  3020.85593 19.4547826087  0.113115942029 ...   0.013       0.066     2.1\n",
       "  3020.85593 14.7506521739            0.05 ...   0.009       0.006     0.1"
      ]
     },
     "execution_count": 75,
     "metadata": {},
     "output_type": "execute_result"
    }
   ],
   "source": [
    "# here ra_1, dec_1  are sdss ra,dec from  radec.00  file in the CRTS raw lightcurves directory ; \n",
    "# the ra_2, dec_2  are the sdss  ra,dec  from the stripe82calibStars_v2.6.dat\n",
    "sdss_crts_table[:5]"
   ]
  },
  {
   "cell_type": "code",
   "execution_count": 76,
   "metadata": {
    "collapsed": true
   },
   "outputs": [],
   "source": [
    "# Save the combined CRTS - SDSS table for stars... \n",
    "\n",
    "address = '../data_products/CRTS_SDSS_combined_stars_catalog.dat'\n",
    "sdss_crts_table.write(address, format='ascii', overwrite='True')"
   ]
  },
  {
   "cell_type": "markdown",
   "metadata": {},
   "source": [
    "# CRTS quasars "
   ]
  },
  {
   "cell_type": "markdown",
   "metadata": {},
   "source": [
    "Here I use CRTS aggregates on raw and processed lightcurves, and obtain ra,dec information from the filename.  I convert the hms to deg in two  ways:  using a handwritten routine, and using AstroPy SkyCoord.  Both yield exactly the same results : 15 QSO without a counterpart within 50 arcsec... "
   ]
  },
  {
   "cell_type": "code",
   "execution_count": 77,
   "metadata": {
    "collapsed": true
   },
   "outputs": [],
   "source": [
    "# Use the aggregate info on raw and proc CRTS lightcurves, obtain the CRTS ra, dec from filename,\n"
   ]
  },
  {
   "cell_type": "code",
   "execution_count": 79,
   "metadata": {
    "collapsed": false
   },
   "outputs": [],
   "source": [
    "address = '../data_products/CRTS_qso_raw_and_proc_combined_agg.dat'\n",
    "crts_qso = Table.read(address, format='ascii')\n",
    "\n"
   ]
  },
  {
   "cell_type": "code",
   "execution_count": 107,
   "metadata": {
    "collapsed": false
   },
   "outputs": [
    {
     "data": {
      "text/plain": [
       "'+000225.3'"
      ]
     },
     "execution_count": 107,
     "metadata": {},
     "output_type": "execute_result"
    }
   ],
   "source": [
    "crts_qso['CRTS_name'][0][9:]\n",
    "\n"
   ]
  },
  {
   "cell_type": "code",
   "execution_count": 110,
   "metadata": {
    "collapsed": false
   },
   "outputs": [],
   "source": [
    "# extract ra, dec from  CRTS_name   : \n",
    "\n",
    "ra_string = [name[:-9] for name in  crts_qso['CRTS_name']]\n",
    "dec_string  = [name[9:] for name in crts_qso['CRTS_name']]\n",
    "\n",
    "\n",
    "# Split CRTS  ra, dec from hms to h m s \n",
    "ra_hms_split, dec_hms_split = mod.get_ra_dec_CRTS(ra_string, dec_string)\n",
    "\n",
    "# Convert CRTS  ra, dec from hms to deg  \n",
    "ra_deg_CRTS, dec_deg_CRTS = mod.convert_to_deg(ra_hms_split, dec_hms_split)\n",
    "\n"
   ]
  },
  {
   "cell_type": "code",
   "execution_count": 154,
   "metadata": {
    "collapsed": false
   },
   "outputs": [
    {
     "data": {
      "text/plain": [
       "<matplotlib.collections.PathCollection at 0x126678048>"
      ]
     },
     "execution_count": 154,
     "metadata": {},
     "output_type": "execute_result"
    },
    {
     "data": {
      "image/png": "[encoded data removed]",
      "text/plain": [
       "<matplotlib.figure.Figure at 0x1872b72e8>"
      ]
     },
     "metadata": {},
     "output_type": "display_data"
    }
   ],
   "source": [
    "%matplotlib inline\n",
    "plt.scatter(ra_deg_CRTS, dec_deg_CRTS)\n",
    "\n"
   ]
  },
  {
   "cell_type": "code",
   "execution_count": 200,
   "metadata": {
    "collapsed": false
   },
   "outputs": [],
   "source": [
    "SkyCoord?\n"
   ]
  },
  {
   "cell_type": "code",
   "execution_count": 155,
   "metadata": {
    "collapsed": true
   },
   "outputs": [],
   "source": [
    "from astropy import units as u\n",
    "from astropy.coordinates import SkyCoord\n",
    "\n",
    "c = SkyCoord('00 42 30 +41 12 00', unit=(u.hourangle, u.deg))\n"
   ]
  },
  {
   "cell_type": "code",
   "execution_count": 165,
   "metadata": {
    "collapsed": false
   },
   "outputs": [],
   "source": [
    "comb = np.zeros_like(ra_hms_split, dtype='<U31')\n",
    "\n",
    "for  i in range(len(comb)):\n",
    "    \n",
    "    comb[i] = ra_hms_split[i]+' '+dec_hms_split[i]\n",
    "    \n",
    "    "
   ]
  },
  {
   "cell_type": "code",
   "execution_count": 167,
   "metadata": {
    "collapsed": false
   },
   "outputs": [],
   "source": [
    "comb_c = SkyCoord(comb, unit=(u.hourangle, u.deg))\n"
   ]
  },
  {
   "cell_type": "code",
   "execution_count": 170,
   "metadata": {
    "collapsed": false
   },
   "outputs": [],
   "source": [
    "cat1 = comb_c\n",
    "cat2_ra  = sdss_qso['ra']\n",
    "cat2_dec = sdss_qso['dec']\n",
    "cat2 = SkyCoord(ra=cat2_ra*u.degree, dec=cat2_dec*u.degree)\n",
    "idx, sep2d, dist3d = cat1.match_to_catalog_sky(cat2) \n"
   ]
  },
  {
   "cell_type": "code",
   "execution_count": null,
   "metadata": {
    "collapsed": true
   },
   "outputs": [],
   "source": [
    "cat1 = SkyCoord(ra=cat1_ra*u.degree, dec=cat1_dec*u.degree)\n",
    "cat2 = SkyCoord(ra=cat2_ra*u.degree, dec=cat2_dec*u.degree)\n",
    "idx, sep2d, dist3d = cat1.match_to_catalog_sky(cat2) \n",
    "\n"
   ]
  },
  {
   "cell_type": "code",
   "execution_count": 171,
   "metadata": {
    "collapsed": true
   },
   "outputs": [],
   "source": [
    "match_angle_deg = sep2d.value\n",
    "match_angle_arcsec = match_angle_deg * 3600\n",
    "\n"
   ]
  },
  {
   "cell_type": "code",
   "execution_count": 176,
   "metadata": {
    "collapsed": false
   },
   "outputs": [
    {
     "data": {
      "text/plain": [
       "15"
      ]
     },
     "execution_count": 176,
     "metadata": {},
     "output_type": "execute_result"
    }
   ],
   "source": [
    "np.sum(match_angle_arcsec > 1)\n"
   ]
  },
  {
   "cell_type": "code",
   "execution_count": 177,
   "metadata": {
    "collapsed": true
   },
   "outputs": [],
   "source": [
    "sdss_qso_table1 = sdss_qso[idx]\n"
   ]
  },
  {
   "cell_type": "code",
   "execution_count": 178,
   "metadata": {
    "collapsed": true
   },
   "outputs": [],
   "source": [
    "match_angle = Column(name='match_angle_arcsec',data= match_angle_arcsec)\n",
    "sdss_qso_table1.add_column(match_angle)\n",
    "\n",
    "# add the sdss info to the crts info : stack two tables horizontally \n",
    "sdss_crts_table1 = hstack([crts_qso, sdss_qso_table1])\n"
   ]
  },
  {
   "cell_type": "code",
   "execution_count": 181,
   "metadata": {
    "collapsed": false
   },
   "outputs": [],
   "source": [
    "mismatch1 = sdss_crts_table1[sdss_crts_table1['match_angle_arcsec']>2]['CRTS_name']\n",
    "mismatch = sdss_crts_table[sdss_crts_table['match_angle_arcsec']>2]['CRTS_name']\n",
    "\n"
   ]
  },
  {
   "cell_type": "code",
   "execution_count": 183,
   "metadata": {
    "collapsed": false
   },
   "outputs": [
    {
     "data": {
      "text/plain": [
       "array([ True,  True,  True,  True,  True,  True,  True,  True,  True,\n",
       "        True,  True,  True,  True,  True,  True], dtype=bool)"
      ]
     },
     "execution_count": 183,
     "metadata": {},
     "output_type": "execute_result"
    }
   ],
   "source": [
    "\n",
    "np.in1d(mismatch, mismatch1)\n"
   ]
  },
  {
   "cell_type": "code",
   "execution_count": 185,
   "metadata": {
    "collapsed": false
   },
   "outputs": [],
   "source": [
    "# Ok, so these are exactly the same quasars, that are mismatched - there is nothing wrong with my algorithm...\n",
    "\n",
    "# Check them out ! \n",
    "\n",
    "# Make an ascii file with list of ra, dec in degrees, separated by white space, commas (,), or pipes (|). \n",
    "# RA and Dec must be in units decimal degrees.\n",
    "\n"
   ]
  },
  {
   "cell_type": "code",
   "execution_count": 198,
   "metadata": {
    "collapsed": false
   },
   "outputs": [],
   "source": [
    "# first, feed the SDSS DR12 with the SDSS coords of mismatched QSO : \n",
    "radec_SDSS_mismatch = sdss_crts_table1[sdss_crts_table1['match_angle_arcsec']>2][['ra','dec']]\n",
    "address = '../data_products/CRTS_SDSS_mismatch_QSO_SDSS_radec.dat'\n",
    "radec_SDSS_mismatch.write(address, format='ascii', overwrite='True')\n",
    "\n",
    "# Feed the SDSS with the CRTS coords of mismatched objects .... \n",
    "\n",
    "radec_CRTS_mismatch = sdss_crts_table1[sdss_crts_table1['match_angle_arcsec']>2][['ra_CRTS','dec_CRTS']]\n",
    "address = '../data_products/CRTS_SDSS_mismatch_QSO_CRTS_radec.dat'\n",
    "radec_CRTS_mismatch.write(address, format='ascii', overwrite='True')"
   ]
  },
  {
   "cell_type": "code",
   "execution_count": null,
   "metadata": {
    "collapsed": true
   },
   "outputs": [],
   "source": [
    "# Could do https://dr12.sdss.org/bulkFields/raDecs ,but it does not give much useful info...\n",
    "\n",
    "# Instead, by hand try http://skyserver.sdss.org/dr7/en/tools/explore/obj.asp\n",
    "\n",
    "# NOTES on individual objects : \n",
    "\n",
    "# First, I use  SDSS coords from DB9  to query by hand these 15 objects...\n",
    "\n",
    "1) SDSS STAR ra=14.16039248, dec=0.61147335,   ObjId = 588015509812412634 : \n",
    "    \n",
    "2) SDSS GALAXY ra=16.57797276, dec=-0.36779433,   ObjId = 588015508739719362\n",
    "\n",
    "3) SDSS STAR    ra=21.79044991, dec=-0.82312779,   ObjId = 588015508205142178\n",
    "\n",
    "4) SDSS STAR    ra=23.57580185, dec=0.26019066,   ObjId = 587731513144770582\n",
    "\n",
    "5) SDSS STAR    ra=30.27577764, dec=-0.9485065,   ObjId = 587731511537041576\n",
    "\n",
    "6) SDSS STAR    ra=43.79397299, dec=-0.12030369,   ObjId = 587731512616747105\n",
    "\n",
    "7) SDSS STAR    ra=44.02973877, dec=1.07722393,   ObjId = 587731514227425430\n",
    "\n",
    "8) SDSS STAR    ra=51.85132224, dec=-0.85782689,   ObjId = 587731511546478754\n",
    "\n",
    "9) SDSS STAR    ra=55.73044693, dec=0.8231733,   ObjId = 587731513695666438\n",
    "\n",
    "10) SDSS STAR    ra=311.17075564, dec=0.94198223,   ObjId = 587730848497206143\n",
    "--> crowded field \n",
    "\n",
    "11) SDSS STAR    ra=335.40398149, dec=0.19558045,   ObjId = 587734304878690655\n",
    "\n",
    "12) SDSS STAR    ra=343.92565411, dec=-1.12342469,   ObjId = 587734303271813146\n",
    "\n",
    "13) SDSS STAR    ra=348.04136769, dec=-0.94963622,   ObjId = 587731185124966472\n",
    "\n",
    "14) SDSS STAR    ra=350.34892733, dec=-0.02322992,   ObjId = 587731186199691464\n",
    "\n",
    "15) SDSS STAR    ra=355.04130819, dec=0.93886394,   ObjId = 588015510340960369\n",
    "\n",
    "--> some looked like QSO, but then got spectra, but not all have spectra! \n",
    "--> this is surprising... well, I was looking at DR7, is there anything more possibly in DR9 ? \n",
    "\n",
    "--> DR12 catalog is not easy to browse... \n",
    "\n",
    "--> Here in DR13 I can paste ra, dec and get poststamps that can be further inspected ... \n"
   ]
  },
  {
   "cell_type": "markdown",
   "metadata": {},
   "source": [
    "## Exec. summary"
   ]
  },
  {
   "cell_type": "markdown",
   "metadata": {},
   "source": [
    "These 15 objects according to DB9 are QSO, and indeed they are. The CRTS objects that are mismatched sometimes are quasars, sometimes they are not.... I wonder where Brani took the QSO from. He said they were spectroscopically confirmed. All mismatches are 'catastrophic', i.e. more than 50 arcsec separation. \n",
    "\n",
    "Possible problems: \n",
    "   - are we using different coordinate systems between CRTS and SDSS ? The default frame in SkyCoord is ICRS   (\"The International Celestial Reference System (ICRS) is the current standard celestial reference system adopted by the International Astronomical Union (IAU). Its origin is at the barycenter of the Solar System, with axes that are intended to be \"fixed\" with respect to space.\")\n",
    "   - problems with hms --> deg conversion : unlikely. I checked the matching in two ways, and results still persist, with exactly the same 15 quasars being mismatched (without an SDSS counterpart within 2 arcsec).  "
   ]
  },
  {
   "cell_type": "code",
   "execution_count": 196,
   "metadata": {
    "collapsed": false
   },
   "outputs": [
    {
     "data": {
      "text/html": [
       "&lt;Table length=15&gt;\n",
       "<table id=\"table4801522488\" class=\"table-striped table-bordered table-condensed\">\n",
       "<thead><tr><th>ra_CRTS</th><th>dec_CRTS</th><th>ra</th><th>dec</th></tr></thead>\n",
       "<thead><tr><th>float64</th><th>float64</th><th>float64</th><th>float64</th></tr></thead>\n",
       "<tr><td>14.0905</td><td>0.543222222222</td><td>14.160388</td><td>0.611479</td></tr>\n",
       "<tr><td>16.5743333333</td><td>-0.315972222222</td><td>16.577963</td><td>-0.367788</td></tr>\n",
       "<tr><td>21.8485416667</td><td>-0.775027777778</td><td>21.790438</td><td>-0.823125</td></tr>\n",
       "<tr><td>23.5680833333</td><td>0.237083333333</td><td>23.575804</td><td>0.26019</td></tr>\n",
       "<tr><td>30.161125</td><td>-0.998472222222</td><td>30.27578</td><td>-0.948508</td></tr>\n",
       "<tr><td>43.744</td><td>-0.0731111111111</td><td>43.793972</td><td>-0.120296</td></tr>\n",
       "<tr><td>44.0005833333</td><td>1.04952777778</td><td>44.029736</td><td>1.077224</td></tr>\n",
       "<tr><td>51.9966666667</td><td>-0.906083333333</td><td>51.851318</td><td>-0.857827</td></tr>\n",
       "<tr><td>55.718625</td><td>0.881222222222</td><td>55.730446</td><td>0.823176</td></tr>\n",
       "<tr><td>311.210375</td><td>0.941333333333</td><td>311.170746</td><td>0.941982</td></tr>\n",
       "<tr><td>335.376833333</td><td>0.3005</td><td>335.403992</td><td>0.195585</td></tr>\n",
       "<tr><td>344.050708333</td><td>-1.08552777778</td><td>343.925659</td><td>-1.123425</td></tr>\n",
       "<tr><td>348.04425</td><td>-1.01683333333</td><td>348.041382</td><td>-0.949633</td></tr>\n",
       "<tr><td>350.23525</td><td>-0.0328333333333</td><td>350.348907</td><td>-0.023225</td></tr>\n",
       "<tr><td>354.982666667</td><td>1.04958333333</td><td>355.04129</td><td>0.938874</td></tr>\n",
       "</table>"
      ],
      "text/plain": [
       "<Table length=15>\n",
       "   ra_CRTS        dec_CRTS         ra        dec   \n",
       "   float64        float64       float64    float64 \n",
       "------------- ---------------- ---------- ---------\n",
       "      14.0905   0.543222222222  14.160388  0.611479\n",
       "16.5743333333  -0.315972222222  16.577963 -0.367788\n",
       "21.8485416667  -0.775027777778  21.790438 -0.823125\n",
       "23.5680833333   0.237083333333  23.575804   0.26019\n",
       "    30.161125  -0.998472222222   30.27578 -0.948508\n",
       "       43.744 -0.0731111111111  43.793972 -0.120296\n",
       "44.0005833333    1.04952777778  44.029736  1.077224\n",
       "51.9966666667  -0.906083333333  51.851318 -0.857827\n",
       "    55.718625   0.881222222222  55.730446  0.823176\n",
       "   311.210375   0.941333333333 311.170746  0.941982\n",
       "335.376833333           0.3005 335.403992  0.195585\n",
       "344.050708333   -1.08552777778 343.925659 -1.123425\n",
       "    348.04425   -1.01683333333 348.041382 -0.949633\n",
       "    350.23525 -0.0328333333333 350.348907 -0.023225\n",
       "354.982666667    1.04958333333  355.04129  0.938874"
      ]
     },
     "execution_count": 196,
     "metadata": {},
     "output_type": "execute_result"
    }
   ],
   "source": [
    "hstack([radec_CRTS_mismatch,radec_SDSS_mismatch])"
   ]
  },
  {
   "cell_type": "code",
   "execution_count": 117,
   "metadata": {
    "collapsed": false
   },
   "outputs": [],
   "source": [
    "# add that as two columns :\n",
    "from astropy.table import Column\n",
    "\n",
    "ra = Column(name='ra_CRTS', data=ra_deg_CRTS)\n",
    "crts_qso.add_column(ra)"
   ]
  },
  {
   "cell_type": "code",
   "execution_count": 120,
   "metadata": {
    "collapsed": false
   },
   "outputs": [],
   "source": [
    "dec = Column(name='dec_CRTS', data=dec_deg_CRTS)\n",
    "crts_qso.add_column(dec)"
   ]
  },
  {
   "cell_type": "code",
   "execution_count": 122,
   "metadata": {
    "collapsed": false
   },
   "outputs": [
    {
     "data": {
      "text/html": [
       "&lt;Table length=4&gt;\n",
       "<table id=\"table6361626888\" class=\"table-striped table-bordered table-condensed\">\n",
       "<thead><tr><th>raw_mean_err</th><th>raw_mean_mag</th><th>raw_mjd_span</th><th>raw_lc_length</th><th>CRTS_name</th><th>proc_mean_N_day</th><th>proc_mean_err</th><th>proc_lc_length</th><th>proc_mjd_span</th><th>proc_mean_mag</th><th>ra_CRTS</th><th>dec_CRTS</th></tr></thead>\n",
       "<thead><tr><th>float64</th><th>float64</th><th>float64</th><th>float64</th><th>str18</th><th>float64</th><th>float64</th><th>float64</th><th>float64</th><th>float64</th><th>float64</th><th>float64</th></tr></thead>\n",
       "<tr><td>0.0683333333333</td><td>17.4757971014</td><td>3020.85593</td><td>138.0</td><td>000011.96+000225.3</td><td>3.45</td><td>0.0382175</td><td>40.0</td><td>3020.8438</td><td>17.48116</td><td>0.0498333333333</td><td>0.0403611111111</td></tr>\n",
       "<tr><td>0.107023809524</td><td>19.3313095238</td><td>2892.13763</td><td>84.0</td><td>000014.82-011030.6</td><td>4.0</td><td>0.0533952380952</td><td>21.0</td><td>2892.1202</td><td>19.3280952381</td><td>0.06175</td><td>-1.17516666667</td></tr>\n",
       "<tr><td>0.123284671533</td><td>19.6811678832</td><td>3020.85593</td><td>137.0</td><td>000017.88+002612.6</td><td>3.425</td><td>0.06977</td><td>40.0</td><td>3020.8438</td><td>19.671925</td><td>0.0745</td><td>0.436833333333</td></tr>\n",
       "<tr><td>0.152266666667</td><td>20.1694666667</td><td>2889.07825</td><td>150.0</td><td>000038.65+011426.3</td><td>4.05405405405</td><td>0.0745783783784</td><td>37.0</td><td>2889.0603</td><td>20.1422432432</td><td>0.161041666667</td><td>1.24063888889</td></tr>\n",
       "</table>"
      ],
      "text/plain": [
       "<Table length=4>\n",
       "  raw_mean_err   raw_mean_mag raw_mjd_span ...     ra_CRTS         dec_CRTS   \n",
       "    float64        float64      float64    ...     float64         float64    \n",
       "--------------- ------------- ------------ ... --------------- ---------------\n",
       "0.0683333333333 17.4757971014   3020.85593 ... 0.0498333333333 0.0403611111111\n",
       " 0.107023809524 19.3313095238   2892.13763 ...         0.06175  -1.17516666667\n",
       " 0.123284671533 19.6811678832   3020.85593 ...          0.0745  0.436833333333\n",
       " 0.152266666667 20.1694666667   2889.07825 ...  0.161041666667   1.24063888889"
      ]
     },
     "execution_count": 122,
     "metadata": {},
     "output_type": "execute_result"
    }
   ],
   "source": [
    "crts_qso[:4]"
   ]
  },
  {
   "cell_type": "code",
   "execution_count": 127,
   "metadata": {
    "collapsed": false
   },
   "outputs": [],
   "source": [
    "# SDS S Quasars \n",
    "\n",
    "File = '../catalogs_SDSS/DB_QSO_S82.dat'\n",
    "colnames = ['dbID', 'ra', 'dec', 'SDR5ID', 'M_i', 'M_i_corr', 'redshift',\n",
    "                   'mass_BH', 'Lbol', 'u', 'g', 'r', 'i', 'z', 'Au']\n",
    "sdss_qso = Table.read(File, format='ascii', names = colnames)"
   ]
  },
  {
   "cell_type": "code",
   "execution_count": 129,
   "metadata": {
    "collapsed": true
   },
   "outputs": [],
   "source": [
    "# Merge the ctwo catalogs with AStropy \n",
    "\n",
    "cat1_ra  = crts_qso['ra_CRTS']\n",
    "cat1_dec = crts_qso['dec_CRTS']\n",
    "cat2_ra  = sdss_qso['ra']\n",
    "cat2_dec = sdss_qso['dec']\n",
    "\n",
    "from astropy import units as u\n",
    "from astropy.coordinates import SkyCoord\n",
    "cat1 = SkyCoord(ra=cat1_ra*u.degree, dec=cat1_dec*u.degree)\n",
    "cat2 = SkyCoord(ra=cat2_ra*u.degree, dec=cat2_dec*u.degree)\n",
    "idx, sep2d, dist3d = cat1.match_to_catalog_sky(cat2) \n",
    "\n",
    "match_angle_deg = sep2d.value\n",
    "match_angle_arcsec = match_angle_deg * 3600\n",
    "\n",
    "# take only those rows that are a perfect positional match to our catalog ... \n",
    "# even though we didn't have to do this, the fact that some stars share ra or dec made it hard \n",
    "# to use join() \n",
    "sdss_qso_table = sdss_qso[idx]"
   ]
  },
  {
   "cell_type": "code",
   "execution_count": 138,
   "metadata": {
    "collapsed": false
   },
   "outputs": [
    {
     "data": {
      "text/plain": [
       "15"
      ]
     },
     "execution_count": 138,
     "metadata": {},
     "output_type": "execute_result"
    }
   ],
   "source": [
    "# The fifteen outliers...\n",
    "np.sum(match_angle_arcsec> 50)"
   ]
  },
  {
   "cell_type": "code",
   "execution_count": 141,
   "metadata": {
    "collapsed": true
   },
   "outputs": [],
   "source": [
    "match_angle = Column(name='match_angle_arcsec',data= match_angle_arcsec)\n",
    "sdss_qso_table.add_column(match_angle)\n",
    "\n",
    "# add the sdss info to the crts info : stack two tables horizontally \n",
    "sdss_crts_table = hstack([crts_qso, sdss_qso_table])"
   ]
  },
  {
   "cell_type": "code",
   "execution_count": 147,
   "metadata": {
    "collapsed": false
   },
   "outputs": [
    {
     "data": {
      "text/plain": [
       "15"
      ]
     },
     "execution_count": 147,
     "metadata": {},
     "output_type": "execute_result"
    }
   ],
   "source": [
    "np.sum(sdss_crts_table['match_angle_arcsec'] > 1)"
   ]
  },
  {
   "cell_type": "code",
   "execution_count": 148,
   "metadata": {
    "collapsed": false
   },
   "outputs": [
    {
     "data": {
      "text/html": [
       "&lt;Table length=15&gt;\n",
       "<table id=\"table6548073048\" class=\"table-striped table-bordered table-condensed\">\n",
       "<thead><tr><th>raw_mean_err</th><th>raw_mean_mag</th><th>raw_mjd_span</th><th>raw_lc_length</th><th>CRTS_name</th><th>proc_mean_N_day</th><th>proc_mean_err</th><th>proc_lc_length</th><th>proc_mjd_span</th><th>proc_mean_mag</th><th>ra_CRTS</th><th>dec_CRTS</th><th>dbID</th><th>ra</th><th>dec</th><th>SDR5ID</th><th>M_i</th><th>M_i_corr</th><th>redshift</th><th>mass_BH</th><th>Lbol</th><th>u</th><th>g</th><th>r</th><th>i</th><th>z</th><th>Au</th><th>match_angle_arcsec</th></tr></thead>\n",
       "<thead><tr><th>float64</th><th>float64</th><th>float64</th><th>float64</th><th>str18</th><th>float64</th><th>float64</th><th>float64</th><th>float64</th><th>float64</th><th>float64</th><th>float64</th><th>int64</th><th>float64</th><th>float64</th><th>int64</th><th>float64</th><th>float64</th><th>float64</th><th>float64</th><th>float64</th><th>float64</th><th>float64</th><th>float64</th><th>float64</th><th>float64</th><th>float64</th><th>float64</th></tr></thead>\n",
       "<tr><td>0.209255319149</td><td>19.6212765957</td><td>2996.86109</td><td>282.0</td><td>005621.72+003235.6</td><td>3.39759036145</td><td>0.129285542169</td><td>83.0</td><td>2996.8395</td><td>19.4536855422</td><td>14.0905</td><td>0.543222222222</td><td>203782</td><td>14.160388</td><td>0.611479</td><td>2207</td><td>-24.237</td><td>-24.167</td><td>1.2352</td><td>0.0</td><td>0.0</td><td>21.602</td><td>20.912</td><td>20.228</td><td>20.049</td><td>20.12</td><td>0.137</td><td>351.674559391</td></tr>\n",
       "<tr><td>0.24195</td><td>19.62605</td><td>2996.86449</td><td>200.0</td><td>010617.84-001857.5</td><td>3.07692307692</td><td>0.145036923077</td><td>65.0</td><td>2996.847</td><td>19.5096107692</td><td>16.5743333333</td><td>-0.315972222222</td><td>601626</td><td>16.577963</td><td>-0.367788</td><td>2535</td><td>-22.042</td><td>-22.607</td><td>0.4468</td><td>7.536</td><td>45.136</td><td>20.63</td><td>20.358</td><td>20.214</td><td>19.81</td><td>19.432</td><td>0.207</td><td>186.993884728</td></tr>\n",
       "<tr><td>0.145868852459</td><td>18.7007540984</td><td>2933.01351</td><td>305.0</td><td>012723.65-004630.1</td><td>3.91025641026</td><td>0.0736179487179</td><td>78.0</td><td>2932.9887</td><td>18.6827064103</td><td>21.8485416667</td><td>-0.775027777778</td><td>972719</td><td>21.790438</td><td>-0.823125</td><td>3285</td><td>-25.619</td><td>-26.073</td><td>1.8917</td><td>0.0</td><td>46.213</td><td>20.18</td><td>20.088</td><td>20.091</td><td>19.676</td><td>19.679</td><td>0.153</td><td>271.525022433</td></tr>\n",
       "<tr><td>0.253652173913</td><td>20.2227826087</td><td>2917.05774</td><td>115.0</td><td>013416.34+001413.5</td><td>2.16981132075</td><td>0.222162264151</td><td>53.0</td><td>2917.0467</td><td>20.164845283</td><td>23.5680833333</td><td>0.237083333333</td><td>905667</td><td>23.575804</td><td>0.26019</td><td>3587</td><td>-24.81</td><td>-25.493</td><td>0.3999</td><td>0.0</td><td>46.106</td><td>16.969</td><td>16.807</td><td>16.798</td><td>16.749</td><td>16.391</td><td>0.142</td><td>87.7045721106</td></tr>\n",
       "<tr><td>0.114838709677</td><td>17.9561290323</td><td>2938.08685</td><td>279.0</td><td>020038.67-005954.5</td><td>3.875</td><td>0.0583388888889</td><td>72.0</td><td>2938.0654</td><td>17.9534347222</td><td>30.161125</td><td>-0.998472222222</td><td>1572529</td><td>30.27578</td><td>-0.948508</td><td>4669</td><td>-23.027</td><td>-23.759</td><td>0.7045</td><td>7.765</td><td>45.299</td><td>20.648</td><td>20.108</td><td>19.985</td><td>19.905</td><td>19.613</td><td>0.143</td><td>450.192877296</td></tr>\n",
       "<tr><td>0.343448275862</td><td>20.3151724138</td><td>2914.09165</td><td>58.0</td><td>025458.56-000423.2</td><td>1.48717948718</td><td>0.287138461538</td><td>39.0</td><td>2914.0891</td><td>20.2423205128</td><td>43.744</td><td>-0.0731111111111</td><td>2477355</td><td>43.793972</td><td>-0.120296</td><td>6692</td><td>-25.374</td><td>-25.764</td><td>1.6864</td><td>9.014</td><td>46.266</td><td>20.541</td><td>20.234</td><td>20.134</td><td>19.742</td><td>19.658</td><td>0.371</td><td>247.422614573</td></tr>\n",
       "<tr><td>0.364444444444</td><td>20.3873333333</td><td>2849.23653</td><td>45.0</td><td>025600.14+010258.3</td><td>1.36363636364</td><td>0.325312121212</td><td>33.0</td><td>2849.2365</td><td>20.3340363636</td><td>44.0005833333</td><td>1.04952777778</td><td>2522803</td><td>44.029736</td><td>1.077224</td><td>6741</td><td>-25.644</td><td>-26.231</td><td>2.0918</td><td>0.0</td><td>0.0</td><td>20.92</td><td>20.608</td><td>20.267</td><td>20.016</td><td>19.709</td><td>0.484</td><td>144.748025985</td></tr>\n",
       "<tr><td>0.337542372881</td><td>20.2337288136</td><td>2938.09008</td><td>118.0</td><td>032759.20-005421.9</td><td>1.90322580645</td><td>0.264009677419</td><td>62.0</td><td>2938.0865</td><td>20.13485</td><td>51.9966666667</td><td>-0.906083333333</td><td>3796954</td><td>51.851318</td><td>-0.857827</td><td>7837</td><td>-26.174</td><td>-26.686</td><td>1.9001</td><td>9.686</td><td>46.563</td><td>20.101</td><td>19.813</td><td>19.483</td><td>19.306</td><td>19.187</td><td>0.585</td><td>551.280989912</td></tr>\n",
       "<tr><td>0.246804979253</td><td>19.6149792531</td><td>2920.01124</td><td>241.0</td><td>034252.47+005252.4</td><td>2.8023255814</td><td>0.157976744186</td><td>86.0</td><td>2919.9871</td><td>19.535005814</td><td>55.718625</td><td>0.881222222222</td><td>4895372</td><td>55.730446</td><td>0.823176</td><td>8389</td><td>-24.723</td><td>-24.911</td><td>1.654</td><td>0.0</td><td>0.0</td><td>20.982</td><td>20.879</td><td>20.701</td><td>20.456</td><td>20.431</td><td>0.637</td><td>213.254624003</td></tr>\n",
       "<tr><td>0.182708333333</td><td>20.3010416667</td><td>1924.83354</td><td>48.0</td><td>204450.49+005628.8</td><td>3.69230769231</td><td>0.101761538462</td><td>13.0</td><td>1924.8173</td><td>20.2108153846</td><td>311.210375</td><td>0.941333333333</td><td>3294458</td><td>311.170746</td><td>0.941982</td><td>71746</td><td>-25.431</td><td>-25.728</td><td>1.4879</td><td>9.031</td><td>46.223</td><td>20.312</td><td>20.12</td><td>19.664</td><td>19.431</td><td>19.462</td><td>0.468</td><td>142.664246028</td></tr>\n",
       "<tr><td>0.200588235294</td><td>19.1524117647</td><td>3055.87807</td><td>340.0</td><td>222130.44+001801.8</td><td>3.8202247191</td><td>0.112358426966</td><td>89.0</td><td>3055.8598</td><td>19.069594382</td><td>335.376833333</td><td>0.3005</td><td>1025069</td><td>335.403992</td><td>0.195585</td><td>74262</td><td>-24.993</td><td>-25.321</td><td>1.4198</td><td>9.178</td><td>46.067</td><td>20.164</td><td>19.934</td><td>19.724</td><td>19.71</td><td>19.716</td><td>0.348</td><td>390.143285679</td></tr>\n",
       "<tr><td>0.383571428571</td><td>20.3021428571</td><td>2878.11108</td><td>14.0</td><td>225612.17-010507.9</td><td>1.16666666667</td><td>0.356375</td><td>12.0</td><td>2878.1111</td><td>20.2557333333</td><td>344.050708333</td><td>-1.08552777778</td><td>774573</td><td>343.925659</td><td>-1.123425</td><td>75286</td><td>-26.756</td><td>-27.048</td><td>1.5494</td><td>9.186</td><td>46.795</td><td>19.458</td><td>18.865</td><td>18.483</td><td>18.139</td><td>18.049</td><td>0.313</td><td>470.316607554</td></tr>\n",
       "<tr><td>0.177466666667</td><td>19.1581066667</td><td>3025.83213</td><td>375.0</td><td>231210.62-010100.6</td><td>3.75</td><td>0.092486</td><td>100.0</td><td>3025.8082</td><td>19.082325</td><td>348.04425</td><td>-1.01683333333</td><td>423742</td><td>348.041382</td><td>-0.949633</td><td>75756</td><td>-26.579</td><td>-27.273</td><td>2.989</td><td>8.694</td><td>46.779</td><td>21.697</td><td>19.797</td><td>19.77</td><td>19.762</td><td>19.712</td><td>0.187</td><td>242.141357687</td></tr>\n",
       "<tr><td>0.225971223022</td><td>20.0408633094</td><td>3025.82255</td><td>139.0</td><td>232056.46-000158.2</td><td>2.24193548387</td><td>0.204214516129</td><td>62.0</td><td>3025.8109</td><td>20.0053822581</td><td>350.23525</td><td>-0.0328333333333</td><td>368825</td><td>350.348907</td><td>-0.023225</td><td>76021</td><td>-26.625</td><td>-27.039</td><td>3.3397</td><td>0.0</td><td>0.0</td><td>24.93</td><td>20.59</td><td>20.145</td><td>19.975</td><td>19.978</td><td>0.225</td><td>410.624632156</td></tr>\n",
       "<tr><td>0.252040816327</td><td>20.1855612245</td><td>3005.89569</td><td>196.0</td><td>233955.84+010258.5</td><td>2.68493150685</td><td>0.201764383562</td><td>73.0</td><td>3005.886</td><td>20.1628041096</td><td>354.982666667</td><td>1.04958333333</td><td>3968712</td><td>355.04129</td><td>0.938874</td><td>76705</td><td>-24.216</td><td>-25.139</td><td>0.7158</td><td>8.494</td><td>45.992</td><td>19.745</td><td>19.134</td><td>18.917</td><td>18.762</td><td>18.527</td><td>0.16</td><td>450.966870305</td></tr>\n",
       "</table>"
      ],
      "text/plain": [
       "<Table length=15>\n",
       " raw_mean_err   raw_mean_mag raw_mjd_span ...    z       Au   match_angle_arcsec\n",
       "   float64        float64      float64    ... float64 float64      float64      \n",
       "-------------- ------------- ------------ ... ------- ------- ------------------\n",
       "0.209255319149 19.6212765957   2996.86109 ...   20.12   0.137      351.674559391\n",
       "       0.24195      19.62605   2996.86449 ...  19.432   0.207      186.993884728\n",
       "0.145868852459 18.7007540984   2933.01351 ...  19.679   0.153      271.525022433\n",
       "0.253652173913 20.2227826087   2917.05774 ...  16.391   0.142      87.7045721106\n",
       "0.114838709677 17.9561290323   2938.08685 ...  19.613   0.143      450.192877296\n",
       "0.343448275862 20.3151724138   2914.09165 ...  19.658   0.371      247.422614573\n",
       "0.364444444444 20.3873333333   2849.23653 ...  19.709   0.484      144.748025985\n",
       "0.337542372881 20.2337288136   2938.09008 ...  19.187   0.585      551.280989912\n",
       "0.246804979253 19.6149792531   2920.01124 ...  20.431   0.637      213.254624003\n",
       "0.182708333333 20.3010416667   1924.83354 ...  19.462   0.468      142.664246028\n",
       "0.200588235294 19.1524117647   3055.87807 ...  19.716   0.348      390.143285679\n",
       "0.383571428571 20.3021428571   2878.11108 ...  18.049   0.313      470.316607554\n",
       "0.177466666667 19.1581066667   3025.83213 ...  19.712   0.187      242.141357687\n",
       "0.225971223022 20.0408633094   3025.82255 ...  19.978   0.225      410.624632156\n",
       "0.252040816327 20.1855612245   3005.89569 ...  18.527    0.16      450.966870305"
      ]
     },
     "execution_count": 148,
     "metadata": {},
     "output_type": "execute_result"
    }
   ],
   "source": [
    "m = sdss_crts_table['match_angle_arcsec'] > 1\n",
    "sdss_crts_table[m]"
   ]
  },
  {
   "cell_type": "code",
   "execution_count": null,
   "metadata": {
    "collapsed": true
   },
   "outputs": [],
   "source": [
    "# Save the combined CRTS - SDSS table for stars... \n",
    "\n",
    "address = '../data_products/CRTS_SDSS_combined_stars_catalog.dat'\n",
    "sdss_crts_table.write(address, format='ascii', overwrite='True')"
   ]
  }
 ],
 "metadata": {
  "anaconda-cloud": {},
  "kernelspec": {
   "display_name": "Python [Root]",
   "language": "python",
   "name": "Python [Root]"
  },
  "language_info": {
   "codemirror_mode": {
    "name": "ipython",
    "version": 3
   },
   "file_extension": ".py",
   "mimetype": "text/x-python",
   "name": "python",
   "nbconvert_exporter": "python",
   "pygments_lexer": "ipython3",
   "version": "3.5.2"
  }
 },
 "nbformat": 4,
 "nbformat_minor": 0
}
