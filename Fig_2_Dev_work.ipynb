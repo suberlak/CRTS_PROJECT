{
 "cells": [
  {
   "cell_type": "code",
   "execution_count": 5,
   "metadata": {
    "collapsed": false
   },
   "outputs": [
    {
     "name": "stdout",
     "output_type": "stream",
     "text": [
      "Reading from /local/tmp/suberlak/CRTS_PROJECT/data_products/Fig_2_data/2016-06-03/r_cut_18.5-19_qso_fc-1.0.txt\n"
     ]
    }
   ],
   "source": [
    "import os\n",
    "import numpy as np \n",
    "import matplotlib.pyplot as plt\n",
    "import datetime\n",
    "from astroML.stats import median_sigmaG\n",
    "from scipy.stats import binned_statistic\n",
    "from scipy.optimize import curve_fit\n",
    "import CRTS_paper_modules as mod\n",
    "reload(mod)\n",
    "\n",
    "\n",
    "plot_data = {}\n",
    "\n",
    "obj = 'qso'\n",
    "Min = 18.5\n",
    "Max = 19\n",
    "fc = 1.0\n",
    "plot_data[obj] = {}\n",
    "outDir = os.path.join(os.getcwd()[:-4],'data_products/'+'Fig_2_data', \n",
    "                      datetime.datetime.now().strftime('%Y-%m-%d')+ '/')\n",
    "fname = outDir+ 'r_cut_'+str(Min)+'-'+str(Max)+'_'+obj+'_fc-'+str(fc)+'.txt'\n",
    "print 'Reading from', fname\n",
    "\n",
    "colnames = open(fname,'r').read().splitlines()[0][1:].split()\n",
    "d = np.genfromtxt(fname, dtype=float)\n",
    "\n",
    "for label, column in zip(colnames, d.T):\n",
    "    plot_data[obj][label] = column\n"
   ]
  },
  {
   "cell_type": "code",
   "execution_count": 7,
   "metadata": {
    "collapsed": false
   },
   "outputs": [
    {
     "data": {
      "text/plain": [
       "['sigmaApprox',\n",
       " 'muFull',\n",
       " 'muApprox',\n",
       " 'binCount',\n",
       " 'sigmaG',\n",
       " 'sigmaFull',\n",
       " 'stdev',\n",
       " 'meanTau']"
      ]
     },
     "execution_count": 7,
     "metadata": {},
     "output_type": "execute_result"
    }
   ],
   "source": [
    "plot_data['qso'].keys()"
   ]
  },
  {
   "cell_type": "code",
   "execution_count": 9,
   "metadata": {
    "collapsed": false
   },
   "outputs": [
    {
     "data": {
      "image/png": "[encoded data removed]",
      "text/plain": [
       "<matplotlib.figure.Figure at 0x7f2eefc47bd0>"
      ]
     },
     "metadata": {},
     "output_type": "display_data"
    }
   ],
   "source": [
    "%matplotlib inline\n",
    "# set all plot parameters\n",
    "lh_w   = 1.0  # horizontal line thickness \n",
    "lh_st  = '--' # horizontal line style \n",
    "lh_al  = 0.5  # horizontal line alpha parameter \n",
    "\n",
    "# dot size \n",
    "p_size = 10\n",
    "p_al   = 0.5 \n",
    "\n",
    "# y limits for sigma, sigma_G, SF panels \n",
    "y_top  = 0.45\n",
    "y_bott = -0.05\n",
    "\n",
    "# y limits for mu approx \n",
    "y_mu_top = 0.1\n",
    "y_mu_bott = -0.1\n",
    "\n",
    "# x limits for ALL PANELS \n",
    "x_left = 0.5\n",
    "x_right = 3.7\n",
    "\n",
    "# colors for quasars, blue and red stars \n",
    "colors= {}\n",
    "colors['qso'] = 'black'\n",
    "colors['starsB'] = 'blue'\n",
    "colors['starsR']   = 'red'\n",
    "\n",
    "fig,ax = plt.subplots(4,1, figsize=(8,12), sharex=True)\n",
    "fig.subplots_adjust(hspace=0)\n",
    "\n",
    "# Panel 1 \n",
    "for obj in plot_data.keys() : \n",
    "    ax[0].scatter(np.log10(plot_data[obj]['meanTau']), plot_data[obj]['stdev'], s=p_size, \n",
    "                    alpha=p_al, c = colors[obj])\n",
    "    errStdev = plot_data[obj]['stdev'] / np.sqrt(2.0*(plot_data[obj]['binCount'] - 1.0))\n",
    "    ax[0].errorbar(np.log10(plot_data[obj]['meanTau']), plot_data[obj]['stdev'],errStdev, \n",
    "                   linestyle='None', c = colors[obj]  )\n",
    "\n",
    "ax[0].set_ylabel(r'$\\sigma_{stdev}$',fontsize=20)  \n",
    "ax[0].tick_params( axis='x', which='both',  bottom='off', \n",
    "                top='off', labelbottom='off') \n",
    "ax[0].set_ylim(bottom=y_bott, top=y_top)\n",
    "ax[0].set_xlim(left=x_left, right=x_right)\n",
    "ax[0].set_yticks([0,0.1,0.2,0.3,0.4])\n",
    "ax[0].set_yticklabels(['0.0','0.1', '0.2', '0.3', '0.4'])\n",
    "ax[0].axhline(y=0.0, color='black', lw=lh_w, ls=lh_st,alpha=lh_al)\n",
    "ax[0].axhline(y=0.1, color='black', lw=lh_w, ls=lh_st,alpha=lh_al)\n",
    "ax[0].axhline(y=0.2, color='black', lw=lh_w, ls=lh_st,alpha=lh_al)\n",
    "ax[0].grid(axis='x')\n",
    "\n",
    "\n",
    "\n",
    "# Panel 2\n",
    "for obj in plot_data.keys() : \n",
    "    ax[1].scatter(np.log10(plot_data[obj]['meanTau']), plot_data[obj]['sigmaG'], s=p_size, \n",
    "                    alpha=p_al, c = colors[obj])\n",
    "    errSigmaG = plot_data[obj]['sigmaG']* 1.06 / np.sqrt(plot_data[obj]['binCount'])\n",
    "    ax[1].errorbar(np.log10(plot_data[obj]['meanTau']), plot_data[obj]['sigmaG'],errSigmaG, \n",
    "                   linestyle='None', c = colors[obj] )\n",
    "\n",
    "\n",
    "ax[1].set_ylabel(r'$\\sigma_{G}$',fontsize=20)  \n",
    "ax[1].tick_params( axis='x', which='both',  bottom='off', \n",
    "                top='off', labelbottom='off') \n",
    "ax[1].set_ylim(bottom=y_bott, top=y_top)\n",
    "ax[1].set_xlim(left=x_left, right=x_right)\n",
    "ax[1].set_yticks([0,0.1,0.2,0.3,0.4])\n",
    "ax[1].set_yticklabels(['0.0','0.1', '0.2', '0.3', '0.4'])\n",
    "ax[1].axhline(y=0.0, color='black', lw=lh_w, ls=lh_st,alpha=lh_al)\n",
    "ax[1].axhline(y=0.1, color='black', lw=lh_w, ls=lh_st,alpha=lh_al)\n",
    "ax[1].axhline(y=0.2, color='black', lw=lh_w, ls=lh_st,alpha=lh_al)\n",
    "ax[1].grid(axis='x')\n",
    "\n",
    "\n",
    "\n",
    "\n",
    "    # mu_bins['approx_err'] = bin_stdev / np.sqrt(bin_count)\n",
    "\n",
    "\n",
    "# Panel 3\n",
    " \n",
    "def model_sf(t, sf_inf=0.25, tau = 1.0):\n",
    "    br = 1.0-np.exp(-t/tau)\n",
    "    sf = sf_inf * np.power(br,0.5)\n",
    "    return sf\n",
    "\n",
    "# Calculate the model DRW fit for QSO\n",
    "obj = 'qso'\n",
    "xdata = plot_data[obj]['mean_tau']\n",
    "sf = plot_data[obj]['SF']\n",
    "popt, pcov = curve_fit(model_sf, xdata, sf)\n",
    "y = model_sf(xdata, sf_inf=popt[0], tau = popt[1]) # tau 1 year in days \n",
    "\n",
    "# Fold-in the error to the model SF , plot \n",
    "# both folded and not-folded version \\\n",
    "err_sig = plot_data[obj]['SF_err']\n",
    "y_fold = np.sqrt((y ** 2.0)+ (err_sig ** 2.0) )\n",
    "ax[2].plot(np.log10(xdata), y_fold , lw=3, c = 'green', ls='--')\n",
    "ax[2].plot(np.log10(xdata), y , lw=3, c = 'orange', ls='--')\n",
    "\n",
    "text = r'$ \\mathrm{Model:}\\ \\tau=%.3f \\,\\mathrm{days} , \\ SF_{\\infty}=%.3f \\,\\mathrm{mag}$'%(popt[1],popt[0])\n",
    "ax[2].text(x=0.75, y=0.3,s = text )\n",
    "\n",
    "    \n",
    "for obj in plot_data.keys() : \n",
    "    ax[2].scatter(np.log10(plot_data[obj]['mean_tau']), plot_data[obj]['SF'], s=p_size, \n",
    "                    alpha=p_al, c = colors[obj])\n",
    "    ax[2].errorbar(np.log10(plot_data[obj]['mean_tau']), plot_data[obj]['SF'],plot_data[obj]['SF_err'], \n",
    "                   linestyle='None', c = colors[obj]  )\n",
    "\n",
    "ax[2].set_ylim(bottom=y_bott, top=y_top)\n",
    "ax[2].set_xlim(left=x_left, right=x_right)\n",
    "ax[2].set_ylabel(r'$SF $',fontsize=20)\n",
    "ax[2].tick_params( axis='x', which='both',  bottom='off', \n",
    "                top='off', labelbottom='off')\n",
    "ax[2].grid(axis='x')\n",
    "ax[2].set_yticks([0,0.1,0.2,0.3,0.4])\n",
    "ax[2].set_yticklabels(['0.0','0.1', '0.2', '0.3', '0.4'])\n",
    "ax[2].axhline(y=0.0, color='black', lw=lh_w, ls=lh_st,alpha=lh_al)    \n",
    "ax[2].axhline(y=0.1, color='black', lw=lh_w, ls=lh_st,alpha=lh_al)\n",
    "ax[2].axhline(y=0.2, color='black', lw=lh_w, ls=lh_st,alpha=lh_al) \n",
    "\n"
   ]
  },
  {
   "cell_type": "code",
   "execution_count": null,
   "metadata": {
    "collapsed": true
   },
   "outputs": [],
   "source": []
  }
 ],
 "metadata": {
  "kernelspec": {
   "display_name": "Python 2",
   "language": "python",
   "name": "python2"
  },
  "language_info": {
   "codemirror_mode": {
    "name": "ipython",
    "version": 2
   },
   "file_extension": ".py",
   "mimetype": "text/x-python",
   "name": "python",
   "nbconvert_exporter": "python",
   "pygments_lexer": "ipython2",
   "version": "2.7.11"
  }
 },
 "nbformat": 4,
 "nbformat_minor": 0
}
