{
 "cells": [
  {
   "cell_type": "code",
   "execution_count": 1,
   "metadata": {
    "collapsed": true
   },
   "outputs": [],
   "source": [
    "import numpy as np\n",
    "from astropy.table import Table\n",
    "from astropy import units as u\n",
    "from astropy.coordinates import SkyCoord\n",
    "from astropy.table import Column\n",
    "\n",
    "import matplotlib.pyplot as plt \n",
    "from matplotlib import rcParams      \n",
    "rcParams['ytick.labelsize'] = 15\n",
    "rcParams['xtick.labelsize'] = 15\n",
    "rcParams['axes.labelsize'] = 20\n",
    "rcParams['axes.linewidth'] = 2\n",
    "rcParams['font.size'] = 15\n",
    "rcParams['axes.titlesize'] = 20\n",
    "\n"
   ]
  },
  {
   "cell_type": "markdown",
   "metadata": {},
   "source": [
    "Query the CRTS DR2 http://nesssi.cacr.caltech.edu/cgi-bin/getcssconedbid_release2.cgi  , against ID , RA 196.38756\tDEC, -10.5554\trad 0.002 arcmin. Two objects are released, CSS_J130533.0-103319  (234 epochs) MLS_J130533.0-103319 (56 epochs).  "
   ]
  },
  {
   "cell_type": "code",
   "execution_count": 55,
   "metadata": {
    "collapsed": false
   },
   "outputs": [],
   "source": [
    "# read in the PG 1302 data....\n",
    "data = Table.read('../raw_CRTS_data/PG1302-102_LC.csv', format='ascii')\n",
    "data.sort('MJD')\n",
    "\n",
    "y = data['Mag']\n",
    "yerr = data['Magerr']\n",
    "t = data['MJD']\n",
    "#outDir = '../data_products/Fig_6_data/'\n",
    "#sliding_window_statistics(t,y,yerr, save_fig='No', fig_name='PG1302-102_LC.png', outDir = outDir)"
   ]
  },
  {
   "cell_type": "code",
   "execution_count": 206,
   "metadata": {
    "collapsed": false
   },
   "outputs": [
    {
     "name": "stdout",
     "output_type": "stream",
     "text": [
      "Saving todays work in /Users/chris/GradResearch/CRTS_PROJECT/data_products/Fig_6_data/2017-03-15/\n"
     ]
    }
   ],
   "source": []
  },
  {
   "cell_type": "markdown",
   "metadata": {},
   "source": [
    "Calculate moving-average $\\chi^{2}_{DOF}$  :\n",
    "\n"
   ]
  },
  {
   "cell_type": "code",
   "execution_count": 63,
   "metadata": {
    "collapsed": false
   },
   "outputs": [],
   "source": [
    "\n",
    "def calcWeightedMean(y,yerr):\n",
    "    ''' Calculate the weighted mean '''\n",
    "    N = len(y)\n",
    "    if N == 1 : \n",
    "        return float(y)    \n",
    "    elif N == 0 : \n",
    "        return np.nan\n",
    "    else: \n",
    "        # weights = 1 / (yerr ** 2.0)  \n",
    "        # wMean = np.sum(weights * flux) / np.sum(weights)\n",
    "        return float(np.add.reduce(y / (yerr * yerr)) / np.add.reduce((1/yerr)*(1/yerr)))\n",
    "    \n",
    "#N = len(y)\n",
    "#wMean = calcWeightedMean(y,yerr)\n",
    "#chi2dof  = (1 / (N-1.0)) * np.sum(((y- wMean)/yerr)**2)\n",
    "\n",
    "def calcSigmaClippedWM(y, yerr, sigmathresh):\n",
    "    N = len(y)\n",
    "    if N ==0:\n",
    "        return np.nan\n",
    "    elif N == 1:\n",
    "        return float(y)\n",
    "    else:\n",
    "        q25, q50, q75 = np.percentile(y, (25, 50, 75))\n",
    "        iqrSig = 0.7413*(q75 - q25)\n",
    "        nsigma = np.abs(y - q50)/iqrSig\n",
    "        idx = np.where(nsigma <= sigmathresh)\n",
    "        return calcWeightedMean(y[idx], yerr[idx])\n",
    "\n",
    "#sigmaCwMean = calcSigmaClippedWM(y,yerr, 10)\n",
    "\n",
    "# Inspired by sigmaClippedWM() from aggregates.py, at \n",
    "# https://github.com/imcgreer/QLFz4/blob/30c050589d7b2dbbd58c0dac4d676bf65174fe4b/process_data/aggregates.py \n",
    "\n",
    "def SigmaClipLC(y, sigmathresh):\n",
    "    '''\n",
    "    Return only the indices of those points that are \n",
    "    within the n-sigma limit, and those that are outside \n",
    "    '''\n",
    "    q25, q50, q75 = np.percentile(y, (25, 50, 75))\n",
    "    iqrSig = 0.7413*(q75 - q25)\n",
    "    nsigma = np.abs(y - q50)/iqrSig\n",
    "    idxIn  = np.where(nsigma <= sigmathresh)\n",
    "    idxOut = np.where(nsigma >= sigmathresh)\n",
    "    return idxIn, idxOut\n",
    "\n"
   ]
  },
  {
   "cell_type": "code",
   "execution_count": null,
   "metadata": {
    "collapsed": true
   },
   "outputs": [],
   "source": []
  },
  {
   "cell_type": "code",
   "execution_count": null,
   "metadata": {
    "collapsed": true
   },
   "outputs": [],
   "source": []
  },
  {
   "cell_type": "code",
   "execution_count": 216,
   "metadata": {
    "collapsed": false
   },
   "outputs": [],
   "source": [
    "% matplotlib inline \n",
    "import matplotlib.gridspec as gridspec\n",
    "def sliding_window_statistics(t,y,yerr, window_width=500, offset_factor = 0.5, save_fig=None, fig_name=None, \n",
    "                              return_results=None, outDir = None, window_error = 'combined', sigmathresh=5):\n",
    "    '''\n",
    "    A simple function to calculate sliding window stats, and plot them. By default, no dictionary \n",
    "    with results is returned. \n",
    "    \n",
    "    Required parameters:\n",
    "    ---------------------\n",
    "    t : the obs time \n",
    "    y : the flux measurement\n",
    "    yerr : the flux error \n",
    "    \n",
    "    Optional parameters:  \n",
    "    ---------------------\n",
    "    window_width : the width of the sliding window (in days ), default is 500 days \n",
    "    offset_factor : it sets by how much shall we offset the left edge of the first window \n",
    "                    with respect to the earliest datapoint : the shift = offset_factor * window_width. \n",
    "                    Default is 0.5 \n",
    "    save_fig : shall we save the plot as png?  Default : None\n",
    "    fig_name : a name of the figure. Expect a full name, including extension. Default : None \n",
    "    return_results :  return the dictionary with sliding window statistics. Default : None \n",
    "    window_error : what error to plot per sliding window on the bottom panel? Default : combined error in \n",
    "                   the sense of combining the inverse weights.  \n",
    "                   Optional : 'median' : the median of raw photometric errors for points within the window \n",
    "    sigmathresh  : threshold for sigma clipping, defined as \n",
    "                    q25, q50, q75 are 25-th, 50-th, 75-th percentiles \n",
    "                    iqrSig = 0.7413*(q75 - q25)  # interquartile-based, robust sigma \n",
    "                    nsigma = np.abs(y - q50)/iqrSig  # how many sigmas is a given point above the median \n",
    "        \n",
    "    \n",
    "    Method: \n",
    "    --------\n",
    "    By sliding window we mean  a span of data between  t1 and t2,  such that \n",
    "    t1 < t < t2 . We calculate in the store dictionary :\n",
    "    - chi2dof_window :  chi2 per degree of freedom based on the weighted mean\n",
    "    and provided raw photometric errors,   \n",
    "    - N_pts_window : the number of points contained in the window \n",
    "    - t_center_window : the middle of the window (note : this is not  mean(t),  but (t2-t1) / 2)\n",
    "    - t_window_mean : just for comparison, the mean t of the window (data based )\n",
    "    - wMean_window : the weighted mean of the flux measurement (y)\n",
    "    \n",
    "    Returns:\n",
    "    ---------\n",
    "    store{} : (optional)  a dictionary (if return_results != None)\n",
    "        'N_pts_window' : number of points per window, \n",
    "        't_center_window': central mjd of the window  (midpoint)\n",
    "        't_window_mean':  mean of obs times in the window \n",
    "        'wMean_window':  weighted mean of flux measurements in the window \n",
    "        'chi2dof_window': chi2 per window based on \n",
    "                z_array = (flux measurements_array - weighted_mean_per_window_scalar) / raw_error_per_window_array\n",
    "                chi2dof_scalar = (1/ ( N_pts_window_scalar -1 )) *  sum(z_array^2)\n",
    "        'errMedian_window': median of raw photometric errors in the window \n",
    "        'errCombined_window': errors combined from inverse weights : \n",
    "                weights_array = 1 /  (raw_errors_array^2)\n",
    "                errCombined_window = 1 / sqrt(sum(weights_array))\n",
    "        'sigmaG_y_window': a robust interquartile standard deviation of \n",
    "                flux measurements in the window  note  : this is just based on y_window, \n",
    "                i.e. magnitdude measurements in the window.  It is not weighted by anything  \n",
    "                (an option not explored here is to use errors as weights)\n",
    "        'sigmaG_z_window': a robust interquartile standard deviation of \n",
    "                the quantity z_array , used above to calculate chi2dof, per window \n",
    "                 \n",
    "    '''\n",
    "    \n",
    "    \n",
    "    # sigma - clip the lightcurve \n",
    "    print('\\nUsing sigma threshold of %.2f sigma '%sigmathresh)\n",
    "    idxIn, idxOut= SigmaClipLC(y, sigmathresh)\n",
    "    if idxOut[0].size == 0 : \n",
    "        print('There are no outliers')\n",
    "    else : \n",
    "        print('There are %d outliers '%idxOut[0].size)\n",
    "    \n",
    "    # completely remove outlier points ... \n",
    "    #yClipped = y[idxIn]\n",
    "    #yerrClipped = y[idxIn]\n",
    "    #tClipped = t[idxIn]\n",
    "    \n",
    "    # set up window size , sliding step..... \n",
    "    window_width = 500 # days \n",
    "    offset = offset_factor * window_width\n",
    "    t0 = min(t[idxIn]) - offset\n",
    "\n",
    "    window_slide_step_size=  5 #  days \n",
    "    window_frame_start = np.arange(t0, max(t[idxIn]), window_slide_step_size)\n",
    "    window_frame_end = window_frame_start + window_width\n",
    "\n",
    "    # calculate the  sliding window statistics \n",
    "    N_windows = len(window_frame_start)\n",
    "\n",
    "    store = {'N_pts_window':np.zeros(N_windows), 't_center_window':np.zeros(N_windows), \n",
    "          't_window_mean':np.zeros(N_windows), 'wMean_window':np.zeros(N_windows),\n",
    "            'chi2dof_window':np.zeros(N_windows), 'errMedian_window':np.zeros(N_windows),\n",
    "            'errCombined_window':np.zeros(N_windows), 'sigmaG_y_window':np.zeros(N_windows),\n",
    "            'sigmaG_z_window':np.zeros(N_windows)}\n",
    "\n",
    "    for i in range(N_windows) :\n",
    "        mask_in_window = ( window_frame_start[i] < t[idxIn])  * (t[idxIn] < window_frame_end[i])\n",
    "        t_window = t[idxIn][mask_in_window]\n",
    "        y_window = y[idxIn][mask_in_window]\n",
    "        yerr_window = yerr[idxIn][mask_in_window]\n",
    "\n",
    "        N_pts_window = float(len(t_window))\n",
    "        store['N_pts_window'][i] = N_pts_window\n",
    "        store['t_center_window'][i] = (window_frame_end[i] + window_frame_start[i]) / 2.0\n",
    "        store['t_window_mean'][i] = np.mean(t_window)\n",
    "        \n",
    "        store['errMedian_window'][i] = np.median(yerr_window)\n",
    "        err_weights = 1 / (yerr_window**2.0)\n",
    "        store['errCombined_window'][i] = 1 / np.sqrt(np.sum(err_weights))\n",
    "        wMean_window = calcWeightedMean(y_window, err_weights)\n",
    "        store['wMean_window'][i] = wMean_window\n",
    "        \n",
    "        q25, q75 = np.percentile(y_window,  (25, 75))\n",
    "        store['sigmaG_y_window'][i] = 0.7413*(q75 - q25)\n",
    "    \n",
    "        if N_pts_window > 1 : \n",
    "            z = (y_window- wMean_window)/ yerr_window\n",
    "            store['chi2dof_window'][i] = (1 / (N_pts_window-1.0)) * np.sum(z**2)\n",
    "            store['sigmaG_z_window'][i] = 0.7413*(np.percentile(z,75) - np.percentile(z,25))\n",
    "        else  : \n",
    "            store['chi2dof_window'][i] = np.nan\n",
    "            store['sigmaG_z_window'][i] = np.nan \n",
    "            \n",
    "            \n",
    "    print('Using %d windows of width %d days each , with the window sliding step of  %d days'%(N_windows, \n",
    "                                                            window_width, window_slide_step_size ) )\n",
    "    # plot  : \n",
    "    # ax[0] : the lightcurve\n",
    "    # ax[1] : count of points per window \n",
    "    # ax[2] : t_center_window vs wMean_window\n",
    "    # ax[3] : chi2dof_window\n",
    "    #import matplotlib.gridspec as gridspec\n",
    "    fig = plt.figure(figsize=( 10,14 ))   # (x_size , y_size)\n",
    "    ax = dict()\n",
    "    number_of_rows = 8\n",
    "    number_of_columns = 1\n",
    "    gs = gridspec.GridSpec(number_of_rows,  number_of_columns)\n",
    "    ax[0] = plt.subplot(gs[:2, :])  # span all rows but the last one (bottom), and first 5 col\n",
    "    \n",
    "    # span the axes \n",
    "    for k in range(1,7) : \n",
    "        ax[k] = plt.subplot(gs[k+1, :]) \n",
    "        \n",
    "    # remove the xticklabels \n",
    "    for i in range(len(ax)-1):\n",
    "        plt.setp(ax[i].get_xticklabels(), visible=False)\n",
    "        \n",
    "    # make space between plots 0 \n",
    "    \n",
    "    fig.subplots_adjust(hspace=.1)\n",
    "\n",
    "\n",
    "    # lightcurve : sigma - clipped \n",
    "    ax[0].scatter(t[idxIn],y[idxIn], lw=0, s=20, c='red')\n",
    "    ax[0].errorbar(t[idxIn], y[idxIn], yerr[idxIn], ls='None', alpha=0.5) \n",
    "    \n",
    "    # lightcurve : the outliers : \n",
    "    ax[0].scatter(t[idxOut],y[idxOut], lw=0, s=25, c='orange')\n",
    "    ax[0].errorbar(t[idxOut], y[idxOut], yerr[idxOut], ls='None', alpha=0.5, c='orange') \n",
    "    \n",
    "    # set labels \n",
    "    ax[0].set_ylabel('mag')\n",
    "    \n",
    "\n",
    "    # show an example window size...\n",
    "    ax[0].axvline(window_frame_start[0], ls='--', color='magenta',lw=2)\n",
    "    ax[0].axvline(window_frame_end[0],ls='--', color='magenta', lw=2)\n",
    "\n",
    "    # overplot the mean....\n",
    "    size = 10\n",
    "    ax[0].scatter(store['t_center_window'], store['wMean_window'], s=size, lw=0, color='green')\n",
    "\n",
    "    # count of points per window\n",
    "    #ax[1].plot(store['t_center_window'],store['N_pts_window'], ls = 'steps')\n",
    "    ax[1].scatter(store['t_center_window'],store['N_pts_window'], s=size, lw=0)\n",
    "    ax[1].set_ylabel('N')\n",
    "\n",
    "    # t_center_window vs wMean_window\n",
    "    ax[2].scatter(store['t_center_window'], store['wMean_window'], s=size, lw=0, color='green')\n",
    "    if window_error == 'median' : \n",
    "        ax[2].errorbar(store['t_center_window'], store['wMean_window'], store['errMedian_window'], \n",
    "                       ls='None', alpha=0.5)\n",
    "    else :\n",
    "        ax[2].errorbar(store['t_center_window'], store['wMean_window'], store['errCombined_window'], \n",
    "                       ls='None', alpha=0.3)\n",
    "    #print('Using combined error from combined weights (see CRTS paper,  eq.4)')    \n",
    "    ax[2].set_ylabel(r'$\\langle mag \\rangle_{w}$')\n",
    "    #ax[2].get_yaxis().get_major_formatter().set_scientific(False)\n",
    "    ax[2].get_yaxis().get_major_formatter().set_useOffset(False)\n",
    "    # plot errors per window ( the combined errors... )\n",
    "    if window_error == 'median' : \n",
    "        ax[3].scatter(store['t_center_window'], store['errMedian_window'] ,  s=size, lw=0, alpha=0.5)\n",
    "    else :\n",
    "        ax[3].scatter(store['t_center_window'], store['errCombined_window'], s=size, lw=0, alpha=0.3)\n",
    "        #print('Using combined error from combined weights (see CRTS paper,  eq.4)')\n",
    "    ax[3].set_ylabel(r'$\\sigma_{\\langle mag \\rangle_{w}}$')\n",
    "    \n",
    "    # set ylims to be more in touch with the data ....\n",
    "    ax[3].set_ylim(0.8*min(store['errCombined_window']), 1.2 *max(store['errCombined_window']))\n",
    "    print('sigma min %f, max %f'%(min(store['errCombined_window']), max(store['errCombined_window'])))\n",
    "    \n",
    "    # chi2dof_window\n",
    "    ax[4].scatter(store['t_center_window'], store['chi2dof_window'], s=size, lw=0)\n",
    "    ax[4].set_ylabel(r'$\\chi^{2}_{DOF}$')\n",
    "    ax[4].set_ylim(0.8*min(store['chi2dof_window']), 1.2 *max(store['chi2dof_window']))\n",
    "    \n",
    "    # plot sigmaG_y_per_window \n",
    "    ax[5].scatter(store['t_center_window'], store['sigmaG_y_window'], s=size, lw=0)\n",
    "    ax[5].set_ylabel(r'$\\sigma_{G}(mag)$')\n",
    "    ymin,ymax = 0.8*min(store['sigmaG_y_window']), 1.2 *max(store['sigmaG_y_window'])\n",
    "    ax[5].set_ylim(ymin,ymax )\n",
    "    print('SigmaG(y) ymin=%f, ymax=%f'%(ymin, ymax))\n",
    "    \n",
    "    # plot sigmaG_z_per_window \n",
    "    ax[6].scatter(store['t_center_window'],store['sigmaG_z_window'], s=size, lw=0)\n",
    "    ax[6].set_ylabel(r'$\\sigma_{G}(z)$')\n",
    "    ax[6].set_xlabel('MJD')\n",
    "    # move xlims of each plot so that they all start in the same place...\n",
    "    xlim = ax[0].get_xlim()\n",
    "    for i in range(1,len(ax)):\n",
    "        ax[i].set_xlim(xlim)\n",
    "\n",
    "    # remove edge xticks \n",
    "    for i in range(len(ax)):\n",
    "        xticks = ax[i].get_xticks()\n",
    "        ax[i].set_xticks(xticks[1:-1])\n",
    "\n",
    "    # make N axis start at 0 \n",
    "    ax[1].set_ylim(0,)\n",
    "\n",
    "    # make all but first axis yticks more rare\n",
    "    for k in [1,2, 3,4,5, 6]:\n",
    "        yticks = ax[k].get_yticks()\n",
    "        ax[k].set_yticks(yticks[::2])\n",
    "        \n",
    "    # remove the penultimate ytick from each plot from ax[1] : \n",
    "    for k in range(1,7):\n",
    "        yticks = ax[k].yaxis.get_major_ticks()\n",
    "        yticks[-1].label.set_visible(False)\n",
    "    \n",
    "    # make last last axis yticks more rare\n",
    "    # yticks = ax[3].get_yticks()\n",
    "    # ax[3].set_yticks(yticks[::2])\n",
    "    \n",
    "    # add horizontal lines to chi2dof plot : \n",
    "    for k in range(len(ax)):\n",
    "        ax[k].grid()\n",
    "    \n",
    "\n",
    "    \n",
    "    # Save the figure...\n",
    "    if save_fig is not None  : \n",
    "        if outDir is None :\n",
    "            outDir = '../data_products/Fig_6_data/'\n",
    "        if fig_name is None : \n",
    "            fname='PG1302-102'+'_win_'+str(window_width)+'_days.png'\n",
    "        else:\n",
    "            fname = fig_name\n",
    "        plt.tight_layout()\n",
    "        plt.savefig(outDir+fname)\n",
    "        print('Saved this plot as %s'%(outDir+fname))\n",
    "        plt.clf()\n",
    "        plt.close(fig)\n",
    "    # if desired, return the output\n",
    "    if return_results is not None  :\n",
    "        return store "
   ]
  },
  {
   "cell_type": "code",
   "execution_count": 218,
   "metadata": {
    "collapsed": false
   },
   "outputs": [
    {
     "name": "stdout",
     "output_type": "stream",
     "text": [
      "\n",
      "Using sigma threshold of 2.50 sigma \n",
      "There are no outliers\n",
      "Using 640 windows of width 500 days each , with the window sliding step of  5 days\n",
      "sigma min 0.005911, max 0.030000\n",
      "SigmaG(y) ymin=0.001483, ymax=0.209047\n",
      "Saved this plot as /Users/chris/GradResearch/CRTS_PROJECT/data_products/Fig_6_data/2017-03-15/PG1302-102_win_500_days.png\n"
     ]
    }
   ],
   "source": [
    "# read in the PG 1302 data....\n",
    "data = Table.read('../raw_CRTS_data/PG1302-102_LC.csv', format='ascii')\n",
    "data.sort('MJD')\n",
    "\n",
    "y = data['Mag']\n",
    "yerr = data['Magerr']\n",
    "t = data['MJD']\n",
    "#outDir = '../data_products/Fig_6_data/'\n",
    "#sliding_window_statistics(t,y,yerr, save_fig='No', fig_name='PG1302-102_LC.png', outDir = outDir)\n",
    "\n",
    "store = sliding_window_statistics(t,y,yerr, save_fig=True, outDir=outDir, window_error = 'else', \n",
    "                                  sigmathresh=2.5, return_results=True)"
   ]
  },
  {
   "cell_type": "code",
   "execution_count": 199,
   "metadata": {
    "collapsed": false
   },
   "outputs": [
    {
     "name": "stdout",
     "output_type": "stream",
     "text": [
      "\n",
      "Using sigma threshold of 3.00 sigma \n",
      "There are 25 outliers \n",
      "Using 638 windows of width 500 days each , with the window sliding step of  5 days\n",
      "sigma min 0.006547, max 0.034641\n",
      "SigmaG(y) ymin=0.002965, ymax=0.017791\n"
     ]
    },
    {
     "data": {
      "image/png": "[encoded data removed]",
      "text/plain": [
       "<matplotlib.figure.Figure at 0x1218037f0>"
      ]
     },
     "metadata": {},
     "output_type": "display_data"
    }
   ],
   "source": [
    "# Read in bright star for testing ...\n",
    "\n",
    "lc_dir = '../raw_LC_CRTS/stars/' \n",
    "name = '247936' # choose lightcurve from LC catalog \n",
    "address = lc_dir + name+'.dat'\n",
    "data = Table.read(address, format='ascii') # read in the lightcurve \n",
    "data.rename_column('col1', 'MJD')\n",
    "data.rename_column('col2', 'Mag')\n",
    "data.rename_column('col3', 'Magerr')\n",
    "data.sort('MJD')\n",
    "\n",
    "%matplotlib inline \n",
    "\n",
    "t = data['MJD']\n",
    "y = data['Mag']\n",
    "yerr = data['Magerr']\n",
    "sliding_window_statistics(t,y,yerr, save_fig=None, outDir=outDir, window_error = 'else', sigmathresh=3)"
   ]
  },
  {
   "cell_type": "markdown",
   "metadata": {},
   "source": [
    "## Apply to a few bright and faint QSO and stars : "
   ]
  },
  {
   "cell_type": "code",
   "execution_count": 200,
   "metadata": {
    "collapsed": false
   },
   "outputs": [
    {
     "data": {
      "text/plain": [
       "<matplotlib.legend.Legend at 0x119bac9b0>"
      ]
     },
     "execution_count": 200,
     "metadata": {},
     "output_type": "execute_result"
    },
    {
     "data": {
      "image/png": "[encoded data removed]",
      "text/plain": [
       "<matplotlib.figure.Figure at 0x118e73128>"
      ]
     },
     "metadata": {},
     "output_type": "display_data"
    }
   ],
   "source": [
    "## Read in few quasars : choose one bright, well-sampled QSO, and one faint, same for stars . \n",
    "\n",
    "# Load the cross-matched CRTS-SDSS summary table : \n",
    "address = '../data_products/CRTS_SDSS_combined_QSO_catalog.dat'\n",
    "sdss_crts = Table.read(address, format='ascii')\n",
    "\n",
    "# show all colnames\n",
    "np.ravel(sdss_crts.colnames)\n",
    "\n",
    "# plot histogram of brightness distribution\n",
    "for f in 'ugriz' : \n",
    "    plt.hist(sdss_crts[f][(sdss_crts[f]>10)*(sdss_crts[f]<24)], histtype='step', lw=2, label=f, bins=40)\n",
    "plt.legend()"
   ]
  },
  {
   "cell_type": "code",
   "execution_count": 201,
   "metadata": {
    "collapsed": false
   },
   "outputs": [],
   "source": [
    "# Choose two QSO classes : bright and faint:  \n",
    "\n",
    "bright_QSO = sdss_crts[(sdss_crts['g'] > 15)*( sdss_crts['g'] < 16)]\n",
    "# 235156.12-010913.3   has 404 points... \n",
    "\n",
    "faint_QSO = sdss_crts[(sdss_crts['g']>20)*(sdss_crts['g']<21)]\n",
    "faint_QSO.sort('raw_lc_length')\n",
    "faint_long_QSO = faint_QSO[-10:-1]"
   ]
  },
  {
   "cell_type": "code",
   "execution_count": 94,
   "metadata": {
    "collapsed": false
   },
   "outputs": [
    {
     "data": {
      "text/html": [
       "&lt;Table length=9&gt;\n",
       "<table id=\"table4729288240\" class=\"table-striped table-bordered table-condensed\">\n",
       "<thead><tr><th>raw_timespan_obs</th><th>raw_mean_err</th><th>raw_lc_length</th><th>raw_mean_mag</th><th>CRTS_name</th><th>proc_mean_N_day</th><th>proc_lc_length</th><th>proc_mean_mag</th><th>proc_mjd_span</th><th>proc_mean_err</th><th>proc_median_dt</th><th>ra_CRTS</th><th>dec_CRTS</th><th>dbID</th><th>ra</th><th>dec</th><th>SDR5ID</th><th>M_i</th><th>M_i_corr</th><th>redshift</th><th>mass_BH</th><th>Lbol</th><th>u</th><th>g</th><th>r</th><th>i</th><th>z</th><th>Au</th><th>match_angle_arcsec</th></tr></thead>\n",
       "<thead><tr><th>float64</th><th>float64</th><th>float64</th><th>float64</th><th>str18</th><th>float64</th><th>float64</th><th>float64</th><th>float64</th><th>float64</th><th>float64</th><th>float64</th><th>float64</th><th>int64</th><th>float64</th><th>float64</th><th>int64</th><th>float64</th><th>float64</th><th>float64</th><th>float64</th><th>float64</th><th>float64</th><th>float64</th><th>float64</th><th>float64</th><th>float64</th><th>float64</th><th>float64</th></tr></thead>\n",
       "<tr><td>3025.83301</td><td>0.148161209068</td><td>397.0</td><td>18.742720403</td><td>231121.09+005133.8</td><td>4.09278350515</td><td>97.0</td><td>18.6999061856</td><td>3025.8092</td><td>0.0741762886598</td><td>15.99885</td><td>347.837875</td><td>0.859388888889</td><td>475129</td><td>347.837921</td><td>0.859398</td><td>75720</td><td>-22.443</td><td>-23.133</td><td>0.4832</td><td>8.776</td><td>45.249</td><td>20.751</td><td>20.364</td><td>20.142</td><td>19.602</td><td>19.227</td><td>0.215</td><td>0.168798787984</td></tr>\n",
       "<tr><td>3002.94245</td><td>0.175125628141</td><td>398.0</td><td>19.4244974874</td><td>235249.39-000629.4</td><td>3.79047619048</td><td>105.0</td><td>19.3268761905</td><td>3002.9245</td><td>0.0990952380952</td><td>11.03495</td><td>358.205791667</td><td>-0.108166666667</td><td>3958962</td><td>358.205811</td><td>-0.108186</td><td>77157</td><td>-23.013</td><td>-23.242</td><td>0.631</td><td>0.0</td><td>45.261</td><td>20.615</td><td>20.106</td><td>20.0</td><td>19.66</td><td>19.645</td><td>0.165</td><td>0.0984291762447</td></tr>\n",
       "<tr><td>2999.89596</td><td>0.201122194514</td><td>401.0</td><td>19.6618952618</td><td>234629.98-010825.5</td><td>3.58035714286</td><td>112.0</td><td>19.6055464286</td><td>2999.8765</td><td>0.132603571429</td><td>12.0144</td><td>356.624916667</td><td>-1.14041666667</td><td>3985033</td><td>356.624908</td><td>-1.140436</td><td>76926</td><td>-24.504</td><td>-25.082</td><td>1.2051</td><td>8.151</td><td>45.899</td><td>20.279</td><td>20.181</td><td>19.805</td><td>19.741</td><td>19.689</td><td>0.179</td><td>0.0762706653404</td></tr>\n",
       "<tr><td>3002.94374</td><td>0.208756097561</td><td>410.0</td><td>19.7031707317</td><td>234648.39-010116.3</td><td>3.38842975207</td><td>121.0</td><td>19.6757710744</td><td>3002.9246</td><td>0.150010743802</td><td>12.00615</td><td>356.701625</td><td>-1.02119444444</td><td>3882125</td><td>356.70163</td><td>-1.021222</td><td>76935</td><td>-22.024</td><td>-22.715</td><td>0.4235</td><td>0.0</td><td>0.0</td><td>20.659</td><td>20.334</td><td>19.954</td><td>19.687</td><td>19.446</td><td>0.176</td><td>0.100819328951</td></tr>\n",
       "<tr><td>2920.01124</td><td>0.223547619048</td><td>420.0</td><td>19.4243809524</td><td>033931.15+011449.9</td><td>4.77272727273</td><td>88.0</td><td>19.2450477273</td><td>2919.9923</td><td>0.103611363636</td><td>13.1192</td><td>54.8797916667</td><td>1.24719444444</td><td>3748997</td><td>54.879829</td><td>1.247217</td><td>8268</td><td>-24.885</td><td>-25.527</td><td>1.409</td><td>8.741</td><td>45.983</td><td>20.609</td><td>20.456</td><td>20.199</td><td>19.923</td><td>19.728</td><td>0.651</td><td>0.15699758668</td></tr>\n",
       "<tr><td>3002.94374</td><td>0.195141509434</td><td>424.0</td><td>19.5285613208</td><td>234509.42-005506.7</td><td>3.5041322314</td><td>121.0</td><td>19.4728768595</td><td>3002.9246</td><td>0.135988429752</td><td>12.0155</td><td>356.28925</td><td>-0.918527777778</td><td>4004892</td><td>356.289276</td><td>-0.918536</td><td>76889</td><td>-24.588</td><td>-25.002</td><td>1.359</td><td>9.037</td><td>46.0</td><td>20.294</td><td>20.383</td><td>20.033</td><td>19.949</td><td>20.124</td><td>0.195</td><td>0.0981573663458</td></tr>\n",
       "<tr><td>2999.92262</td><td>0.185940366972</td><td>436.0</td><td>19.370206422</td><td>234033.70-005636.9</td><td>3.69491525424</td><td>118.0</td><td>19.2867576271</td><td>2999.9023</td><td>0.11096779661</td><td>11.9609</td><td>355.140416667</td><td>-0.943583333333</td><td>3892324</td><td>355.140442</td><td>-0.943589</td><td>76719</td><td>-27.326</td><td>-27.994</td><td>3.6502</td><td>9.528</td><td>47.078</td><td>25.436</td><td>20.682</td><td>19.571</td><td>19.448</td><td>19.522</td><td>0.178</td><td>0.0934416628874</td></tr>\n",
       "<tr><td>2997.8335</td><td>0.194336283186</td><td>452.0</td><td>19.4192477876</td><td>233155.01-011515.0</td><td>3.64516129032</td><td>124.0</td><td>19.3564524194</td><td>2997.8146</td><td>0.113992741935</td><td>10.9418</td><td>352.979208333</td><td>-1.25416666667</td><td>314358</td><td>352.979248</td><td>-1.254173</td><td>76413</td><td>-23.65</td><td>-24.173</td><td>0.8749</td><td>8.674</td><td>45.708</td><td>20.555</td><td>20.019</td><td>19.817</td><td>19.833</td><td>19.673</td><td>0.203</td><td>0.144574931634</td></tr>\n",
       "<tr><td>2890.16152</td><td>0.167833698031</td><td>457.0</td><td>19.6564332604</td><td>235225.61+002337.9</td><td>4.91397849462</td><td>93.0</td><td>19.4516086022</td><td>2890.1431</td><td>0.102159139785</td><td>12.3851</td><td>358.106708333</td><td>0.393861111111</td><td>3971396</td><td>358.10672</td><td>0.393876</td><td>77145</td><td>-25.222</td><td>-26.138</td><td>1.8437</td><td>0.0</td><td>46.094</td><td>20.824</td><td>20.781</td><td>20.534</td><td>20.019</td><td>20.188</td><td>0.167</td><td>0.0680946152988</td></tr>\n",
       "</table>"
      ],
      "text/plain": [
       "<Table length=9>\n",
       "raw_timespan_obs  raw_mean_err  raw_lc_length ...    Au   match_angle_arcsec\n",
       "    float64         float64        float64    ... float64      float64      \n",
       "---------------- -------------- ------------- ... ------- ------------------\n",
       "      3025.83301 0.148161209068         397.0 ...   0.215     0.168798787984\n",
       "      3002.94245 0.175125628141         398.0 ...   0.165    0.0984291762447\n",
       "      2999.89596 0.201122194514         401.0 ...   0.179    0.0762706653404\n",
       "      3002.94374 0.208756097561         410.0 ...   0.176     0.100819328951\n",
       "      2920.01124 0.223547619048         420.0 ...   0.651      0.15699758668\n",
       "      3002.94374 0.195141509434         424.0 ...   0.195    0.0981573663458\n",
       "      2999.92262 0.185940366972         436.0 ...   0.178    0.0934416628874\n",
       "       2997.8335 0.194336283186         452.0 ...   0.203     0.144574931634\n",
       "      2890.16152 0.167833698031         457.0 ...   0.167    0.0680946152988"
      ]
     },
     "execution_count": 94,
     "metadata": {},
     "output_type": "execute_result"
    }
   ],
   "source": [
    "faint_long_QSO"
   ]
  },
  {
   "cell_type": "code",
   "execution_count": 202,
   "metadata": {
    "collapsed": false
   },
   "outputs": [
    {
     "name": "stdout",
     "output_type": "stream",
     "text": [
      "['raw_mjd_span' 'raw_mean_mag' 'raw_mean_err' 'CRTS_name' 'raw_lc_length'\n",
      " 'proc_mean_N_day' 'proc_mean_err' 'proc_lc_length' 'proc_mean_mag'\n",
      " 'proc_mjd_span' 'ra_1' 'dec_1' 'calib_fla' 'ra_2' 'dec_2' 'raRMS' 'decRMS'\n",
      " 'nEpochs' 'AR_val' 'u_Nobs' 'u_mMed' 'u_mMean' 'u_mErr' 'u_rms_scatt'\n",
      " 'u_chi2' 'g_Nobs' 'g_mMed' 'g_mMean' 'g_mErr' 'g_rms_scatt' 'g_chi2'\n",
      " 'r_Nobs' 'r_mMed' 'r_mMean' 'r_mErr' 'r_rms_scatt' 'r_chi2' 'i_Nobs'\n",
      " 'i_mMed' 'i_mMean' 'i_mErr' 'i_rms_scatt' 'i_chi2' 'z_Nobs' 'z_mMed'\n",
      " 'z_mMean' 'z_mErr' 'z_rms_scatt' 'z_chi2']\n"
     ]
    }
   ],
   "source": [
    "# Read in stars ...\n",
    "address = '../data_products/CRTS_SDSS_combined_stars_catalog.dat'\n",
    "stars = Table.read(address, format='ascii') \n",
    "\n",
    "# display their colnames\n",
    "print(np.ravel(stars.colnames))"
   ]
  },
  {
   "cell_type": "code",
   "execution_count": 203,
   "metadata": {
    "collapsed": false
   },
   "outputs": [
    {
     "data": {
      "text/plain": [
       "<matplotlib.legend.Legend at 0x118e81898>"
      ]
     },
     "execution_count": 203,
     "metadata": {},
     "output_type": "execute_result"
    },
    {
     "data": {
      "image/png": "[encoded data removed]",
      "text/plain": [
       "<matplotlib.figure.Figure at 0x11a775cc0>"
      ]
     },
     "metadata": {},
     "output_type": "display_data"
    }
   ],
   "source": [
    "# plot histogram of brightness distribution\n",
    "for l in 'ugriz' : \n",
    "    f = l+'_mMed'\n",
    "    plt.hist(stars[f][(stars[f]>10)*(stars[f]<24)], histtype='step', lw=2, label=l, bins=40)\n",
    "plt.legend(loc='upper left')"
   ]
  },
  {
   "cell_type": "code",
   "execution_count": 204,
   "metadata": {
    "collapsed": true
   },
   "outputs": [],
   "source": [
    "# Choose few CRTS stars....\n",
    "\n",
    "bright_stars = stars[(stars['g_mMed'] < 16) * (stars['g_mMed'] > 15 ) ]\n",
    "bright_stars.sort('raw_lc_length')  # sorting sorts from lowest to highest \n",
    "bright_long_stars  = bright_stars[::-1][:10]  # choose the 10 longest \n",
    "\n",
    "faint_stars = stars[(stars['g_mMed'] > 20)*(stars['g_mMed'] <  21)]\n",
    "faint_stars.sort('raw_lc_length')\n",
    "faint_long_stars = faint_stars[::-1][:10]"
   ]
  },
  {
   "cell_type": "markdown",
   "metadata": {},
   "source": [
    "### Find stars in proximity to quasars... "
   ]
  },
  {
   "cell_type": "code",
   "execution_count": 98,
   "metadata": {
    "collapsed": false
   },
   "outputs": [],
   "source": [
    "# Find stars around the same coordinates as a given QSO ... \n",
    "\n",
    "#  PG1302-102 has coords outside of S82 footprint, but \n",
    "# I can consider another QSO, and pick stars that are in the same region of the sky....\n",
    "\n",
    "# Erik Tollerud's tutorial about using astropy.coordinates to match catalogs. etc \n",
    "# http://www.astropy.org/astropy-tutorials/Coordinates.html\n",
    "\n",
    "# The documentation for the newest astropy : \n",
    "#http://astropy.readthedocs.io/en/latest/coordinates/matchsep.html\n",
    "\n",
    "\n",
    "#idxc, idxcatalog, d2d, d3d = catalog.search_around_sky(c, 1*u.deg)\n",
    "\n"
   ]
  },
  {
   "cell_type": "code",
   "execution_count": 30,
   "metadata": {
    "collapsed": false
   },
   "outputs": [
    {
     "name": "stdout",
     "output_type": "stream",
     "text": [
      "There are 8 CRTS stars within 10 arcmin from the chosen QSO\n",
      "Catalog of stars nearby to 031027.82-004950.7 is saved as ../data_products/qso_031027.82-004950.7_stars_within_10-arcmin.txt\n",
      "There are 9 CRTS stars within 10 arcmin from the chosen QSO\n",
      "Catalog of stars nearby to 235156.12-010913.3 is saved as ../data_products/qso_235156.12-010913.3_stars_within_10-arcmin.txt\n"
     ]
    }
   ],
   "source": [
    "qsos = bright_QSO # faint_long_QSO # bright_QSO # faint_long_QSO  # bright_QSO # faint_long_QSO  # or \n",
    "\n",
    "coo_crts_qso = SkyCoord(qsos['ra']*u.deg, qsos['dec']*u.deg)\n",
    "coo_crts_stars =  SkyCoord(stars['ra_1']*u.deg, stars['dec_1']*u.deg)\n",
    "\n",
    "for i in range(len(qsos)) : \n",
    "    scalar_single_qso_coords  =  coo_crts_qso[i]\n",
    "    d2d = scalar_single_qso_coords.separation(coo_crts_stars)  \n",
    "\n",
    "    search_radius_arcmin = 10 \n",
    "    catalogmsk = d2d < search_radius_arcmin*u.arcmin\n",
    "    print('There are %d CRTS stars within %d arcmin from the chosen QSO'%(np.sum(catalogmsk), search_radius_arcmin))\n",
    "    nearby_crts_stars_coords = coo_crts_stars[catalogmsk]\n",
    "    nearby_crts_stars = stars[catalogmsk]\n",
    "\n",
    "    save = stars[catalogmsk]\n",
    "    \n",
    "   \n",
    "    dist2d =  Column(data=d2d[catalogmsk], name='sep2d_deg' )\n",
    "\n",
    "    a = np.empty(np.sum(catalogmsk), dtype='str') \n",
    "    b = np.array([row + qsos['CRTS_name'][i]  for row in a ])\n",
    "    center_qso = Column(data = b, name  ='center_CRTS_QSO')\n",
    "\n",
    "    save.add_columns([dist2d, center_qso])\n",
    "    \n",
    "    archfile = 'qso_'+qsos['CRTS_name'][i] + '_stars_within_'+str(search_radius_arcmin)+'-arcmin.txt'\n",
    "    address = '../data_products/'+archfile\n",
    "    save.write(address, format='ascii', overwrite=True)\n",
    "    print('Catalog of stars nearby to %s is saved as %s'%(qsos['CRTS_name'][i], address) )"
   ]
  },
  {
   "cell_type": "code",
   "execution_count": null,
   "metadata": {
    "collapsed": true
   },
   "outputs": [],
   "source": []
  },
  {
   "cell_type": "code",
   "execution_count": 11,
   "metadata": {
    "collapsed": false
   },
   "outputs": [
    {
     "data": {
      "text/html": [
       "&lt;Table length=2&gt;\n",
       "<table id=\"table4638808608\" class=\"table-striped table-bordered table-condensed\">\n",
       "<thead><tr><th>raw_timespan_obs</th><th>raw_mean_err</th><th>raw_lc_length</th><th>raw_mean_mag</th><th>CRTS_name</th><th>proc_mean_N_day</th><th>proc_lc_length</th><th>proc_mean_mag</th><th>proc_mjd_span</th><th>proc_mean_err</th><th>proc_median_dt</th><th>ra_CRTS</th><th>dec_CRTS</th><th>dbID</th><th>ra</th><th>dec</th><th>SDR5ID</th><th>M_i</th><th>M_i_corr</th><th>redshift</th><th>mass_BH</th><th>Lbol</th><th>u</th><th>g</th><th>r</th><th>i</th><th>z</th><th>Au</th><th>match_angle_arcsec</th></tr></thead>\n",
       "<thead><tr><th>float64</th><th>float64</th><th>float64</th><th>float64</th><th>str18</th><th>float64</th><th>float64</th><th>float64</th><th>float64</th><th>float64</th><th>float64</th><th>float64</th><th>float64</th><th>int64</th><th>float64</th><th>float64</th><th>int64</th><th>float64</th><th>float64</th><th>float64</th><th>float64</th><th>float64</th><th>float64</th><th>float64</th><th>float64</th><th>float64</th><th>float64</th><th>float64</th><th>float64</th></tr></thead>\n",
       "<tr><td>2937.06168</td><td>0.0619661016949</td><td>295.0</td><td>15.6900338983</td><td>031027.82-004950.7</td><td>3.98648648649</td><td>74.0</td><td>15.6925635135</td><td>2937.0424</td><td>0.0312189189189</td><td>19.0386</td><td>47.6159166667</td><td>-0.83075</td><td>3087679</td><td>47.615932</td><td>-0.830766</td><td>7232</td><td>-22.441</td><td>-22.361</td><td>0.0802</td><td>7.791</td><td>45.049</td><td>16.15</td><td>15.951</td><td>15.802</td><td>15.459</td><td>15.575</td><td>0.335</td><td>0.0797756820954</td></tr>\n",
       "<tr><td>3002.8558</td><td>0.0559405940594</td><td>404.0</td><td>15.0105693069</td><td>235156.12-010913.3</td><td>3.92233009709</td><td>103.0</td><td>15.0091097087</td><td>3002.8365</td><td>0.0296582524272</td><td>12.0164</td><td>357.983833333</td><td>-1.15369444444</td><td>3977727</td><td>357.983826</td><td>-1.153706</td><td>77125</td><td>-24.222</td><td>-24.295</td><td>0.174</td><td>9.108</td><td>45.745</td><td>15.687</td><td>15.771</td><td>15.787</td><td>15.368</td><td>15.574</td><td>0.14</td><td>0.0492670016349</td></tr>\n",
       "</table>"
      ],
      "text/plain": [
       "<Table length=2>\n",
       "raw_timespan_obs   raw_mean_err  raw_lc_length ...    Au   match_angle_arcsec\n",
       "    float64          float64        float64    ... float64      float64      \n",
       "---------------- --------------- ------------- ... ------- ------------------\n",
       "      2937.06168 0.0619661016949         295.0 ...   0.335    0.0797756820954\n",
       "       3002.8558 0.0559405940594         404.0 ...    0.14    0.0492670016349"
      ]
     },
     "execution_count": 11,
     "metadata": {},
     "output_type": "execute_result"
    }
   ],
   "source": [
    "bright_QSO"
   ]
  },
  {
   "cell_type": "markdown",
   "metadata": {},
   "source": [
    "## Plotting ... "
   ]
  },
  {
   "cell_type": "code",
   "execution_count": 207,
   "metadata": {
    "collapsed": false
   },
   "outputs": [
    {
     "name": "stdout",
     "output_type": "stream",
     "text": [
      "Saving todays work in /Users/chris/GradResearch/CRTS_PROJECT/data_products/Fig_6_data/2017-03-15/\n"
     ]
    }
   ],
   "source": [
    "import os \n",
    "import datetime\n",
    "outDir = os.path.join(os.getcwd()[:-4],'data_products/'+'Fig_6_data',\n",
    "                      datetime.datetime.now().strftime('%Y-%m-%d')+ '/')\n",
    "if not os.path.exists(outDir): os.system('mkdir %s' % outDir)\n",
    "print('Saving todays work in %s'%outDir)"
   ]
  },
  {
   "cell_type": "markdown",
   "metadata": {},
   "source": [
    "### 1) Quasars... "
   ]
  },
  {
   "cell_type": "code",
   "execution_count": 205,
   "metadata": {
    "collapsed": false
   },
   "outputs": [],
   "source": [
    "# Make sure that we don't end up plotting too many figures ... \n",
    "import resource\n",
    "resource.setrlimit(resource.RLIMIT_NOFILE, (500,-1))"
   ]
  },
  {
   "cell_type": "code",
   "execution_count": 219,
   "metadata": {
    "collapsed": false
   },
   "outputs": [
    {
     "name": "stdout",
     "output_type": "stream",
     "text": [
      "\n",
      "Using sigma threshold of 2.50 sigma \n",
      "There are 13 outliers \n",
      "Using 656 windows of width 500 days each , with the window sliding step of  5 days\n",
      "sigma min 0.012249, max 0.077851\n",
      "SigmaG(y) ymin=0.091921, ymax=0.462571\n",
      "Saved this plot as /Users/chris/GradResearch/CRTS_PROJECT/data_products/Fig_6_data/2017-03-15/qso_faint_231121.09+005133.8.png\n",
      "\n",
      "Using sigma threshold of 2.50 sigma \n",
      "There are 39 outliers \n",
      "Using 651 windows of width 500 days each , with the window sliding step of  5 days\n",
      "sigma min 0.013189, max 0.050000\n",
      "SigmaG(y) ymin=0.065234, ymax=0.386959\n",
      "Saved this plot as /Users/chris/GradResearch/CRTS_PROJECT/data_products/Fig_6_data/2017-03-15/qso_faint_235249.39-000629.4.png\n",
      "\n",
      "Using sigma threshold of 2.50 sigma \n",
      "There are 34 outliers \n",
      "Using 650 windows of width 500 days each , with the window sliding step of  5 days\n",
      "sigma min 0.013639, max 0.056464\n",
      "SigmaG(y) ymin=0.047443, ymax=0.355824\n",
      "Saved this plot as /Users/chris/GradResearch/CRTS_PROJECT/data_products/Fig_6_data/2017-03-15/qso_faint_234629.98-010825.5.png\n",
      "\n",
      "Using sigma threshold of 2.50 sigma \n",
      "There are 52 outliers \n",
      "Using 651 windows of width 500 days each , with the window sliding step of  5 days\n",
      "sigma min 0.015036, max 0.051121\n",
      "SigmaG(y) ymin=0.037065, ymax=0.302450\n",
      "Saved this plot as /Users/chris/GradResearch/CRTS_PROJECT/data_products/Fig_6_data/2017-03-15/qso_faint_234648.39-010116.3.png\n",
      "\n",
      "Using sigma threshold of 2.50 sigma \n",
      "There are 14 outliers \n",
      "Using 635 windows of width 500 days each , with the window sliding step of  5 days\n",
      "sigma min 0.019736, max 0.126424\n",
      "SigmaG(y) ymin=0.207564, ymax=0.729439\n",
      "Saved this plot as /Users/chris/GradResearch/CRTS_PROJECT/data_products/Fig_6_data/2017-03-15/qso_faint_033931.15+011449.9.png\n",
      "\n",
      "Using sigma threshold of 2.50 sigma \n",
      "There are 46 outliers \n",
      "Using 651 windows of width 500 days each , with the window sliding step of  5 days\n",
      "sigma min 0.013709, max 0.048595\n",
      "SigmaG(y) ymin=0.054856, ymax=0.338033\n",
      "Saved this plot as /Users/chris/GradResearch/CRTS_PROJECT/data_products/Fig_6_data/2017-03-15/qso_faint_234509.42-005506.7.png\n",
      "\n",
      "Using sigma threshold of 2.50 sigma \n",
      "There are 38 outliers \n",
      "Using 650 windows of width 500 days each , with the window sliding step of  5 days\n",
      "sigma min 0.012603, max 0.049706\n",
      "SigmaG(y) ymin=0.029652, ymax=0.364720\n",
      "Saved this plot as /Users/chris/GradResearch/CRTS_PROJECT/data_products/Fig_6_data/2017-03-15/qso_faint_234033.70-005636.9.png\n",
      "\n",
      "Using sigma threshold of 2.50 sigma \n",
      "There are 30 outliers \n",
      "Using 650 windows of width 500 days each , with the window sliding step of  5 days\n",
      "sigma min 0.012513, max 0.131630\n",
      "SigmaG(y) ymin=0.056339, ymax=0.400302\n",
      "Saved this plot as /Users/chris/GradResearch/CRTS_PROJECT/data_products/Fig_6_data/2017-03-15/qso_faint_233155.01-011515.0.png\n",
      "\n",
      "Using sigma threshold of 2.50 sigma \n",
      "There are no outliers\n",
      "Using 629 windows of width 500 days each , with the window sliding step of  5 days\n",
      "sigma min 0.013222, max 0.049759\n",
      "SigmaG(y) ymin=0.145295, ymax=0.809500\n",
      "Saved this plot as /Users/chris/GradResearch/CRTS_PROJECT/data_products/Fig_6_data/2017-03-15/qso_faint_235225.61+002337.9.png\n",
      "\n",
      " DONE\n"
     ]
    }
   ],
   "source": [
    "# FAINT  QSO \n",
    "\n",
    "for i in range(len(faint_long_QSO)):\n",
    "    lc_dir = '../raw_LC_CRTS/QSO_CRTS/' \n",
    "    qso_name = faint_long_QSO['CRTS_name'][i]\n",
    "    address = lc_dir + qso_name+'.dat'\n",
    "    data = Table.read(address, format='ascii')\n",
    "    data.rename_column('col1', 'MJD')\n",
    "    data.rename_column('col2', 'Mag')\n",
    "    data.rename_column('col3', 'Magerr')\n",
    "    data.sort('MJD')\n",
    "\n",
    "    sliding_window_statistics(t = data['MJD'],y=data['Mag'],yerr=data['Magerr'], \n",
    "                              save_fig='Yes', fig_name='qso_faint_'+qso_name+'.png', \n",
    "                              outDir = outDir, sigmathresh=2.5)\n",
    "\n",
    "print('\\n DONE')"
   ]
  },
  {
   "cell_type": "code",
   "execution_count": 220,
   "metadata": {
    "collapsed": false
   },
   "outputs": [
    {
     "name": "stdout",
     "output_type": "stream",
     "text": [
      "\n",
      "Using sigma threshold of 2.50 sigma \n",
      "There are 2 outliers \n",
      "Using 638 windows of width 500 days each , with the window sliding step of  5 days\n",
      "sigma min 0.006726, max 0.030000\n",
      "SigmaG(y) ymin=0.007413, ymax=0.195703\n",
      "Saved this plot as /Users/chris/GradResearch/CRTS_PROJECT/data_products/Fig_6_data/2017-03-15/qso_bright_031027.82-004950.7.png\n",
      "\n",
      "Using sigma threshold of 2.50 sigma \n",
      "There are 30 outliers \n",
      "Using 601 windows of width 500 days each , with the window sliding step of  5 days\n",
      "sigma min 0.005419, max 0.025000\n",
      "SigmaG(y) ymin=0.013343, ymax=0.217942\n",
      "Saved this plot as /Users/chris/GradResearch/CRTS_PROJECT/data_products/Fig_6_data/2017-03-15/qso_bright_235156.12-010913.3.png\n",
      "\n",
      " DONE\n"
     ]
    }
   ],
   "source": [
    "# BRIGHT  QSO \n",
    "for i in range(len(bright_QSO)):\n",
    "    lc_dir = '../raw_LC_CRTS/QSO_CRTS/' \n",
    "    qso_name = bright_QSO['CRTS_name'][i]\n",
    "    address = lc_dir + qso_name+'.dat'\n",
    "    data = Table.read(address, format='ascii')\n",
    "    data.rename_column('col1', 'MJD')\n",
    "    data.rename_column('col2', 'Mag')\n",
    "    data.rename_column('col3', 'Magerr')\n",
    "    data.sort('MJD')\n",
    "    sliding_window_statistics(t = data['MJD'],y=data['Mag'],yerr=data['Magerr'], \n",
    "                              save_fig='Yes', fig_name='qso_bright_'+qso_name+'.png', \n",
    "                              outDir = outDir, sigmathresh=2.5)\n",
    "print('\\n DONE')"
   ]
  },
  {
   "cell_type": "markdown",
   "metadata": {},
   "source": [
    "### 2) Stars... "
   ]
  },
  {
   "cell_type": "code",
   "execution_count": 241,
   "metadata": {
    "collapsed": false
   },
   "outputs": [
    {
     "data": {
      "text/plain": [
       "<matplotlib.text.Text at 0x10c49c080>"
      ]
     },
     "execution_count": 241,
     "metadata": {},
     "output_type": "execute_result"
    },
    {
     "data": {
      "image/png": "[encoded data removed]",
      "text/plain": [
       "<matplotlib.figure.Figure at 0x1132f8a20>"
      ]
     },
     "metadata": {},
     "output_type": "display_data"
    }
   ],
   "source": []
  },
  {
   "cell_type": "code",
   "execution_count": 246,
   "metadata": {
    "collapsed": false
   },
   "outputs": [
    {
     "name": "stdout",
     "output_type": "stream",
     "text": [
      "\n",
      "Using sigma threshold of 2.50 sigma \n",
      "There are 41 outliers \n",
      "Using 650 windows of width 500 days each , with the window sliding step of  5 days\n",
      "sigma min 0.016359, max 0.175272\n",
      "SigmaG(y) ymin=0.068200, ymax=0.306898\n",
      "Saved this plot as /Users/chris/GradResearch/CRTS_PROJECT/data_products/Fig_6_data/2017-03-15/qso_faint_233155.01-011515.0_star_19.74-mag_965796_within_4.704_arcmin.png\n",
      "\n",
      "Using sigma threshold of 2.50 sigma \n",
      "There are 11 outliers \n",
      "Using 648 windows of width 500 days each , with the window sliding step of  5 days\n",
      "sigma min 0.033083, max 0.082768\n",
      "SigmaG(y) ymin=0.124538, ymax=0.426989\n",
      "Saved this plot as /Users/chris/GradResearch/CRTS_PROJECT/data_products/Fig_6_data/2017-03-15/qso_faint_233155.01-011515.0_star_21.11-mag_966652_within_4.832_arcmin.png\n",
      "\n",
      "Using sigma threshold of 2.50 sigma \n",
      "There are 53 outliers \n",
      "Using 650 windows of width 500 days each , with the window sliding step of  5 days\n",
      "sigma min 0.014201, max 0.147988\n",
      "SigmaG(y) ymin=0.066717, ymax=0.284659\n",
      "Saved this plot as /Users/chris/GradResearch/CRTS_PROJECT/data_products/Fig_6_data/2017-03-15/qso_faint_233155.01-011515.0_star_19.57-mag_966669_within_4.518_arcmin.png\n",
      "\n",
      "Using sigma threshold of 2.50 sigma \n",
      "There are 13 outliers \n",
      "Using 627 windows of width 500 days each , with the window sliding step of  5 days\n",
      "sigma min 0.021503, max 0.059691\n",
      "SigmaG(y) ymin=0.045961, ymax=0.275764\n",
      "Saved this plot as /Users/chris/GradResearch/CRTS_PROJECT/data_products/Fig_6_data/2017-03-15/qso_faint_233155.01-011515.0_star_20.26-mag_966853_within_8.071_arcmin.png\n",
      "\n",
      "Using sigma threshold of 2.50 sigma \n",
      "There are 25 outliers \n",
      "Using 648 windows of width 500 days each , with the window sliding step of  5 days\n",
      "sigma min 0.023376, max 0.068115\n",
      "SigmaG(y) ymin=0.080060, ymax=0.300226\n",
      "Saved this plot as /Users/chris/GradResearch/CRTS_PROJECT/data_products/Fig_6_data/2017-03-15/qso_faint_233155.01-011515.0_star_20.54-mag_967265_within_9.787_arcmin.png\n",
      "\n",
      "Using sigma threshold of 2.50 sigma \n",
      "There are 4 outliers \n",
      "Using 633 windows of width 500 days each , with the window sliding step of  5 days\n",
      "sigma min 0.026203, max 0.071317\n",
      "SigmaG(y) ymin=0.056339, ymax=0.404750\n",
      "Saved this plot as /Users/chris/GradResearch/CRTS_PROJECT/data_products/Fig_6_data/2017-03-15/qso_faint_233155.01-011515.0_star_20.73-mag_967294_within_9.784_arcmin.png\n",
      "\n",
      "Using sigma threshold of 2.50 sigma \n",
      "There are 16 outliers \n",
      "Using 629 windows of width 500 days each , with the window sliding step of  5 days\n",
      "sigma min 0.008905, max 0.035000\n",
      "SigmaG(y) ymin=0.007413, ymax=0.151225\n",
      "Saved this plot as /Users/chris/GradResearch/CRTS_PROJECT/data_products/Fig_6_data/2017-03-15/qso_faint_235225.61+002337.9_star_17.80-mag_996061_within_7.853_arcmin.png\n",
      "\n",
      "Using sigma threshold of 2.50 sigma \n",
      "There are 28 outliers \n",
      "Using 629 windows of width 500 days each , with the window sliding step of  5 days\n",
      "sigma min 0.008346, max 0.035000\n",
      "SigmaG(y) ymin=0.004448, ymax=0.071165\n",
      "Saved this plot as /Users/chris/GradResearch/CRTS_PROJECT/data_products/Fig_6_data/2017-03-15/qso_faint_235225.61+002337.9_star_17.45-mag_996095_within_9.161_arcmin.png\n",
      "\n",
      "Using sigma threshold of 2.50 sigma \n",
      "There are 6 outliers \n",
      "Using 629 windows of width 500 days each , with the window sliding step of  5 days\n",
      "sigma min 0.021609, max 0.073413\n",
      "SigmaG(y) ymin=0.053374, ymax=0.211271\n",
      "Saved this plot as /Users/chris/GradResearch/CRTS_PROJECT/data_products/Fig_6_data/2017-03-15/qso_faint_235225.61+002337.9_star_19.98-mag_996390_within_9.413_arcmin.png\n",
      "\n",
      "Using sigma threshold of 2.50 sigma \n",
      "There are 16 outliers \n",
      "Using 629 windows of width 500 days each , with the window sliding step of  5 days\n",
      "sigma min 0.029833, max 0.116752\n",
      "SigmaG(y) ymin=0.062269, ymax=0.451452\n",
      "Saved this plot as /Users/chris/GradResearch/CRTS_PROJECT/data_products/Fig_6_data/2017-03-15/qso_faint_235225.61+002337.9_star_20.68-mag_996488_within_4.249_arcmin.png\n",
      "\n",
      "Using sigma threshold of 2.50 sigma \n",
      "There are 5 outliers \n",
      "Using 629 windows of width 500 days each , with the window sliding step of  5 days\n",
      "sigma min 0.022389, max 0.079765\n",
      "SigmaG(y) ymin=0.044478, ymax=0.249077\n",
      "Saved this plot as /Users/chris/GradResearch/CRTS_PROJECT/data_products/Fig_6_data/2017-03-15/qso_faint_235225.61+002337.9_star_20.10-mag_996564_within_0.919_arcmin.png\n",
      "\n",
      "Using sigma threshold of 2.50 sigma \n",
      "There are 18 outliers \n",
      "Using 629 windows of width 500 days each , with the window sliding step of  5 days\n",
      "sigma min 0.009752, max 0.040000\n",
      "SigmaG(y) ymin=0.005930, ymax=0.115643\n",
      "Saved this plot as /Users/chris/GradResearch/CRTS_PROJECT/data_products/Fig_6_data/2017-03-15/qso_faint_235225.61+002337.9_star_18.09-mag_996582_within_1.022_arcmin.png\n",
      "\n",
      "Using sigma threshold of 2.50 sigma \n",
      "There are 15 outliers \n",
      "Using 629 windows of width 500 days each , with the window sliding step of  5 days\n",
      "sigma min 0.009732, max 0.040000\n",
      "SigmaG(y) ymin=0.020756, ymax=0.204599\n",
      "Saved this plot as /Users/chris/GradResearch/CRTS_PROJECT/data_products/Fig_6_data/2017-03-15/qso_faint_235225.61+002337.9_star_18.21-mag_996707_within_8.738_arcmin.png\n",
      "\n",
      "Using sigma threshold of 2.50 sigma \n",
      "There are 18 outliers \n",
      "Using 629 windows of width 500 days each , with the window sliding step of  5 days\n",
      "sigma min 0.008114, max 0.035000\n",
      "SigmaG(y) ymin=0.004448, ymax=0.077836\n",
      "Saved this plot as /Users/chris/GradResearch/CRTS_PROJECT/data_products/Fig_6_data/2017-03-15/qso_faint_235225.61+002337.9_star_17.28-mag_996885_within_5.827_arcmin.png\n",
      "\n",
      "Using sigma threshold of 2.50 sigma \n",
      "There are 18 outliers \n",
      "Using 629 windows of width 500 days each , with the window sliding step of  5 days\n",
      "sigma min 0.007957, max 0.035000\n",
      "SigmaG(y) ymin=0.002965, ymax=0.080060\n",
      "Saved this plot as /Users/chris/GradResearch/CRTS_PROJECT/data_products/Fig_6_data/2017-03-15/qso_faint_235225.61+002337.9_star_17.28-mag_996968_within_5.188_arcmin.png\n",
      "\n",
      "Using sigma threshold of 2.50 sigma \n",
      "There are 17 outliers \n",
      "Using 629 windows of width 500 days each , with the window sliding step of  5 days\n",
      "sigma min 0.025575, max 0.086540\n",
      "SigmaG(y) ymin=0.059304, ymax=0.302450\n",
      "Saved this plot as /Users/chris/GradResearch/CRTS_PROJECT/data_products/Fig_6_data/2017-03-15/qso_faint_235225.61+002337.9_star_20.37-mag_997043_within_5.636_arcmin.png\n",
      "\n",
      "Using sigma threshold of 2.50 sigma \n",
      "There are 3 outliers \n",
      "Using 629 windows of width 500 days each , with the window sliding step of  5 days\n",
      "sigma min 0.032938, max 0.107293\n",
      "SigmaG(y) ymin=0.065234, ymax=0.502601\n",
      "Saved this plot as /Users/chris/GradResearch/CRTS_PROJECT/data_products/Fig_6_data/2017-03-15/qso_faint_235225.61+002337.9_star_20.86-mag_997273_within_6.682_arcmin.png\n",
      "\n",
      "Using sigma threshold of 2.50 sigma \n",
      "There are 26 outliers \n",
      "Using 629 windows of width 500 days each , with the window sliding step of  5 days\n",
      "sigma min 0.022747, max 0.076894\n",
      "SigmaG(y) ymin=0.041513, ymax=0.320242\n",
      "Saved this plot as /Users/chris/GradResearch/CRTS_PROJECT/data_products/Fig_6_data/2017-03-15/qso_faint_235225.61+002337.9_star_20.17-mag_997313_within_8.373_arcmin.png\n",
      "\n",
      "Using sigma threshold of 2.50 sigma \n",
      "There are 2 outliers \n",
      "Using 629 windows of width 500 days each , with the window sliding step of  5 days\n",
      "sigma min 0.006194, max 0.030000\n",
      "SigmaG(y) ymin=0.002965, ymax=0.053374\n",
      "Saved this plot as /Users/chris/GradResearch/CRTS_PROJECT/data_products/Fig_6_data/2017-03-15/qso_faint_235225.61+002337.9_star_15.83-mag_997387_within_8.081_arcmin.png\n",
      "\n",
      " DONE\n"
     ]
    }
   ],
   "source": [
    "#\n",
    "# PROXIMITY...\n",
    "#\n",
    "# Choose stars within a certain radius from a given QSO ...\n",
    "\n",
    "# Here we first choose quasar based on magnitude and length of lightcurve: \n",
    "# we choose the brightest quasar for bright_QSO (there are only 2 that are within the selected brightness cutoff)\n",
    "# we choose the faintest quasars for faint_long_QSO, and take only 10 that have longest CRTS raw lightcurves \n",
    "\n",
    "# for each quasar in a given set we find CRTS standard stars from SDSS S82 standard stars catalog that \n",
    "# are within 10 arcminutes. \n",
    "\n",
    "# we plot the sliding window statistic for each nearby star, which are bright and faint.  \n",
    "\n",
    "\n",
    "search_radius_arcmin = 10 \n",
    "\n",
    "# run only for two faint qso that I'm sending to Zeljko....\n",
    "qsos = faint_long_QSO[-2:] #  bright_QSO #faint_long_QSO[-2:] #  bright_QSO # faint_long_QSO[-2:] # bright_QSO # faint_long_QSO  #  bright_QSO # faint_long_QSO # bright_QSO\n",
    "brightness_class = 'faint' # 'bright'#faint' # faint' # faint' # 'bright', \n",
    "\n",
    "for j in range(len(qsos)):\n",
    "    archfile = 'qso_'+qsos['CRTS_name'][j] + '_stars_within_'+str(search_radius_arcmin)+'-arcmin.txt'\n",
    "    address = '../data_products/'+archfile\n",
    "    nearby_crts_stars = Table.read(address, format='ascii')\n",
    "    tab = nearby_crts_stars\n",
    "\n",
    "    # Show that these stars are indeed close to these quasars...\n",
    "    fig,ax = plt.subplots(1,1)\n",
    "\n",
    "    ax.scatter(qsos[j]['ra'], qsos[j]['dec'], color='red', marker='s', s=80)\n",
    "    ax.scatter(tab['ra_1'], tab['dec_1'], marker='*', s=60)\n",
    "    ax.get_xaxis().get_major_formatter().set_useOffset(False)\n",
    "    yticks = ax.yaxis.get_major_ticks()\n",
    "    yticks[0].label.set_visible(False)\n",
    "    \n",
    "    xticks = ax.get_xticks()\n",
    "    ax.set_xticks(xticks[::2])\n",
    "        \n",
    "        \n",
    "    ax.set_xlabel('ra')\n",
    "    ax.set_ylabel('dec')\n",
    "    ax.set_title(qsos['CRTS_name'][j])\n",
    "    plt.tight_layout()\n",
    "    plt.savefig(outDir+'qso_'+brightness_class+'_'+qsos['CRTS_name'][j]+'_stars_radec.png')\n",
    "    plt.close()\n",
    "    \n",
    "    \n",
    "    for i in range(len(tab)):\n",
    "        lc_dir = '../raw_LC_CRTS/stars/' \n",
    "        name = str(tab['CRTS_name'][i]) # choose lightcurve from LC catalog \n",
    "        address = lc_dir + name+'.dat'\n",
    "        data = Table.read(address, format='ascii') # read in the lightcurve \n",
    "        data.rename_column('col1', 'MJD')\n",
    "        data.rename_column('col2', 'Mag')\n",
    "        data.rename_column('col3', 'Magerr')\n",
    "        data.sort('MJD')\n",
    "        sep2d_deg = tab['sep2d_deg'][i]\n",
    "        sep2d_arcmin = sep2d_deg * 60 \n",
    "        sliding_window_statistics(t = data['MJD'],y=data['Mag'],yerr=data['Magerr'], \n",
    "                                  save_fig='Yes', fig_name='qso_'+brightness_class+'_'+qsos['CRTS_name'][j]  +\\\n",
    "                                  '_star_'+str(np.mean(data['Mag']))[:5]+'-mag_'+name+'_within_' +\\\n",
    "                                  str(sep2d_arcmin)[:5]+'_arcmin.png', outDir = outDir, sigmathresh=2.5)\n",
    "\n",
    "print('\\n DONE')"
   ]
  },
  {
   "cell_type": "code",
   "execution_count": 112,
   "metadata": {
    "collapsed": false
   },
   "outputs": [],
   "source": []
  },
  {
   "cell_type": "code",
   "execution_count": null,
   "metadata": {
    "collapsed": false
   },
   "outputs": [],
   "source": [
    "# Read in stellar lightcurve...\n",
    "# BRIGHT STARS \n",
    "\n",
    "tab =  bright_long_stars\n",
    "for i in range(len(tab)):\n",
    "    lc_dir = '../raw_LC_CRTS/stars/' \n",
    "    name = str(tab['CRTS_name'][i]) # choose lightcurve from LC catalog \n",
    "    address = lc_dir + name+'.dat'\n",
    "    data = Table.read(address, format='ascii') # read in the lightcurve \n",
    "    data.rename_column('col1', 'MJD')\n",
    "    data.rename_column('col2', 'Mag')\n",
    "    data.rename_column('col3', 'Magerr')\n",
    "    data.sort('MJD')\n",
    "\n",
    "    sliding_window_statistics(t = data['MJD'],y=data['Mag'],yerr=data['Magerr'], \n",
    "                              save_fig='Yes', fig_name='star_bright_'+name+'.png')\n",
    "\n",
    "\n",
    "    "
   ]
  },
  {
   "cell_type": "code",
   "execution_count": null,
   "metadata": {
    "collapsed": false
   },
   "outputs": [],
   "source": [
    "# Read in stellar lightcurve...\n",
    "# FAINT STARS\n",
    "\n",
    "tab =  faint_long_stars\n",
    "for i in range(len(tab)):\n",
    "    lc_dir = '../raw_LC_CRTS/stars/' \n",
    "    name = str(tab['CRTS_name'][i]) # choose lightcurve from LC catalog \n",
    "    address = lc_dir + name+'.dat'\n",
    "    data = Table.read(address, format='ascii') # read in the lightcurve \n",
    "    data.rename_column('col1', 'MJD')\n",
    "    data.rename_column('col2', 'Mag')\n",
    "    data.rename_column('col3', 'Magerr')\n",
    "    data.sort('MJD')\n",
    "\n",
    "    sliding_window_statistics(t = data['MJD'],y=data['Mag'],yerr=data['Magerr'], \n",
    "                              save_fig='Yes', fig_name='star_faint_'+name+'.png', outDir = outDir)\n",
    "\n",
    "\n",
    "    "
   ]
  },
  {
   "cell_type": "code",
   "execution_count": null,
   "metadata": {
    "collapsed": true
   },
   "outputs": [],
   "source": []
  }
 ],
 "metadata": {
  "anaconda-cloud": {},
  "kernelspec": {
   "display_name": "Python [Root]",
   "language": "python",
   "name": "Python [Root]"
  },
  "language_info": {
   "codemirror_mode": {
    "name": "ipython",
    "version": 3
   },
   "file_extension": ".py",
   "mimetype": "text/x-python",
   "name": "python",
   "nbconvert_exporter": "python",
   "pygments_lexer": "ipython3",
   "version": "3.5.2"
  }
 },
 "nbformat": 4,
 "nbformat_minor": 0
}
