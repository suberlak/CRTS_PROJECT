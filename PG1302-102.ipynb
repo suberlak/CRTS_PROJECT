{
 "cells": [
  {
   "cell_type": "code",
   "execution_count": 1,
   "metadata": {
    "collapsed": true
   },
   "outputs": [],
   "source": [
    "import numpy as np\n",
    "from astropy.table import Table\n",
    "from astropy import units as u\n",
    "from astropy.coordinates import SkyCoord\n",
    "from astropy.table import Column\n",
    "\n",
    "import matplotlib.pyplot as plt \n",
    "from matplotlib import rcParams      \n",
    "rcParams['ytick.labelsize'] = 15\n",
    "rcParams['xtick.labelsize'] = 15\n",
    "rcParams['axes.labelsize'] = 20\n",
    "rcParams['axes.linewidth'] = 2\n",
    "rcParams['font.size'] = 15\n",
    "rcParams['axes.titlesize'] = 20\n",
    "\n"
   ]
  },
  {
   "cell_type": "markdown",
   "metadata": {},
   "source": [
    "Query the CRTS DR2 http://nesssi.cacr.caltech.edu/cgi-bin/getcssconedbid_release2.cgi  , against ID , RA 196.38756\tDEC, -10.5554\trad 0.002 arcmin. Two objects are released, CSS_J130533.0-103319  (234 epochs) MLS_J130533.0-103319 (56 epochs).  "
   ]
  },
  {
   "cell_type": "code",
   "execution_count": 2,
   "metadata": {
    "collapsed": false
   },
   "outputs": [],
   "source": [
    "# read in the PG 1302 data....\n",
    "data = Table.read('../raw_CRTS_data/PG1302-102_LC.csv', format='ascii')\n",
    "data.sort('MJD')\n",
    "y = data['Mag']\n",
    "yerr = data['Magerr']\n",
    "t = data['MJD']\n",
    "outDir = '../data_products/Fig_6_data/'\n",
    "#sliding_window_statistics(t,y,yerr, save_fig='No', fig_name='PG1302-102_LC.png', outDir = outDir)"
   ]
  },
  {
   "cell_type": "code",
   "execution_count": 3,
   "metadata": {
    "collapsed": false
   },
   "outputs": [
    {
     "name": "stdout",
     "output_type": "stream",
     "text": [
      "Saving todays work in /Users/chris/GradResearch/CRTS_PROJECT/data_products/Fig_6_data/2017-03-08/\n"
     ]
    }
   ],
   "source": [
    "import os \n",
    "import datetime\n",
    "outDir = os.path.join(os.getcwd()[:-4],'data_products/'+'Fig_6_data',\n",
    "                      datetime.datetime.now().strftime('%Y-%m-%d')+ '/')\n",
    "if not os.path.exists(outDir): os.system('mkdir %s' % outDir)\n",
    "print('Saving todays work in %s'%outDir)"
   ]
  },
  {
   "cell_type": "markdown",
   "metadata": {},
   "source": [
    "Calculate moving-average $\\chi^{2}_{DOF}$  :\n",
    "\n"
   ]
  },
  {
   "cell_type": "code",
   "execution_count": 4,
   "metadata": {
    "collapsed": false
   },
   "outputs": [],
   "source": [
    "def calcChi2raw(y, yerr):\n",
    "    \"\"\"Compute simple reduced chi2  (mean-based) if more than 1 datapoints present\n",
    "    chi2 = np.sum(((flux-meanFlux)**2.0) / (fluxErr ** 2.0)) / (N-1.0)\n",
    "    \"\"\"\n",
    "    N = len(y)\n",
    "    if N < 2:\n",
    "        return np.nan\n",
    "    else:\n",
    "        chi2 = np.sum(((y-np.mean(y))/yerr)**2)\n",
    "        return chi2/(N-1)\n",
    "    \n",
    "def calcWeightedMean(y,yerr):\n",
    "    ''' Calculate the weighted mean '''\n",
    "    N = len(y)\n",
    "    if N == 1 : \n",
    "        return float(y)    \n",
    "    elif N == 0 : \n",
    "        return np.nan\n",
    "    else: \n",
    "        # weights = 1 / (yerr ** 2.0)  \n",
    "        # wMean = np.sum(weights * flux) / np.sum(weights)\n",
    "        return float(np.add.reduce(y / (yerr * yerr)) / np.add.reduce((1/yerr)*(1/yerr)))\n",
    "    \n",
    "N = len(y)\n",
    "wMean = calcWeightedMean(y,yerr)\n",
    "chi2dof  = (1 / (N-1.0)) * np.sum(((y- wMean)/yerr)**2)\n",
    "\n"
   ]
  },
  {
   "cell_type": "code",
   "execution_count": 56,
   "metadata": {
    "collapsed": false
   },
   "outputs": [],
   "source": [
    "% matplotlib inline \n",
    "\n",
    "def sliding_window_statistics(t,y,yerr, window_width=500, offset_factor = 0.5, save_fig=None, fig_name=None, \n",
    "                              return_results=None, outDir = None, window_error = 'combined'):\n",
    "    '''\n",
    "    A simple function to calculate sliding window stats, and plot them. By default, no dictionary \n",
    "    with results is returned. \n",
    "    \n",
    "    Required parameters:\n",
    "    ---------------------\n",
    "    t : the obs time \n",
    "    y : the flux measurement\n",
    "    yerr : the flux error \n",
    "    \n",
    "    Optional parameters:  \n",
    "    ---------------------\n",
    "    window_width : the width of the sliding window (in days ), default is 500 days \n",
    "    offset_factor : it sets by how much shall we offset the left edge of the first window \n",
    "                    with respect to the earliest datapoint : the shift = offset_factor * window_width. \n",
    "                    Default is 0.5 \n",
    "    save_fig : shall we save the plot as png?  Default : None\n",
    "    fig_name : a name of the figure. Expect a full name, including extension. Default : None \n",
    "    return_results :  return the dictionary with sliding window statistics  ?  Default : None \n",
    "    \n",
    "    Method: \n",
    "    --------\n",
    "    By sliding window we mean  a span of data between  t1 and t2,  such that \n",
    "    t1 < t < t2 . We calculate in the store dictionary :\n",
    "    - chi2dof_window :  chi2 per degree of freedom based on the weighted mean\n",
    "    and provided raw photometric errors,   \n",
    "    - N_pts_window : the number of points contained in the window \n",
    "    - t_center_window : the middle of the window (note : this is not  mean(t),  but (t2-t1) / 2)\n",
    "    - t_window_mean : just for comparison, the mean t of the window (data based )\n",
    "    - wMean_window : the weighted mean of the flux measurement (y)\n",
    "    \n",
    "    Returns:\n",
    "    ---------\n",
    "    store{} : (optional)  a dictionary (if return_results != None)\n",
    "    \n",
    "    '''\n",
    "    \n",
    "    \n",
    "    # set up window size , sliding step..... \n",
    "    window_width = 500 # days \n",
    "    offset = offset_factor * window_width\n",
    "    t0 = min(t) - offset\n",
    "\n",
    "    window_slide_step_size=  5 #  days \n",
    "    window_frame_start = np.arange(t0, max(t), window_slide_step_size)\n",
    "    window_frame_end = window_frame_start + window_width\n",
    "\n",
    "    # calculate the  sliding window statistics \n",
    "    N_windows = len(window_frame_start)\n",
    "\n",
    "    store = {'N_pts_window':np.zeros(N_windows), 't_center_window':np.zeros(N_windows), \n",
    "          't_window_mean':np.zeros(N_windows), 'wMean_window':np.zeros(N_windows),\n",
    "            'chi2dof_window':np.zeros(N_windows), 'errMedian_window':np.zeros(N_windows),\n",
    "            'errCombined_window':np.zeros(N_windows)}\n",
    "\n",
    "    for i in range(N_windows) :\n",
    "        mask_in_window = ( window_frame_start[i] < t)  * (t < window_frame_end[i])\n",
    "        t_window = t[mask_in_window]\n",
    "        y_window = y[mask_in_window]\n",
    "        yerr_window = yerr[mask_in_window]\n",
    "\n",
    "        N_pts_window = float(len(t_window))\n",
    "        store['N_pts_window'][i] = N_pts_window\n",
    "        store['t_center_window'][i] = (window_frame_end[i] + window_frame_start[i]) / 2.0\n",
    "        store['t_window_mean'][i] = np.mean(t_window)\n",
    "        \n",
    "        store['errMedian_window'][i] = np.median(yerr_window)\n",
    "        err_weights = 1 / (yerr_window**2.0)\n",
    "        store['errCombined_window'][i] = 1 / np.sqrt(np.sum(err_weights))\n",
    "        wMean_window = calcWeightedMean(y_window, err_weights)\n",
    "        store['wMean_window'][i] = wMean_window\n",
    "        \n",
    "        if N_pts_window > 1 : \n",
    "            store['chi2dof_window'][i] = (1 / (N_pts_window-1.0)) * np.sum(((y_window- wMean_window)/yerr_window)**2)\n",
    "        else  : \n",
    "            store['chi2dof_window'][i] = np.nan\n",
    "            \n",
    "    print('Using %d windows of width %d days each , with the window sliding step of  %d days'%(N_windows, \n",
    "                                                            window_width, window_slide_step_size ) )\n",
    "    # plot  : \n",
    "    # ax[0] : the lightcurve\n",
    "    # ax[1] : count of points per window \n",
    "    # ax[2] : t_center_window vs wMean_window\n",
    "    # ax[3] : chi2dof_window\n",
    "    import matplotlib.gridspec as gridspec\n",
    "    fig = plt.figure(figsize=( 10,12 ))   # (x_size , y_size)\n",
    "    ax = dict()\n",
    "    number_of_rows = 6\n",
    "    number_of_columns = 1\n",
    "    gs = gridspec.GridSpec(number_of_rows,  number_of_columns)\n",
    "    ax[0] = plt.subplot(gs[:2, :])  # span all rows but the last one (bottom), and first 5 col\n",
    "    ax[1] = plt.subplot(gs[2, :])  # span all rows but the last one (bottom), and last 5 cols\n",
    "    ax[2] = plt.subplot(gs[3, :])  # span both rows, only second col\n",
    "    ax[3] = plt.subplot(gs[4, :])\n",
    "    ax[4] = plt.subplot(gs[5, :])\n",
    "    \n",
    "    fig.subplots_adjust(hspace=0.4)\n",
    "\n",
    "    # lightcurve\n",
    "    ax[0].scatter(t,y, lw=0, s=20, c='red')\n",
    "    ax[0].errorbar(t, y, yerr, ls='None', alpha=0.5) \n",
    "    ax[0].set_ylabel('mag')\n",
    "    size = 10\n",
    "\n",
    "    # show an example window size...\n",
    "    ax[0].axvline(window_frame_start[0], ls='--', color='magenta',lw=2)\n",
    "    ax[0].axvline(window_frame_end[0],ls='--', color='magenta', lw=2)\n",
    "\n",
    "    # overplot the mean....\n",
    "    ax[0].scatter(store['t_center_window'], store['wMean_window'], s=size, lw=0, color='green')\n",
    "\n",
    "    # count of points per window\n",
    "    #ax[1].plot(store['t_center_window'],store['N_pts_window'], ls = 'steps')\n",
    "    ax[1].scatter(store['t_center_window'],store['N_pts_window'], s=size, lw=0)\n",
    "    ax[1].set_ylabel('N')\n",
    "\n",
    "    # t_center_window vs wMean_window\n",
    "    ax[2].scatter(store['t_center_window'], store['wMean_window'], s=size, lw=0, color='green')\n",
    "    if window_error == 'median' : \n",
    "        ax[2].errorbar(store['t_center_window'], store['wMean_window'], store['errMedian_window'], \n",
    "                       ls='None', alpha=0.5)\n",
    "    else :\n",
    "        ax[2].errorbar(store['t_center_window'], store['wMean_window'], store['errCombined_window'], \n",
    "                       ls='None', alpha=0.3)\n",
    "        #print('Using combined error from combined weights (see CRTS paper,  eq.4)')\n",
    "        \n",
    "    ax[2].set_ylabel(r'$\\langle mag \\rangle_{w}$')\n",
    "\n",
    "    # chi2dof_window\n",
    "    ax[3].scatter(store['t_center_window'], store['chi2dof_window'], s=size, lw=0)\n",
    "    ax[3].set_ylabel(r'$\\chi^{2}_{DOF}$')\n",
    "\n",
    "    # plot errors per window ( the combined errors... )\n",
    "    if window_error == 'median' : \n",
    "        ax[4].scatter(store['t_center_window'], store['errMedian_window'] ,  s=size, lw=0, alpha=0.5)\n",
    "    else :\n",
    "        ax[4].scatter(store['t_center_window'], store['errCombined_window'], s=size, lw=0, alpha=0.3)\n",
    "        #print('Using combined error from combined weights (see CRTS paper,  eq.4)')\n",
    "    ax[4].set_ylabel(r'$\\sigma_{\\langle mag \\rangle_{w}}$')\n",
    "    ax[4].grid()\n",
    "    \n",
    "    # move xlims of each plot so that they all start in the same place...\n",
    "    xlim = ax[0].get_xlim()\n",
    "    for i in range(1,len(ax)):\n",
    "        ax[i].set_xlim(xlim)\n",
    "\n",
    "    # remove edge xticks\n",
    "    for i in range(len(ax)):\n",
    "        xticks = ax[i].get_xticks()\n",
    "        ax[i].set_xticks(xticks[1:-1])\n",
    "\n",
    "    # make second axis start at 0 \n",
    "    ax[1].set_ylim(0,)\n",
    "\n",
    "    # make second axis ticks more rare \n",
    "    yticks = ax[1].get_yticks()\n",
    "    ax[1].set_yticks(yticks[::2])\n",
    "    \n",
    "    # make third axis ticks more rare \n",
    "    yticks = ax[2].get_yticks()\n",
    "    ax[2].set_yticks(yticks[::2])\n",
    "    \n",
    "    # make last axis start at 0 \n",
    "    #ax[3].set_ylim(0,)\n",
    "\n",
    "    # make last axis yticks more rare\n",
    "    yticks = ax[3].get_yticks()\n",
    "    ax[3].set_yticks(yticks[::2])\n",
    "    \n",
    "    \n",
    "    # set ylims to be more in touch with the data ....\n",
    "    ax[4].set_ylim(0.8*min(store['errCombined_window']), 1.2 *max(store['errCombined_window']))\n",
    "    print('sigma min %f, max %f'%(min(store['errCombined_window']), max(store['errCombined_window'])))\n",
    "    \n",
    "    # make last last axis yticks more rare\n",
    "    yticks = ax[4].get_yticks()\n",
    "    ax[4].set_yticks(yticks[::2])\n",
    "\n",
    "\n",
    "    \n",
    "    # add horizontal lines to chi2dof plot : \n",
    "    ax[3].grid()\n",
    "    \n",
    "    # Save the figure...\n",
    "    if save_fig is not None  : \n",
    "        if outDir is None :\n",
    "            outDir = '../data_products/Fig_6_data/'\n",
    "        if fig_name is None : \n",
    "            fname='PG1302-102'+'_win_'+str(window_width)+'_days.png'\n",
    "        else:\n",
    "            fname = fig_name\n",
    "        plt.tight_layout()\n",
    "        plt.savefig(outDir+fname)\n",
    "        print('Saved this plot as %s'%(outDir+fname))\n",
    "        plt.clf()\n",
    "        plt.close(fig)\n",
    "    # if desired, return the output\n",
    "    if return_results is not None  :\n",
    "        return store "
   ]
  },
  {
   "cell_type": "code",
   "execution_count": 57,
   "metadata": {
    "collapsed": false
   },
   "outputs": [
    {
     "name": "stdout",
     "output_type": "stream",
     "text": [
      "Using 640 windows of width 500 days each , with the window sliding step of  5 days\n",
      "sigma min 0.005911, max 0.030000\n"
     ]
    },
    {
     "data": {
      "image/png": "[encoded data removed]",
      "text/plain": [
       "<matplotlib.figure.Figure at 0x11bb61ba8>"
      ]
     },
     "metadata": {},
     "output_type": "display_data"
    }
   ],
   "source": [
    "sliding_window_statistics(t,y,yerr, save_fig=None, outDir=outDir, window_error = 'else')"
   ]
  },
  {
   "cell_type": "markdown",
   "metadata": {},
   "source": [
    "## Apply to a few bright and faint QSO and stars : "
   ]
  },
  {
   "cell_type": "code",
   "execution_count": 23,
   "metadata": {
    "collapsed": false
   },
   "outputs": [
    {
     "data": {
      "text/plain": [
       "<matplotlib.legend.Legend at 0x126e06fd0>"
      ]
     },
     "execution_count": 23,
     "metadata": {},
     "output_type": "execute_result"
    },
    {
     "data": {
      "image/png": "[encoded data removed]",
      "text/plain": [
       "<matplotlib.figure.Figure at 0x126e061d0>"
      ]
     },
     "metadata": {},
     "output_type": "display_data"
    }
   ],
   "source": [
    "## Read in few quasars : choose one bright, well-sampled QSO, and one faint, same for stars . \n",
    "\n",
    "# Load the cross-matched CRTS-SDSS summary table : \n",
    "address = '../data_products/CRTS_SDSS_combined_QSO_catalog.dat'\n",
    "sdss_crts = Table.read(address, format='ascii')\n",
    "\n",
    "# show all colnames\n",
    "np.ravel(sdss_crts.colnames)\n",
    "\n",
    "# plot histogram of brightness distribution\n",
    "for f in 'ugriz' : \n",
    "    plt.hist(sdss_crts[f][(sdss_crts[f]>10)*(sdss_crts[f]<24)], histtype='step', lw=2, label=f, bins=40)\n",
    "plt.legend()"
   ]
  },
  {
   "cell_type": "code",
   "execution_count": 24,
   "metadata": {
    "collapsed": false
   },
   "outputs": [],
   "source": [
    "# Choose two QSO classes : bright and faint:  \n",
    "\n",
    "bright_QSO = sdss_crts[(sdss_crts['g'] > 15)*( sdss_crts['g'] < 16)]\n",
    "# 235156.12-010913.3   has 404 points... \n",
    "\n",
    "faint_QSO = sdss_crts[(sdss_crts['g']>20)*(sdss_crts['g']<21)]\n",
    "faint_QSO.sort('raw_lc_length')\n",
    "faint_long_QSO = faint_QSO[-10:-1]"
   ]
  },
  {
   "cell_type": "code",
   "execution_count": 25,
   "metadata": {
    "collapsed": false
   },
   "outputs": [
    {
     "data": {
      "text/html": [
       "&lt;Table length=9&gt;\n",
       "<table id=\"table4868139272\" class=\"table-striped table-bordered table-condensed\">\n",
       "<thead><tr><th>raw_timespan_obs</th><th>raw_mean_err</th><th>raw_lc_length</th><th>raw_mean_mag</th><th>CRTS_name</th><th>proc_mean_N_day</th><th>proc_lc_length</th><th>proc_mean_mag</th><th>proc_mjd_span</th><th>proc_mean_err</th><th>proc_median_dt</th><th>ra_CRTS</th><th>dec_CRTS</th><th>dbID</th><th>ra</th><th>dec</th><th>SDR5ID</th><th>M_i</th><th>M_i_corr</th><th>redshift</th><th>mass_BH</th><th>Lbol</th><th>u</th><th>g</th><th>r</th><th>i</th><th>z</th><th>Au</th><th>match_angle_arcsec</th></tr></thead>\n",
       "<thead><tr><th>float64</th><th>float64</th><th>float64</th><th>float64</th><th>str18</th><th>float64</th><th>float64</th><th>float64</th><th>float64</th><th>float64</th><th>float64</th><th>float64</th><th>float64</th><th>int64</th><th>float64</th><th>float64</th><th>int64</th><th>float64</th><th>float64</th><th>float64</th><th>float64</th><th>float64</th><th>float64</th><th>float64</th><th>float64</th><th>float64</th><th>float64</th><th>float64</th><th>float64</th></tr></thead>\n",
       "<tr><td>3025.83301</td><td>0.148161209068</td><td>397.0</td><td>18.742720403</td><td>231121.09+005133.8</td><td>4.09278350515</td><td>97.0</td><td>18.6999061856</td><td>3025.8092</td><td>0.0741762886598</td><td>15.99885</td><td>347.837875</td><td>0.859388888889</td><td>475129</td><td>347.837921</td><td>0.859398</td><td>75720</td><td>-22.443</td><td>-23.133</td><td>0.4832</td><td>8.776</td><td>45.249</td><td>20.751</td><td>20.364</td><td>20.142</td><td>19.602</td><td>19.227</td><td>0.215</td><td>0.168798787984</td></tr>\n",
       "<tr><td>3002.94245</td><td>0.175125628141</td><td>398.0</td><td>19.4244974874</td><td>235249.39-000629.4</td><td>3.79047619048</td><td>105.0</td><td>19.3268761905</td><td>3002.9245</td><td>0.0990952380952</td><td>11.03495</td><td>358.205791667</td><td>-0.108166666667</td><td>3958962</td><td>358.205811</td><td>-0.108186</td><td>77157</td><td>-23.013</td><td>-23.242</td><td>0.631</td><td>0.0</td><td>45.261</td><td>20.615</td><td>20.106</td><td>20.0</td><td>19.66</td><td>19.645</td><td>0.165</td><td>0.0984291762447</td></tr>\n",
       "<tr><td>2999.89596</td><td>0.201122194514</td><td>401.0</td><td>19.6618952618</td><td>234629.98-010825.5</td><td>3.58035714286</td><td>112.0</td><td>19.6055464286</td><td>2999.8765</td><td>0.132603571429</td><td>12.0144</td><td>356.624916667</td><td>-1.14041666667</td><td>3985033</td><td>356.624908</td><td>-1.140436</td><td>76926</td><td>-24.504</td><td>-25.082</td><td>1.2051</td><td>8.151</td><td>45.899</td><td>20.279</td><td>20.181</td><td>19.805</td><td>19.741</td><td>19.689</td><td>0.179</td><td>0.0762706653404</td></tr>\n",
       "<tr><td>3002.94374</td><td>0.208756097561</td><td>410.0</td><td>19.7031707317</td><td>234648.39-010116.3</td><td>3.38842975207</td><td>121.0</td><td>19.6757710744</td><td>3002.9246</td><td>0.150010743802</td><td>12.00615</td><td>356.701625</td><td>-1.02119444444</td><td>3882125</td><td>356.70163</td><td>-1.021222</td><td>76935</td><td>-22.024</td><td>-22.715</td><td>0.4235</td><td>0.0</td><td>0.0</td><td>20.659</td><td>20.334</td><td>19.954</td><td>19.687</td><td>19.446</td><td>0.176</td><td>0.100819328951</td></tr>\n",
       "<tr><td>2920.01124</td><td>0.223547619048</td><td>420.0</td><td>19.4243809524</td><td>033931.15+011449.9</td><td>4.77272727273</td><td>88.0</td><td>19.2450477273</td><td>2919.9923</td><td>0.103611363636</td><td>13.1192</td><td>54.8797916667</td><td>1.24719444444</td><td>3748997</td><td>54.879829</td><td>1.247217</td><td>8268</td><td>-24.885</td><td>-25.527</td><td>1.409</td><td>8.741</td><td>45.983</td><td>20.609</td><td>20.456</td><td>20.199</td><td>19.923</td><td>19.728</td><td>0.651</td><td>0.15699758668</td></tr>\n",
       "<tr><td>3002.94374</td><td>0.195141509434</td><td>424.0</td><td>19.5285613208</td><td>234509.42-005506.7</td><td>3.5041322314</td><td>121.0</td><td>19.4728768595</td><td>3002.9246</td><td>0.135988429752</td><td>12.0155</td><td>356.28925</td><td>-0.918527777778</td><td>4004892</td><td>356.289276</td><td>-0.918536</td><td>76889</td><td>-24.588</td><td>-25.002</td><td>1.359</td><td>9.037</td><td>46.0</td><td>20.294</td><td>20.383</td><td>20.033</td><td>19.949</td><td>20.124</td><td>0.195</td><td>0.0981573663458</td></tr>\n",
       "<tr><td>2999.92262</td><td>0.185940366972</td><td>436.0</td><td>19.370206422</td><td>234033.70-005636.9</td><td>3.69491525424</td><td>118.0</td><td>19.2867576271</td><td>2999.9023</td><td>0.11096779661</td><td>11.9609</td><td>355.140416667</td><td>-0.943583333333</td><td>3892324</td><td>355.140442</td><td>-0.943589</td><td>76719</td><td>-27.326</td><td>-27.994</td><td>3.6502</td><td>9.528</td><td>47.078</td><td>25.436</td><td>20.682</td><td>19.571</td><td>19.448</td><td>19.522</td><td>0.178</td><td>0.0934416628874</td></tr>\n",
       "<tr><td>2997.8335</td><td>0.194336283186</td><td>452.0</td><td>19.4192477876</td><td>233155.01-011515.0</td><td>3.64516129032</td><td>124.0</td><td>19.3564524194</td><td>2997.8146</td><td>0.113992741935</td><td>10.9418</td><td>352.979208333</td><td>-1.25416666667</td><td>314358</td><td>352.979248</td><td>-1.254173</td><td>76413</td><td>-23.65</td><td>-24.173</td><td>0.8749</td><td>8.674</td><td>45.708</td><td>20.555</td><td>20.019</td><td>19.817</td><td>19.833</td><td>19.673</td><td>0.203</td><td>0.144574931634</td></tr>\n",
       "<tr><td>2890.16152</td><td>0.167833698031</td><td>457.0</td><td>19.6564332604</td><td>235225.61+002337.9</td><td>4.91397849462</td><td>93.0</td><td>19.4516086022</td><td>2890.1431</td><td>0.102159139785</td><td>12.3851</td><td>358.106708333</td><td>0.393861111111</td><td>3971396</td><td>358.10672</td><td>0.393876</td><td>77145</td><td>-25.222</td><td>-26.138</td><td>1.8437</td><td>0.0</td><td>46.094</td><td>20.824</td><td>20.781</td><td>20.534</td><td>20.019</td><td>20.188</td><td>0.167</td><td>0.0680946152988</td></tr>\n",
       "</table>"
      ],
      "text/plain": [
       "<Table length=9>\n",
       "raw_timespan_obs  raw_mean_err  raw_lc_length ...    Au   match_angle_arcsec\n",
       "    float64         float64        float64    ... float64      float64      \n",
       "---------------- -------------- ------------- ... ------- ------------------\n",
       "      3025.83301 0.148161209068         397.0 ...   0.215     0.168798787984\n",
       "      3002.94245 0.175125628141         398.0 ...   0.165    0.0984291762447\n",
       "      2999.89596 0.201122194514         401.0 ...   0.179    0.0762706653404\n",
       "      3002.94374 0.208756097561         410.0 ...   0.176     0.100819328951\n",
       "      2920.01124 0.223547619048         420.0 ...   0.651      0.15699758668\n",
       "      3002.94374 0.195141509434         424.0 ...   0.195    0.0981573663458\n",
       "      2999.92262 0.185940366972         436.0 ...   0.178    0.0934416628874\n",
       "       2997.8335 0.194336283186         452.0 ...   0.203     0.144574931634\n",
       "      2890.16152 0.167833698031         457.0 ...   0.167    0.0680946152988"
      ]
     },
     "execution_count": 25,
     "metadata": {},
     "output_type": "execute_result"
    }
   ],
   "source": [
    "faint_long_QSO"
   ]
  },
  {
   "cell_type": "code",
   "execution_count": 26,
   "metadata": {
    "collapsed": false
   },
   "outputs": [
    {
     "name": "stdout",
     "output_type": "stream",
     "text": [
      "['raw_mjd_span' 'raw_mean_mag' 'raw_mean_err' 'CRTS_name' 'raw_lc_length'\n",
      " 'proc_mean_N_day' 'proc_mean_err' 'proc_lc_length' 'proc_mean_mag'\n",
      " 'proc_mjd_span' 'ra_1' 'dec_1' 'calib_fla' 'ra_2' 'dec_2' 'raRMS' 'decRMS'\n",
      " 'nEpochs' 'AR_val' 'u_Nobs' 'u_mMed' 'u_mMean' 'u_mErr' 'u_rms_scatt'\n",
      " 'u_chi2' 'g_Nobs' 'g_mMed' 'g_mMean' 'g_mErr' 'g_rms_scatt' 'g_chi2'\n",
      " 'r_Nobs' 'r_mMed' 'r_mMean' 'r_mErr' 'r_rms_scatt' 'r_chi2' 'i_Nobs'\n",
      " 'i_mMed' 'i_mMean' 'i_mErr' 'i_rms_scatt' 'i_chi2' 'z_Nobs' 'z_mMed'\n",
      " 'z_mMean' 'z_mErr' 'z_rms_scatt' 'z_chi2']\n"
     ]
    }
   ],
   "source": [
    "# Read in stars ...\n",
    "address = '../data_products/CRTS_SDSS_combined_stars_catalog.dat'\n",
    "stars = Table.read(address, format='ascii') \n",
    "\n",
    "# display their colnames\n",
    "print(np.ravel(stars.colnames))"
   ]
  },
  {
   "cell_type": "code",
   "execution_count": 27,
   "metadata": {
    "collapsed": false
   },
   "outputs": [
    {
     "data": {
      "text/plain": [
       "<matplotlib.legend.Legend at 0x1217e7ba8>"
      ]
     },
     "execution_count": 27,
     "metadata": {},
     "output_type": "execute_result"
    },
    {
     "data": {
      "image/png": "[encoded data removed]",
      "text/plain": [
       "<matplotlib.figure.Figure at 0x1061f65f8>"
      ]
     },
     "metadata": {},
     "output_type": "display_data"
    }
   ],
   "source": [
    "# plot histogram of brightness distribution\n",
    "for l in 'ugriz' : \n",
    "    f = l+'_mMed'\n",
    "    plt.hist(stars[f][(stars[f]>10)*(stars[f]<24)], histtype='step', lw=2, label=l, bins=40)\n",
    "plt.legend(loc='upper left')"
   ]
  },
  {
   "cell_type": "code",
   "execution_count": 28,
   "metadata": {
    "collapsed": true
   },
   "outputs": [],
   "source": [
    "# Choose few CRTS stars....\n",
    "\n",
    "bright_stars = stars[(stars['g_mMed'] < 16) * (stars['g_mMed'] > 15 ) ]\n",
    "bright_stars.sort('raw_lc_length')  # sorting sorts from lowest to highest \n",
    "bright_long_stars  = bright_stars[::-1][:10]  # choose the 10 longest \n",
    "\n",
    "faint_stars = stars[(stars['g_mMed'] > 20)*(stars['g_mMed'] <  21)]\n",
    "faint_stars.sort('raw_lc_length')\n",
    "faint_long_stars = faint_stars[::-1][:10]"
   ]
  },
  {
   "cell_type": "code",
   "execution_count": 29,
   "metadata": {
    "collapsed": false
   },
   "outputs": [],
   "source": [
    "# Find stars around the same coordinates as a given QSO ... \n",
    "\n",
    "#  PG1302-102 has coords outside of S82 footprint, but \n",
    "# I can consider another QSO, and pick stars that are in the same region of the sky....\n",
    "\n",
    "# Erik Tollerud's tutorial about using astropy.coordinates to match catalogs. etc \n",
    "# http://www.astropy.org/astropy-tutorials/Coordinates.html\n",
    "\n",
    "# The documentation for the newest astropy : \n",
    "#http://astropy.readthedocs.io/en/latest/coordinates/matchsep.html\n",
    "\n",
    "\n",
    "#idxc, idxcatalog, d2d, d3d = catalog.search_around_sky(c, 1*u.deg)\n",
    "\n"
   ]
  },
  {
   "cell_type": "code",
   "execution_count": 30,
   "metadata": {
    "collapsed": false
   },
   "outputs": [
    {
     "name": "stdout",
     "output_type": "stream",
     "text": [
      "There are 8 CRTS stars within 10 arcmin from the chosen QSO\n",
      "Catalog of stars nearby to 031027.82-004950.7 is saved as ../data_products/qso_031027.82-004950.7_stars_within_10-arcmin.txt\n",
      "There are 9 CRTS stars within 10 arcmin from the chosen QSO\n",
      "Catalog of stars nearby to 235156.12-010913.3 is saved as ../data_products/qso_235156.12-010913.3_stars_within_10-arcmin.txt\n"
     ]
    }
   ],
   "source": [
    "qsos = bright_QSO # faint_long_QSO # bright_QSO # faint_long_QSO  # bright_QSO # faint_long_QSO  # or \n",
    "\n",
    "coo_crts_qso = SkyCoord(qsos['ra']*u.deg, qsos['dec']*u.deg)\n",
    "coo_crts_stars =  SkyCoord(stars['ra_1']*u.deg, stars['dec_1']*u.deg)\n",
    "\n",
    "for i in range(len(qsos)) : \n",
    "    scalar_single_qso_coords  =  coo_crts_qso[i]\n",
    "    d2d = scalar_single_qso_coords.separation(coo_crts_stars)  \n",
    "\n",
    "    search_radius_arcmin = 10 \n",
    "    catalogmsk = d2d < search_radius_arcmin*u.arcmin\n",
    "    print('There are %d CRTS stars within %d arcmin from the chosen QSO'%(np.sum(catalogmsk), search_radius_arcmin))\n",
    "    nearby_crts_stars_coords = coo_crts_stars[catalogmsk]\n",
    "    nearby_crts_stars = stars[catalogmsk]\n",
    "\n",
    "    save = stars[catalogmsk]\n",
    "    \n",
    "   \n",
    "    dist2d =  Column(data=d2d[catalogmsk], name='sep2d_deg' )\n",
    "\n",
    "    a = np.empty(np.sum(catalogmsk), dtype='str') \n",
    "    b = np.array([row + qsos['CRTS_name'][i]  for row in a ])\n",
    "    center_qso = Column(data = b, name  ='center_CRTS_QSO')\n",
    "\n",
    "    save.add_columns([dist2d, center_qso])\n",
    "    \n",
    "    archfile = 'qso_'+qsos['CRTS_name'][i] + '_stars_within_'+str(search_radius_arcmin)+'-arcmin.txt'\n",
    "    address = '../data_products/'+archfile\n",
    "    save.write(address, format='ascii', overwrite=True)\n",
    "    print('Catalog of stars nearby to %s is saved as %s'%(qsos['CRTS_name'][i], address) )"
   ]
  },
  {
   "cell_type": "code",
   "execution_count": null,
   "metadata": {
    "collapsed": true
   },
   "outputs": [],
   "source": []
  },
  {
   "cell_type": "code",
   "execution_count": null,
   "metadata": {
    "collapsed": false
   },
   "outputs": [],
   "source": []
  },
  {
   "cell_type": "markdown",
   "metadata": {},
   "source": [
    "## Plotting ... "
   ]
  },
  {
   "cell_type": "markdown",
   "metadata": {},
   "source": [
    "### 1) Quasars... "
   ]
  },
  {
   "cell_type": "code",
   "execution_count": 58,
   "metadata": {
    "collapsed": false
   },
   "outputs": [
    {
     "name": "stdout",
     "output_type": "stream",
     "text": [
      "Using 656 windows of width 500 days each , with the window sliding step of  5 days\n",
      "sigma min 0.012186, max 0.077851\n",
      "Saved this plot as /Users/chris/GradResearch/CRTS_PROJECT/data_products/Fig_6_data/2017-03-08/qso_faint_231121.09+005133.8.png\n",
      "Using 651 windows of width 500 days each , with the window sliding step of  5 days\n",
      "sigma min 0.013029, max 0.050000\n",
      "Saved this plot as /Users/chris/GradResearch/CRTS_PROJECT/data_products/Fig_6_data/2017-03-08/qso_faint_235249.39-000629.4.png\n",
      "Using 650 windows of width 500 days each , with the window sliding step of  5 days\n",
      "sigma min 0.013519, max 0.055961\n",
      "Saved this plot as /Users/chris/GradResearch/CRTS_PROJECT/data_products/Fig_6_data/2017-03-08/qso_faint_234629.98-010825.5.png\n",
      "Using 651 windows of width 500 days each , with the window sliding step of  5 days\n",
      "sigma min 0.014891, max 0.051121\n",
      "Saved this plot as /Users/chris/GradResearch/CRTS_PROJECT/data_products/Fig_6_data/2017-03-08/qso_faint_234648.39-010116.3.png\n",
      "Using 635 windows of width 500 days each , with the window sliding step of  5 days\n",
      "sigma min 0.019496, max 0.126424\n",
      "Saved this plot as /Users/chris/GradResearch/CRTS_PROJECT/data_products/Fig_6_data/2017-03-08/qso_faint_033931.15+011449.9.png\n",
      "Using 651 windows of width 500 days each , with the window sliding step of  5 days\n",
      "sigma min 0.013486, max 0.048595\n",
      "Saved this plot as /Users/chris/GradResearch/CRTS_PROJECT/data_products/Fig_6_data/2017-03-08/qso_faint_234509.42-005506.7.png\n",
      "Using 650 windows of width 500 days each , with the window sliding step of  5 days\n",
      "sigma min 0.012192, max 0.047468\n",
      "Saved this plot as /Users/chris/GradResearch/CRTS_PROJECT/data_products/Fig_6_data/2017-03-08/qso_faint_234033.70-005636.9.png\n",
      "Using 650 windows of width 500 days each , with the window sliding step of  5 days\n",
      "sigma min 0.012239, max 0.131630\n",
      "Saved this plot as /Users/chris/GradResearch/CRTS_PROJECT/data_products/Fig_6_data/2017-03-08/qso_faint_233155.01-011515.0.png\n",
      "Using 629 windows of width 500 days each , with the window sliding step of  5 days\n",
      "sigma min 0.013222, max 0.049759\n",
      "Saved this plot as /Users/chris/GradResearch/CRTS_PROJECT/data_products/Fig_6_data/2017-03-08/qso_faint_235225.61+002337.9.png\n"
     ]
    }
   ],
   "source": [
    "# FAINT  QSO \n",
    "\n",
    "for i in range(len(faint_long_QSO)):\n",
    "    lc_dir = '../raw_LC_CRTS/QSO_CRTS/' \n",
    "    qso_name = faint_long_QSO['CRTS_name'][i]\n",
    "    address = lc_dir + qso_name+'.dat'\n",
    "    data = Table.read(address, format='ascii')\n",
    "    data.rename_column('col1', 'MJD')\n",
    "    data.rename_column('col2', 'Mag')\n",
    "    data.rename_column('col3', 'Magerr')\n",
    "    data.sort('MJD')\n",
    "\n",
    "    sliding_window_statistics(t = data['MJD'],y=data['Mag'],yerr=data['Magerr'], \n",
    "                              save_fig='Yes', fig_name='qso_faint_'+qso_name+'.png', outDir = outDir)\n"
   ]
  },
  {
   "cell_type": "code",
   "execution_count": 59,
   "metadata": {
    "collapsed": false
   },
   "outputs": [
    {
     "name": "stdout",
     "output_type": "stream",
     "text": [
      "Using 638 windows of width 500 days each , with the window sliding step of  5 days\n",
      "sigma min 0.006672, max 0.030000\n",
      "Saved this plot as /Users/chris/GradResearch/CRTS_PROJECT/data_products/Fig_6_data/2017-03-08/qso_bright_031027.82-004950.7.png\n",
      "Using 651 windows of width 500 days each , with the window sliding step of  5 days\n",
      "sigma min 0.005419, max 0.025000\n",
      "Saved this plot as /Users/chris/GradResearch/CRTS_PROJECT/data_products/Fig_6_data/2017-03-08/qso_bright_235156.12-010913.3.png\n"
     ]
    }
   ],
   "source": [
    "# BRIGHT  QSO \n",
    "for i in range(len(bright_QSO)):\n",
    "    lc_dir = '../raw_LC_CRTS/QSO_CRTS/' \n",
    "    qso_name = bright_QSO['CRTS_name'][i]\n",
    "    address = lc_dir + qso_name+'.dat'\n",
    "    data = Table.read(address, format='ascii')\n",
    "    data.rename_column('col1', 'MJD')\n",
    "    data.rename_column('col2', 'Mag')\n",
    "    data.rename_column('col3', 'Magerr')\n",
    "    data.sort('MJD')\n",
    "    sliding_window_statistics(t = data['MJD'],y=data['Mag'],yerr=data['Magerr'], \n",
    "                          save_fig='Yes', fig_name='qso_bright_'+qso_name+'.png', outDir = outDir)"
   ]
  },
  {
   "cell_type": "markdown",
   "metadata": {},
   "source": [
    "### 2) Stars... "
   ]
  },
  {
   "cell_type": "code",
   "execution_count": 21,
   "metadata": {
    "collapsed": false
   },
   "outputs": [],
   "source": [
    "#nearby_crts_stars"
   ]
  },
  {
   "cell_type": "code",
   "execution_count": 61,
   "metadata": {
    "collapsed": false
   },
   "outputs": [
    {
     "name": "stdout",
     "output_type": "stream",
     "text": [
      "Using 638 windows of width 500 days each , with the window sliding step of  5 days\n",
      "sigma min 0.008600, max 0.040000\n",
      "Saved this plot as /Users/chris/GradResearch/CRTS_PROJECT/data_products/Fig_6_data/2017-03-08/qso_bright_031027.82-004950.7_star_16.93-mag_247468_within_7.917_arcmin.png\n",
      "Using 638 windows of width 500 days each , with the window sliding step of  5 days\n",
      "sigma min 0.007561, max 0.035000\n",
      "Saved this plot as /Users/chris/GradResearch/CRTS_PROJECT/data_products/Fig_6_data/2017-03-08/qso_bright_031027.82-004950.7_star_16.49-mag_247534_within_5.779_arcmin.png\n",
      "Using 638 windows of width 500 days each , with the window sliding step of  5 days\n",
      "sigma min 0.032032, max 0.151905\n",
      "Saved this plot as /Users/chris/GradResearch/CRTS_PROJECT/data_products/Fig_6_data/2017-03-08/qso_bright_031027.82-004950.7_star_19.94-mag_247659_within_8.222_arcmin.png\n",
      "Using 638 windows of width 500 days each , with the window sliding step of  5 days\n",
      "sigma min 0.028257, max 0.140475\n",
      "Saved this plot as /Users/chris/GradResearch/CRTS_PROJECT/data_products/Fig_6_data/2017-03-08/qso_bright_031027.82-004950.7_star_19.70-mag_247921_within_6.057_arcmin.png\n",
      "Using 638 windows of width 500 days each , with the window sliding step of  5 days\n",
      "sigma min 0.006360, max 0.030000\n",
      "Saved this plot as /Users/chris/GradResearch/CRTS_PROJECT/data_products/Fig_6_data/2017-03-08/qso_bright_031027.82-004950.7_star_14.58-mag_247936_within_9.513_arcmin.png\n",
      "Using 638 windows of width 500 days each , with the window sliding step of  5 days\n",
      "sigma min 0.021311, max 0.095974\n",
      "Saved this plot as /Users/chris/GradResearch/CRTS_PROJECT/data_products/Fig_6_data/2017-03-08/qso_bright_031027.82-004950.7_star_19.25-mag_248257_within_2.044_arcmin.png\n",
      "Using 638 windows of width 500 days each , with the window sliding step of  5 days\n",
      "sigma min 0.007479, max 0.035000\n",
      "Saved this plot as /Users/chris/GradResearch/CRTS_PROJECT/data_products/Fig_6_data/2017-03-08/qso_bright_031027.82-004950.7_star_16.28-mag_248434_within_4.458_arcmin.png\n",
      "Using 638 windows of width 500 days each , with the window sliding step of  5 days\n",
      "sigma min 0.022403, max 0.088140\n",
      "Saved this plot as /Users/chris/GradResearch/CRTS_PROJECT/data_products/Fig_6_data/2017-03-08/qso_bright_031027.82-004950.7_star_19.36-mag_248637_within_8.483_arcmin.png\n",
      "Using 651 windows of width 500 days each , with the window sliding step of  5 days\n",
      "sigma min 0.004818, max 0.025000\n",
      "Saved this plot as /Users/chris/GradResearch/CRTS_PROJECT/data_products/Fig_6_data/2017-03-08/qso_bright_235156.12-010913.3_star_14.29-mag_995370_within_7.520_arcmin.png\n",
      "Using 651 windows of width 500 days each , with the window sliding step of  5 days\n",
      "sigma min 0.014751, max 0.055000\n",
      "Saved this plot as /Users/chris/GradResearch/CRTS_PROJECT/data_products/Fig_6_data/2017-03-08/qso_bright_235156.12-010913.3_star_19.64-mag_995691_within_7.596_arcmin.png\n",
      "Using 651 windows of width 500 days each , with the window sliding step of  5 days\n",
      "sigma min 0.013961, max 0.055000\n",
      "Saved this plot as /Users/chris/GradResearch/CRTS_PROJECT/data_products/Fig_6_data/2017-03-08/qso_bright_235156.12-010913.3_star_19.42-mag_995798_within_5.249_arcmin.png\n",
      "Using 651 windows of width 500 days each , with the window sliding step of  5 days\n",
      "sigma min 0.006443, max 0.030000\n",
      "Saved this plot as /Users/chris/GradResearch/CRTS_PROJECT/data_products/Fig_6_data/2017-03-08/qso_bright_235156.12-010913.3_star_16.44-mag_995867_within_3.412_arcmin.png\n",
      "Using 651 windows of width 500 days each , with the window sliding step of  5 days\n",
      "sigma min 0.010557, max 0.041093\n",
      "Saved this plot as /Users/chris/GradResearch/CRTS_PROJECT/data_products/Fig_6_data/2017-03-08/qso_bright_235156.12-010913.3_star_18.80-mag_995875_within_7.283_arcmin.png\n",
      "Using 651 windows of width 500 days each , with the window sliding step of  5 days\n",
      "sigma min 0.004989, max 0.025000\n",
      "Saved this plot as /Users/chris/GradResearch/CRTS_PROJECT/data_products/Fig_6_data/2017-03-08/qso_bright_235156.12-010913.3_star_14.47-mag_996126_within_6.316_arcmin.png\n",
      "Using 651 windows of width 500 days each , with the window sliding step of  5 days\n",
      "sigma min 0.006424, max 0.030000\n",
      "Saved this plot as /Users/chris/GradResearch/CRTS_PROJECT/data_products/Fig_6_data/2017-03-08/qso_bright_235156.12-010913.3_star_17.05-mag_996261_within_7.245_arcmin.png\n",
      "Using 651 windows of width 500 days each , with the window sliding step of  5 days\n",
      "sigma min 0.009324, max 0.040000\n",
      "Saved this plot as /Users/chris/GradResearch/CRTS_PROJECT/data_products/Fig_6_data/2017-03-08/qso_bright_235156.12-010913.3_star_18.45-mag_996447_within_9.278_arcmin.png\n",
      "Using 650 windows of width 500 days each , with the window sliding step of  5 days\n",
      "sigma min 0.010394, max 0.042280\n",
      "Saved this plot as /Users/chris/GradResearch/CRTS_PROJECT/data_products/Fig_6_data/2017-03-08/qso_bright_235156.12-010913.3_star_17.10-mag_996503_within_6.407_arcmin.png\n"
     ]
    }
   ],
   "source": [
    "#\n",
    "# PROXIMITY...\n",
    "#\n",
    "# Choose stars within a certain radius from a given QSO ...\n",
    "\n",
    "# Here we first choose quasar based on magnitude and length of lightcurve: \n",
    "# we choose the brightest quasar for bright_QSO (there are only 2 that are within the selected brightness cutoff)\n",
    "# we choose the faintest quasars for faint_long_QSO, and take only 10 that have longest CRTS raw lightcurves \n",
    "\n",
    "# for each quasar in a given set we find CRTS standard stars from SDSS S82 standard stars catalog that \n",
    "# are within 10 arcminutes. \n",
    "\n",
    "# we plot the sliding window statistic for each nearby star, which are bright and faint.  \n",
    "\n",
    "# run only for two faint qso that I'm sending to Zeljko....\n",
    "\n",
    "qsos = bright_QSO # faint_long_QSO[-2:] # bright_QSO # faint_long_QSO  #  bright_QSO # faint_long_QSO # bright_QSO\n",
    "brightness_class = 'bright' # faint' # faint' # 'bright', \n",
    "\n",
    "for j in range(len(qsos)):\n",
    "    archfile = 'qso_'+qsos['CRTS_name'][j] + '_stars_within_'+str(search_radius_arcmin)+'-arcmin.txt'\n",
    "    address = '../data_products/'+archfile\n",
    "    nearby_crts_stars = Table.read(address, format='ascii')\n",
    "    tab = nearby_crts_stars\n",
    "\n",
    "    for i in range(len(tab)):\n",
    "        lc_dir = '../raw_LC_CRTS/stars/' \n",
    "        name = str(tab['CRTS_name'][i]) # choose lightcurve from LC catalog \n",
    "        address = lc_dir + name+'.dat'\n",
    "        data = Table.read(address, format='ascii') # read in the lightcurve \n",
    "        data.rename_column('col1', 'MJD')\n",
    "        data.rename_column('col2', 'Mag')\n",
    "        data.rename_column('col3', 'Magerr')\n",
    "        data.sort('MJD')\n",
    "        sep2d_deg = tab['sep2d_deg'][i]\n",
    "        sep2d_arcmin = sep2d_deg * 60 \n",
    "        sliding_window_statistics(t = data['MJD'],y=data['Mag'],yerr=data['Magerr'], \n",
    "                                  save_fig='Yes', fig_name='qso_'+brightness_class+'_'+qsos['CRTS_name'][j]  +\\\n",
    "                                  '_star_'+str(np.mean(data['Mag']))[:5]+'-mag_'+name+'_within_' +\\\n",
    "                                  str(sep2d_arcmin)[:5]+'_arcmin.png', outDir = outDir)\n",
    "\n"
   ]
  },
  {
   "cell_type": "code",
   "execution_count": 22,
   "metadata": {
    "collapsed": false
   },
   "outputs": [],
   "source": [
    "import resource\n",
    "resource.setrlimit(resource.RLIMIT_NOFILE, (500,-1))"
   ]
  },
  {
   "cell_type": "code",
   "execution_count": null,
   "metadata": {
    "collapsed": false
   },
   "outputs": [],
   "source": [
    "# Read in stellar lightcurve...\n",
    "# BRIGHT STARS \n",
    "\n",
    "tab =  bright_long_stars\n",
    "for i in range(len(tab)):\n",
    "    lc_dir = '../raw_LC_CRTS/stars/' \n",
    "    name = str(tab['CRTS_name'][i]) # choose lightcurve from LC catalog \n",
    "    address = lc_dir + name+'.dat'\n",
    "    data = Table.read(address, format='ascii') # read in the lightcurve \n",
    "    data.rename_column('col1', 'MJD')\n",
    "    data.rename_column('col2', 'Mag')\n",
    "    data.rename_column('col3', 'Magerr')\n",
    "    data.sort('MJD')\n",
    "\n",
    "    sliding_window_statistics(t = data['MJD'],y=data['Mag'],yerr=data['Magerr'], \n",
    "                              save_fig='Yes', fig_name='star_bright_'+name+'.png')\n",
    "\n",
    "\n",
    "    "
   ]
  },
  {
   "cell_type": "code",
   "execution_count": null,
   "metadata": {
    "collapsed": false
   },
   "outputs": [],
   "source": [
    "# Read in stellar lightcurve...\n",
    "# FAINT STARS\n",
    "\n",
    "tab =  faint_long_stars\n",
    "for i in range(len(tab)):\n",
    "    lc_dir = '../raw_LC_CRTS/stars/' \n",
    "    name = str(tab['CRTS_name'][i]) # choose lightcurve from LC catalog \n",
    "    address = lc_dir + name+'.dat'\n",
    "    data = Table.read(address, format='ascii') # read in the lightcurve \n",
    "    data.rename_column('col1', 'MJD')\n",
    "    data.rename_column('col2', 'Mag')\n",
    "    data.rename_column('col3', 'Magerr')\n",
    "    data.sort('MJD')\n",
    "\n",
    "    sliding_window_statistics(t = data['MJD'],y=data['Mag'],yerr=data['Magerr'], \n",
    "                              save_fig='Yes', fig_name='star_faint_'+name+'.png', outDir = outDir)\n",
    "\n",
    "\n",
    "    "
   ]
  },
  {
   "cell_type": "code",
   "execution_count": null,
   "metadata": {
    "collapsed": true
   },
   "outputs": [],
   "source": []
  }
 ],
 "metadata": {
  "anaconda-cloud": {},
  "kernelspec": {
   "display_name": "Python [Root]",
   "language": "python",
   "name": "Python [Root]"
  },
  "language_info": {
   "codemirror_mode": {
    "name": "ipython",
    "version": 3
   },
   "file_extension": ".py",
   "mimetype": "text/x-python",
   "name": "python",
   "nbconvert_exporter": "python",
   "pygments_lexer": "ipython3",
   "version": "3.5.2"
  }
 },
 "nbformat": 4,
 "nbformat_minor": 0
}
